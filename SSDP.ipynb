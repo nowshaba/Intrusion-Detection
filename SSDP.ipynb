{
  "nbformat": 4,
  "nbformat_minor": 0,
  "metadata": {
    "colab": {
      "name": "SSDP.ipynb",
      "provenance": [],
      "authorship_tag": "ABX9TyORk9fyE0lq2K7wmDHdPgzD",
      "include_colab_link": true
    },
    "kernelspec": {
      "name": "python3",
      "display_name": "Python 3"
    },
    "language_info": {
      "name": "python"
    },
    "accelerator": "GPU",
    "gpuClass": "standard"
  },
  "cells": [
    {
      "cell_type": "markdown",
      "metadata": {
        "id": "view-in-github",
        "colab_type": "text"
      },
      "source": [
        "<a href=\"https://colab.research.google.com/github/nowshaba/Intrusion-Detection/blob/main/SSDP.ipynb\" target=\"_parent\"><img src=\"https://colab.research.google.com/assets/colab-badge.svg\" alt=\"Open In Colab\"/></a>"
      ]
    },
    {
      "cell_type": "code",
      "execution_count": null,
      "metadata": {
        "id": "9CL1iwMd_Gk2"
      },
      "outputs": [],
      "source": [
        "\n",
        "import numpy as np\n",
        "import pandas as pd \n",
        "import matplotlib.pyplot as plt\n",
        "import seaborn as sns\n",
        "import imblearn\n",
        "import sklearn.metrics as m\n",
        "import keras\n",
        "import tensorflow as tf\n",
        "import sklearn\n",
        "import tensorboard"
      ]
    },
    {
      "cell_type": "code",
      "source": [
        "from google.colab import drive\n",
        "drive.mount('/content/drive/')"
      ],
      "metadata": {
        "colab": {
          "base_uri": "https://localhost:8080/"
        },
        "id": "GDEbhiFr_igI",
        "outputId": "fc4121ef-027a-43ab-b7da-1e341c3c35d0"
      },
      "execution_count": null,
      "outputs": [
        {
          "output_type": "stream",
          "name": "stdout",
          "text": [
            "Drive already mounted at /content/drive/; to attempt to forcibly remount, call drive.mount(\"/content/drive/\", force_remount=True).\n"
          ]
        }
      ]
    },
    {
      "cell_type": "code",
      "source": [
        "#Avoid warnings\n",
        "import warnings\n",
        "warnings.filterwarnings('ignore')\n",
        "#Settings\n",
        "pd.set_option('display.max_columns', None)\n",
        "pd.set_option('display.max_rows', None)\n",
        "\n",
        "#Import  Data\n",
        "j=0\n",
        "n=0\n",
        "#to check whih files have both attack and normal labels\n",
        "for j in range(0,163):\n",
        "  df3=pd.read_csv(\"/content/drive/MyDrive/AWID3_Dataset_CSV/CSV/11.SSDP/SSDP_\"+str(j)+\".csv\")\n",
        "  j+1\n",
        "  for i in df3['Label']:\n",
        "    if (i=='SSDP'):\n",
        "      n=1\n",
        "  if (n==1):\n",
        "    print(\"n is\",n, \"and j is\",j)"
      ],
      "metadata": {
        "colab": {
          "base_uri": "https://localhost:8080/"
        },
        "id": "PN-HMFQA_lWv",
        "outputId": "10fbe3a6-69cd-4f13-a0ec-aa570a9fdffb"
      },
      "execution_count": null,
      "outputs": [
        {
          "output_type": "stream",
          "name": "stdout",
          "text": [
            "n is 1 and j is 23\n",
            "n is 1 and j is 24\n",
            "n is 1 and j is 25\n",
            "n is 1 and j is 26\n",
            "n is 1 and j is 27\n",
            "n is 1 and j is 28\n",
            "n is 1 and j is 29\n",
            "n is 1 and j is 30\n",
            "n is 1 and j is 31\n",
            "n is 1 and j is 32\n",
            "n is 1 and j is 33\n",
            "n is 1 and j is 34\n",
            "n is 1 and j is 35\n",
            "n is 1 and j is 36\n",
            "n is 1 and j is 37\n",
            "n is 1 and j is 38\n",
            "n is 1 and j is 39\n",
            "n is 1 and j is 40\n",
            "n is 1 and j is 41\n",
            "n is 1 and j is 42\n",
            "n is 1 and j is 43\n",
            "n is 1 and j is 44\n",
            "n is 1 and j is 45\n",
            "n is 1 and j is 46\n",
            "n is 1 and j is 47\n",
            "n is 1 and j is 48\n",
            "n is 1 and j is 49\n",
            "n is 1 and j is 50\n",
            "n is 1 and j is 51\n",
            "n is 1 and j is 52\n",
            "n is 1 and j is 53\n",
            "n is 1 and j is 54\n",
            "n is 1 and j is 55\n",
            "n is 1 and j is 56\n",
            "n is 1 and j is 57\n",
            "n is 1 and j is 58\n",
            "n is 1 and j is 59\n",
            "n is 1 and j is 60\n",
            "n is 1 and j is 61\n",
            "n is 1 and j is 62\n",
            "n is 1 and j is 63\n",
            "n is 1 and j is 64\n",
            "n is 1 and j is 65\n",
            "n is 1 and j is 66\n",
            "n is 1 and j is 67\n",
            "n is 1 and j is 68\n",
            "n is 1 and j is 69\n",
            "n is 1 and j is 70\n",
            "n is 1 and j is 71\n",
            "n is 1 and j is 72\n",
            "n is 1 and j is 73\n",
            "n is 1 and j is 74\n",
            "n is 1 and j is 75\n",
            "n is 1 and j is 76\n",
            "n is 1 and j is 77\n",
            "n is 1 and j is 78\n",
            "n is 1 and j is 79\n",
            "n is 1 and j is 80\n",
            "n is 1 and j is 81\n",
            "n is 1 and j is 82\n",
            "n is 1 and j is 83\n",
            "n is 1 and j is 84\n",
            "n is 1 and j is 85\n",
            "n is 1 and j is 86\n",
            "n is 1 and j is 87\n",
            "n is 1 and j is 88\n",
            "n is 1 and j is 89\n",
            "n is 1 and j is 90\n",
            "n is 1 and j is 91\n",
            "n is 1 and j is 92\n",
            "n is 1 and j is 93\n",
            "n is 1 and j is 94\n",
            "n is 1 and j is 95\n",
            "n is 1 and j is 96\n",
            "n is 1 and j is 97\n",
            "n is 1 and j is 98\n",
            "n is 1 and j is 99\n",
            "n is 1 and j is 100\n",
            "n is 1 and j is 101\n",
            "n is 1 and j is 102\n",
            "n is 1 and j is 103\n",
            "n is 1 and j is 104\n",
            "n is 1 and j is 105\n",
            "n is 1 and j is 106\n",
            "n is 1 and j is 107\n",
            "n is 1 and j is 108\n",
            "n is 1 and j is 109\n",
            "n is 1 and j is 110\n",
            "n is 1 and j is 111\n",
            "n is 1 and j is 112\n",
            "n is 1 and j is 113\n",
            "n is 1 and j is 114\n",
            "n is 1 and j is 115\n",
            "n is 1 and j is 116\n",
            "n is 1 and j is 117\n",
            "n is 1 and j is 118\n",
            "n is 1 and j is 119\n",
            "n is 1 and j is 120\n",
            "n is 1 and j is 121\n",
            "n is 1 and j is 122\n",
            "n is 1 and j is 123\n",
            "n is 1 and j is 124\n",
            "n is 1 and j is 125\n",
            "n is 1 and j is 126\n",
            "n is 1 and j is 127\n",
            "n is 1 and j is 128\n",
            "n is 1 and j is 129\n",
            "n is 1 and j is 130\n",
            "n is 1 and j is 131\n",
            "n is 1 and j is 132\n",
            "n is 1 and j is 133\n",
            "n is 1 and j is 134\n",
            "n is 1 and j is 135\n",
            "n is 1 and j is 136\n",
            "n is 1 and j is 137\n",
            "n is 1 and j is 138\n",
            "n is 1 and j is 139\n",
            "n is 1 and j is 140\n",
            "n is 1 and j is 141\n",
            "n is 1 and j is 142\n",
            "n is 1 and j is 143\n",
            "n is 1 and j is 144\n",
            "n is 1 and j is 145\n",
            "n is 1 and j is 146\n",
            "n is 1 and j is 147\n",
            "n is 1 and j is 148\n",
            "n is 1 and j is 149\n",
            "n is 1 and j is 150\n",
            "n is 1 and j is 151\n",
            "n is 1 and j is 152\n",
            "n is 1 and j is 153\n",
            "n is 1 and j is 154\n",
            "n is 1 and j is 155\n",
            "n is 1 and j is 156\n",
            "n is 1 and j is 157\n",
            "n is 1 and j is 158\n",
            "n is 1 and j is 159\n",
            "n is 1 and j is 160\n",
            "n is 1 and j is 161\n",
            "n is 1 and j is 162\n"
          ]
        }
      ]
    },
    {
      "cell_type": "code",
      "source": [
        "#much better than this is to put all the desired csv files in this case from 21 to 32 in one folder and use GLOB to put them in one df\n",
        "df1 = pd.concat(\n",
        "    map(pd.read_csv,[\"/content/drive/MyDrive/AWID3_Dataset_CSV/CSV/11.SSDP/SSDP_23.csv\",\"/content/drive/MyDrive/AWID3_Dataset_CSV/CSV/11.SSDP/SSDP_24.csv\",\"/content/drive/MyDrive/AWID3_Dataset_CSV/CSV/11.SSDP/SSDP_25.csv\",\"/content/drive/MyDrive/AWID3_Dataset_CSV/CSV/11.SSDP/SSDP_26.csv\",\"/content/drive/MyDrive/AWID3_Dataset_CSV/CSV/11.SSDP/SSDP_27.csv\",\"/content/drive/MyDrive/AWID3_Dataset_CSV/CSV/11.SSDP/SSDP_28.csv\",\"/content/drive/MyDrive/AWID3_Dataset_CSV/CSV/11.SSDP/SSDP_29.csv\",\"/content/drive/MyDrive/AWID3_Dataset_CSV/CSV/11.SSDP/SSDP_30.csv\",\"/content/drive/MyDrive/AWID3_Dataset_CSV/CSV/11.SSDP/SSDP_31.csv\",\"/content/drive/MyDrive/AWID3_Dataset_CSV/CSV/11.SSDP/SSDP_32.csv\",\"/content/drive/MyDrive/AWID3_Dataset_CSV/CSV/11.SSDP/SSDP_33.csv\",\"/content/drive/MyDrive/AWID3_Dataset_CSV/CSV/11.SSDP/SSDP_34.csv\",\"/content/drive/MyDrive/AWID3_Dataset_CSV/CSV/11.SSDP/SSDP_35.csv\",\"/content/drive/MyDrive/AWID3_Dataset_CSV/CSV/11.SSDP/SSDP_36.csv\"]), ignore_index=True)"
      ],
      "metadata": {
        "id": "ZEJQZjSs_pRc",
        "colab": {
          "base_uri": "https://localhost:8080/"
        },
        "outputId": "4f558a34-f21a-47e6-95f1-9461e5afef97"
      },
      "execution_count": null,
      "outputs": [
        {
          "output_type": "stream",
          "name": "stderr",
          "text": [
            "/usr/local/lib/python3.7/dist-packages/pandas/core/reshape/concat.py:304: DtypeWarning: Columns (34,58,71,73,77,78,79,80,82,84,85,86,90,91,92,93,98,99,100,101,102,103,104,107,108,109,110,111,112,113,114,115,116,117,118,166,167,168,172,178,180,181,183,184,185,189,190,193,195,196,197,200,201,202,203,204,205,206,213,215,217,218,219,247,248,249,250,251) have mixed types.Specify dtype option on import or set low_memory=False.\n",
            "  sort=sort,\n",
            "/usr/local/lib/python3.7/dist-packages/pandas/core/reshape/concat.py:304: DtypeWarning: Columns (23,24,48,50,51,71,73,77,78,79,80,82,84,85,87,90,91,92,93,98,99,100,101,102,103,104,107,108,109,110,111,118,166,167,168,178,180,183,184,185,189,190,192,193,194,195,196,197,200,201,202,203,204,205,206,209,210,211,212,213,215,217,218,219,249) have mixed types.Specify dtype option on import or set low_memory=False.\n",
            "  sort=sort,\n",
            "/usr/local/lib/python3.7/dist-packages/pandas/core/reshape/concat.py:304: DtypeWarning: Columns (34,58,71,73,77,78,79,80,82,84,85,86,87,90,91,92,98,99,100,101,102,103,104,105,107,108,109,110,111,118,122,166,167,168,172,178,180,181,183,184,185,189,192,194,196,197,203,204,205,217,218,219,248,249) have mixed types.Specify dtype option on import or set low_memory=False.\n",
            "  sort=sort,\n",
            "/usr/local/lib/python3.7/dist-packages/pandas/core/reshape/concat.py:304: DtypeWarning: Columns (71,73,77,78,79,80,82,84,85,87,90,91,92,98,99,100,101,102,103,104,107,108,109,110,111,118,119,141,142,166,167,168,178,180,183,184,185,189,190,192,193,194,195,196,197,200,201,202,203,204,205,206,209,210,211,212,213,215,217,218,219,249,251) have mixed types.Specify dtype option on import or set low_memory=False.\n",
            "  sort=sort,\n",
            "/usr/local/lib/python3.7/dist-packages/pandas/core/reshape/concat.py:304: DtypeWarning: Columns (23,24,34,48,50,51,58,71,73,77,78,79,80,82,84,85,86,90,91,92,98,99,100,101,102,103,104,105,107,108,109,110,111,118,119,120,137,146,148,149,151,166,167,168,178,180,183,184,185,189,190,192,193,194,195,196,197,200,201,202,203,204,205,206,209,210,211,212,213,215,217,218,219,247,248,249,250,251) have mixed types.Specify dtype option on import or set low_memory=False.\n",
            "  sort=sort,\n",
            "/usr/local/lib/python3.7/dist-packages/pandas/core/reshape/concat.py:304: DtypeWarning: Columns (23,24,48,50,51,82,84,85,86,90,91,92,93,98,99,100,101,102,103,104,105,107,108,109,110,111,118,120,137,146,148,149,151,153,158,159,160,161,166,167,168,172,178,180,181,183,184,185,190,192,193,194,196,209,210,211,212,213,215,217,247,248,249,250,251) have mixed types.Specify dtype option on import or set low_memory=False.\n",
            "  sort=sort,\n",
            "/usr/local/lib/python3.7/dist-packages/pandas/core/reshape/concat.py:304: DtypeWarning: Columns (23,24,48,50,51,71,73,77,78,79,80,86,105,120,137,146,148,149,151,153,158,159,160,161,166,167,178,180,183,190,192,193,194,196,197,203,204,205,209,210,211,212,213,217,244,247,250,251,252) have mixed types.Specify dtype option on import or set low_memory=False.\n",
            "  sort=sort,\n",
            "/usr/local/lib/python3.7/dist-packages/pandas/core/reshape/concat.py:304: DtypeWarning: Columns (23,24,48,50,51,71,73,77,78,79,80,82,84,85,86,105,112,113,114,116,117,118,120,137,146,148,149,151,153,158,159,160,161,166,167,168,178,180,183,184,185,190,192,193,194,209,210,211,212,213,217,247,248,250,251) have mixed types.Specify dtype option on import or set low_memory=False.\n",
            "  sort=sort,\n",
            "/usr/local/lib/python3.7/dist-packages/pandas/core/reshape/concat.py:304: DtypeWarning: Columns (23,24,48,50,51,82,84,85,86,90,91,92,98,99,100,101,102,103,104,105,107,108,109,110,111,118,153,158,159,160,161,166,167,168,178,180,183,184,185,190,192,193,194,209,210,211,212,213,217,218,247,248,249,250,251) have mixed types.Specify dtype option on import or set low_memory=False.\n",
            "  sort=sort,\n",
            "/usr/local/lib/python3.7/dist-packages/pandas/core/reshape/concat.py:304: DtypeWarning: Columns (23,24,48,50,51,82,84,85,86,90,91,92,98,99,100,101,102,103,104,105,106,107,108,109,110,111,118,120,137,146,148,149,151,153,158,159,160,161,166,167,178,180,190,192,193,194,196,197,203,204,205,209,210,211,212,213,215,217,218,219,244,247,248,250,251,252) have mixed types.Specify dtype option on import or set low_memory=False.\n",
            "  sort=sort,\n",
            "/usr/local/lib/python3.7/dist-packages/pandas/core/reshape/concat.py:304: DtypeWarning: Columns (23,24,48,50,51,86,105,118,120,137,146,148,149,151,153,158,159,160,161,166,167,168,178,180,183,184,185,190,192,193,194,196,203,204,205,209,210,211,212,213,215,217,218,219,244,247,248,249,250,251,252) have mixed types.Specify dtype option on import or set low_memory=False.\n",
            "  sort=sort,\n",
            "/usr/local/lib/python3.7/dist-packages/pandas/core/reshape/concat.py:304: DtypeWarning: Columns (23,24,48,50,51,86,105,118,166,167,168,178,180,183,184,185,190,192,193,194,197,203,204,205,209,210,211,212,213,215,217,247,248,249,250,251) have mixed types.Specify dtype option on import or set low_memory=False.\n",
            "  sort=sort,\n",
            "/usr/local/lib/python3.7/dist-packages/pandas/core/reshape/concat.py:304: DtypeWarning: Columns (23,24,48,50,51,82,84,85,86,87,90,91,92,98,99,100,101,102,103,104,105,107,108,109,110,111,118,120,137,146,148,149,151,153,158,159,160,161,166,167,168,178,180,183,184,185,190,192,193,194,197,203,204,205,209,210,211,212,213,215,217,218,219,247,248,249,250,251) have mixed types.Specify dtype option on import or set low_memory=False.\n",
            "  sort=sort,\n",
            "/usr/local/lib/python3.7/dist-packages/pandas/core/reshape/concat.py:304: DtypeWarning: Columns (23,24,48,50,51,71,73,77,78,79,80,86,105,118,119,120,137,146,148,149,151,166,167,168,178,180,183,184,185,190,192,193,194,197,203,204,205,209,210,211,212,213,215,217,247,248,250,251) have mixed types.Specify dtype option on import or set low_memory=False.\n",
            "  sort=sort,\n"
          ]
        }
      ]
    },
    {
      "cell_type": "code",
      "source": [
        "drop_cols = []\n",
        "for i in df1.columns:\n",
        "    if len(df1[i].unique())==1:\n",
        "        drop_cols.append(i)\n",
        "print(\"Total columns with only 1 unique value:\", len(drop_cols))\n",
        "df1.drop(drop_cols, 1, inplace=True)\n",
        "\n",
        "print(df1.columns)\n",
        "df1.replace([np.inf, -np.inf], 0, inplace=True)\n",
        "df1.fillna(0, inplace = True)"
      ],
      "metadata": {
        "colab": {
          "base_uri": "https://localhost:8080/"
        },
        "id": "uwSmMEgHCBfp",
        "outputId": "695102da-5461-4c92-fc68-f61f9eb6f2fb"
      },
      "execution_count": null,
      "outputs": [
        {
          "output_type": "stream",
          "name": "stdout",
          "text": [
            "Total columns with only 1 unique value: 73\n"
          ]
        },
        {
          "output_type": "stream",
          "name": "stderr",
          "text": [
            "/usr/local/lib/python3.7/dist-packages/ipykernel_launcher.py:6: FutureWarning: In a future version of pandas all arguments of DataFrame.drop except for the argument 'labels' will be keyword-only\n",
            "  \n"
          ]
        },
        {
          "output_type": "stream",
          "name": "stdout",
          "text": [
            "Index(['frame.encap_type', 'frame.len', 'frame.number', 'frame.time',\n",
            "       'frame.time_delta', 'frame.time_delta_displayed', 'frame.time_epoch',\n",
            "       'frame.time_relative', 'radiotap.channel.flags.cck',\n",
            "       'radiotap.channel.flags.ofdm',\n",
            "       ...\n",
            "       'tls.alert_message.level', 'tls.app_data_proto',\n",
            "       'tls.compress_certificate.compressed_certificate_message.length',\n",
            "       'tls.handshake.extension.type',\n",
            "       'tls.handshake.extensions_key_share_group',\n",
            "       'tls.handshake.session_ticket_length', 'tls.handshake.version',\n",
            "       'tls.record.content_type', 'tls.record.version', 'Label'],\n",
            "      dtype='object', length=181)\n"
          ]
        }
      ]
    },
    {
      "cell_type": "code",
      "source": [
        "df1.dropna(1,inplace=True)"
      ],
      "metadata": {
        "colab": {
          "base_uri": "https://localhost:8080/"
        },
        "id": "tCLADLaQCOtD",
        "outputId": "4e151ada-e369-45a1-edf0-50a71fc9bebb"
      },
      "execution_count": null,
      "outputs": [
        {
          "output_type": "stream",
          "name": "stderr",
          "text": [
            "/usr/local/lib/python3.7/dist-packages/ipykernel_launcher.py:1: FutureWarning: In a future version of pandas all arguments of DataFrame.dropna will be keyword-only\n",
            "  \"\"\"Entry point for launching an IPython kernel.\n"
          ]
        }
      ]
    },
    {
      "cell_type": "code",
      "source": [
        "df1.info()"
      ],
      "metadata": {
        "colab": {
          "base_uri": "https://localhost:8080/"
        },
        "id": "9BKwbWCOCUhe",
        "outputId": "0f304dcf-708d-4414-be83-c91904d4b347"
      },
      "execution_count": null,
      "outputs": [
        {
          "output_type": "stream",
          "name": "stdout",
          "text": [
            "<class 'pandas.core.frame.DataFrame'>\n",
            "RangeIndex: 700130 entries, 0 to 700129\n",
            "Columns: 181 entries, frame.encap_type to Label\n",
            "dtypes: float64(68), object(113)\n",
            "memory usage: 966.8+ MB\n"
          ]
        }
      ]
    },
    {
      "cell_type": "code",
      "source": [
        "#much better than this is to put all the desired csv files in this case from 21 to 32 in one folder and use GLOB to put them in one df\n",
        "df2 = pd.concat(\n",
        "    map(pd.read_csv,[\"/content/drive/MyDrive/AWID3_Dataset_CSV/CSV/11.SSDP/SSDP_37.csv\",\"/content/drive/MyDrive/AWID3_Dataset_CSV/CSV/11.SSDP/SSDP_38.csv\",\"/content/drive/MyDrive/AWID3_Dataset_CSV/CSV/11.SSDP/SSDP_39.csv\",\"/content/drive/MyDrive/AWID3_Dataset_CSV/CSV/11.SSDP/SSDP_40.csv\",\"/content/drive/MyDrive/AWID3_Dataset_CSV/CSV/11.SSDP/SSDP_41.csv\",\"/content/drive/MyDrive/AWID3_Dataset_CSV/CSV/11.SSDP/SSDP_42.csv\",\"/content/drive/MyDrive/AWID3_Dataset_CSV/CSV/11.SSDP/SSDP_43.csv\",\"/content/drive/MyDrive/AWID3_Dataset_CSV/CSV/11.SSDP/SSDP_44.csv\",\"/content/drive/MyDrive/AWID3_Dataset_CSV/CSV/11.SSDP/SSDP_45.csv\",\"/content/drive/MyDrive/AWID3_Dataset_CSV/CSV/11.SSDP/SSDP_46.csv\",\"/content/drive/MyDrive/AWID3_Dataset_CSV/CSV/11.SSDP/SSDP_47.csv\"]), ignore_index=True)"
      ],
      "metadata": {
        "colab": {
          "base_uri": "https://localhost:8080/"
        },
        "id": "kfCiTv6ZVNvT",
        "outputId": "2520cd1e-566d-4980-c164-8a2740c941d7"
      },
      "execution_count": null,
      "outputs": [
        {
          "output_type": "stream",
          "name": "stderr",
          "text": [
            "/usr/local/lib/python3.7/dist-packages/pandas/core/reshape/concat.py:304: DtypeWarning: Columns (23,24,48,50,51,71,73,77,78,79,80,82,84,85,86,90,91,92,98,99,100,101,102,103,104,105,107,108,109,110,111,118,153,158,159,160,161,166,167,168,183,184,185,190,192,193,194,197,203,204,205,209,210,211,212,213,215,217,247,248,250,251) have mixed types.Specify dtype option on import or set low_memory=False.\n",
            "  sort=sort,\n",
            "/usr/local/lib/python3.7/dist-packages/pandas/core/reshape/concat.py:304: DtypeWarning: Columns (23,24,48,50,51,82,84,85,86,90,91,92,93,98,99,100,101,102,103,104,105,107,108,109,110,111,118,166,167,168,178,180,183,184,185,190,192,193,194,197,209,210,211,212,213,217,244,247,248,250,251,252) have mixed types.Specify dtype option on import or set low_memory=False.\n",
            "  sort=sort,\n",
            "/usr/local/lib/python3.7/dist-packages/pandas/core/reshape/concat.py:304: DtypeWarning: Columns (23,24,48,50,51,71,73,77,78,79,80,82,84,85,86,90,91,92,98,99,100,101,102,103,104,105,107,108,109,110,111,118,122,153,158,159,160,161,166,167,168,178,180,183,184,185,190,192,193,194,196,197,203,204,205,209,210,211,212,213,217,247,248,250,251) have mixed types.Specify dtype option on import or set low_memory=False.\n",
            "  sort=sort,\n",
            "/usr/local/lib/python3.7/dist-packages/pandas/core/reshape/concat.py:304: DtypeWarning: Columns (23,24,48,50,51,71,73,77,78,79,80,82,84,85,86,90,91,92,98,99,100,101,102,103,104,105,107,108,109,110,111,118,119,120,122,137,146,148,149,150,151,166,167,168,178,180,183,184,185,190,192,193,194,196,209,210,211,212,217,218,219,244,247,248,249,250,251,252) have mixed types.Specify dtype option on import or set low_memory=False.\n",
            "  sort=sort,\n",
            "/usr/local/lib/python3.7/dist-packages/pandas/core/reshape/concat.py:304: DtypeWarning: Columns (82,84,85,86,90,91,92,98,99,100,101,102,103,104,105,107,108,109,110,111,118,120,137,139,141,142,146,148,149,151,166,167,168,178,180,183,190,192,194,209,210,211,212,213,217,247,248,250,251) have mixed types.Specify dtype option on import or set low_memory=False.\n",
            "  sort=sort,\n",
            "/usr/local/lib/python3.7/dist-packages/pandas/core/reshape/concat.py:304: DtypeWarning: Columns (23,24,48,50,51,71,73,77,78,79,80,82,84,85,86,90,91,92,93,98,99,100,101,102,103,104,105,107,108,109,110,111,120,136,137,138,139,141,142,143,145,146,148,149,151,153,158,159,160,161,166,167,168,172,178,180,181,183,184,185,190,192,193,194,197,203,204,205,209,210,211,212,213,217,248,249,250,251) have mixed types.Specify dtype option on import or set low_memory=False.\n",
            "  sort=sort,\n",
            "/usr/local/lib/python3.7/dist-packages/pandas/core/reshape/concat.py:304: DtypeWarning: Columns (23,24,48,50,51,82,84,85,86,90,91,92,98,99,100,101,102,103,104,105,107,108,109,110,111,120,136,137,138,141,142,143,145,146,148,149,151,153,158,159,160,161,167,168,178,180,183,184,185,190,192,193,194,197,203,204,205,209,210,211,212,213,217,248,251) have mixed types.Specify dtype option on import or set low_memory=False.\n",
            "  sort=sort,\n",
            "/usr/local/lib/python3.7/dist-packages/pandas/core/reshape/concat.py:304: DtypeWarning: Columns (71,73,77,78,79,80,82,84,85,86,90,91,92,98,99,100,101,102,103,104,105,107,108,109,110,111,118,120,136,137,138,141,143,145,146,148,149,151,166,167,168,178,180,183,184,185,190,192,193,194,209,210,211,212,213,217,247,248,250,251) have mixed types.Specify dtype option on import or set low_memory=False.\n",
            "  sort=sort,\n",
            "/usr/local/lib/python3.7/dist-packages/pandas/core/reshape/concat.py:304: DtypeWarning: Columns (23,24,48,50,51,71,73,77,78,79,80,82,84,85,86,90,91,92,98,99,100,101,102,103,104,107,108,109,110,111,118,120,136,137,138,141,143,145,146,148,149,151,166,167,168,178,180,183,184,185,190,192,193,194,209,210,211,212,213,217,247,248,250,251) have mixed types.Specify dtype option on import or set low_memory=False.\n",
            "  sort=sort,\n",
            "/usr/local/lib/python3.7/dist-packages/pandas/core/reshape/concat.py:304: DtypeWarning: Columns (23,24,48,50,51,71,73,77,78,79,80,86,105,120,137,146,148,149,151,153,158,159,160,161,167,168,178,180,183,184,185,190,192,193,194,197,203,204,205,209,210,211,212,213,217,247,248,250,251) have mixed types.Specify dtype option on import or set low_memory=False.\n",
            "  sort=sort,\n",
            "/usr/local/lib/python3.7/dist-packages/pandas/core/reshape/concat.py:304: DtypeWarning: Columns (71,73,77,78,79,80,82,84,85,86,90,91,92,98,99,100,101,102,103,104,105,107,108,109,110,111,118,120,136,137,138,141,143,145,146,148,149,151,167,168,178,180,183,184,185,190,192,193,194,197,203,204,205,209,210,211,212,213,217,247,248,249,250,251) have mixed types.Specify dtype option on import or set low_memory=False.\n",
            "  sort=sort,\n"
          ]
        }
      ]
    },
    {
      "cell_type": "code",
      "source": [
        "drop_cols = []\n",
        "for i in df2.columns:\n",
        "    if len(df2[i].unique())==1:\n",
        "        drop_cols.append(i)\n",
        "print(\"Total columns with only 1 unique value:\", len(drop_cols))\n",
        "df2.drop(drop_cols, 1, inplace=True)\n",
        "\n",
        "print(df2.columns)\n",
        "df2.replace([np.inf, -np.inf], 0, inplace=True)\n",
        "df2.fillna(0, inplace = True)"
      ],
      "metadata": {
        "colab": {
          "base_uri": "https://localhost:8080/"
        },
        "id": "khFSNU01vl8B",
        "outputId": "cbdb81db-dd48-446a-e4e0-6b8edec5f687"
      },
      "execution_count": null,
      "outputs": [
        {
          "output_type": "stream",
          "name": "stdout",
          "text": [
            "Total columns with only 1 unique value: 77\n"
          ]
        },
        {
          "output_type": "stream",
          "name": "stderr",
          "text": [
            "/usr/local/lib/python3.7/dist-packages/ipykernel_launcher.py:6: FutureWarning: In a future version of pandas all arguments of DataFrame.drop except for the argument 'labels' will be keyword-only\n",
            "  \n"
          ]
        },
        {
          "output_type": "stream",
          "name": "stdout",
          "text": [
            "Index(['frame.len', 'frame.number', 'frame.time', 'frame.time_delta',\n",
            "       'frame.time_delta_displayed', 'frame.time_epoch', 'frame.time_relative',\n",
            "       'radiotap.datarate', 'radiotap.dbm_antsignal', 'radiotap.length',\n",
            "       ...\n",
            "       'tls.alert_message.desc', 'tls.alert_message.level',\n",
            "       'tls.app_data_proto', 'tls.handshake.extension.type',\n",
            "       'tls.handshake.extensions_key_share_group',\n",
            "       'tls.handshake.session_ticket_length', 'tls.handshake.version',\n",
            "       'tls.record.content_type', 'tls.record.version', 'Label'],\n",
            "      dtype='object', length=177)\n"
          ]
        }
      ]
    },
    {
      "cell_type": "code",
      "source": [
        "df2.dropna(1,inplace=True)"
      ],
      "metadata": {
        "colab": {
          "base_uri": "https://localhost:8080/"
        },
        "id": "bI5Ms-wXvyP9",
        "outputId": "e1d95172-d8f1-4e91-ac68-906454c62781"
      },
      "execution_count": null,
      "outputs": [
        {
          "output_type": "stream",
          "name": "stderr",
          "text": [
            "/usr/local/lib/python3.7/dist-packages/ipykernel_launcher.py:1: FutureWarning: In a future version of pandas all arguments of DataFrame.dropna will be keyword-only\n",
            "  \"\"\"Entry point for launching an IPython kernel.\n"
          ]
        }
      ]
    },
    {
      "cell_type": "code",
      "source": [
        "df2.info()"
      ],
      "metadata": {
        "colab": {
          "base_uri": "https://localhost:8080/"
        },
        "id": "RFN41ONcv2WT",
        "outputId": "860ca1fe-e6ed-4be4-87ea-4e26e8413b82"
      },
      "execution_count": null,
      "outputs": [
        {
          "output_type": "stream",
          "name": "stdout",
          "text": [
            "<class 'pandas.core.frame.DataFrame'>\n",
            "RangeIndex: 550000 entries, 0 to 549999\n",
            "Columns: 177 entries, frame.len to Label\n",
            "dtypes: float64(49), int64(18), object(110)\n",
            "memory usage: 742.7+ MB\n"
          ]
        }
      ]
    },
    {
      "cell_type": "code",
      "source": [
        "#much better than this is to put all the desired csv files in this case from 21 to 32 in one folder and use GLOB to put them in one df\n",
        "df3 = pd.concat(\n",
        "    map(pd.read_csv,[\"/content/drive/MyDrive/AWID3_Dataset_CSV/CSV/11.SSDP/SSDP_48.csv\",\"/content/drive/MyDrive/AWID3_Dataset_CSV/CSV/11.SSDP/SSDP_49.csv\",\"/content/drive/MyDrive/AWID3_Dataset_CSV/CSV/11.SSDP/SSDP_50.csv\",\"/content/drive/MyDrive/AWID3_Dataset_CSV/CSV/11.SSDP/SSDP_51.csv\",\"/content/drive/MyDrive/AWID3_Dataset_CSV/CSV/11.SSDP/SSDP_52.csv\"]), ignore_index=True)"
      ],
      "metadata": {
        "colab": {
          "base_uri": "https://localhost:8080/"
        },
        "id": "OFevF3nO8twq",
        "outputId": "286418e4-3135-4b90-a4a5-6742f0593de6"
      },
      "execution_count": null,
      "outputs": [
        {
          "output_type": "stream",
          "name": "stderr",
          "text": [
            "/usr/local/lib/python3.7/dist-packages/pandas/core/reshape/concat.py:304: DtypeWarning: Columns (23,24,48,50,51,71,73,77,78,79,80,82,84,85,86,90,91,92,98,99,100,101,102,103,104,105,107,108,109,110,111,112,113,114,116,117,118,120,136,137,138,141,143,145,146,148,149,151,153,158,159,160,161,166,167,168,169,170,171,172,173,174,175,176,177,178,180,181,183,184,185,190,192,194,203,204,205,209,210,211,212,213,217,247,248,250,251) have mixed types.Specify dtype option on import or set low_memory=False.\n",
            "  sort=sort,\n",
            "/usr/local/lib/python3.7/dist-packages/pandas/core/reshape/concat.py:304: DtypeWarning: Columns (23,24,48,50,51,86,105,118,120,137,139,141,142,146,148,149,151,166,167,168,172,178,180,181,183,184,185,190,192,193,194,197,203,204,205,209,210,211,212,213,217,218,219,247,248,249,250,251) have mixed types.Specify dtype option on import or set low_memory=False.\n",
            "  sort=sort,\n",
            "/usr/local/lib/python3.7/dist-packages/pandas/core/reshape/concat.py:304: DtypeWarning: Columns (23,24,48,50,51,71,73,77,78,79,80,86,105,118,167,168,178,180,183,184,185,190,192,193,194,196,209,210,211,212,213,215,217,218,219,244,247,248,249,250,251,252) have mixed types.Specify dtype option on import or set low_memory=False.\n",
            "  sort=sort,\n",
            "/usr/local/lib/python3.7/dist-packages/pandas/core/reshape/concat.py:304: DtypeWarning: Columns (71,73,77,78,79,80,82,84,85,86,90,91,92,93,98,99,100,101,102,103,104,105,107,108,109,110,111,120,136,137,138,141,143,145,146,148,149,151,153,158,159,160,161,166,167,168,178,180,183,184,185,190,192,193,194,197,203,204,205,209,210,211,212,213,215,217,218,219,247,248,249,250,251) have mixed types.Specify dtype option on import or set low_memory=False.\n",
            "  sort=sort,\n",
            "/usr/local/lib/python3.7/dist-packages/pandas/core/reshape/concat.py:304: DtypeWarning: Columns (23,24,48,50,51,71,73,77,78,79,80,86,118,120,137,146,148,149,151,153,158,159,160,161,166,167,168,178,180,183,184,185,190,192,193,194,197,203,204,205,209,210,211,212,213,215,217,218,219,247,248,249,250,251) have mixed types.Specify dtype option on import or set low_memory=False.\n",
            "  sort=sort,\n"
          ]
        }
      ]
    },
    {
      "cell_type": "code",
      "source": [
        "drop_cols = []\n",
        "for i in df3.columns:\n",
        "    if len(df3[i].unique())==1:\n",
        "        drop_cols.append(i)\n",
        "print(\"Total columns with only 1 unique value:\", len(drop_cols))\n",
        "df3.drop(drop_cols, 1, inplace=True)\n",
        "\n",
        "print(df3.columns)\n",
        "df3.replace([np.inf, -np.inf], 0, inplace=True)\n",
        "df3.fillna(0, inplace = True)"
      ],
      "metadata": {
        "colab": {
          "base_uri": "https://localhost:8080/"
        },
        "id": "gtKPpZqzwAfg",
        "outputId": "15ab6377-7a12-4d4a-9b72-d9fafc197350"
      },
      "execution_count": null,
      "outputs": [
        {
          "output_type": "stream",
          "name": "stdout",
          "text": [
            "Total columns with only 1 unique value: 80\n"
          ]
        },
        {
          "output_type": "stream",
          "name": "stderr",
          "text": [
            "/usr/local/lib/python3.7/dist-packages/ipykernel_launcher.py:6: FutureWarning: In a future version of pandas all arguments of DataFrame.drop except for the argument 'labels' will be keyword-only\n",
            "  \n"
          ]
        },
        {
          "output_type": "stream",
          "name": "stdout",
          "text": [
            "Index(['frame.len', 'frame.number', 'frame.time', 'frame.time_delta',\n",
            "       'frame.time_delta_displayed', 'frame.time_epoch', 'frame.time_relative',\n",
            "       'radiotap.datarate', 'radiotap.dbm_antsignal', 'radiotap.length',\n",
            "       ...\n",
            "       'tls.alert_message.desc', 'tls.alert_message.level',\n",
            "       'tls.app_data_proto', 'tls.handshake.extension.type',\n",
            "       'tls.handshake.extensions_key_share_group',\n",
            "       'tls.handshake.session_ticket_length', 'tls.handshake.version',\n",
            "       'tls.record.content_type', 'tls.record.version', 'Label'],\n",
            "      dtype='object', length=174)\n"
          ]
        }
      ]
    },
    {
      "cell_type": "code",
      "source": [
        "df3.dropna(1,inplace=True)\n",
        "df3.info()"
      ],
      "metadata": {
        "colab": {
          "base_uri": "https://localhost:8080/"
        },
        "id": "mf2qT9h8wIl5",
        "outputId": "f8fb56cf-d7d4-4925-d1d4-b1efce7ff0c7"
      },
      "execution_count": null,
      "outputs": [
        {
          "output_type": "stream",
          "name": "stderr",
          "text": [
            "/usr/local/lib/python3.7/dist-packages/ipykernel_launcher.py:1: FutureWarning: In a future version of pandas all arguments of DataFrame.dropna will be keyword-only\n",
            "  \"\"\"Entry point for launching an IPython kernel.\n"
          ]
        },
        {
          "output_type": "stream",
          "name": "stdout",
          "text": [
            "<class 'pandas.core.frame.DataFrame'>\n",
            "RangeIndex: 250000 entries, 0 to 249999\n",
            "Columns: 174 entries, frame.len to Label\n",
            "dtypes: float64(36), int64(18), object(120)\n",
            "memory usage: 331.9+ MB\n"
          ]
        }
      ]
    },
    {
      "cell_type": "code",
      "source": [
        "#much better than this is to put all the desired csv files in this case from 21 to 32 in one folder and use GLOB to put them in one df\n",
        "df4 = pd.concat(\n",
        "    map(pd.read_csv,[\"/content/drive/MyDrive/AWID3_Dataset_CSV/CSV/11.SSDP/SSDP_53.csv\",\"/content/drive/MyDrive/AWID3_Dataset_CSV/CSV/11.SSDP/SSDP_54.csv\",\"/content/drive/MyDrive/AWID3_Dataset_CSV/CSV/11.SSDP/SSDP_55.csv\",\"/content/drive/MyDrive/AWID3_Dataset_CSV/CSV/11.SSDP/SSDP_56.csv\",\"/content/drive/MyDrive/AWID3_Dataset_CSV/CSV/11.SSDP/SSDP_57.csv\",\"/content/drive/MyDrive/AWID3_Dataset_CSV/CSV/11.SSDP/SSDP_58.csv\",\"/content/drive/MyDrive/AWID3_Dataset_CSV/CSV/11.SSDP/SSDP_59.csv\",\"/content/drive/MyDrive/AWID3_Dataset_CSV/CSV/11.SSDP/SSDP_60.csv\",\"/content/drive/MyDrive/AWID3_Dataset_CSV/CSV/11.SSDP/SSDP_61.csv\",\"/content/drive/MyDrive/AWID3_Dataset_CSV/CSV/11.SSDP/SSDP_62.csv\",\"/content/drive/MyDrive/AWID3_Dataset_CSV/CSV/11.SSDP/SSDP_63.csv\",\"/content/drive/MyDrive/AWID3_Dataset_CSV/CSV/11.SSDP/SSDP_64.csv\"]), ignore_index=True)"
      ],
      "metadata": {
        "colab": {
          "base_uri": "https://localhost:8080/"
        },
        "id": "mB-dBvxw97J6",
        "outputId": "d1db2d40-cf25-48dd-9094-78084007781e"
      },
      "execution_count": null,
      "outputs": [
        {
          "output_type": "stream",
          "name": "stderr",
          "text": [
            "/usr/local/lib/python3.7/dist-packages/pandas/core/reshape/concat.py:304: DtypeWarning: Columns (23,24,48,50,51,86,105,118,120,137,139,146,148,149,151,153,158,159,160,161,166,167,168,178,180,183,184,185,190,192,193,194,197,203,204,205,209,210,211,212,213,215,217,218,219,247,248,249,250,251) have mixed types.Specify dtype option on import or set low_memory=False.\n",
            "  sort=sort,\n",
            "/usr/local/lib/python3.7/dist-packages/pandas/core/reshape/concat.py:304: DtypeWarning: Columns (23,24,48,50,51,71,73,77,78,79,80,82,84,85,86,112,113,114,116,117,118,120,137,141,146,148,149,151,153,158,159,160,161,166,167,168,169,170,171,172,173,174,175,176,177,178,180,181,183,184,185,190,192,193,194,197,203,204,205,209,210,211,212,213,215,217,218,219,247,248,249,250) have mixed types.Specify dtype option on import or set low_memory=False.\n",
            "  sort=sort,\n",
            "/usr/local/lib/python3.7/dist-packages/pandas/core/reshape/concat.py:304: DtypeWarning: Columns (23,24,48,50,51,118,120,136,137,138,141,143,145,146,148,149,151,153,158,159,160,161,166,167,168,178,180,183,184,185,190,192,193,194,196,197,203,204,205,209,210,211,212,213,215,217,218,219,248,249,251) have mixed types.Specify dtype option on import or set low_memory=False.\n",
            "  sort=sort,\n",
            "/usr/local/lib/python3.7/dist-packages/pandas/core/reshape/concat.py:304: DtypeWarning: Columns (23,24,48,50,51,71,73,77,78,79,80,82,84,85,90,91,92,93,98,99,100,101,102,103,104,105,107,108,109,110,111,112,113,114,116,117,118,120,136,137,138,139,141,143,145,146,148,149,151,153,158,159,160,161,166,167,168,169,170,171,172,173,174,175,176,177,178,180,181,183,184,185,190,192,193,194,196,197,203,204,205,209,210,211,212,213,215,217,244,247,248,249,250,251,252) have mixed types.Specify dtype option on import or set low_memory=False.\n",
            "  sort=sort,\n",
            "/usr/local/lib/python3.7/dist-packages/pandas/core/reshape/concat.py:304: DtypeWarning: Columns (23,24,48,50,51,82,84,85,86,90,91,92,93,98,99,100,101,102,103,104,107,108,109,110,111,112,113,114,116,117,118,120,136,137,138,141,142,143,145,146,148,149,151,153,158,159,160,161,166,167,168,169,170,171,172,173,174,175,176,177,178,180,181,183,184,185,190,192,193,194,196,197,203,204,205,209,210,211,212,213,215,217,218,219,247,248,249,250,251) have mixed types.Specify dtype option on import or set low_memory=False.\n",
            "  sort=sort,\n",
            "/usr/local/lib/python3.7/dist-packages/pandas/core/reshape/concat.py:304: DtypeWarning: Columns (23,24,48,50,51,71,73,77,78,79,80,82,84,85,86,90,91,92,98,99,100,101,102,103,104,105,107,108,109,110,111,112,113,114,116,117,118,120,137,139,141,142,146,148,149,151,153,158,159,160,161,166,167,168,169,170,171,172,173,176,177,178,180,181,183,184,185,186,190,192,193,194,197,203,204,205,209,210,211,212,213,215,217,248,249) have mixed types.Specify dtype option on import or set low_memory=False.\n",
            "  sort=sort,\n",
            "/usr/local/lib/python3.7/dist-packages/pandas/core/reshape/concat.py:304: DtypeWarning: Columns (23,24,48,50,51,71,73,77,78,79,80,82,84,85,86,90,91,92,98,99,100,101,102,103,104,107,108,109,110,111,112,113,114,116,117,118,120,137,141,146,148,149,151,166,167,168,169,170,171,172,173,174,175,176,177,178,180,181,183,184,185,186,187,190,192,193,194,203,204,205,209,210,211,212,213,215,217,218,219,244,247,248,249,250,251,252) have mixed types.Specify dtype option on import or set low_memory=False.\n",
            "  sort=sort,\n",
            "/usr/local/lib/python3.7/dist-packages/pandas/core/reshape/concat.py:304: DtypeWarning: Columns (23,24,48,50,51,71,73,77,78,79,80,82,84,85,86,90,91,92,98,99,100,101,102,103,104,105,107,108,109,110,111,118,120,136,137,138,141,143,145,146,148,149,151,153,158,159,160,161,166,167,168,178,180,183,184,185,190,192,193,194,197,203,204,205,209,210,212,217,218,219,247,248,249,250,251) have mixed types.Specify dtype option on import or set low_memory=False.\n",
            "  sort=sort,\n",
            "/usr/local/lib/python3.7/dist-packages/pandas/core/reshape/concat.py:304: DtypeWarning: Columns (23,24,48,50,51,71,73,77,78,79,80,82,84,85,86,105,112,113,114,116,117,118,120,137,141,146,148,149,151,153,158,159,160,161,166,167,168,169,170,171,172,173,174,175,176,177,178,180,181,183,184,185,190,192,193,194,196,197,203,204,205,209,210,211,212,213,215,217,218,219,244,247,248,249,250,251) have mixed types.Specify dtype option on import or set low_memory=False.\n",
            "  sort=sort,\n",
            "/usr/local/lib/python3.7/dist-packages/pandas/core/reshape/concat.py:304: DtypeWarning: Columns (23,24,48,50,51,71,73,77,78,79,80,82,84,85,86,90,91,92,98,99,100,101,102,103,104,105,107,108,109,110,111,118,120,137,146,148,149,151,166,167,168,178,180,183,184,185,190,192,193,194,196,197,203,204,205,209,210,211,212,213,215,217,218,219,247,248,249,250,251) have mixed types.Specify dtype option on import or set low_memory=False.\n",
            "  sort=sort,\n",
            "/usr/local/lib/python3.7/dist-packages/pandas/core/reshape/concat.py:304: DtypeWarning: Columns (71,73,77,78,79,80,82,84,85,86,90,91,92,98,99,100,101,102,103,104,107,108,109,110,111,112,113,114,116,117,118,120,137,139,146,148,149,151,153,158,159,160,161,166,167,168,169,170,171,172,173,174,175,176,177,178,180,181,183,184,185,187,190,192,193,194,197,203,204,205,209,210,211,212,213,215,217,248,249) have mixed types.Specify dtype option on import or set low_memory=False.\n",
            "  sort=sort,\n",
            "/usr/local/lib/python3.7/dist-packages/pandas/core/reshape/concat.py:304: DtypeWarning: Columns (71,73,77,78,79,80,82,84,85,86,90,91,92,93,98,99,100,101,102,103,104,105,107,108,109,110,111,118,120,136,137,138,141,143,145,146,148,149,151,166,167,168,178,180,183,184,185,190,192,193,194,197,203,204,205,209,210,211,212,213,217,218,219,247,248,249,250,251) have mixed types.Specify dtype option on import or set low_memory=False.\n",
            "  sort=sort,\n"
          ]
        }
      ]
    },
    {
      "cell_type": "code",
      "source": [
        "drop_cols = []\n",
        "for i in df4.columns:\n",
        "    if len(df4[i].unique())==1:\n",
        "        drop_cols.append(i)\n",
        "print(\"Total columns with only 1 unique value:\", len(drop_cols))\n",
        "df4.drop(drop_cols, 1, inplace=True)\n",
        "\n",
        "print(df4.columns)\n",
        "df4.replace([np.inf, -np.inf], 0, inplace=True)\n",
        "df4.fillna(0, inplace = True)\n",
        "df4.dropna(1,inplace=True)\n",
        "df4.info()"
      ],
      "metadata": {
        "colab": {
          "base_uri": "https://localhost:8080/"
        },
        "id": "iYtUcI5YwXS3",
        "outputId": "58043cb9-3be3-4f90-8250-7711e445084e"
      },
      "execution_count": null,
      "outputs": [
        {
          "output_type": "stream",
          "name": "stdout",
          "text": [
            "Total columns with only 1 unique value: 79\n"
          ]
        },
        {
          "output_type": "stream",
          "name": "stderr",
          "text": [
            "/usr/local/lib/python3.7/dist-packages/ipykernel_launcher.py:6: FutureWarning: In a future version of pandas all arguments of DataFrame.drop except for the argument 'labels' will be keyword-only\n",
            "  \n"
          ]
        },
        {
          "output_type": "stream",
          "name": "stdout",
          "text": [
            "Index(['frame.len', 'frame.number', 'frame.time', 'frame.time_delta',\n",
            "       'frame.time_delta_displayed', 'frame.time_epoch', 'frame.time_relative',\n",
            "       'radiotap.datarate', 'radiotap.dbm_antsignal', 'radiotap.length',\n",
            "       ...\n",
            "       'tls.alert_message.level', 'tls.app_data_proto',\n",
            "       'tls.compress_certificate.compressed_certificate_message.length',\n",
            "       'tls.handshake.extension.type',\n",
            "       'tls.handshake.extensions_key_share_group',\n",
            "       'tls.handshake.session_ticket_length', 'tls.handshake.version',\n",
            "       'tls.record.content_type', 'tls.record.version', 'Label'],\n",
            "      dtype='object', length=175)\n"
          ]
        },
        {
          "output_type": "stream",
          "name": "stderr",
          "text": [
            "/usr/local/lib/python3.7/dist-packages/ipykernel_launcher.py:11: FutureWarning: In a future version of pandas all arguments of DataFrame.dropna will be keyword-only\n",
            "  # This is added back by InteractiveShellApp.init_path()\n"
          ]
        },
        {
          "output_type": "stream",
          "name": "stdout",
          "text": [
            "<class 'pandas.core.frame.DataFrame'>\n",
            "RangeIndex: 600000 entries, 0 to 599999\n",
            "Columns: 175 entries, frame.len to Label\n",
            "dtypes: float64(35), int64(18), object(122)\n",
            "memory usage: 801.1+ MB\n"
          ]
        }
      ]
    },
    {
      "cell_type": "code",
      "source": [
        "#much better than this is to put all the desired csv files in this case from 21 to 32 in one folder and use GLOB to put them in one df\n",
        "df5 = pd.concat(\n",
        "    map(pd.read_csv,[\"/content/drive/MyDrive/AWID3_Dataset_CSV/CSV/11.SSDP/SSDP_65.csv\",\"/content/drive/MyDrive/AWID3_Dataset_CSV/CSV/11.SSDP/SSDP_66.csv\",\"/content/drive/MyDrive/AWID3_Dataset_CSV/CSV/11.SSDP/SSDP_67.csv\",\"/content/drive/MyDrive/AWID3_Dataset_CSV/CSV/11.SSDP/SSDP_68.csv\",\"/content/drive/MyDrive/AWID3_Dataset_CSV/CSV/11.SSDP/SSDP_69.csv\",\"/content/drive/MyDrive/AWID3_Dataset_CSV/CSV/11.SSDP/SSDP_70.csv\",\"/content/drive/MyDrive/AWID3_Dataset_CSV/CSV/11.SSDP/SSDP_71.csv\",\"/content/drive/MyDrive/AWID3_Dataset_CSV/CSV/11.SSDP/SSDP_72.csv\",\"/content/drive/MyDrive/AWID3_Dataset_CSV/CSV/11.SSDP/SSDP_73.csv\",\"/content/drive/MyDrive/AWID3_Dataset_CSV/CSV/11.SSDP/SSDP_74.csv\",\"/content/drive/MyDrive/AWID3_Dataset_CSV/CSV/11.SSDP/SSDP_75.csv\",\"/content/drive/MyDrive/AWID3_Dataset_CSV/CSV/11.SSDP/SSDP_76.csv\"]), ignore_index=True)"
      ],
      "metadata": {
        "id": "KGqFL6Y5J1iB"
      },
      "execution_count": null,
      "outputs": []
    },
    {
      "cell_type": "code",
      "source": [
        "drop_cols = []\n",
        "for i in df5.columns:\n",
        "    if len(df5[i].unique())==1:\n",
        "        drop_cols.append(i)\n",
        "print(\"Total columns with only 1 unique value:\", len(drop_cols))\n",
        "df5.drop(drop_cols, 1, inplace=True)\n",
        "\n",
        "print(df5.columns)\n",
        "df5.replace([np.inf, -np.inf], 0, inplace=True)\n",
        "df5.fillna(0, inplace = True)\n",
        "df5.dropna(1,inplace=True)\n",
        "df5.info()"
      ],
      "metadata": {
        "colab": {
          "base_uri": "https://localhost:8080/"
        },
        "id": "R2c1LtEgKJPZ",
        "outputId": "bdfe3ee9-476c-4f91-bd0e-02a53ea7e4e9"
      },
      "execution_count": null,
      "outputs": [
        {
          "output_type": "stream",
          "name": "stdout",
          "text": [
            "Total columns with only 1 unique value: 80\n",
            "Index(['frame.len', 'frame.number', 'frame.time', 'frame.time_delta',\n",
            "       'frame.time_delta_displayed', 'frame.time_epoch', 'frame.time_relative',\n",
            "       'radiotap.datarate', 'radiotap.dbm_antsignal', 'radiotap.length',\n",
            "       ...\n",
            "       'tls.alert_message.desc', 'tls.alert_message.level',\n",
            "       'tls.app_data_proto', 'tls.handshake.extension.type',\n",
            "       'tls.handshake.extensions_key_share_group',\n",
            "       'tls.handshake.session_ticket_length', 'tls.handshake.version',\n",
            "       'tls.record.content_type', 'tls.record.version', 'Label'],\n",
            "      dtype='object', length=174)\n",
            "<class 'pandas.core.frame.DataFrame'>\n",
            "RangeIndex: 600000 entries, 0 to 599999\n",
            "Columns: 174 entries, frame.len to Label\n",
            "dtypes: float64(32), int64(16), object(126)\n",
            "memory usage: 796.5+ MB\n"
          ]
        }
      ]
    },
    {
      "cell_type": "code",
      "source": [
        "#much better than this is to put all the desired csv files in this case from 21 to 32 in one folder and use GLOB to put them in one df\n",
        "df6 = pd.concat(\n",
        "    map(pd.read_csv,[\"/content/drive/MyDrive/AWID3_Dataset_CSV/CSV/11.SSDP/SSDP_77.csv\",\"/content/drive/MyDrive/AWID3_Dataset_CSV/CSV/11.SSDP/SSDP_78.csv\",\"/content/drive/MyDrive/AWID3_Dataset_CSV/CSV/11.SSDP/SSDP_79.csv\",\"/content/drive/MyDrive/AWID3_Dataset_CSV/CSV/11.SSDP/SSDP_80.csv\",\"/content/drive/MyDrive/AWID3_Dataset_CSV/CSV/11.SSDP/SSDP_81.csv\",\"/content/drive/MyDrive/AWID3_Dataset_CSV/CSV/11.SSDP/SSDP_82.csv\",\"/content/drive/MyDrive/AWID3_Dataset_CSV/CSV/11.SSDP/SSDP_83.csv\",\"/content/drive/MyDrive/AWID3_Dataset_CSV/CSV/11.SSDP/SSDP_84.csv\",\"/content/drive/MyDrive/AWID3_Dataset_CSV/CSV/11.SSDP/SSDP_85.csv\",\"/content/drive/MyDrive/AWID3_Dataset_CSV/CSV/11.SSDP/SSDP_86.csv\",\"/content/drive/MyDrive/AWID3_Dataset_CSV/CSV/11.SSDP/SSDP_87.csv\",\"/content/drive/MyDrive/AWID3_Dataset_CSV/CSV/11.SSDP/SSDP_88.csv\"]), ignore_index=True)"
      ],
      "metadata": {
        "colab": {
          "base_uri": "https://localhost:8080/"
        },
        "id": "hcDP4zHCKvHD",
        "outputId": "f586e6e7-13df-4bbb-8c07-9cda7e1babe1"
      },
      "execution_count": null,
      "outputs": [
        {
          "output_type": "stream",
          "name": "stderr",
          "text": [
            "/usr/local/lib/python3.7/dist-packages/pandas/core/reshape/concat.py:304: DtypeWarning: Columns (23,24,48,50,51,71,73,77,78,79,80,82,84,85,86,90,91,92,97,98,99,100,101,102,103,104,105,106,107,108,109,110,111,118,120,122,137,139,141,146,148,149,151,153,158,159,160,161,166,167,168,178,180,183,184,185,190,192,193,194,197,203,204,205,209,210,211,212,213,217,244,247,248,249,250,251,252) have mixed types.Specify dtype option on import or set low_memory=False.\n",
            "  sort=sort,\n",
            "/usr/local/lib/python3.7/dist-packages/pandas/core/reshape/concat.py:304: DtypeWarning: Columns (23,24,48,50,51,82,84,85,86,90,91,92,93,94,96,98,99,100,101,102,103,104,107,108,109,110,111,112,113,114,116,117,118,153,158,159,160,161,166,167,168,169,170,171,172,173,175,176,177,178,180,181,183,184,185,186,190,192,193,194,196,197,203,204,205,209,210,211,212,213,215,217,247,248,250,251) have mixed types.Specify dtype option on import or set low_memory=False.\n",
            "  sort=sort,\n",
            "/usr/local/lib/python3.7/dist-packages/pandas/core/reshape/concat.py:304: DtypeWarning: Columns (23,24,48,50,51,71,73,77,78,79,80,82,84,85,86,90,91,92,93,98,99,100,101,102,103,104,105,107,108,109,110,111,112,113,114,116,117,118,153,158,159,160,161,166,167,168,169,170,171,172,173,176,177,178,180,181,183,184,185,190,192,193,194,197,203,204,205,209,210,211,212,213,215,217,247,248,250,251) have mixed types.Specify dtype option on import or set low_memory=False.\n",
            "  sort=sort,\n",
            "/usr/local/lib/python3.7/dist-packages/pandas/core/reshape/concat.py:304: DtypeWarning: Columns (23,24,48,50,51,82,84,85,86,90,91,92,93,98,99,100,101,102,103,104,105,107,108,109,110,111,118,153,158,159,160,161,166,167,168,178,180,183,184,185,190,192,193,194,203,204,205,209,210,211,212,213,215,217,244,247,248,249,250,251,252) have mixed types.Specify dtype option on import or set low_memory=False.\n",
            "  sort=sort,\n",
            "/usr/local/lib/python3.7/dist-packages/pandas/core/reshape/concat.py:304: DtypeWarning: Columns (23,24,48,50,51,71,73,77,78,79,80,82,84,85,86,87,90,91,92,93,94,96,98,99,100,101,102,103,104,105,107,108,109,110,111,118,166,167,168,172,178,180,181,183,184,185,190,192,193,194,197,203,204,205,209,210,211,212,213,215,217,218,219,247,248,249,250,251) have mixed types.Specify dtype option on import or set low_memory=False.\n",
            "  sort=sort,\n",
            "/usr/local/lib/python3.7/dist-packages/pandas/core/reshape/concat.py:304: DtypeWarning: Columns (23,24,48,50,51,82,84,85,86,87,90,91,92,98,99,100,101,102,103,104,105,107,108,109,110,111,118,153,158,159,160,161,166,167,178,180,190,192,193,194,203,204,205,209,210,211,212,213,215,217,218,219,244,247,248,250,251) have mixed types.Specify dtype option on import or set low_memory=False.\n",
            "  sort=sort,\n",
            "/usr/local/lib/python3.7/dist-packages/pandas/core/reshape/concat.py:304: DtypeWarning: Columns (82,84,85,86,90,91,92,98,99,100,101,102,103,104,105,107,108,109,110,111,153,158,159,160,161,167,168,178,180,183,190,192,193,194,197,203,204,205,209,210,211,212,213,217,218,219,247,250,251) have mixed types.Specify dtype option on import or set low_memory=False.\n",
            "  sort=sort,\n",
            "/usr/local/lib/python3.7/dist-packages/pandas/core/reshape/concat.py:304: DtypeWarning: Columns (23,24,48,50,51,71,73,77,78,79,80,82,84,85,86,90,91,92,98,99,100,101,102,103,104,105,107,108,109,110,111,118,153,158,159,160,161,167,168,178,180,183,184,185,190,192,193,194,197,203,204,205,209,210,211,212,213,217,247,248,249,250,251) have mixed types.Specify dtype option on import or set low_memory=False.\n",
            "  sort=sort,\n",
            "/usr/local/lib/python3.7/dist-packages/pandas/core/reshape/concat.py:304: DtypeWarning: Columns (23,24,48,50,51,71,73,77,78,79,80,82,84,85,86,90,91,92,98,99,100,101,102,103,104,105,107,108,109,110,111,118,153,158,159,160,161,167,168,178,180,183,184,185,190,192,193,194,197,209,210,211,212,213,217,247,248,249,250,251) have mixed types.Specify dtype option on import or set low_memory=False.\n",
            "  sort=sort,\n",
            "/usr/local/lib/python3.7/dist-packages/pandas/core/reshape/concat.py:304: DtypeWarning: Columns (23,24,48,50,51,86,105,118,153,158,159,160,161,166,167,178,180,183,190,192,193,194,197,203,204,205,209,210,211,212,213,217,247,249,250,251) have mixed types.Specify dtype option on import or set low_memory=False.\n",
            "  sort=sort,\n",
            "/usr/local/lib/python3.7/dist-packages/pandas/core/reshape/concat.py:304: DtypeWarning: Columns (23,24,48,50,51,82,84,85,86,90,91,92,98,99,100,101,102,103,104,105,107,108,109,110,111,112,113,114,116,117,118,153,158,159,160,161,166,167,168,169,170,171,172,173,175,176,177,178,180,181,183,184,185,186,190,192,193,194,197,203,204,205,209,210,211,212,213,217,218,219,247,248,249,250,251) have mixed types.Specify dtype option on import or set low_memory=False.\n",
            "  sort=sort,\n",
            "/usr/local/lib/python3.7/dist-packages/pandas/core/reshape/concat.py:304: DtypeWarning: Columns (23,24,48,50,51,71,73,77,78,79,80,82,84,85,86,90,91,92,98,99,100,101,102,103,104,105,107,108,109,110,111,118,153,158,159,160,161,166,167,168,172,178,180,181,183,184,185,192,193,194,197,209,210,211,212,213,217,218,219,247,248,249,250,251) have mixed types.Specify dtype option on import or set low_memory=False.\n",
            "  sort=sort,\n"
          ]
        }
      ]
    },
    {
      "cell_type": "code",
      "source": [
        "drop_cols = []\n",
        "for i in df6.columns:\n",
        "    if len(df6[i].unique())==1:\n",
        "        drop_cols.append(i)\n",
        "print(\"Total columns with only 1 unique value:\", len(drop_cols))\n",
        "df6.drop(drop_cols, 1, inplace=True)\n",
        "\n",
        "print(df6.columns)\n",
        "df6.replace([np.inf, -np.inf], 0, inplace=True)\n",
        "df6.fillna(0, inplace = True)\n",
        "df6.dropna(1,inplace=True)\n",
        "df6.info()"
      ],
      "metadata": {
        "colab": {
          "base_uri": "https://localhost:8080/"
        },
        "id": "OrOt79C8LMKE",
        "outputId": "a5b77118-3315-4e80-c7e4-ab212fa29584"
      },
      "execution_count": null,
      "outputs": [
        {
          "output_type": "stream",
          "name": "stdout",
          "text": [
            "Total columns with only 1 unique value: 83\n"
          ]
        },
        {
          "output_type": "stream",
          "name": "stderr",
          "text": [
            "/usr/local/lib/python3.7/dist-packages/ipykernel_launcher.py:6: FutureWarning: In a future version of pandas all arguments of DataFrame.drop except for the argument 'labels' will be keyword-only\n",
            "  \n"
          ]
        },
        {
          "output_type": "stream",
          "name": "stdout",
          "text": [
            "Index(['frame.len', 'frame.number', 'frame.time', 'frame.time_delta',\n",
            "       'frame.time_delta_displayed', 'frame.time_epoch', 'frame.time_relative',\n",
            "       'radiotap.datarate', 'radiotap.dbm_antsignal', 'radiotap.length',\n",
            "       ...\n",
            "       'tls.alert_message.desc', 'tls.alert_message.level',\n",
            "       'tls.app_data_proto', 'tls.handshake.extension.type',\n",
            "       'tls.handshake.extensions_key_share_group',\n",
            "       'tls.handshake.session_ticket_length', 'tls.handshake.version',\n",
            "       'tls.record.content_type', 'tls.record.version', 'Label'],\n",
            "      dtype='object', length=171)\n"
          ]
        },
        {
          "output_type": "stream",
          "name": "stderr",
          "text": [
            "/usr/local/lib/python3.7/dist-packages/ipykernel_launcher.py:11: FutureWarning: In a future version of pandas all arguments of DataFrame.dropna will be keyword-only\n",
            "  # This is added back by InteractiveShellApp.init_path()\n"
          ]
        },
        {
          "output_type": "stream",
          "name": "stdout",
          "text": [
            "<class 'pandas.core.frame.DataFrame'>\n",
            "RangeIndex: 600000 entries, 0 to 599999\n",
            "Columns: 171 entries, frame.len to Label\n",
            "dtypes: float64(34), int64(18), object(119)\n",
            "memory usage: 782.8+ MB\n"
          ]
        }
      ]
    },
    {
      "cell_type": "code",
      "source": [
        "#much better than this is to put all the desired csv files in this case from 21 to 32 in one folder and use GLOB to put them in one df\n",
        "df7 = pd.concat(\n",
        "    map(pd.read_csv,[\"/content/drive/MyDrive/AWID3_Dataset_CSV/CSV/11.SSDP/SSDP_89.csv\",\"/content/drive/MyDrive/AWID3_Dataset_CSV/CSV/11.SSDP/SSDP_90.csv\",\"/content/drive/MyDrive/AWID3_Dataset_CSV/CSV/11.SSDP/SSDP_91.csv\",\"/content/drive/MyDrive/AWID3_Dataset_CSV/CSV/11.SSDP/SSDP_92.csv\",\"/content/drive/MyDrive/AWID3_Dataset_CSV/CSV/11.SSDP/SSDP_93.csv\",\"/content/drive/MyDrive/AWID3_Dataset_CSV/CSV/11.SSDP/SSDP_94.csv\",\"/content/drive/MyDrive/AWID3_Dataset_CSV/CSV/11.SSDP/SSDP_95.csv\",\"/content/drive/MyDrive/AWID3_Dataset_CSV/CSV/11.SSDP/SSDP_96.csv\",\"/content/drive/MyDrive/AWID3_Dataset_CSV/CSV/11.SSDP/SSDP_97.csv\",\"/content/drive/MyDrive/AWID3_Dataset_CSV/CSV/11.SSDP/SSDP_98.csv\",\"/content/drive/MyDrive/AWID3_Dataset_CSV/CSV/11.SSDP/SSDP_99.csv\",\"/content/drive/MyDrive/AWID3_Dataset_CSV/CSV/11.SSDP/SSDP_100.csv\"]), ignore_index=True)"
      ],
      "metadata": {
        "colab": {
          "base_uri": "https://localhost:8080/"
        },
        "id": "nPBWbDKbLfn9",
        "outputId": "c6645f65-c1f9-46ad-abc7-cb0766616042"
      },
      "execution_count": null,
      "outputs": [
        {
          "output_type": "stream",
          "name": "stderr",
          "text": [
            "/usr/local/lib/python3.7/dist-packages/pandas/core/reshape/concat.py:304: DtypeWarning: Columns (23,24,48,50,51,71,73,77,78,79,80,86,118,153,158,159,160,161,166,167,168,172,178,180,181,183,184,185,190,192,193,194,197,203,204,205,209,210,211,212,213,217,218,219,251) have mixed types.Specify dtype option on import or set low_memory=False.\n",
            "  sort=sort,\n",
            "/usr/local/lib/python3.7/dist-packages/pandas/core/reshape/concat.py:304: DtypeWarning: Columns (23,24,48,50,51,82,84,85,86,90,91,92,98,99,100,101,102,103,104,105,107,108,109,110,111,166,167,168,172,178,180,181,183,184,185,194,247,248,249,250,251) have mixed types.Specify dtype option on import or set low_memory=False.\n",
            "  sort=sort,\n",
            "/usr/local/lib/python3.7/dist-packages/pandas/core/reshape/concat.py:304: DtypeWarning: Columns (23,24,48,50,51,71,73,77,78,79,80,82,84,85,86,90,91,92,93,98,99,100,101,102,103,104,105,107,108,109,110,111,166,167,168,178,180,183,184,185,190,192,193,194,197,203,204,205,209,210,211,212,213,218,247,248,249,250,251) have mixed types.Specify dtype option on import or set low_memory=False.\n",
            "  sort=sort,\n",
            "/usr/local/lib/python3.7/dist-packages/pandas/core/reshape/concat.py:304: DtypeWarning: Columns (23,24,48,50,51,71,73,77,78,79,80,82,84,85,86,90,91,92,98,99,100,101,102,103,104,105,107,108,109,110,111,153,158,159,160,161,166,167,168,178,180,183,184,185,190,203,204,205,247,248,249,250,251) have mixed types.Specify dtype option on import or set low_memory=False.\n",
            "  sort=sort,\n",
            "/usr/local/lib/python3.7/dist-packages/pandas/core/reshape/concat.py:304: DtypeWarning: Columns (23,24,48,50,51,86,105,118,166,167,168,178,180,183,184,185,190,192,193,194,196,197,203,204,205,209,210,211,212,213,215,217,247,248,249,250,251) have mixed types.Specify dtype option on import or set low_memory=False.\n",
            "  sort=sort,\n",
            "/usr/local/lib/python3.7/dist-packages/pandas/core/reshape/concat.py:304: DtypeWarning: Columns (23,24,48,50,51,71,73,77,78,79,80,82,84,85,86,90,91,92,93,98,99,100,101,102,103,104,105,107,108,109,110,111,112,113,114,116,117,118,153,158,159,160,161,166,167,168,169,170,171,172,173,176,177,178,180,181,183,184,185,186,247,248,250,251) have mixed types.Specify dtype option on import or set low_memory=False.\n",
            "  sort=sort,\n",
            "/usr/local/lib/python3.7/dist-packages/pandas/core/reshape/concat.py:304: DtypeWarning: Columns (23,24,48,50,51,71,73,77,78,79,80,82,84,85,86,90,91,92,93,98,99,100,101,102,103,104,105,107,108,109,110,111,118,166,167,168,178,180,183,184,185,190,192,193,194,203,204,205,209,210,211,212,213,215,217,247,248,250,251) have mixed types.Specify dtype option on import or set low_memory=False.\n",
            "  sort=sort,\n",
            "/usr/local/lib/python3.7/dist-packages/pandas/core/reshape/concat.py:304: DtypeWarning: Columns (23,24,48,50,51,71,73,77,78,79,80,82,84,85,86,90,91,92,98,99,100,101,102,103,104,105,107,108,109,110,111,118,153,158,159,160,161,166,167,168,178,180,183,184,185,197,217,219,247,248,250,251) have mixed types.Specify dtype option on import or set low_memory=False.\n",
            "  sort=sort,\n",
            "/usr/local/lib/python3.7/dist-packages/pandas/core/reshape/concat.py:304: DtypeWarning: Columns (23,24,48,50,51,71,73,77,78,79,80,82,84,85,86,90,91,92,98,99,100,101,102,103,104,105,107,108,109,110,111,118,166,167,168,172,178,180,181,183,184,185,190,192,209,210,211,212,217,218,219,247,248,250,251) have mixed types.Specify dtype option on import or set low_memory=False.\n",
            "  sort=sort,\n",
            "/usr/local/lib/python3.7/dist-packages/pandas/core/reshape/concat.py:304: DtypeWarning: Columns (23,24,48,50,51,82,84,85,86,90,91,92,98,99,100,101,102,103,104,105,107,108,109,110,111,118,153,158,159,160,161,167,168,178,180,183,184,185,190,192,193,194,196,203,204,205,209,210,211,212,213,215,217,247,248,249,250,251) have mixed types.Specify dtype option on import or set low_memory=False.\n",
            "  sort=sort,\n",
            "/usr/local/lib/python3.7/dist-packages/pandas/core/reshape/concat.py:304: DtypeWarning: Columns (23,24,48,50,51,71,73,77,78,79,80,86,105,118,153,158,159,160,161,167,168,178,180,183,184,185,190,192,193,194,197,203,204,205,209,210,211,212,213,215,217,218,219,247,248,249,250,251) have mixed types.Specify dtype option on import or set low_memory=False.\n",
            "  sort=sort,\n",
            "/usr/local/lib/python3.7/dist-packages/pandas/core/reshape/concat.py:304: DtypeWarning: Columns (23,24,48,50,51,71,73,77,78,79,80,86,105,118,153,158,159,160,161,166,167,168,178,180,183,184,185,190,192,193,194,203,204,205,209,210,211,212,213,215,217,218,219,247,248,249,250,251) have mixed types.Specify dtype option on import or set low_memory=False.\n",
            "  sort=sort,\n"
          ]
        }
      ]
    },
    {
      "cell_type": "code",
      "source": [
        "drop_cols = []\n",
        "for i in df7.columns:\n",
        "    if len(df7[i].unique())==1:\n",
        "        drop_cols.append(i)\n",
        "print(\"Total columns with only 1 unique value:\", len(drop_cols))\n",
        "df7.drop(drop_cols, 1, inplace=True)\n",
        "\n",
        "print(df7.columns)\n",
        "df7.replace([np.inf, -np.inf], 0, inplace=True)\n",
        "df7.fillna(0, inplace = True)\n",
        "df7.dropna(1,inplace=True)\n",
        "df7.info()"
      ],
      "metadata": {
        "colab": {
          "base_uri": "https://localhost:8080/"
        },
        "id": "sLh0VZCOL5vm",
        "outputId": "a2fac9da-99e8-4d43-8396-2487e431ab9e"
      },
      "execution_count": null,
      "outputs": [
        {
          "output_type": "stream",
          "name": "stdout",
          "text": [
            "Total columns with only 1 unique value: 98\n"
          ]
        },
        {
          "output_type": "stream",
          "name": "stderr",
          "text": [
            "/usr/local/lib/python3.7/dist-packages/ipykernel_launcher.py:6: FutureWarning: In a future version of pandas all arguments of DataFrame.drop except for the argument 'labels' will be keyword-only\n",
            "  \n"
          ]
        },
        {
          "output_type": "stream",
          "name": "stdout",
          "text": [
            "Index(['frame.len', 'frame.number', 'frame.time', 'frame.time_delta',\n",
            "       'frame.time_delta_displayed', 'frame.time_epoch', 'frame.time_relative',\n",
            "       'radiotap.datarate', 'radiotap.dbm_antsignal', 'radiotap.length',\n",
            "       ...\n",
            "       'tls.alert_message.desc', 'tls.alert_message.level',\n",
            "       'tls.app_data_proto', 'tls.handshake.extension.type',\n",
            "       'tls.handshake.extensions_key_share_group',\n",
            "       'tls.handshake.session_ticket_length', 'tls.handshake.version',\n",
            "       'tls.record.content_type', 'tls.record.version', 'Label'],\n",
            "      dtype='object', length=156)\n"
          ]
        },
        {
          "output_type": "stream",
          "name": "stderr",
          "text": [
            "/usr/local/lib/python3.7/dist-packages/ipykernel_launcher.py:11: FutureWarning: In a future version of pandas all arguments of DataFrame.dropna will be keyword-only\n",
            "  # This is added back by InteractiveShellApp.init_path()\n"
          ]
        },
        {
          "output_type": "stream",
          "name": "stdout",
          "text": [
            "<class 'pandas.core.frame.DataFrame'>\n",
            "RangeIndex: 600000 entries, 0 to 599999\n",
            "Columns: 156 entries, frame.len to Label\n",
            "dtypes: float64(32), int64(18), object(106)\n",
            "memory usage: 714.1+ MB\n"
          ]
        }
      ]
    },
    {
      "cell_type": "code",
      "source": [
        "df=pd.concat([df1, df2, df3], axis=0, ignore_index=True)"
      ],
      "metadata": {
        "id": "GkTXVkNE-0_v"
      },
      "execution_count": null,
      "outputs": []
    },
    {
      "cell_type": "code",
      "source": [
        "df.info()"
      ],
      "metadata": {
        "colab": {
          "base_uri": "https://localhost:8080/"
        },
        "id": "TIfi1aSt_1Zc",
        "outputId": "a9a410e4-59d8-4d69-d5c2-8c45eb4a6c05"
      },
      "execution_count": null,
      "outputs": [
        {
          "output_type": "stream",
          "name": "stdout",
          "text": [
            "<class 'pandas.core.frame.DataFrame'>\n",
            "RangeIndex: 1500130 entries, 0 to 1500129\n",
            "Columns: 186 entries, frame.encap_type to tcp.analysis.reused_ports\n",
            "dtypes: float64(59), object(127)\n",
            "memory usage: 2.1+ GB\n"
          ]
        }
      ]
    },
    {
      "cell_type": "code",
      "source": [
        "df.dropna(1, how = 'all', inplace=True)"
      ],
      "metadata": {
        "colab": {
          "base_uri": "https://localhost:8080/"
        },
        "id": "VtiN1ZMlxJHA",
        "outputId": "50db3b2e-564d-42e4-c47d-768ad3ca691b"
      },
      "execution_count": null,
      "outputs": [
        {
          "output_type": "stream",
          "name": "stderr",
          "text": [
            "/usr/local/lib/python3.7/dist-packages/ipykernel_launcher.py:1: FutureWarning: In a future version of pandas all arguments of DataFrame.dropna will be keyword-only\n",
            "  \"\"\"Entry point for launching an IPython kernel.\n"
          ]
        }
      ]
    },
    {
      "cell_type": "code",
      "source": [
        "df.info()"
      ],
      "metadata": {
        "colab": {
          "base_uri": "https://localhost:8080/"
        },
        "id": "Av6JQzbTxh0j",
        "outputId": "4d33c5b0-0398-4b12-aad6-17b27c5678a1"
      },
      "execution_count": null,
      "outputs": [
        {
          "output_type": "stream",
          "name": "stdout",
          "text": [
            "<class 'pandas.core.frame.DataFrame'>\n",
            "RangeIndex: 1500130 entries, 0 to 1500129\n",
            "Columns: 186 entries, frame.encap_type to tcp.analysis.reused_ports\n",
            "dtypes: float64(59), object(127)\n",
            "memory usage: 2.1+ GB\n"
          ]
        }
      ]
    },
    {
      "cell_type": "code",
      "source": [
        " df.replace([np.inf, -np.inf], 0, inplace=True)\n",
        " df.fillna(0, inplace = True)\n",
        " "
      ],
      "metadata": {
        "id": "TJNkWlRvzNgy"
      },
      "execution_count": null,
      "outputs": []
    },
    {
      "cell_type": "code",
      "source": [
        "df = df[df.Label != 0]\n",
        "#to remove labels that had NaN value which was replaced by zero above."
      ],
      "metadata": {
        "id": "lTrkwaVR0xnC"
      },
      "execution_count": null,
      "outputs": []
    },
    {
      "cell_type": "code",
      "source": [
        "#Split dataset on train and test\n",
        "from sklearn.model_selection import train_test_split\n",
        "train, test=train_test_split(df,test_size=0.3, random_state=10)\n",
        "\n",
        "#Exploratory Analysis\n",
        "# Descriptive statistics\n",
        "train.describe()\n",
        "test.describe()\n",
        "train['Label'].value_counts()\n",
        "test['Label'].value_counts()"
      ],
      "metadata": {
        "colab": {
          "base_uri": "https://localhost:8080/"
        },
        "id": "4ih8U2Fu_4hi",
        "outputId": "3f969fad-6e00-45d2-feaa-3994c229bb29"
      },
      "execution_count": null,
      "outputs": [
        {
          "output_type": "execute_result",
          "data": {
            "text/plain": [
              "SSDP      302968\n",
              "Normal    146990\n",
              "Name: Label, dtype: int64"
            ]
          },
          "metadata": {},
          "execution_count": 18
        }
      ]
    },
    {
      "cell_type": "code",
      "source": [
        "#Scalling numerical attributes\n",
        "from sklearn.preprocessing import StandardScaler\n",
        "scaler = StandardScaler()\n",
        "\n",
        "# extract numerical attributes and scale it to have zero mean and unit variance  \n",
        "cols = train.select_dtypes(include=['float64','int64']).columns\n",
        "sc_train = scaler.fit_transform(train.select_dtypes(include=['float64','int64']))\n",
        "sc_test = scaler.fit_transform(test.select_dtypes(include=['float64','int64']))\n",
        "\n",
        "# turn the result back to a dataframe\n",
        "sc_traindf = pd.DataFrame(sc_train, columns = cols)\n",
        "sc_testdf = pd.DataFrame(sc_test, columns = cols)"
      ],
      "metadata": {
        "id": "zNOOQIu-_9tT"
      },
      "execution_count": null,
      "outputs": []
    },
    {
      "cell_type": "code",
      "source": [
        "from sklearn.preprocessing import OneHotEncoder \n",
        "\n",
        "#creating one hot encoder object \n",
        "onehotencoder = OneHotEncoder() \n",
        "\n",
        "trainDep = train['Label'].values.reshape(-1,1)\n",
        "trainDep = onehotencoder.fit_transform(trainDep).toarray()\n",
        "testDep = test['Label'].values.reshape(-1,1)\n",
        "testDep = onehotencoder.fit_transform(testDep).toarray()"
      ],
      "metadata": {
        "id": "OUrygBlVAEOR"
      },
      "execution_count": null,
      "outputs": []
    },
    {
      "cell_type": "code",
      "source": [
        "train_X=sc_traindf\n",
        "train_y=trainDep[:,0]\n",
        "\n",
        "test_X=sc_testdf\n",
        "test_y=testDep[:,0]"
      ],
      "metadata": {
        "id": "wBKLI2cHAHej"
      },
      "execution_count": null,
      "outputs": []
    },
    {
      "cell_type": "code",
      "source": [
        "from sklearn.decomposition import PCA\n",
        "\n",
        "pca = PCA()\n",
        "pca.fit(train_X)\n",
        "\n",
        "plt.plot(pca.explained_variance_ratio_.cumsum(), lw=3, color='#800080')\n",
        "plt.title('Cumulative variance', size=20)\n",
        "plt.show()"
      ],
      "metadata": {
        "colab": {
          "base_uri": "https://localhost:8080/",
          "height": 286
        },
        "id": "3L--FNjoEDEY",
        "outputId": "eb6ca9e1-6b60-4ece-fc74-a698a0d42f43"
      },
      "execution_count": null,
      "outputs": [
        {
          "output_type": "display_data",
          "data": {
            "text/plain": [
              "<Figure size 432x288 with 1 Axes>"
            ],
            "image/png": "[encoded data removed]"
          },
          "metadata": {
            "needs_background": "light"
          }
        }
      ]
    },
    {
      "cell_type": "code",
      "source": [
        "Loads = pd.DataFrame(\n",
        "    data=pca.components_.T * np.sqrt(pca.explained_variance_), \n",
        "    columns=[f'PC{i}' for i in range(1, len(train_X.columns) + 1)],\n",
        "    index=train_X.columns\n",
        ")\n",
        "Loads.head()"
      ],
      "metadata": {
        "colab": {
          "base_uri": "https://localhost:8080/",
          "height": 369
        },
        "id": "b_-C7cR2EKcb",
        "outputId": "652de847-bdaf-4138-a927-aa20081b842e"
      },
      "execution_count": null,
      "outputs": [
        {
          "output_type": "execute_result",
          "data": {
            "text/plain": [
              "                                 PC1       PC2       PC3       PC4       PC5  \\\n",
              "frame.encap_type            0.578801 -0.764988 -0.045251 -0.000898 -0.126671   \n",
              "frame.len                  -0.175662 -0.422687  0.123379  0.002097  0.577365   \n",
              "frame.number               -0.649721  0.697094  0.031466 -0.000175  0.044554   \n",
              "frame.time_delta            0.154402 -0.010671  0.177144  0.004431  0.161815   \n",
              "frame.time_delta_displayed  0.154402 -0.010671  0.177144  0.004431  0.161815   \n",
              "\n",
              "                                 PC6       PC7       PC8       PC9      PC10  \\\n",
              "frame.encap_type           -0.019406 -0.032558  0.067927  0.015527  0.000182   \n",
              "frame.len                   0.010360  0.032284 -0.409344 -0.096034 -0.045109   \n",
              "frame.number                0.008045  0.005923 -0.016176 -0.001637 -0.001034   \n",
              "frame.time_delta           -0.008200  0.941715  0.160795 -0.015979  0.006375   \n",
              "frame.time_delta_displayed -0.008200  0.941715  0.160795 -0.015979  0.006375   \n",
              "\n",
              "                            ...          PC50          PC51          PC52  \\\n",
              "frame.encap_type            ... -0.000000e+00 -0.000000e+00 -0.000000e+00   \n",
              "frame.len                   ...  5.450408e-33 -1.822446e-32 -1.675082e-32   \n",
              "frame.number                ...  3.835872e-32  5.993968e-33  2.284570e-32   \n",
              "frame.time_delta            ... -1.607315e-17  1.138038e-17 -9.590296e-18   \n",
              "frame.time_delta_displayed  ...  1.607315e-17 -1.138038e-17  9.590296e-18   \n",
              "\n",
              "                                    PC53          PC54          PC55  \\\n",
              "frame.encap_type           -0.000000e+00  0.000000e+00  0.000000e+00   \n",
              "frame.len                  -4.447484e-32 -4.377499e-32 -7.592863e-34   \n",
              "frame.number               -2.581538e-32 -2.437075e-32  1.076638e-33   \n",
              "frame.time_delta            4.665757e-17 -3.480987e-17  8.927612e-33   \n",
              "frame.time_delta_displayed -4.665757e-17  3.480987e-17 -8.959774e-33   \n",
              "\n",
              "                                    PC56          PC57          PC58  \\\n",
              "frame.encap_type           -0.000000e+00  0.000000e+00  0.000000e+00   \n",
              "frame.len                  -1.545012e-33 -2.050241e-33 -1.810702e-32   \n",
              "frame.number                6.174520e-34  1.090418e-33  1.208291e-32   \n",
              "frame.time_delta           -2.183722e-32  1.880811e-31 -1.015237e-17   \n",
              "frame.time_delta_displayed  2.166661e-32 -1.881712e-31  1.015237e-17   \n",
              "\n",
              "                                    PC59  \n",
              "frame.encap_type            0.000000e+00  \n",
              "frame.len                   2.982154e-34  \n",
              "frame.number               -1.700269e-32  \n",
              "frame.time_delta           -2.389437e-18  \n",
              "frame.time_delta_displayed  2.389437e-18  \n",
              "\n",
              "[5 rows x 59 columns]"
            ],
            "text/html": [
              "\n",
              "  <div id=\"df-3bfe5d58-115b-49a8-a540-cd8ddb6390de\">\n",
              "    <div class=\"colab-df-container\">\n",
              "      <div>\n",
              "<style scoped>\n",
              "    .dataframe tbody tr th:only-of-type {\n",
              "        vertical-align: middle;\n",
              "    }\n",
              "\n",
              "    .dataframe tbody tr th {\n",
              "        vertical-align: top;\n",
              "    }\n",
              "\n",
              "    .dataframe thead th {\n",
              "        text-align: right;\n",
              "    }\n",
              "</style>\n",
              "<table border=\"1\" class=\"dataframe\">\n",
              "  <thead>\n",
              "    <tr style=\"text-align: right;\">\n",
              "      <th></th>\n",
              "      <th>PC1</th>\n",
              "      <th>PC2</th>\n",
              "      <th>PC3</th>\n",
              "      <th>PC4</th>\n",
              "      <th>PC5</th>\n",
              "      <th>PC6</th>\n",
              "      <th>PC7</th>\n",
              "      <th>PC8</th>\n",
              "      <th>PC9</th>\n",
              "      <th>PC10</th>\n",
              "      <th>...</th>\n",
              "      <th>PC50</th>\n",
              "      <th>PC51</th>\n",
              "      <th>PC52</th>\n",
              "      <th>PC53</th>\n",
              "      <th>PC54</th>\n",
              "      <th>PC55</th>\n",
              "      <th>PC56</th>\n",
              "      <th>PC57</th>\n",
              "      <th>PC58</th>\n",
              "      <th>PC59</th>\n",
              "    </tr>\n",
              "  </thead>\n",
              "  <tbody>\n",
              "    <tr>\n",
              "      <th>frame.encap_type</th>\n",
              "      <td>0.578801</td>\n",
              "      <td>-0.764988</td>\n",
              "      <td>-0.045251</td>\n",
              "      <td>-0.000898</td>\n",
              "      <td>-0.126671</td>\n",
              "      <td>-0.019406</td>\n",
              "      <td>-0.032558</td>\n",
              "      <td>0.067927</td>\n",
              "      <td>0.015527</td>\n",
              "      <td>0.000182</td>\n",
              "      <td>...</td>\n",
              "      <td>-0.000000e+00</td>\n",
              "      <td>-0.000000e+00</td>\n",
              "      <td>-0.000000e+00</td>\n",
              "      <td>-0.000000e+00</td>\n",
              "      <td>0.000000e+00</td>\n",
              "      <td>0.000000e+00</td>\n",
              "      <td>-0.000000e+00</td>\n",
              "      <td>0.000000e+00</td>\n",
              "      <td>0.000000e+00</td>\n",
              "      <td>0.000000e+00</td>\n",
              "    </tr>\n",
              "    <tr>\n",
              "      <th>frame.len</th>\n",
              "      <td>-0.175662</td>\n",
              "      <td>-0.422687</td>\n",
              "      <td>0.123379</td>\n",
              "      <td>0.002097</td>\n",
              "      <td>0.577365</td>\n",
              "      <td>0.010360</td>\n",
              "      <td>0.032284</td>\n",
              "      <td>-0.409344</td>\n",
              "      <td>-0.096034</td>\n",
              "      <td>-0.045109</td>\n",
              "      <td>...</td>\n",
              "      <td>5.450408e-33</td>\n",
              "      <td>-1.822446e-32</td>\n",
              "      <td>-1.675082e-32</td>\n",
              "      <td>-4.447484e-32</td>\n",
              "      <td>-4.377499e-32</td>\n",
              "      <td>-7.592863e-34</td>\n",
              "      <td>-1.545012e-33</td>\n",
              "      <td>-2.050241e-33</td>\n",
              "      <td>-1.810702e-32</td>\n",
              "      <td>2.982154e-34</td>\n",
              "    </tr>\n",
              "    <tr>\n",
              "      <th>frame.number</th>\n",
              "      <td>-0.649721</td>\n",
              "      <td>0.697094</td>\n",
              "      <td>0.031466</td>\n",
              "      <td>-0.000175</td>\n",
              "      <td>0.044554</td>\n",
              "      <td>0.008045</td>\n",
              "      <td>0.005923</td>\n",
              "      <td>-0.016176</td>\n",
              "      <td>-0.001637</td>\n",
              "      <td>-0.001034</td>\n",
              "      <td>...</td>\n",
              "      <td>3.835872e-32</td>\n",
              "      <td>5.993968e-33</td>\n",
              "      <td>2.284570e-32</td>\n",
              "      <td>-2.581538e-32</td>\n",
              "      <td>-2.437075e-32</td>\n",
              "      <td>1.076638e-33</td>\n",
              "      <td>6.174520e-34</td>\n",
              "      <td>1.090418e-33</td>\n",
              "      <td>1.208291e-32</td>\n",
              "      <td>-1.700269e-32</td>\n",
              "    </tr>\n",
              "    <tr>\n",
              "      <th>frame.time_delta</th>\n",
              "      <td>0.154402</td>\n",
              "      <td>-0.010671</td>\n",
              "      <td>0.177144</td>\n",
              "      <td>0.004431</td>\n",
              "      <td>0.161815</td>\n",
              "      <td>-0.008200</td>\n",
              "      <td>0.941715</td>\n",
              "      <td>0.160795</td>\n",
              "      <td>-0.015979</td>\n",
              "      <td>0.006375</td>\n",
              "      <td>...</td>\n",
              "      <td>-1.607315e-17</td>\n",
              "      <td>1.138038e-17</td>\n",
              "      <td>-9.590296e-18</td>\n",
              "      <td>4.665757e-17</td>\n",
              "      <td>-3.480987e-17</td>\n",
              "      <td>8.927612e-33</td>\n",
              "      <td>-2.183722e-32</td>\n",
              "      <td>1.880811e-31</td>\n",
              "      <td>-1.015237e-17</td>\n",
              "      <td>-2.389437e-18</td>\n",
              "    </tr>\n",
              "    <tr>\n",
              "      <th>frame.time_delta_displayed</th>\n",
              "      <td>0.154402</td>\n",
              "      <td>-0.010671</td>\n",
              "      <td>0.177144</td>\n",
              "      <td>0.004431</td>\n",
              "      <td>0.161815</td>\n",
              "      <td>-0.008200</td>\n",
              "      <td>0.941715</td>\n",
              "      <td>0.160795</td>\n",
              "      <td>-0.015979</td>\n",
              "      <td>0.006375</td>\n",
              "      <td>...</td>\n",
              "      <td>1.607315e-17</td>\n",
              "      <td>-1.138038e-17</td>\n",
              "      <td>9.590296e-18</td>\n",
              "      <td>-4.665757e-17</td>\n",
              "      <td>3.480987e-17</td>\n",
              "      <td>-8.959774e-33</td>\n",
              "      <td>2.166661e-32</td>\n",
              "      <td>-1.881712e-31</td>\n",
              "      <td>1.015237e-17</td>\n",
              "      <td>2.389437e-18</td>\n",
              "    </tr>\n",
              "  </tbody>\n",
              "</table>\n",
              "<p>5 rows × 59 columns</p>\n",
              "</div>\n",
              "      <button class=\"colab-df-convert\" onclick=\"convertToInteractive('df-3bfe5d58-115b-49a8-a540-cd8ddb6390de')\"\n",
              "              title=\"Convert this dataframe to an interactive table.\"\n",
              "              style=\"display:none;\">\n",
              "        \n",
              "  <svg xmlns=\"http://www.w3.org/2000/svg\" height=\"24px\"viewBox=\"0 0 24 24\"\n",
              "       width=\"24px\">\n",
              "    <path d=\"M0 0h24v24H0V0z\" fill=\"none\"/>\n",
              "    <path d=\"M18.56 5.44l.94 2.06.94-2.06 2.06-.94-2.06-.94-.94-2.06-.94 2.06-2.06.94zm-11 1L8.5 8.5l.94-2.06 2.06-.94-2.06-.94L8.5 2.5l-.94 2.06-2.06.94zm10 10l.94 2.06.94-2.06 2.06-.94-2.06-.94-.94-2.06-.94 2.06-2.06.94z\"/><path d=\"M17.41 7.96l-1.37-1.37c-.4-.4-.92-.59-1.43-.59-.52 0-1.04.2-1.43.59L10.3 9.45l-7.72 7.72c-.78.78-.78 2.05 0 2.83L4 21.41c.39.39.9.59 1.41.59.51 0 1.02-.2 1.41-.59l7.78-7.78 2.81-2.81c.8-.78.8-2.07 0-2.86zM5.41 20L4 18.59l7.72-7.72 1.47 1.35L5.41 20z\"/>\n",
              "  </svg>\n",
              "      </button>\n",
              "      \n",
              "  <style>\n",
              "    .colab-df-container {\n",
              "      display:flex;\n",
              "      flex-wrap:wrap;\n",
              "      gap: 12px;\n",
              "    }\n",
              "\n",
              "    .colab-df-convert {\n",
              "      background-color: #E8F0FE;\n",
              "      border: none;\n",
              "      border-radius: 50%;\n",
              "      cursor: pointer;\n",
              "      display: none;\n",
              "      fill: #1967D2;\n",
              "      height: 32px;\n",
              "      padding: 0 0 0 0;\n",
              "      width: 32px;\n",
              "    }\n",
              "\n",
              "    .colab-df-convert:hover {\n",
              "      background-color: #E2EBFA;\n",
              "      box-shadow: 0px 1px 2px rgba(60, 64, 67, 0.3), 0px 1px 3px 1px rgba(60, 64, 67, 0.15);\n",
              "      fill: #174EA6;\n",
              "    }\n",
              "\n",
              "    [theme=dark] .colab-df-convert {\n",
              "      background-color: #3B4455;\n",
              "      fill: #D2E3FC;\n",
              "    }\n",
              "\n",
              "    [theme=dark] .colab-df-convert:hover {\n",
              "      background-color: #434B5C;\n",
              "      box-shadow: 0px 1px 3px 1px rgba(0, 0, 0, 0.15);\n",
              "      filter: drop-shadow(0px 1px 2px rgba(0, 0, 0, 0.3));\n",
              "      fill: #FFFFFF;\n",
              "    }\n",
              "  </style>\n",
              "\n",
              "      <script>\n",
              "        const buttonEl =\n",
              "          document.querySelector('#df-3bfe5d58-115b-49a8-a540-cd8ddb6390de button.colab-df-convert');\n",
              "        buttonEl.style.display =\n",
              "          google.colab.kernel.accessAllowed ? 'block' : 'none';\n",
              "\n",
              "        async function convertToInteractive(key) {\n",
              "          const element = document.querySelector('#df-3bfe5d58-115b-49a8-a540-cd8ddb6390de');\n",
              "          const dataTable =\n",
              "            await google.colab.kernel.invokeFunction('convertToInteractive',\n",
              "                                                     [key], {});\n",
              "          if (!dataTable) return;\n",
              "\n",
              "          const docLinkHtml = 'Like what you see? Visit the ' +\n",
              "            '<a target=\"_blank\" href=https://colab.research.google.com/notebooks/data_table.ipynb>data table notebook</a>'\n",
              "            + ' to learn more about interactive tables.';\n",
              "          element.innerHTML = '';\n",
              "          dataTable['output_type'] = 'display_data';\n",
              "          await google.colab.output.renderOutput(dataTable, element);\n",
              "          const docLink = document.createElement('div');\n",
              "          docLink.innerHTML = docLinkHtml;\n",
              "          element.appendChild(docLink);\n",
              "        }\n",
              "      </script>\n",
              "    </div>\n",
              "  </div>\n",
              "  "
            ]
          },
          "metadata": {},
          "execution_count": 23
        }
      ]
    },
    {
      "cell_type": "code",
      "source": [
        "pc1_Loads = Loads.sort_values(by='PC1', ascending=False)[['PC1']]\n",
        "pc1_Loads = pc1_Loads.reset_index()\n",
        "pc1_Loads.columns = ['Feature', 'CorrelationtoPC1']\n",
        "plt.rcParams[\"figure.figsize\"] = (15,8)\n",
        "plt.bar(x=pc1_Loads['Feature'], height=pc1_Loads['CorrelationtoPC1'], color='#800080')\n",
        "plt.title('PCA scores', size=20)\n",
        "plt.xticks(rotation='vertical')\n",
        "plt.show()"
      ],
      "metadata": {
        "colab": {
          "base_uri": "https://localhost:8080/",
          "height": 817
        },
        "id": "zN00MA7rEOoA",
        "outputId": "2712dd20-cea4-4a2f-ad04-1eed6d3428ca"
      },
      "execution_count": null,
      "outputs": [
        {
          "output_type": "display_data",
          "data": {
            "text/plain": [
              "<Figure size 1080x576 with 1 Axes>"
            ],
            "image/png": "[encoded data removed]"
          },
          "metadata": {
            "needs_background": "light"
          }
        }
      ]
    }
  ]
}