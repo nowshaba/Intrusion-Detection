{
  "nbformat": 4,
  "nbformat_minor": 0,
  "metadata": {
    "colab": {
      "name": "Botnet.ipynb",
      "provenance": [],
      "authorship_tag": "ABX9TyNG50wDMYwWank/3Y4GigHu",
      "include_colab_link": true
    },
    "kernelspec": {
      "name": "python3",
      "display_name": "Python 3"
    },
    "language_info": {
      "name": "python"
    },
    "accelerator": "GPU",
    "gpuClass": "standard"
  },
  "cells": [
    {
      "cell_type": "markdown",
      "metadata": {
        "id": "view-in-github",
        "colab_type": "text"
      },
      "source": [
        "<a href=\"https://colab.research.google.com/github/nowshaba/Intrusion-Detection/blob/main/Botnet.ipynb\" target=\"_parent\"><img src=\"https://colab.research.google.com/assets/colab-badge.svg\" alt=\"Open In Colab\"/></a>"
      ]
    },
    {
      "cell_type": "code",
      "execution_count": null,
      "metadata": {
        "id": "9CL1iwMd_Gk2"
      },
      "outputs": [],
      "source": [
        "\n",
        "import numpy as np\n",
        "import pandas as pd \n",
        "import matplotlib.pyplot as plt\n",
        "import seaborn as sns\n",
        "import imblearn\n",
        "import sklearn.metrics as m\n",
        "import keras\n",
        "import tensorflow as tf\n",
        "import sklearn\n",
        "import tensorboard"
      ]
    },
    {
      "cell_type": "code",
      "source": [
        "from google.colab import drive\n",
        "drive.mount('/content/drive/')"
      ],
      "metadata": {
        "colab": {
          "base_uri": "https://localhost:8080/"
        },
        "id": "GDEbhiFr_igI",
        "outputId": "a502a15a-9790-4a1c-ed07-0669cf522bfb"
      },
      "execution_count": null,
      "outputs": [
        {
          "output_type": "stream",
          "name": "stdout",
          "text": [
            "Mounted at /content/drive/\n"
          ]
        }
      ]
    },
    {
      "cell_type": "code",
      "source": [
        "#Avoid warnings\n",
        "import warnings\n",
        "warnings.filterwarnings('ignore')\n",
        "#Settings\n",
        "pd.set_option('display.max_columns', None)\n",
        "pd.set_option('display.max_rows', None)\n",
        "\n",
        "#Import  Data\n",
        "j=0\n",
        "n=0\n",
        "#to check whih files have both attack and normal labels\n",
        "for j in range(0,65):\n",
        "  df3=pd.read_csv(\"/content/drive/MyDrive/AWID3_Dataset_CSV/CSV/8.Botnet/Botnet_\"+str(j)+\".csv\")\n",
        "  j+1\n",
        "  for i in df3['Label']:\n",
        "    if (i=='Botnet'):\n",
        "      n=1\n",
        "  if (n==1):\n",
        "    print(\"n is\",n, \"and j is\",j)"
      ],
      "metadata": {
        "colab": {
          "base_uri": "https://localhost:8080/"
        },
        "id": "PN-HMFQA_lWv",
        "outputId": "20584b21-189e-4082-a50d-e22bc1497d17"
      },
      "execution_count": null,
      "outputs": [
        {
          "output_type": "stream",
          "name": "stdout",
          "text": [
            "n is 1 and j is 20\n",
            "n is 1 and j is 21\n",
            "n is 1 and j is 22\n",
            "n is 1 and j is 23\n",
            "n is 1 and j is 24\n",
            "n is 1 and j is 25\n",
            "n is 1 and j is 26\n",
            "n is 1 and j is 27\n",
            "n is 1 and j is 28\n",
            "n is 1 and j is 29\n",
            "n is 1 and j is 30\n",
            "n is 1 and j is 31\n",
            "n is 1 and j is 32\n",
            "n is 1 and j is 33\n",
            "n is 1 and j is 34\n",
            "n is 1 and j is 35\n",
            "n is 1 and j is 36\n",
            "n is 1 and j is 37\n",
            "n is 1 and j is 38\n",
            "n is 1 and j is 39\n",
            "n is 1 and j is 40\n",
            "n is 1 and j is 41\n",
            "n is 1 and j is 42\n",
            "n is 1 and j is 43\n",
            "n is 1 and j is 44\n",
            "n is 1 and j is 45\n",
            "n is 1 and j is 46\n",
            "n is 1 and j is 47\n",
            "n is 1 and j is 48\n",
            "n is 1 and j is 49\n",
            "n is 1 and j is 50\n",
            "n is 1 and j is 51\n",
            "n is 1 and j is 52\n",
            "n is 1 and j is 53\n",
            "n is 1 and j is 54\n",
            "n is 1 and j is 55\n",
            "n is 1 and j is 56\n",
            "n is 1 and j is 57\n",
            "n is 1 and j is 58\n",
            "n is 1 and j is 59\n",
            "n is 1 and j is 60\n",
            "n is 1 and j is 61\n",
            "n is 1 and j is 62\n",
            "n is 1 and j is 63\n",
            "n is 1 and j is 64\n"
          ]
        }
      ]
    },
    {
      "cell_type": "code",
      "source": [
        "#much better than this is to put all the desired csv files in this case from 21 to 32 in one folder and use GLOB to put them in one df\n",
        "df1 = pd.concat(\n",
        "    map(pd.read_csv,[\"/content/drive/MyDrive/AWID3_Dataset_CSV/CSV/8.Botnet/Botnet_20.csv\",\"/content/drive/MyDrive/AWID3_Dataset_CSV/CSV/8.Botnet/Botnet_21.csv\",\"/content/drive/MyDrive/AWID3_Dataset_CSV/CSV/8.Botnet/Botnet_22.csv\",\"/content/drive/MyDrive/AWID3_Dataset_CSV/CSV/8.Botnet/Botnet_23.csv\",\"/content/drive/MyDrive/AWID3_Dataset_CSV/CSV/8.Botnet/Botnet_24.csv\",\"/content/drive/MyDrive/AWID3_Dataset_CSV/CSV/8.Botnet/Botnet_25.csv\",\"/content/drive/MyDrive/AWID3_Dataset_CSV/CSV/8.Botnet/Botnet_26.csv\",\"/content/drive/MyDrive/AWID3_Dataset_CSV/CSV/8.Botnet/Botnet_27.csv\",\"/content/drive/MyDrive/AWID3_Dataset_CSV/CSV/8.Botnet/Botnet_28.csv\",\"/content/drive/MyDrive/AWID3_Dataset_CSV/CSV/8.Botnet/Botnet_29.csv\",\"/content/drive/MyDrive/AWID3_Dataset_CSV/CSV/8.Botnet/Botnet_30.csv\",\"/content/drive/MyDrive/AWID3_Dataset_CSV/CSV/8.Botnet/Botnet_31.csv\",\"/content/drive/MyDrive/AWID3_Dataset_CSV/CSV/8.Botnet/Botnet_32.csv\",\"/content/drive/MyDrive/AWID3_Dataset_CSV/CSV/8.Botnet/Botnet_33.csv\",\"/content/drive/MyDrive/AWID3_Dataset_CSV/CSV/8.Botnet/Botnet_34.csv\",\"/content/drive/MyDrive/AWID3_Dataset_CSV/CSV/8.Botnet/Botnet_35.csv\",\"/content/drive/MyDrive/AWID3_Dataset_CSV/CSV/8.Botnet/Botnet_36.csv\"]), ignore_index=True)"
      ],
      "metadata": {
        "id": "ZEJQZjSs_pRc",
        "colab": {
          "base_uri": "https://localhost:8080/"
        },
        "outputId": "30472431-7b3e-4110-af6f-5f0cf1f6b69d"
      },
      "execution_count": null,
      "outputs": [
        {
          "output_type": "stream",
          "name": "stderr",
          "text": [
            "/usr/local/lib/python3.7/dist-packages/pandas/core/reshape/concat.py:304: DtypeWarning: Columns (34,71,73,77,78,79,80,82,84,85,86,87,90,91,92,93,94,96,98,99,100,101,102,103,104,107,108,109,110,111,112,113,114,115,116,117,166,167,168,169,170,171,172,173,175,176,177,178,180,181,183,184,185,190,192,193,194,195,196,197,200,201,202,203,204,205,206,209,210,211,212,213,215,217,218,219,247,248,249,250) have mixed types.Specify dtype option on import or set low_memory=False.\n",
            "  sort=sort,\n",
            "/usr/local/lib/python3.7/dist-packages/pandas/core/reshape/concat.py:304: DtypeWarning: Columns (71,73,77,78,79,80,82,84,85,90,91,92,93,98,99,100,101,102,103,104,107,108,109,110,111,115,118,166,167,168,172,178,180,181,183,184,185,189,196,197,203,204,205,217,218,219,247,248,249,250) have mixed types.Specify dtype option on import or set low_memory=False.\n",
            "  sort=sort,\n",
            "/usr/local/lib/python3.7/dist-packages/pandas/core/reshape/concat.py:304: DtypeWarning: Columns (71,73,77,78,79,80,82,84,85,86,87,90,91,92,93,98,99,100,101,102,103,104,107,108,109,110,111,112,113,114,115,116,117,118,122,166,167,168,169,170,171,172,173,175,176,177,178,179,180,181,183,184,185,186,189,190,192,193,194,195,196,197,200,201,202,203,204,205,206,209,210,211,212,213,215,217,218,219,247,248,249,250,251) have mixed types.Specify dtype option on import or set low_memory=False.\n",
            "  sort=sort,\n",
            "/usr/local/lib/python3.7/dist-packages/pandas/core/reshape/concat.py:304: DtypeWarning: Columns (71,73,77,78,79,80,87,90,91,92,93,94,96,98,99,100,101,102,103,104,107,108,109,110,111,112,113,114,116,117,118,120,137,141,142,146,148,149,151,166,169,170,171,172,173,175,176,177,181,184,185,186,189,190,192,193,194,195,197,200,201,202,203,204,205,206,209,210,211,212,213,215,217,218,219,249) have mixed types.Specify dtype option on import or set low_memory=False.\n",
            "  sort=sort,\n",
            "/usr/local/lib/python3.7/dist-packages/pandas/core/reshape/concat.py:304: DtypeWarning: Columns (71,73,77,78,79,80,87,93,94,96,112,113,114,116,117,118,120,137,146,148,149,151,166,168,169,170,171,172,173,175,176,177,181,183,184,185,186,190,192,193,194,195,196,197,200,201,202,203,204,205,206,209,210,211,212,213,215,217,218,219,248,249) have mixed types.Specify dtype option on import or set low_memory=False.\n",
            "  sort=sort,\n",
            "/usr/local/lib/python3.7/dist-packages/pandas/core/reshape/concat.py:304: DtypeWarning: Columns (71,73,77,78,79,80,82,84,85,87,90,91,92,93,94,96,98,99,100,101,102,103,104,107,108,109,110,111,112,113,114,115,116,117,118,141,142,166,167,168,169,170,171,172,173,175,176,177,178,180,181,183,184,185,186,189,190,192,193,194,195,196,197,200,201,202,203,204,205,206,209,210,211,212,213,217,218,219,247,248,249,250,251) have mixed types.Specify dtype option on import or set low_memory=False.\n",
            "  sort=sort,\n",
            "/usr/local/lib/python3.7/dist-packages/pandas/core/reshape/concat.py:304: DtypeWarning: Columns (71,73,77,78,79,80,82,84,85,87,90,91,92,93,94,96,98,99,100,101,102,103,104,107,108,109,110,111,112,113,114,116,117,120,122,137,141,142,146,148,149,151,166,167,168,169,170,171,172,173,175,176,177,181,183,184,185,189,195,196,197,200,201,202,203,204,205,206,213,215,217,218,219,248,249,250) have mixed types.Specify dtype option on import or set low_memory=False.\n",
            "  sort=sort,\n",
            "/usr/local/lib/python3.7/dist-packages/pandas/core/reshape/concat.py:304: DtypeWarning: Columns (23,24,48,50,51,71,73,77,78,79,80,82,84,85,86,90,91,92,93,94,96,98,99,100,101,102,103,104,107,108,109,110,111,112,113,114,115,116,117,120,122,137,138,139,141,142,143,145,146,148,149,151,166,167,168,169,170,171,172,173,175,176,177,178,180,181,183,184,185,186,189,192,193,194,196,197,203,204,205,209,210,211,212,213,215,217,247,248,249,250) have mixed types.Specify dtype option on import or set low_memory=False.\n",
            "  sort=sort,\n",
            "/usr/local/lib/python3.7/dist-packages/pandas/core/reshape/concat.py:304: DtypeWarning: Columns (71,73,77,78,79,80,86,93,94,96,112,113,114,115,116,117,118,120,137,138,139,141,142,143,145,146,148,149,151,166,167,168,172,178,180,181,183,184,185,189,192,194,195,196,197,200,201,202,203,204,205,206,215,217,218,219,248,249) have mixed types.Specify dtype option on import or set low_memory=False.\n",
            "  sort=sort,\n",
            "/usr/local/lib/python3.7/dist-packages/pandas/core/reshape/concat.py:304: DtypeWarning: Columns (71,73,77,78,79,80,87,93,94,105,112,113,114,116,117,118,120,121,137,138,139,141,142,143,145,146,148,149,151,166,167,168,178,180,183,184,185,196,197,217,247,248,249,250,251) have mixed types.Specify dtype option on import or set low_memory=False.\n",
            "  sort=sort,\n",
            "/usr/local/lib/python3.7/dist-packages/pandas/core/reshape/concat.py:304: DtypeWarning: Columns (71,73,77,78,79,80,82,84,85,86,87,90,91,92,93,94,96,98,99,100,101,102,103,104,105,107,108,109,110,111,112,113,114,115,116,117,118,120,137,138,141,142,143,145,146,147,148,149,151,166,167,168,169,170,171,172,173,175,176,177,178,180,181,183,184,185,189,190,192,193,194,195,196,197,200,201,202,203,204,205,206,209,210,211,212,213,215,217,218,219,247,248,249,250,251) have mixed types.Specify dtype option on import or set low_memory=False.\n",
            "  sort=sort,\n",
            "/usr/local/lib/python3.7/dist-packages/pandas/core/reshape/concat.py:304: DtypeWarning: Columns (71,73,77,78,79,80,82,84,85,90,91,92,93,94,96,98,99,100,101,102,103,104,107,108,109,110,111,112,113,114,115,116,117,118,119,120,137,138,139,141,142,143,145,146,148,149,151,166,167,168,169,170,171,172,173,175,176,177,178,180,181,183,184,185,189,191,192,193,194,195,196,197,200,201,202,203,204,205,206,209,210,211,212,213,215,217,218,219,247,248,249,250,251) have mixed types.Specify dtype option on import or set low_memory=False.\n",
            "  sort=sort,\n",
            "/usr/local/lib/python3.7/dist-packages/pandas/core/reshape/concat.py:304: DtypeWarning: Columns (71,73,77,78,79,80,87,93,94,96,112,113,114,115,116,117,118,119,120,132,137,141,146,148,149,151,166,167,168,169,170,171,172,173,174,175,176,177,178,180,181,183,184,185,186,189,190,191,192,193,194,195,196,197,200,201,202,203,204,205,206,209,210,211,212,213,215,217,218,219,247,248,249,250,251) have mixed types.Specify dtype option on import or set low_memory=False.\n",
            "  sort=sort,\n",
            "/usr/local/lib/python3.7/dist-packages/pandas/core/reshape/concat.py:304: DtypeWarning: Columns (71,73,77,78,79,80,82,84,85,86,87,90,91,92,93,98,99,100,101,102,103,104,107,108,109,110,111,112,113,114,116,117,118,120,137,141,142,146,148,149,151,166,167,168,178,180,183,184,185,189,190,191,192,193,194,195,196,197,200,201,202,203,204,205,206,209,210,211,212,213,215,217,218,219,247,248,249,250,251) have mixed types.Specify dtype option on import or set low_memory=False.\n",
            "  sort=sort,\n",
            "/usr/local/lib/python3.7/dist-packages/pandas/core/reshape/concat.py:304: DtypeWarning: Columns (71,73,77,78,79,80,82,84,85,86,90,91,92,93,98,99,100,101,102,103,104,107,108,109,110,111,112,113,114,116,117,118,120,137,141,142,146,148,149,151,166,168,183,184,185,189,190,192,193,194,195,196,197,200,201,202,203,204,205,206,209,210,211,212,213,215,217,218,219,249,251) have mixed types.Specify dtype option on import or set low_memory=False.\n",
            "  sort=sort,\n",
            "/usr/local/lib/python3.7/dist-packages/pandas/core/reshape/concat.py:304: DtypeWarning: Columns (71,73,77,78,79,80,82,84,85,86,90,91,92,93,98,99,100,101,102,103,104,107,108,109,110,111,112,113,114,116,117,118,120,122,132,137,138,141,142,143,145,146,147,148,149,151,166,168,172,181,183,184,185,196,197,203,204,205,215,217,218,219,249) have mixed types.Specify dtype option on import or set low_memory=False.\n",
            "  sort=sort,\n",
            "/usr/local/lib/python3.7/dist-packages/pandas/core/reshape/concat.py:304: DtypeWarning: Columns (71,73,77,78,79,80,82,84,85,86,87,90,91,92,93,98,99,100,101,102,103,104,107,108,109,110,111,112,113,114,115,116,117,118,120,122,137,146,148,149,151,166,167,168,172,178,180,181,183,184,185,189,196,197,203,204,205,215,247,248,249,250,251) have mixed types.Specify dtype option on import or set low_memory=False.\n",
            "  sort=sort,\n"
          ]
        }
      ]
    },
    {
      "cell_type": "code",
      "source": [
        "drop_cols = []\n",
        "for i in df1.columns:\n",
        "    if len(df1[i].unique())==1:\n",
        "        drop_cols.append(i)\n",
        "print(\"Total columns with only 1 unique value:\", len(drop_cols))\n",
        "df1.drop(drop_cols, 1, inplace=True)\n",
        "\n",
        "print(df1.columns)"
      ],
      "metadata": {
        "colab": {
          "base_uri": "https://localhost:8080/"
        },
        "id": "uwSmMEgHCBfp",
        "outputId": "7fabe8b3-181a-46d4-996c-733f7e71e5b5"
      },
      "execution_count": null,
      "outputs": [
        {
          "output_type": "stream",
          "name": "stdout",
          "text": [
            "Total columns with only 1 unique value: 65\n"
          ]
        },
        {
          "output_type": "stream",
          "name": "stderr",
          "text": [
            "/usr/local/lib/python3.7/dist-packages/ipykernel_launcher.py:6: FutureWarning: In a future version of pandas all arguments of DataFrame.drop except for the argument 'labels' will be keyword-only\n",
            "  \n"
          ]
        },
        {
          "output_type": "stream",
          "name": "stdout",
          "text": [
            "Index(['frame.encap_type', 'frame.len', 'frame.number', 'frame.time',\n",
            "       'frame.time_delta', 'frame.time_delta_displayed', 'frame.time_epoch',\n",
            "       'frame.time_relative', 'radiotap.channel.flags.cck',\n",
            "       'radiotap.channel.flags.ofdm',\n",
            "       ...\n",
            "       'tls.alert_message.level', 'tls.app_data_proto',\n",
            "       'tls.compress_certificate.compressed_certificate_message.length',\n",
            "       'tls.handshake.extension.type',\n",
            "       'tls.handshake.extensions_key_share_group',\n",
            "       'tls.handshake.session_ticket_length', 'tls.handshake.version',\n",
            "       'tls.record.content_type', 'tls.record.version', 'Label'],\n",
            "      dtype='object', length=189)\n"
          ]
        }
      ]
    },
    {
      "cell_type": "code",
      "source": [
        "df1.dropna(1,inplace=True)"
      ],
      "metadata": {
        "colab": {
          "base_uri": "https://localhost:8080/"
        },
        "id": "tCLADLaQCOtD",
        "outputId": "a30e3ddf-8f4b-475f-967a-45a7fe4d3cef"
      },
      "execution_count": null,
      "outputs": [
        {
          "output_type": "stream",
          "name": "stderr",
          "text": [
            "/usr/local/lib/python3.7/dist-packages/ipykernel_launcher.py:1: FutureWarning: In a future version of pandas all arguments of DataFrame.dropna will be keyword-only\n",
            "  \"\"\"Entry point for launching an IPython kernel.\n"
          ]
        }
      ]
    },
    {
      "cell_type": "code",
      "source": [
        "df1.info()"
      ],
      "metadata": {
        "colab": {
          "base_uri": "https://localhost:8080/"
        },
        "id": "9BKwbWCOCUhe",
        "outputId": "541dcac8-c12c-40f9-e944-dd7cb5c44fe3"
      },
      "execution_count": null,
      "outputs": [
        {
          "output_type": "stream",
          "name": "stdout",
          "text": [
            "<class 'pandas.core.frame.DataFrame'>\n",
            "RangeIndex: 849996 entries, 0 to 849995\n",
            "Data columns (total 1 columns):\n",
            " #   Column           Non-Null Count   Dtype \n",
            "---  ------           --------------   ----- \n",
            " 0   wlan.fc.subtype  849996 non-null  object\n",
            "dtypes: object(1)\n",
            "memory usage: 6.5+ MB\n"
          ]
        }
      ]
    },
    {
      "cell_type": "code",
      "source": [
        "#much better than this is to put all the desired csv files in this case from 21 to 32 in one folder and use GLOB to put them in one df\n",
        "df2 = pd.concat(\n",
        "    map(pd.read_csv,[\"/content/drive/MyDrive/AWID3_Dataset_CSV/CSV/8.Botnet/Botnet_37.csv\",\"/content/drive/MyDrive/AWID3_Dataset_CSV/CSV/8.Botnet/Botnet_38.csv\",\"/content/drive/MyDrive/AWID3_Dataset_CSV/CSV/8.Botnet/Botnet_39.csv\",\"/content/drive/MyDrive/AWID3_Dataset_CSV/CSV/8.Botnet/Botnet_40.csv\",\"/content/drive/MyDrive/AWID3_Dataset_CSV/CSV/8.Botnet/Botnet_41.csv\",\"/content/drive/MyDrive/AWID3_Dataset_CSV/CSV/8.Botnet/Botnet_42.csv\",\"/content/drive/MyDrive/AWID3_Dataset_CSV/CSV/8.Botnet/Botnet_43.csv\",\"/content/drive/MyDrive/AWID3_Dataset_CSV/CSV/8.Botnet/Botnet_44.csv\",\"/content/drive/MyDrive/AWID3_Dataset_CSV/CSV/8.Botnet/Botnet_45.csv\",\"/content/drive/MyDrive/AWID3_Dataset_CSV/CSV/8.Botnet/Botnet_46.csv\",\"/content/drive/MyDrive/AWID3_Dataset_CSV/CSV/8.Botnet/Botnet_47.csv\"]), ignore_index=True)"
      ],
      "metadata": {
        "colab": {
          "base_uri": "https://localhost:8080/"
        },
        "id": "kfCiTv6ZVNvT",
        "outputId": "5507481c-a9f1-4550-bcd8-140280faa939"
      },
      "execution_count": null,
      "outputs": [
        {
          "output_type": "stream",
          "name": "stderr",
          "text": [
            "/usr/local/lib/python3.7/dist-packages/pandas/core/reshape/concat.py:304: DtypeWarning: Columns (71,73,77,78,79,80,93,94,96,105,115,118,119,120,121,136,137,138,139,141,143,145,146,148,149,150,151,166,167,168,178,180,183,184,185,190,192,193,194,195,196,197,200,201,202,203,204,205,206,209,210,211,212,213,215,217,218,219,247,248,250,251) have mixed types.Specify dtype option on import or set low_memory=False.\n",
            "  sort=sort,\n",
            "/usr/local/lib/python3.7/dist-packages/pandas/core/reshape/concat.py:304: DtypeWarning: Columns (71,73,77,78,79,80,93,94,96,112,113,114,116,117,118,120,137,141,146,148,149,151,166,167,168,169,170,171,172,173,175,176,177,178,180,181,183,184,185,189,190,192,193,194,195,196,197,200,201,202,203,204,205,206,209,210,211,212,213,215,217,218,219,248,249) have mixed types.Specify dtype option on import or set low_memory=False.\n",
            "  sort=sort,\n",
            "/usr/local/lib/python3.7/dist-packages/pandas/core/reshape/concat.py:304: DtypeWarning: Columns (71,73,77,78,79,80,87,93,94,96,112,113,114,116,117,118,120,137,141,146,148,149,151,166,168,169,170,171,172,173,175,176,177,181,183,184,185,189,196,197,203,204,205,215,217,218,219,249) have mixed types.Specify dtype option on import or set low_memory=False.\n",
            "  sort=sort,\n",
            "/usr/local/lib/python3.7/dist-packages/pandas/core/reshape/concat.py:304: DtypeWarning: Columns (71,73,77,78,79,80,87,93,94,96,112,113,114,116,117,120,137,141,142,146,148,149,151,166,169,170,171,172,173,175,176,177,181,194,196,203,204,205,215,218,219) have mixed types.Specify dtype option on import or set low_memory=False.\n",
            "  sort=sort,\n",
            "/usr/local/lib/python3.7/dist-packages/pandas/core/reshape/concat.py:304: DtypeWarning: Columns (71,73,77,78,79,80,87,94,96,112,113,114,116,117,118,120,137,141,146,148,149,151,166,169,170,171,172,173,175,176,177,181,186,189,196,197,215,217,218,219,249) have mixed types.Specify dtype option on import or set low_memory=False.\n",
            "  sort=sort,\n",
            "/usr/local/lib/python3.7/dist-packages/pandas/core/reshape/concat.py:304: DtypeWarning: Columns (71,73,77,78,79,80,87,93,94,96,112,113,114,115,116,117,118,166,167,168,169,170,171,172,173,176,177,178,180,181,183,184,185,186,189,190,192,193,194,196,197,203,204,205,209,210,211,212,213,215,217,247,248,249,250) have mixed types.Specify dtype option on import or set low_memory=False.\n",
            "  sort=sort,\n",
            "/usr/local/lib/python3.7/dist-packages/pandas/core/reshape/concat.py:304: DtypeWarning: Columns (71,73,77,78,79,80,82,84,85,86,87,90,91,92,93,98,99,100,101,102,103,104,105,107,108,109,110,111,118,166,172,181,189,190,192,193,194,195,196,197,200,201,202,203,204,205,206,209,210,211,212,213,215,217,218,219,247,248,249,250) have mixed types.Specify dtype option on import or set low_memory=False.\n",
            "  sort=sort,\n",
            "/usr/local/lib/python3.7/dist-packages/pandas/core/reshape/concat.py:304: DtypeWarning: Columns (71,73,77,78,79,80,82,84,85,87,90,91,92,93,98,99,100,101,102,103,104,107,108,109,110,111,112,113,114,116,117,118,166,169,170,171,172,173,175,176,177,181,189,192,193,194,196,197,203,204,205,209,210,211,212,213,215,217,218,219,249) have mixed types.Specify dtype option on import or set low_memory=False.\n",
            "  sort=sort,\n",
            "/usr/local/lib/python3.7/dist-packages/pandas/core/reshape/concat.py:304: DtypeWarning: Columns (71,73,77,78,79,80,82,84,85,86,87,90,91,92,93,98,99,100,101,102,103,104,107,108,109,110,111,115,118,166,167,168,172,178,180,181,183,184,185,189,190,192,193,194,195,196,197,200,201,202,203,204,205,206,209,210,211,212,213,215,217,218,219,247,248,249,250) have mixed types.Specify dtype option on import or set low_memory=False.\n",
            "  sort=sort,\n",
            "/usr/local/lib/python3.7/dist-packages/pandas/core/reshape/concat.py:304: DtypeWarning: Columns (71,73,77,78,79,80,87,93,112,113,114,116,117,118,122,166,167,168,172,178,180,181,183,184,185,189,196,197,203,204,205,215,218,219,248,249,251) have mixed types.Specify dtype option on import or set low_memory=False.\n",
            "  sort=sort,\n",
            "/usr/local/lib/python3.7/dist-packages/pandas/core/reshape/concat.py:304: DtypeWarning: Columns (71,73,77,78,79,80,87,93,112,113,114,116,117,118,122,166,167,168,178,180,183,184,185,189,196,197,203,204,205,215,218,219,248,249) have mixed types.Specify dtype option on import or set low_memory=False.\n",
            "  sort=sort,\n"
          ]
        }
      ]
    },
    {
      "cell_type": "code",
      "source": [
        "drop_cols = []\n",
        "for i in df2.columns:\n",
        "    if len(df2[i].unique())==1:\n",
        "        drop_cols.append(i)\n",
        "print(\"Total columns with only 1 unique value:\", len(drop_cols))\n",
        "df2.drop(drop_cols, 1, inplace=True)\n",
        "\n",
        "print(df2.columns)"
      ],
      "metadata": {
        "colab": {
          "base_uri": "https://localhost:8080/"
        },
        "id": "khFSNU01vl8B",
        "outputId": "93a88114-536e-4f23-c94e-92f35cd218a1"
      },
      "execution_count": null,
      "outputs": [
        {
          "output_type": "stream",
          "name": "stdout",
          "text": [
            "Total columns with only 1 unique value: 82\n"
          ]
        },
        {
          "output_type": "stream",
          "name": "stderr",
          "text": [
            "/usr/local/lib/python3.7/dist-packages/ipykernel_launcher.py:6: FutureWarning: In a future version of pandas all arguments of DataFrame.drop except for the argument 'labels' will be keyword-only\n",
            "  \n"
          ]
        },
        {
          "output_type": "stream",
          "name": "stdout",
          "text": [
            "Index(['frame.len', 'frame.number', 'frame.time', 'frame.time_delta',\n",
            "       'frame.time_delta_displayed', 'frame.time_epoch', 'frame.time_relative',\n",
            "       'radiotap.datarate', 'radiotap.dbm_antsignal', 'radiotap.length',\n",
            "       ...\n",
            "       'tls.alert_message.level', 'tls.app_data_proto',\n",
            "       'tls.compress_certificate.compressed_certificate_message.length',\n",
            "       'tls.handshake.extension.type',\n",
            "       'tls.handshake.extensions_key_share_group',\n",
            "       'tls.handshake.session_ticket_length', 'tls.handshake.version',\n",
            "       'tls.record.content_type', 'tls.record.version', 'Label'],\n",
            "      dtype='object', length=172)\n"
          ]
        }
      ]
    },
    {
      "cell_type": "code",
      "source": [
        "df2.dropna(1,inplace=True)"
      ],
      "metadata": {
        "colab": {
          "base_uri": "https://localhost:8080/"
        },
        "id": "bI5Ms-wXvyP9",
        "outputId": "6cc1bd0f-4e2e-4dbb-bd93-81ec994ddfad"
      },
      "execution_count": null,
      "outputs": [
        {
          "output_type": "stream",
          "name": "stderr",
          "text": [
            "/usr/local/lib/python3.7/dist-packages/ipykernel_launcher.py:1: FutureWarning: In a future version of pandas all arguments of DataFrame.dropna will be keyword-only\n",
            "  \"\"\"Entry point for launching an IPython kernel.\n"
          ]
        }
      ]
    },
    {
      "cell_type": "code",
      "source": [
        "df2.info()"
      ],
      "metadata": {
        "colab": {
          "base_uri": "https://localhost:8080/"
        },
        "id": "RFN41ONcv2WT",
        "outputId": "ebd6210a-bf2b-46ec-fd74-e1bd5fbf7a60"
      },
      "execution_count": null,
      "outputs": [
        {
          "output_type": "stream",
          "name": "stdout",
          "text": [
            "<class 'pandas.core.frame.DataFrame'>\n",
            "RangeIndex: 549994 entries, 0 to 549993\n",
            "Data columns (total 27 columns):\n",
            " #   Column                      Non-Null Count   Dtype  \n",
            "---  ------                      --------------   -----  \n",
            " 0   frame.len                   549994 non-null  int64  \n",
            " 1   frame.number                549994 non-null  int64  \n",
            " 2   frame.time                  549994 non-null  object \n",
            " 3   frame.time_delta            549994 non-null  float64\n",
            " 4   frame.time_delta_displayed  549994 non-null  float64\n",
            " 5   frame.time_epoch            549994 non-null  int64  \n",
            " 6   frame.time_relative         549994 non-null  float64\n",
            " 7   radiotap.dbm_antsignal      549994 non-null  int64  \n",
            " 8   radiotap.length             549994 non-null  int64  \n",
            " 9   radiotap.present.tsft       549994 non-null  object \n",
            " 10  radiotap.timestamp.ts       549994 non-null  int64  \n",
            " 11  wlan.duration               549994 non-null  int64  \n",
            " 12  wlan.fc.ds                  549994 non-null  object \n",
            " 13  wlan.fc.frag                549994 non-null  int64  \n",
            " 14  wlan.fc.order               549994 non-null  int64  \n",
            " 15  wlan.fc.moredata            549994 non-null  int64  \n",
            " 16  wlan.fc.protected           549994 non-null  int64  \n",
            " 17  wlan.fc.pwrmgt              549994 non-null  int64  \n",
            " 18  wlan.fc.type                549994 non-null  int64  \n",
            " 19  wlan.fc.retry               549994 non-null  int64  \n",
            " 20  wlan.fc.subtype             549994 non-null  int64  \n",
            " 21  wlan.ra                     549994 non-null  object \n",
            " 22  wlan_radio.duration         549994 non-null  int64  \n",
            " 23  wlan_radio.data_rate        549994 non-null  float64\n",
            " 24  wlan_radio.signal_dbm       549994 non-null  int64  \n",
            " 25  wlan_radio.phy              549994 non-null  int64  \n",
            " 26  Label                       549994 non-null  object \n",
            "dtypes: float64(4), int64(18), object(5)\n",
            "memory usage: 113.3+ MB\n"
          ]
        }
      ]
    },
    {
      "cell_type": "code",
      "source": [
        "#much better than this is to put all the desired csv files in this case from 21 to 32 in one folder and use GLOB to put them in one df\n",
        "df3 = pd.concat(\n",
        "    map(pd.read_csv,[\"/content/drive/MyDrive/AWID3_Dataset_CSV/CSV/8.Botnet/Botnet_48.csv\",\"/content/drive/MyDrive/AWID3_Dataset_CSV/CSV/8.Botnet/Botnet_49.csv\",\"/content/drive/MyDrive/AWID3_Dataset_CSV/CSV/8.Botnet/Botnet_50.csv\",\"/content/drive/MyDrive/AWID3_Dataset_CSV/CSV/8.Botnet/Botnet_51.csv\",\"/content/drive/MyDrive/AWID3_Dataset_CSV/CSV/8.Botnet/Botnet_52.csv\"]), ignore_index=True)"
      ],
      "metadata": {
        "colab": {
          "base_uri": "https://localhost:8080/"
        },
        "id": "OFevF3nO8twq",
        "outputId": "26c38782-1306-499a-f750-809238e37dc7"
      },
      "execution_count": null,
      "outputs": [
        {
          "output_type": "stream",
          "name": "stderr",
          "text": [
            "/usr/local/lib/python3.7/dist-packages/pandas/core/reshape/concat.py:304: DtypeWarning: Columns (71,73,77,78,79,80,82,84,85,87,90,91,92,93,98,99,100,101,102,103,104,107,108,109,110,111,112,113,114,115,116,117,118,166,167,168,172,178,180,181,183,184,185,189,193,196,197,203,204,205,209,210,211,212,213,215,217,218,219,247,248,249,250,251) have mixed types.Specify dtype option on import or set low_memory=False.\n",
            "  sort=sort,\n",
            "/usr/local/lib/python3.7/dist-packages/pandas/core/reshape/concat.py:304: DtypeWarning: Columns (71,73,77,78,79,80,82,84,85,86,87,90,91,92,93,98,99,100,101,102,103,104,107,108,109,110,111,112,113,114,115,116,117,118,166,167,168,169,170,171,172,173,175,176,177,178,180,181,183,184,185,189,196,197,203,204,205,215,247,248,249,250,251) have mixed types.Specify dtype option on import or set low_memory=False.\n",
            "  sort=sort,\n",
            "/usr/local/lib/python3.7/dist-packages/pandas/core/reshape/concat.py:304: DtypeWarning: Columns (71,73,77,78,79,80,86,87,93,118,166,167,168,183,184,185,189,196,197,203,204,205,215,217,218,219,247,248,249,250,251) have mixed types.Specify dtype option on import or set low_memory=False.\n",
            "  sort=sort,\n",
            "/usr/local/lib/python3.7/dist-packages/pandas/core/reshape/concat.py:304: DtypeWarning: Columns (71,73,77,78,79,80,93,118,166,167,168,172,178,180,181,183,184,185,189,190,192,193,194,196,197,203,204,205,209,210,211,212,213,215,217,218,219,247,248,250) have mixed types.Specify dtype option on import or set low_memory=False.\n",
            "  sort=sort,\n",
            "/usr/local/lib/python3.7/dist-packages/pandas/core/reshape/concat.py:304: DtypeWarning: Columns (71,73,77,78,79,80,86,93,118,120,137,141,146,148,149,151,166,167,168,172,178,180,181,183,184,185,190,192,193,194,195,196,197,200,201,202,203,204,205,206,209,210,211,212,213,215,217,218,219,247,248,250,251) have mixed types.Specify dtype option on import or set low_memory=False.\n",
            "  sort=sort,\n"
          ]
        }
      ]
    },
    {
      "cell_type": "code",
      "source": [
        "drop_cols = []\n",
        "for i in df3.columns:\n",
        "    if len(df3[i].unique())==1:\n",
        "        drop_cols.append(i)\n",
        "print(\"Total columns with only 1 unique value:\", len(drop_cols))\n",
        "df3.drop(drop_cols, 1, inplace=True)\n",
        "\n",
        "print(df3.columns)"
      ],
      "metadata": {
        "colab": {
          "base_uri": "https://localhost:8080/"
        },
        "id": "gtKPpZqzwAfg",
        "outputId": "3ffdc60b-6370-4d77-cdde-9d8662194a2c"
      },
      "execution_count": null,
      "outputs": [
        {
          "output_type": "stream",
          "name": "stdout",
          "text": [
            "Total columns with only 1 unique value: 91\n"
          ]
        },
        {
          "output_type": "stream",
          "name": "stderr",
          "text": [
            "/usr/local/lib/python3.7/dist-packages/ipykernel_launcher.py:6: FutureWarning: In a future version of pandas all arguments of DataFrame.drop except for the argument 'labels' will be keyword-only\n",
            "  \n"
          ]
        },
        {
          "output_type": "stream",
          "name": "stdout",
          "text": [
            "Index(['frame.len', 'frame.number', 'frame.time', 'frame.time_delta',\n",
            "       'frame.time_delta_displayed', 'frame.time_epoch', 'frame.time_relative',\n",
            "       'radiotap.datarate', 'radiotap.dbm_antsignal', 'radiotap.length',\n",
            "       ...\n",
            "       'tls.alert_message.level', 'tls.app_data_proto',\n",
            "       'tls.compress_certificate.compressed_certificate_message.length',\n",
            "       'tls.handshake.extension.type',\n",
            "       'tls.handshake.extensions_key_share_group',\n",
            "       'tls.handshake.session_ticket_length', 'tls.handshake.version',\n",
            "       'tls.record.content_type', 'tls.record.version', 'Label'],\n",
            "      dtype='object', length=163)\n"
          ]
        }
      ]
    },
    {
      "cell_type": "code",
      "source": [
        "df3.dropna(1,inplace=True)\n",
        "df3.info()"
      ],
      "metadata": {
        "colab": {
          "base_uri": "https://localhost:8080/"
        },
        "id": "mf2qT9h8wIl5",
        "outputId": "7efa9b57-525e-4451-cb55-6ee6acd832f3"
      },
      "execution_count": null,
      "outputs": [
        {
          "output_type": "stream",
          "name": "stderr",
          "text": [
            "/usr/local/lib/python3.7/dist-packages/ipykernel_launcher.py:1: FutureWarning: In a future version of pandas all arguments of DataFrame.dropna will be keyword-only\n",
            "  \"\"\"Entry point for launching an IPython kernel.\n"
          ]
        },
        {
          "output_type": "stream",
          "name": "stdout",
          "text": [
            "<class 'pandas.core.frame.DataFrame'>\n",
            "RangeIndex: 249999 entries, 0 to 249998\n",
            "Data columns (total 27 columns):\n",
            " #   Column                      Non-Null Count   Dtype  \n",
            "---  ------                      --------------   -----  \n",
            " 0   frame.len                   249999 non-null  int64  \n",
            " 1   frame.number                249999 non-null  int64  \n",
            " 2   frame.time                  249999 non-null  object \n",
            " 3   frame.time_delta            249999 non-null  float64\n",
            " 4   frame.time_delta_displayed  249999 non-null  float64\n",
            " 5   frame.time_epoch            249999 non-null  int64  \n",
            " 6   frame.time_relative         249999 non-null  float64\n",
            " 7   radiotap.dbm_antsignal      249999 non-null  int64  \n",
            " 8   radiotap.length             249999 non-null  int64  \n",
            " 9   radiotap.present.tsft       249999 non-null  object \n",
            " 10  radiotap.timestamp.ts       249999 non-null  int64  \n",
            " 11  wlan.duration               249999 non-null  int64  \n",
            " 12  wlan.fc.ds                  249999 non-null  object \n",
            " 13  wlan.fc.frag                249999 non-null  int64  \n",
            " 14  wlan.fc.order               249999 non-null  int64  \n",
            " 15  wlan.fc.moredata            249999 non-null  int64  \n",
            " 16  wlan.fc.protected           249999 non-null  int64  \n",
            " 17  wlan.fc.pwrmgt              249999 non-null  int64  \n",
            " 18  wlan.fc.type                249999 non-null  int64  \n",
            " 19  wlan.fc.retry               249999 non-null  int64  \n",
            " 20  wlan.fc.subtype             249999 non-null  int64  \n",
            " 21  wlan.ra                     249999 non-null  object \n",
            " 22  wlan_radio.duration         249999 non-null  int64  \n",
            " 23  wlan_radio.data_rate        249999 non-null  float64\n",
            " 24  wlan_radio.signal_dbm       249999 non-null  int64  \n",
            " 25  wlan_radio.phy              249999 non-null  int64  \n",
            " 26  Label                       249999 non-null  object \n",
            "dtypes: float64(4), int64(18), object(5)\n",
            "memory usage: 51.5+ MB\n"
          ]
        }
      ]
    },
    {
      "cell_type": "code",
      "source": [
        "#much better than this is to put all the desired csv files in this case from 21 to 32 in one folder and use GLOB to put them in one df\n",
        "df4 = pd.concat(\n",
        "    map(pd.read_csv,[\"/content/drive/MyDrive/AWID3_Dataset_CSV/CSV/8.Botnet/Botnet_53.csv\",\"/content/drive/MyDrive/AWID3_Dataset_CSV/CSV/8.Botnet/Botnet_54.csv\",\"/content/drive/MyDrive/AWID3_Dataset_CSV/CSV/8.Botnet/Botnet_55.csv\",\"/content/drive/MyDrive/AWID3_Dataset_CSV/CSV/8.Botnet/Botnet_56.csv\",\"/content/drive/MyDrive/AWID3_Dataset_CSV/CSV/8.Botnet/Botnet_57.csv\",\"/content/drive/MyDrive/AWID3_Dataset_CSV/CSV/8.Botnet/Botnet_58.csv\",\"/content/drive/MyDrive/AWID3_Dataset_CSV/CSV/8.Botnet/Botnet_59.csv\",\"/content/drive/MyDrive/AWID3_Dataset_CSV/CSV/8.Botnet/Botnet_60.csv\",\"/content/drive/MyDrive/AWID3_Dataset_CSV/CSV/8.Botnet/Botnet_61.csv\",\"/content/drive/MyDrive/AWID3_Dataset_CSV/CSV/8.Botnet/Botnet_62.csv\",\"/content/drive/MyDrive/AWID3_Dataset_CSV/CSV/8.Botnet/Botnet_63.csv\",\"/content/drive/MyDrive/AWID3_Dataset_CSV/CSV/8.Botnet/Botnet_64.csv\"]), ignore_index=True)"
      ],
      "metadata": {
        "colab": {
          "base_uri": "https://localhost:8080/"
        },
        "id": "mB-dBvxw97J6",
        "outputId": "fcc024ef-fe8a-45ac-924f-c21ee7233d5d"
      },
      "execution_count": null,
      "outputs": [
        {
          "output_type": "stream",
          "name": "stderr",
          "text": [
            "/usr/local/lib/python3.7/dist-packages/pandas/core/reshape/concat.py:304: DtypeWarning: Columns (71,73,77,78,79,80,82,84,85,86,90,91,92,93,98,99,100,101,102,103,104,107,108,109,110,111,112,113,114,116,117,118,120,122,137,146,148,149,151,166,167,168,169,170,171,172,173,175,176,177,181,183,184,185,189,196,197,203,204,205,215,247,248,250,251) have mixed types.Specify dtype option on import or set low_memory=False.\n",
            "  sort=sort,\n",
            "/usr/local/lib/python3.7/dist-packages/pandas/core/reshape/concat.py:304: DtypeWarning: Columns (71,73,77,78,79,80,82,84,85,90,91,92,93,98,99,100,101,102,103,104,105,107,108,109,110,111,115,118,120,136,137,138,141,142,143,145,146,148,149,151,166,167,168,178,180,183,184,185,190,192,193,194,195,196,197,200,201,202,203,204,205,206,209,210,211,212,213,215,217,218,219,247,248,250,251) have mixed types.Specify dtype option on import or set low_memory=False.\n",
            "  sort=sort,\n",
            "/usr/local/lib/python3.7/dist-packages/pandas/core/reshape/concat.py:304: DtypeWarning: Columns (71,73,77,78,79,80,82,84,85,90,91,92,93,98,99,100,101,102,103,104,107,108,109,110,111,115,119,121,136,138,143,145,167,168,178,180,183,184,185,190,191,192,193,194,195,196,197,200,201,202,203,204,205,206,209,210,211,212,213,215,217,218,219,247,248,249,250,251) have mixed types.Specify dtype option on import or set low_memory=False.\n",
            "  sort=sort,\n",
            "/usr/local/lib/python3.7/dist-packages/pandas/core/reshape/concat.py:304: DtypeWarning: Columns (71,73,77,78,79,80,82,84,85,86,90,91,92,93,98,99,100,101,102,103,104,107,108,109,110,111,112,113,114,115,116,117,119,120,136,137,138,141,142,143,145,146,148,149,151,166,167,168,178,180,183,184,185,189,196,197,203,204,205,213,217,218,219,247,248,249,250,251) have mixed types.Specify dtype option on import or set low_memory=False.\n",
            "  sort=sort,\n",
            "/usr/local/lib/python3.7/dist-packages/pandas/core/reshape/concat.py:304: DtypeWarning: Columns (71,73,77,78,79,80,82,84,85,87,90,91,92,93,98,99,100,101,102,103,104,107,108,109,110,111,118,120,136,137,138,139,141,142,143,145,146,148,149,151,166,167,168,172,178,180,181,183,184,185,189,190,193,194,196,197,203,204,205,209,210,211,212,213,215,217,218,219,247,248,250) have mixed types.Specify dtype option on import or set low_memory=False.\n",
            "  sort=sort,\n",
            "/usr/local/lib/python3.7/dist-packages/pandas/core/reshape/concat.py:304: DtypeWarning: Columns (71,73,77,78,79,80,82,84,85,90,91,92,93,98,99,100,101,102,103,104,107,108,109,110,111,115,118,166,167,168,178,180,183,184,185,189,196,197,203,204,205,215,247,248,250) have mixed types.Specify dtype option on import or set low_memory=False.\n",
            "  sort=sort,\n",
            "/usr/local/lib/python3.7/dist-packages/pandas/core/reshape/concat.py:304: DtypeWarning: Columns (71,73,77,78,79,80,82,84,85,86,87,90,91,92,98,99,100,101,102,103,104,107,108,109,110,111,118,120,137,141,146,148,149,151,166,172,181,184,185,189,196,197,203,204,205,215,218,219,248,249,250) have mixed types.Specify dtype option on import or set low_memory=False.\n",
            "  sort=sort,\n",
            "/usr/local/lib/python3.7/dist-packages/pandas/core/reshape/concat.py:304: DtypeWarning: Columns (71,73,77,78,79,80,82,84,85,86,87,90,91,92,93,98,99,100,101,102,103,104,107,108,109,110,111,112,113,114,116,117,118,166,169,170,171,172,173,175,176,177,181,184,185,189,193,196,197,203,204,205,209,210,211,212,213,215,217,218,219,248,249) have mixed types.Specify dtype option on import or set low_memory=False.\n",
            "  sort=sort,\n",
            "/usr/local/lib/python3.7/dist-packages/pandas/core/reshape/concat.py:304: DtypeWarning: Columns (71,73,77,78,79,80,87,93,112,113,114,116,117,118,166,169,170,171,172,173,175,176,177,181,189,193,196,197,203,204,205,209,210,211,212,213,215,217,218,219,248,249,250) have mixed types.Specify dtype option on import or set low_memory=False.\n",
            "  sort=sort,\n",
            "/usr/local/lib/python3.7/dist-packages/pandas/core/reshape/concat.py:304: DtypeWarning: Columns (71,73,77,78,79,80,82,84,85,87,90,91,92,93,98,99,100,101,102,103,104,107,108,109,110,111,112,113,114,116,117,166,169,170,171,172,173,175,176,177,181,189,196,197,203,204,205,219) have mixed types.Specify dtype option on import or set low_memory=False.\n",
            "  sort=sort,\n",
            "/usr/local/lib/python3.7/dist-packages/pandas/core/reshape/concat.py:304: DtypeWarning: Columns (71,73,77,78,79,80,82,84,85,87,90,91,92,93,98,99,100,101,102,103,104,107,108,109,110,111,112,113,114,116,117,118,166,167,168,172,178,180,181,183,184,185,189,196,197,203,204,205,217,218,219,247,248,249,250,251) have mixed types.Specify dtype option on import or set low_memory=False.\n",
            "  sort=sort,\n",
            "/usr/local/lib/python3.7/dist-packages/pandas/core/reshape/concat.py:304: DtypeWarning: Columns (71,73,77,78,79,80,82,84,85,90,91,92,93,98,99,100,101,102,103,104,107,108,109,110,111,118,166,167,168,178,180,183,184,185,189,190,194,195,196,197,200,201,202,203,204,205,206,215,217,218,219,247,248,250) have mixed types.Specify dtype option on import or set low_memory=False.\n",
            "  sort=sort,\n"
          ]
        }
      ]
    },
    {
      "cell_type": "code",
      "source": [
        "drop_cols = []\n",
        "for i in df4.columns:\n",
        "    if len(df4[i].unique())==1:\n",
        "        drop_cols.append(i)\n",
        "print(\"Total columns with only 1 unique value:\", len(drop_cols))\n",
        "df4.drop(drop_cols, 1, inplace=True)\n",
        "\n",
        "print(df4.columns)\n",
        "df4.dropna(1,inplace=True)\n",
        "df4.info()"
      ],
      "metadata": {
        "colab": {
          "base_uri": "https://localhost:8080/"
        },
        "id": "iYtUcI5YwXS3",
        "outputId": "73e269b6-a6b9-4580-e3d6-746f8d35b9d7"
      },
      "execution_count": null,
      "outputs": [
        {
          "output_type": "stream",
          "name": "stdout",
          "text": [
            "Total columns with only 1 unique value: 83\n"
          ]
        },
        {
          "output_type": "stream",
          "name": "stderr",
          "text": [
            "/usr/local/lib/python3.7/dist-packages/ipykernel_launcher.py:6: FutureWarning: In a future version of pandas all arguments of DataFrame.drop except for the argument 'labels' will be keyword-only\n",
            "  \n"
          ]
        },
        {
          "output_type": "stream",
          "name": "stdout",
          "text": [
            "Index(['frame.len', 'frame.number', 'frame.time', 'frame.time_delta',\n",
            "       'frame.time_delta_displayed', 'frame.time_epoch', 'frame.time_relative',\n",
            "       'radiotap.datarate', 'radiotap.dbm_antsignal', 'radiotap.length',\n",
            "       ...\n",
            "       'tls.alert_message.level', 'tls.app_data_proto',\n",
            "       'tls.compress_certificate.compressed_certificate_message.length',\n",
            "       'tls.handshake.extension.type',\n",
            "       'tls.handshake.extensions_key_share_group',\n",
            "       'tls.handshake.session_ticket_length', 'tls.handshake.version',\n",
            "       'tls.record.content_type', 'tls.record.version', 'Label'],\n",
            "      dtype='object', length=171)\n"
          ]
        },
        {
          "output_type": "stream",
          "name": "stderr",
          "text": [
            "/usr/local/lib/python3.7/dist-packages/ipykernel_launcher.py:9: FutureWarning: In a future version of pandas all arguments of DataFrame.dropna will be keyword-only\n",
            "  if __name__ == '__main__':\n"
          ]
        },
        {
          "output_type": "stream",
          "name": "stdout",
          "text": [
            "<class 'pandas.core.frame.DataFrame'>\n",
            "RangeIndex: 576081 entries, 0 to 576080\n",
            "Data columns (total 27 columns):\n",
            " #   Column                      Non-Null Count   Dtype  \n",
            "---  ------                      --------------   -----  \n",
            " 0   frame.len                   576081 non-null  int64  \n",
            " 1   frame.number                576081 non-null  int64  \n",
            " 2   frame.time                  576081 non-null  object \n",
            " 3   frame.time_delta            576081 non-null  float64\n",
            " 4   frame.time_delta_displayed  576081 non-null  float64\n",
            " 5   frame.time_epoch            576081 non-null  int64  \n",
            " 6   frame.time_relative         576081 non-null  float64\n",
            " 7   radiotap.dbm_antsignal      576081 non-null  int64  \n",
            " 8   radiotap.length             576081 non-null  int64  \n",
            " 9   radiotap.present.tsft       576081 non-null  object \n",
            " 10  radiotap.timestamp.ts       576081 non-null  int64  \n",
            " 11  wlan.duration               576081 non-null  int64  \n",
            " 12  wlan.fc.ds                  576081 non-null  object \n",
            " 13  wlan.fc.frag                576081 non-null  int64  \n",
            " 14  wlan.fc.order               576081 non-null  int64  \n",
            " 15  wlan.fc.moredata            576081 non-null  int64  \n",
            " 16  wlan.fc.protected           576081 non-null  int64  \n",
            " 17  wlan.fc.pwrmgt              576081 non-null  int64  \n",
            " 18  wlan.fc.type                576081 non-null  int64  \n",
            " 19  wlan.fc.retry               576081 non-null  int64  \n",
            " 20  wlan.fc.subtype             576081 non-null  int64  \n",
            " 21  wlan.ra                     576081 non-null  object \n",
            " 22  wlan_radio.duration         576081 non-null  int64  \n",
            " 23  wlan_radio.data_rate        576081 non-null  float64\n",
            " 24  wlan_radio.signal_dbm       576081 non-null  int64  \n",
            " 25  wlan_radio.phy              576081 non-null  int64  \n",
            " 26  Label                       576081 non-null  object \n",
            "dtypes: float64(4), int64(18), object(5)\n",
            "memory usage: 118.7+ MB\n"
          ]
        }
      ]
    },
    {
      "cell_type": "code",
      "source": [
        "df=pd.concat([df1, df2, df3, df4], axis=0, ignore_index=True)"
      ],
      "metadata": {
        "id": "GkTXVkNE-0_v"
      },
      "execution_count": null,
      "outputs": []
    },
    {
      "cell_type": "code",
      "source": [
        "df.info()"
      ],
      "metadata": {
        "colab": {
          "base_uri": "https://localhost:8080/"
        },
        "id": "TIfi1aSt_1Zc",
        "outputId": "3bc84f3d-8936-4679-86fb-aaebd5342138"
      },
      "execution_count": null,
      "outputs": [
        {
          "output_type": "stream",
          "name": "stdout",
          "text": [
            "<class 'pandas.core.frame.DataFrame'>\n",
            "RangeIndex: 2226070 entries, 0 to 2226069\n",
            "Data columns (total 27 columns):\n",
            " #   Column                      Dtype  \n",
            "---  ------                      -----  \n",
            " 0   wlan.fc.subtype             object \n",
            " 1   frame.len                   float64\n",
            " 2   frame.number                float64\n",
            " 3   frame.time                  object \n",
            " 4   frame.time_delta            float64\n",
            " 5   frame.time_delta_displayed  float64\n",
            " 6   frame.time_epoch            float64\n",
            " 7   frame.time_relative         float64\n",
            " 8   radiotap.dbm_antsignal      float64\n",
            " 9   radiotap.length             float64\n",
            " 10  radiotap.present.tsft       object \n",
            " 11  radiotap.timestamp.ts       float64\n",
            " 12  wlan.duration               float64\n",
            " 13  wlan.fc.ds                  object \n",
            " 14  wlan.fc.frag                float64\n",
            " 15  wlan.fc.order               float64\n",
            " 16  wlan.fc.moredata            float64\n",
            " 17  wlan.fc.protected           float64\n",
            " 18  wlan.fc.pwrmgt              float64\n",
            " 19  wlan.fc.type                float64\n",
            " 20  wlan.fc.retry               float64\n",
            " 21  wlan.ra                     object \n",
            " 22  wlan_radio.duration         float64\n",
            " 23  wlan_radio.data_rate        float64\n",
            " 24  wlan_radio.signal_dbm       float64\n",
            " 25  wlan_radio.phy              float64\n",
            " 26  Label                       object \n",
            "dtypes: float64(21), object(6)\n",
            "memory usage: 458.6+ MB\n"
          ]
        }
      ]
    },
    {
      "cell_type": "code",
      "source": [
        "df.dropna(1, how = 'all', inplace=True)"
      ],
      "metadata": {
        "colab": {
          "base_uri": "https://localhost:8080/"
        },
        "id": "VtiN1ZMlxJHA",
        "outputId": "e99b2e07-929d-4268-99f5-2f51a0959454"
      },
      "execution_count": null,
      "outputs": [
        {
          "output_type": "stream",
          "name": "stderr",
          "text": [
            "/usr/local/lib/python3.7/dist-packages/ipykernel_launcher.py:1: FutureWarning: In a future version of pandas all arguments of DataFrame.dropna will be keyword-only\n",
            "  \"\"\"Entry point for launching an IPython kernel.\n"
          ]
        }
      ]
    },
    {
      "cell_type": "code",
      "source": [
        "df.info()"
      ],
      "metadata": {
        "colab": {
          "base_uri": "https://localhost:8080/"
        },
        "id": "Av6JQzbTxh0j",
        "outputId": "592163ce-643d-4273-d965-6c35b08fcf25"
      },
      "execution_count": null,
      "outputs": [
        {
          "output_type": "stream",
          "name": "stdout",
          "text": [
            "<class 'pandas.core.frame.DataFrame'>\n",
            "RangeIndex: 2226070 entries, 0 to 2226069\n",
            "Data columns (total 27 columns):\n",
            " #   Column                      Dtype  \n",
            "---  ------                      -----  \n",
            " 0   wlan.fc.subtype             object \n",
            " 1   frame.len                   float64\n",
            " 2   frame.number                float64\n",
            " 3   frame.time                  object \n",
            " 4   frame.time_delta            float64\n",
            " 5   frame.time_delta_displayed  float64\n",
            " 6   frame.time_epoch            float64\n",
            " 7   frame.time_relative         float64\n",
            " 8   radiotap.dbm_antsignal      float64\n",
            " 9   radiotap.length             float64\n",
            " 10  radiotap.present.tsft       object \n",
            " 11  radiotap.timestamp.ts       float64\n",
            " 12  wlan.duration               float64\n",
            " 13  wlan.fc.ds                  object \n",
            " 14  wlan.fc.frag                float64\n",
            " 15  wlan.fc.order               float64\n",
            " 16  wlan.fc.moredata            float64\n",
            " 17  wlan.fc.protected           float64\n",
            " 18  wlan.fc.pwrmgt              float64\n",
            " 19  wlan.fc.type                float64\n",
            " 20  wlan.fc.retry               float64\n",
            " 21  wlan.ra                     object \n",
            " 22  wlan_radio.duration         float64\n",
            " 23  wlan_radio.data_rate        float64\n",
            " 24  wlan_radio.signal_dbm       float64\n",
            " 25  wlan_radio.phy              float64\n",
            " 26  Label                       object \n",
            "dtypes: float64(21), object(6)\n",
            "memory usage: 458.6+ MB\n"
          ]
        }
      ]
    },
    {
      "cell_type": "code",
      "source": [
        " df.replace([np.inf, -np.inf], 0, inplace=True)\n",
        " df.fillna(0, inplace = True)\n",
        " "
      ],
      "metadata": {
        "id": "TJNkWlRvzNgy"
      },
      "execution_count": null,
      "outputs": []
    },
    {
      "cell_type": "code",
      "source": [
        "df = df[df.Label != 0]\n",
        "#to remove labels that had NaN value which was replaced by zero above."
      ],
      "metadata": {
        "id": "lTrkwaVR0xnC"
      },
      "execution_count": null,
      "outputs": []
    },
    {
      "cell_type": "code",
      "source": [
        "#Split dataset on train and test\n",
        "from sklearn.model_selection import train_test_split\n",
        "train, test=train_test_split(df,test_size=0.3, random_state=10)\n",
        "\n",
        "#Exploratory Analysis\n",
        "# Descriptive statistics\n",
        "train.describe()\n",
        "test.describe()\n",
        "train['Label'].value_counts()\n",
        "test['Label'].value_counts()"
      ],
      "metadata": {
        "colab": {
          "base_uri": "https://localhost:8080/"
        },
        "id": "4ih8U2Fu_4hi",
        "outputId": "d80e7157-15e9-4b3b-8130-d8fbab47a784"
      },
      "execution_count": null,
      "outputs": [
        {
          "output_type": "execute_result",
          "data": {
            "text/plain": [
              "Normal    403624\n",
              "Botnet      9199\n",
              "Name: Label, dtype: int64"
            ]
          },
          "metadata": {},
          "execution_count": 54
        }
      ]
    },
    {
      "cell_type": "code",
      "source": [
        "#Scalling numerical attributes\n",
        "from sklearn.preprocessing import StandardScaler\n",
        "scaler = StandardScaler()\n",
        "\n",
        "# extract numerical attributes and scale it to have zero mean and unit variance  \n",
        "cols = train.select_dtypes(include=['float64','int64']).columns\n",
        "sc_train = scaler.fit_transform(train.select_dtypes(include=['float64','int64']))\n",
        "sc_test = scaler.fit_transform(test.select_dtypes(include=['float64','int64']))\n",
        "\n",
        "# turn the result back to a dataframe\n",
        "sc_traindf = pd.DataFrame(sc_train, columns = cols)\n",
        "sc_testdf = pd.DataFrame(sc_test, columns = cols)"
      ],
      "metadata": {
        "id": "zNOOQIu-_9tT"
      },
      "execution_count": null,
      "outputs": []
    },
    {
      "cell_type": "code",
      "source": [
        "from sklearn.preprocessing import OneHotEncoder \n",
        "\n",
        "#creating one hot encoder object \n",
        "onehotencoder = OneHotEncoder() \n",
        "\n",
        "trainDep = train['Label'].values.reshape(-1,1)\n",
        "trainDep = onehotencoder.fit_transform(trainDep).toarray()\n",
        "testDep = test['Label'].values.reshape(-1,1)\n",
        "testDep = onehotencoder.fit_transform(testDep).toarray()"
      ],
      "metadata": {
        "id": "OUrygBlVAEOR"
      },
      "execution_count": null,
      "outputs": []
    },
    {
      "cell_type": "code",
      "source": [
        "train_X=sc_traindf\n",
        "train_y=trainDep[:,0]\n",
        "\n",
        "test_X=sc_testdf\n",
        "test_y=testDep[:,0]"
      ],
      "metadata": {
        "id": "wBKLI2cHAHej"
      },
      "execution_count": null,
      "outputs": []
    },
    {
      "cell_type": "code",
      "source": [
        "from sklearn.decomposition import PCA\n",
        "\n",
        "pca = PCA()\n",
        "pca.fit(train_X)\n",
        "\n",
        "plt.plot(pca.explained_variance_ratio_.cumsum(), lw=3, color='#800080')\n",
        "plt.title('Cumulative variance', size=20)\n",
        "plt.show()"
      ],
      "metadata": {
        "colab": {
          "base_uri": "https://localhost:8080/",
          "height": 286
        },
        "id": "3L--FNjoEDEY",
        "outputId": "167ebf8b-b579-4582-fd0e-cd73a0591be2"
      },
      "execution_count": null,
      "outputs": [
        {
          "output_type": "display_data",
          "data": {
            "text/plain": [
              "<Figure size 432x288 with 1 Axes>"
            ],
            "image/png": "[encoded data removed]"
          },
          "metadata": {
            "needs_background": "light"
          }
        }
      ]
    },
    {
      "cell_type": "code",
      "source": [
        "Loads = pd.DataFrame(\n",
        "    data=pca.components_.T * np.sqrt(pca.explained_variance_), \n",
        "    columns=[f'PC{i}' for i in range(1, len(train_X.columns) + 1)],\n",
        "    index=train_X.columns\n",
        ")\n",
        "Loads.head()"
      ],
      "metadata": {
        "colab": {
          "base_uri": "https://localhost:8080/",
          "height": 386
        },
        "id": "b_-C7cR2EKcb",
        "outputId": "49cfd695-126b-40f0-bcb1-60d305d8cc5a"
      },
      "execution_count": null,
      "outputs": [
        {
          "output_type": "execute_result",
          "data": {
            "text/plain": [
              "                                 PC1       PC2       PC3       PC4       PC5  \\\n",
              "index                      -0.070759 -0.996502  0.017222 -0.009536  0.002455   \n",
              "frame.len                   0.851004 -0.029146  0.082512 -0.094825  0.005838   \n",
              "frame.number               -0.070759 -0.996502  0.017222 -0.009536  0.002455   \n",
              "frame.time_delta           -0.062964  0.027183  0.901331  0.413268 -0.002847   \n",
              "frame.time_delta_displayed -0.062964  0.027183  0.901331  0.413268 -0.002847   \n",
              "\n",
              "                                 PC6       PC7       PC8       PC9      PC10  \\\n",
              "index                      -0.006969  0.006918 -0.005198 -0.005034  0.004690   \n",
              "frame.len                  -0.064032  0.072648 -0.037944 -0.005101  0.008076   \n",
              "frame.number               -0.006969  0.006918 -0.005198 -0.005034  0.004690   \n",
              "frame.time_delta            0.051910 -0.050576 -0.078399  0.008016  0.000696   \n",
              "frame.time_delta_displayed  0.051910 -0.050576 -0.078399  0.008016  0.000696   \n",
              "\n",
              "                            ...      PC13      PC14      PC15      PC16  \\\n",
              "index                       ...  0.000361  0.001598  0.000002 -0.000544   \n",
              "frame.len                   ... -0.099113  0.015812 -0.000091 -0.006289   \n",
              "frame.number                ...  0.000361  0.001598  0.000002 -0.000544   \n",
              "frame.time_delta            ... -0.002913  0.000721 -0.000074  0.000141   \n",
              "frame.time_delta_displayed  ... -0.002913  0.000721 -0.000074  0.000141   \n",
              "\n",
              "                                PC17      PC18          PC19          PC20  \\\n",
              "index                      -0.036205 -0.000046  7.071581e-07 -9.079299e-08   \n",
              "frame.len                  -0.000159 -0.000359  8.659951e-08  1.415780e-11   \n",
              "frame.number               -0.036206 -0.000046  7.005556e-07  9.079361e-08   \n",
              "frame.time_delta           -0.000003  0.000006 -4.123682e-09 -3.882389e-13   \n",
              "frame.time_delta_displayed -0.000003  0.000006 -4.123682e-09 -3.882246e-13   \n",
              "\n",
              "                                    PC21          PC22  \n",
              "index                       1.259287e-06 -4.316363e-27  \n",
              "frame.len                  -3.807095e-13 -3.349837e-33  \n",
              "frame.number               -1.259267e-06  4.316482e-27  \n",
              "frame.time_delta           -2.440521e-14  7.336412e-17  \n",
              "frame.time_delta_displayed -2.455337e-14 -7.336412e-17  \n",
              "\n",
              "[5 rows x 22 columns]"
            ],
            "text/html": [
              "\n",
              "  <div id=\"df-c20701b1-f31b-4b5b-bcee-e26f18748e66\">\n",
              "    <div class=\"colab-df-container\">\n",
              "      <div>\n",
              "<style scoped>\n",
              "    .dataframe tbody tr th:only-of-type {\n",
              "        vertical-align: middle;\n",
              "    }\n",
              "\n",
              "    .dataframe tbody tr th {\n",
              "        vertical-align: top;\n",
              "    }\n",
              "\n",
              "    .dataframe thead th {\n",
              "        text-align: right;\n",
              "    }\n",
              "</style>\n",
              "<table border=\"1\" class=\"dataframe\">\n",
              "  <thead>\n",
              "    <tr style=\"text-align: right;\">\n",
              "      <th></th>\n",
              "      <th>PC1</th>\n",
              "      <th>PC2</th>\n",
              "      <th>PC3</th>\n",
              "      <th>PC4</th>\n",
              "      <th>PC5</th>\n",
              "      <th>PC6</th>\n",
              "      <th>PC7</th>\n",
              "      <th>PC8</th>\n",
              "      <th>PC9</th>\n",
              "      <th>PC10</th>\n",
              "      <th>...</th>\n",
              "      <th>PC13</th>\n",
              "      <th>PC14</th>\n",
              "      <th>PC15</th>\n",
              "      <th>PC16</th>\n",
              "      <th>PC17</th>\n",
              "      <th>PC18</th>\n",
              "      <th>PC19</th>\n",
              "      <th>PC20</th>\n",
              "      <th>PC21</th>\n",
              "      <th>PC22</th>\n",
              "    </tr>\n",
              "  </thead>\n",
              "  <tbody>\n",
              "    <tr>\n",
              "      <th>index</th>\n",
              "      <td>-0.070759</td>\n",
              "      <td>-0.996502</td>\n",
              "      <td>0.017222</td>\n",
              "      <td>-0.009536</td>\n",
              "      <td>0.002455</td>\n",
              "      <td>-0.006969</td>\n",
              "      <td>0.006918</td>\n",
              "      <td>-0.005198</td>\n",
              "      <td>-0.005034</td>\n",
              "      <td>0.004690</td>\n",
              "      <td>...</td>\n",
              "      <td>0.000361</td>\n",
              "      <td>0.001598</td>\n",
              "      <td>0.000002</td>\n",
              "      <td>-0.000544</td>\n",
              "      <td>-0.036205</td>\n",
              "      <td>-0.000046</td>\n",
              "      <td>7.071581e-07</td>\n",
              "      <td>-9.079299e-08</td>\n",
              "      <td>1.259287e-06</td>\n",
              "      <td>-4.316363e-27</td>\n",
              "    </tr>\n",
              "    <tr>\n",
              "      <th>frame.len</th>\n",
              "      <td>0.851004</td>\n",
              "      <td>-0.029146</td>\n",
              "      <td>0.082512</td>\n",
              "      <td>-0.094825</td>\n",
              "      <td>0.005838</td>\n",
              "      <td>-0.064032</td>\n",
              "      <td>0.072648</td>\n",
              "      <td>-0.037944</td>\n",
              "      <td>-0.005101</td>\n",
              "      <td>0.008076</td>\n",
              "      <td>...</td>\n",
              "      <td>-0.099113</td>\n",
              "      <td>0.015812</td>\n",
              "      <td>-0.000091</td>\n",
              "      <td>-0.006289</td>\n",
              "      <td>-0.000159</td>\n",
              "      <td>-0.000359</td>\n",
              "      <td>8.659951e-08</td>\n",
              "      <td>1.415780e-11</td>\n",
              "      <td>-3.807095e-13</td>\n",
              "      <td>-3.349837e-33</td>\n",
              "    </tr>\n",
              "    <tr>\n",
              "      <th>frame.number</th>\n",
              "      <td>-0.070759</td>\n",
              "      <td>-0.996502</td>\n",
              "      <td>0.017222</td>\n",
              "      <td>-0.009536</td>\n",
              "      <td>0.002455</td>\n",
              "      <td>-0.006969</td>\n",
              "      <td>0.006918</td>\n",
              "      <td>-0.005198</td>\n",
              "      <td>-0.005034</td>\n",
              "      <td>0.004690</td>\n",
              "      <td>...</td>\n",
              "      <td>0.000361</td>\n",
              "      <td>0.001598</td>\n",
              "      <td>0.000002</td>\n",
              "      <td>-0.000544</td>\n",
              "      <td>-0.036206</td>\n",
              "      <td>-0.000046</td>\n",
              "      <td>7.005556e-07</td>\n",
              "      <td>9.079361e-08</td>\n",
              "      <td>-1.259267e-06</td>\n",
              "      <td>4.316482e-27</td>\n",
              "    </tr>\n",
              "    <tr>\n",
              "      <th>frame.time_delta</th>\n",
              "      <td>-0.062964</td>\n",
              "      <td>0.027183</td>\n",
              "      <td>0.901331</td>\n",
              "      <td>0.413268</td>\n",
              "      <td>-0.002847</td>\n",
              "      <td>0.051910</td>\n",
              "      <td>-0.050576</td>\n",
              "      <td>-0.078399</td>\n",
              "      <td>0.008016</td>\n",
              "      <td>0.000696</td>\n",
              "      <td>...</td>\n",
              "      <td>-0.002913</td>\n",
              "      <td>0.000721</td>\n",
              "      <td>-0.000074</td>\n",
              "      <td>0.000141</td>\n",
              "      <td>-0.000003</td>\n",
              "      <td>0.000006</td>\n",
              "      <td>-4.123682e-09</td>\n",
              "      <td>-3.882389e-13</td>\n",
              "      <td>-2.440521e-14</td>\n",
              "      <td>7.336412e-17</td>\n",
              "    </tr>\n",
              "    <tr>\n",
              "      <th>frame.time_delta_displayed</th>\n",
              "      <td>-0.062964</td>\n",
              "      <td>0.027183</td>\n",
              "      <td>0.901331</td>\n",
              "      <td>0.413268</td>\n",
              "      <td>-0.002847</td>\n",
              "      <td>0.051910</td>\n",
              "      <td>-0.050576</td>\n",
              "      <td>-0.078399</td>\n",
              "      <td>0.008016</td>\n",
              "      <td>0.000696</td>\n",
              "      <td>...</td>\n",
              "      <td>-0.002913</td>\n",
              "      <td>0.000721</td>\n",
              "      <td>-0.000074</td>\n",
              "      <td>0.000141</td>\n",
              "      <td>-0.000003</td>\n",
              "      <td>0.000006</td>\n",
              "      <td>-4.123682e-09</td>\n",
              "      <td>-3.882246e-13</td>\n",
              "      <td>-2.455337e-14</td>\n",
              "      <td>-7.336412e-17</td>\n",
              "    </tr>\n",
              "  </tbody>\n",
              "</table>\n",
              "<p>5 rows × 22 columns</p>\n",
              "</div>\n",
              "      <button class=\"colab-df-convert\" onclick=\"convertToInteractive('df-c20701b1-f31b-4b5b-bcee-e26f18748e66')\"\n",
              "              title=\"Convert this dataframe to an interactive table.\"\n",
              "              style=\"display:none;\">\n",
              "        \n",
              "  <svg xmlns=\"http://www.w3.org/2000/svg\" height=\"24px\"viewBox=\"0 0 24 24\"\n",
              "       width=\"24px\">\n",
              "    <path d=\"M0 0h24v24H0V0z\" fill=\"none\"/>\n",
              "    <path d=\"M18.56 5.44l.94 2.06.94-2.06 2.06-.94-2.06-.94-.94-2.06-.94 2.06-2.06.94zm-11 1L8.5 8.5l.94-2.06 2.06-.94-2.06-.94L8.5 2.5l-.94 2.06-2.06.94zm10 10l.94 2.06.94-2.06 2.06-.94-2.06-.94-.94-2.06-.94 2.06-2.06.94z\"/><path d=\"M17.41 7.96l-1.37-1.37c-.4-.4-.92-.59-1.43-.59-.52 0-1.04.2-1.43.59L10.3 9.45l-7.72 7.72c-.78.78-.78 2.05 0 2.83L4 21.41c.39.39.9.59 1.41.59.51 0 1.02-.2 1.41-.59l7.78-7.78 2.81-2.81c.8-.78.8-2.07 0-2.86zM5.41 20L4 18.59l7.72-7.72 1.47 1.35L5.41 20z\"/>\n",
              "  </svg>\n",
              "      </button>\n",
              "      \n",
              "  <style>\n",
              "    .colab-df-container {\n",
              "      display:flex;\n",
              "      flex-wrap:wrap;\n",
              "      gap: 12px;\n",
              "    }\n",
              "\n",
              "    .colab-df-convert {\n",
              "      background-color: #E8F0FE;\n",
              "      border: none;\n",
              "      border-radius: 50%;\n",
              "      cursor: pointer;\n",
              "      display: none;\n",
              "      fill: #1967D2;\n",
              "      height: 32px;\n",
              "      padding: 0 0 0 0;\n",
              "      width: 32px;\n",
              "    }\n",
              "\n",
              "    .colab-df-convert:hover {\n",
              "      background-color: #E2EBFA;\n",
              "      box-shadow: 0px 1px 2px rgba(60, 64, 67, 0.3), 0px 1px 3px 1px rgba(60, 64, 67, 0.15);\n",
              "      fill: #174EA6;\n",
              "    }\n",
              "\n",
              "    [theme=dark] .colab-df-convert {\n",
              "      background-color: #3B4455;\n",
              "      fill: #D2E3FC;\n",
              "    }\n",
              "\n",
              "    [theme=dark] .colab-df-convert:hover {\n",
              "      background-color: #434B5C;\n",
              "      box-shadow: 0px 1px 3px 1px rgba(0, 0, 0, 0.15);\n",
              "      filter: drop-shadow(0px 1px 2px rgba(0, 0, 0, 0.3));\n",
              "      fill: #FFFFFF;\n",
              "    }\n",
              "  </style>\n",
              "\n",
              "      <script>\n",
              "        const buttonEl =\n",
              "          document.querySelector('#df-c20701b1-f31b-4b5b-bcee-e26f18748e66 button.colab-df-convert');\n",
              "        buttonEl.style.display =\n",
              "          google.colab.kernel.accessAllowed ? 'block' : 'none';\n",
              "\n",
              "        async function convertToInteractive(key) {\n",
              "          const element = document.querySelector('#df-c20701b1-f31b-4b5b-bcee-e26f18748e66');\n",
              "          const dataTable =\n",
              "            await google.colab.kernel.invokeFunction('convertToInteractive',\n",
              "                                                     [key], {});\n",
              "          if (!dataTable) return;\n",
              "\n",
              "          const docLinkHtml = 'Like what you see? Visit the ' +\n",
              "            '<a target=\"_blank\" href=https://colab.research.google.com/notebooks/data_table.ipynb>data table notebook</a>'\n",
              "            + ' to learn more about interactive tables.';\n",
              "          element.innerHTML = '';\n",
              "          dataTable['output_type'] = 'display_data';\n",
              "          await google.colab.output.renderOutput(dataTable, element);\n",
              "          const docLink = document.createElement('div');\n",
              "          docLink.innerHTML = docLinkHtml;\n",
              "          element.appendChild(docLink);\n",
              "        }\n",
              "      </script>\n",
              "    </div>\n",
              "  </div>\n",
              "  "
            ]
          },
          "metadata": {},
          "execution_count": 59
        }
      ]
    },
    {
      "cell_type": "code",
      "source": [
        "pc1_Loads = Loads.sort_values(by='PC1', ascending=False)[['PC1']]\n",
        "pc1_Loads = pc1_Loads.reset_index()\n",
        "pc1_Loads.columns = ['Feature', 'CorrelationtoPC1']\n",
        "\n",
        "plt.bar(x=pc1_Loads['Feature'], height=pc1_Loads['CorrelationtoPC1'], color='#800080')\n",
        "plt.title('PCA scores', size=20)\n",
        "plt.xticks(rotation='vertical')\n",
        "plt.show()"
      ],
      "metadata": {
        "colab": {
          "base_uri": "https://localhost:8080/",
          "height": 415
        },
        "id": "zN00MA7rEOoA",
        "outputId": "cd8b5882-4517-4db5-f856-a136240f1544"
      },
      "execution_count": null,
      "outputs": [
        {
          "output_type": "display_data",
          "data": {
            "text/plain": [
              "<Figure size 432x288 with 1 Axes>"
            ],
            "image/png": "[encoded data removed]"
          },
          "metadata": {
            "needs_background": "light"
          }
        }
      ]
    }
  ]
}