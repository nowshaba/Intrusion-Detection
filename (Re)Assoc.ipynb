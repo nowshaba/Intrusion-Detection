{
  "nbformat": 4,
  "nbformat_minor": 0,
  "metadata": {
    "colab": {
      "name": "(Re)Assoc.ipynb",
      "provenance": [],
      "authorship_tag": "ABX9TyN9fuZY33DEvtayJqnYTLyW",
      "include_colab_link": true
    },
    "kernelspec": {
      "name": "python3",
      "display_name": "Python 3"
    },
    "language_info": {
      "name": "python"
    },
    "accelerator": "GPU",
    "gpuClass": "standard"
  },
  "cells": [
    {
      "cell_type": "markdown",
      "metadata": {
        "id": "view-in-github",
        "colab_type": "text"
      },
      "source": [
        "<a href=\"https://colab.research.google.com/github/nowshaba/Intrusion-Detection/blob/main/(Re)Assoc.ipynb\" target=\"_parent\"><img src=\"https://colab.research.google.com/assets/colab-badge.svg\" alt=\"Open In Colab\"/></a>"
      ]
    },
    {
      "cell_type": "code",
      "execution_count": null,
      "metadata": {
        "id": "9CL1iwMd_Gk2"
      },
      "outputs": [],
      "source": [
        "\n",
        "import numpy as np\n",
        "import pandas as pd \n",
        "import matplotlib.pyplot as plt\n",
        "import seaborn as sns\n",
        "import imblearn\n",
        "import sklearn.metrics as m\n",
        "import keras\n",
        "import tensorflow as tf\n",
        "import sklearn\n",
        "import tensorboard"
      ]
    },
    {
      "cell_type": "code",
      "source": [
        "from google.colab import drive\n",
        "drive.mount('/content/drive/')"
      ],
      "metadata": {
        "colab": {
          "base_uri": "https://localhost:8080/"
        },
        "id": "GDEbhiFr_igI",
        "outputId": "5d8b15d7-fba8-4d87-991e-d5637b27fe38"
      },
      "execution_count": null,
      "outputs": [
        {
          "output_type": "stream",
          "name": "stdout",
          "text": [
            "Mounted at /content/drive/\n"
          ]
        }
      ]
    },
    {
      "cell_type": "code",
      "source": [
        "#Avoid warnings\n",
        "import warnings\n",
        "warnings.filterwarnings('ignore')\n",
        "#Settings\n",
        "pd.set_option('display.max_columns', None)\n",
        "pd.set_option('display.max_rows', None)\n",
        "\n",
        "#Import  Data\n",
        "j=0\n",
        "n=0\n",
        "#to check whih files have both attack and normal labels\n",
        "for j in range(0,37):\n",
        "  df3=pd.read_csv(\"/content/drive/MyDrive/AWID3_Dataset_CSV/CSV/3.(Re)Assoc/(Re)Assoc_\"+str(j)+\".csv\")\n",
        "  j+1\n",
        "  for i in df3['Label']:\n",
        "    if (i=='(Re)Assoc'):\n",
        "      n=1\n",
        "  if (n==1):\n",
        "    print(\"n is\",n, \"and j is\",j)"
      ],
      "metadata": {
        "colab": {
          "base_uri": "https://localhost:8080/"
        },
        "id": "PN-HMFQA_lWv",
        "outputId": "dc6ed6eb-d9e7-41c9-fa51-9c5ac4df3ca8"
      },
      "execution_count": null,
      "outputs": [
        {
          "output_type": "stream",
          "name": "stdout",
          "text": [
            "n is 1 and j is 22\n",
            "n is 1 and j is 23\n",
            "n is 1 and j is 24\n",
            "n is 1 and j is 25\n",
            "n is 1 and j is 26\n",
            "n is 1 and j is 27\n",
            "n is 1 and j is 28\n",
            "n is 1 and j is 29\n",
            "n is 1 and j is 30\n",
            "n is 1 and j is 31\n",
            "n is 1 and j is 32\n",
            "n is 1 and j is 33\n",
            "n is 1 and j is 34\n",
            "n is 1 and j is 35\n",
            "n is 1 and j is 36\n"
          ]
        }
      ]
    },
    {
      "cell_type": "code",
      "source": [
        "#much better than this is to put all the desired csv files in this case from 21 to 32 in one folder and use GLOB to put them in one df\n",
        "df1 = pd.concat(\n",
        "    map(pd.read_csv,[\"/content/drive/MyDrive/AWID3_Dataset_CSV/CSV/3.(Re)Assoc/(Re)Assoc_22.csv\",\"/content/drive/MyDrive/AWID3_Dataset_CSV/CSV/3.(Re)Assoc/(Re)Assoc_23.csv\",\"/content/drive/MyDrive/AWID3_Dataset_CSV/CSV/3.(Re)Assoc/(Re)Assoc_24.csv\",\"/content/drive/MyDrive/AWID3_Dataset_CSV/CSV/3.(Re)Assoc/(Re)Assoc_25.csv\",\"/content/drive/MyDrive/AWID3_Dataset_CSV/CSV/3.(Re)Assoc/(Re)Assoc_26.csv\",\"/content/drive/MyDrive/AWID3_Dataset_CSV/CSV/3.(Re)Assoc/(Re)Assoc_27.csv\",\"/content/drive/MyDrive/AWID3_Dataset_CSV/CSV/3.(Re)Assoc/(Re)Assoc_28.csv\",\"/content/drive/MyDrive/AWID3_Dataset_CSV/CSV/3.(Re)Assoc/(Re)Assoc_29.csv\",\"/content/drive/MyDrive/AWID3_Dataset_CSV/CSV/3.(Re)Assoc/(Re)Assoc_30.csv\",\"/content/drive/MyDrive/AWID3_Dataset_CSV/CSV/3.(Re)Assoc/(Re)Assoc_31.csv\",\"/content/drive/MyDrive/AWID3_Dataset_CSV/CSV/3.(Re)Assoc/(Re)Assoc_32.csv\",\"/content/drive/MyDrive/AWID3_Dataset_CSV/CSV/3.(Re)Assoc/(Re)Assoc_33.csv\",\"/content/drive/MyDrive/AWID3_Dataset_CSV/CSV/3.(Re)Assoc/(Re)Assoc_34.csv\",\"/content/drive/MyDrive/AWID3_Dataset_CSV/CSV/3.(Re)Assoc/(Re)Assoc_35.csv\",\"/content/drive/MyDrive/AWID3_Dataset_CSV/CSV/3.(Re)Assoc/(Re)Assoc_36.csv\"]), ignore_index=True)"
      ],
      "metadata": {
        "id": "ZEJQZjSs_pRc",
        "colab": {
          "base_uri": "https://localhost:8080/"
        },
        "outputId": "e2fbddd2-5bfc-428b-9f45-e59ac798672d"
      },
      "execution_count": null,
      "outputs": [
        {
          "output_type": "stream",
          "name": "stderr",
          "text": [
            "/usr/local/lib/python3.7/dist-packages/pandas/core/reshape/concat.py:304: DtypeWarning: Columns (71,73,77,78,79,80,82,84,85,90,91,92,93,98,99,100,101,102,103,104,105,107,108,109,110,111,115,118,120,137,146,148,149,151,166,167,168,178,180,183,184,185,189,190,192,193,194,195,196,197,200,201,202,203,204,205,206,209,210,211,212,213,215,217,218,219,244,247,248,250,251,252) have mixed types.Specify dtype option on import or set low_memory=False.\n",
            "  sort=sort,\n",
            "/usr/local/lib/python3.7/dist-packages/pandas/core/reshape/concat.py:304: DtypeWarning: Columns (58,71,73,77,78,79,80,82,84,85,90,91,92,93,94,96,98,99,100,101,102,103,104,105,107,108,109,110,111,115,118,122,166,167,168,178,180,183,184,185,189,190,192,193,194,195,196,197,200,201,202,203,204,205,206,209,210,211,212,213,215,217,218,219,247,248,250,251) have mixed types.Specify dtype option on import or set low_memory=False.\n",
            "  sort=sort,\n",
            "/usr/local/lib/python3.7/dist-packages/pandas/core/reshape/concat.py:304: DtypeWarning: Columns (20,21,43,44,45,62,65,71,73,77,78,79,80,82,84,85,87,90,91,92,93,94,96,98,99,100,101,102,103,104,107,108,109,110,111,112,113,114,116,117,118,166,167,168,169,170,171,172,173,175,176,177,178,180,181,183,184,185,189,190,192,193,194,195,196,197,200,201,202,203,204,205,206,209,210,211,212,213,215,217,218,219,247,248,249,250,251) have mixed types.Specify dtype option on import or set low_memory=False.\n",
            "  sort=sort,\n",
            "/usr/local/lib/python3.7/dist-packages/pandas/core/reshape/concat.py:304: DtypeWarning: Columns (20,21,43,44,45,62,65,71,73,77,78,79,80,82,84,85,87,90,91,92,93,94,96,98,99,100,101,102,103,104,107,108,109,110,111,112,113,114,116,117,118,166,167,168,169,170,171,172,173,175,176,177,181,183,184,185,186,189,190,192,193,194,195,196,197,200,201,202,203,204,205,206,209,210,211,212,213,215,217,218,219,247,248,249,250) have mixed types.Specify dtype option on import or set low_memory=False.\n",
            "  sort=sort,\n",
            "/usr/local/lib/python3.7/dist-packages/pandas/core/reshape/concat.py:304: DtypeWarning: Columns (20,21,43,44,45,62,65,71,73,77,78,79,80,90,91,92,93,94,96,98,99,100,101,102,103,104,107,108,109,110,111,112,113,114,116,117,118,166,167,168,169,170,171,172,173,175,176,177,178,180,181,183,184,185,186,189,190,192,193,194,195,196,197,200,201,202,203,204,205,206,209,210,211,212,213,215,217,218,219,248,249) have mixed types.Specify dtype option on import or set low_memory=False.\n",
            "  sort=sort,\n",
            "/usr/local/lib/python3.7/dist-packages/pandas/core/reshape/concat.py:304: DtypeWarning: Columns (20,21,43,44,45,62,65,71,73,77,78,79,80,82,84,85,86,90,91,92,93,94,96,98,99,100,101,102,103,104,105,107,108,109,110,111,118,166,167,168,178,180,183,184,185,190,192,193,194,196,197,203,204,205,209,210,211,212,213,215,217,218,219,244,247,248,249,250,251,252) have mixed types.Specify dtype option on import or set low_memory=False.\n",
            "  sort=sort,\n",
            "/usr/local/lib/python3.7/dist-packages/pandas/core/reshape/concat.py:304: DtypeWarning: Columns (71,73,77,78,79,80,82,84,85,90,91,92,93,94,96,98,99,100,101,102,103,104,105,107,108,109,110,111,112,113,114,115,116,117,118,166,167,168,169,170,171,172,173,175,176,177,178,180,181,183,184,185,189,190,192,193,194,195,196,197,200,201,202,203,204,205,206,209,210,211,212,213,217,247,248,249,250,251) have mixed types.Specify dtype option on import or set low_memory=False.\n",
            "  sort=sort,\n",
            "/usr/local/lib/python3.7/dist-packages/pandas/core/reshape/concat.py:304: DtypeWarning: Columns (71,73,77,78,79,80,82,84,85,90,91,92,93,94,96,98,99,100,101,102,103,104,107,108,109,110,111,118,132,166,167,168,183,184,185,189,190,192,193,194,195,196,200,201,202,203,204,205,206,209,210,211,212,213,215,217,218,219,247,248,249,250,251) have mixed types.Specify dtype option on import or set low_memory=False.\n",
            "  sort=sort,\n",
            "/usr/local/lib/python3.7/dist-packages/pandas/core/reshape/concat.py:304: DtypeWarning: Columns (71,73,77,78,79,80,82,84,85,86,90,91,92,93,98,99,100,101,102,103,104,105,107,108,109,110,111,118,166,167,168,178,180,183,184,185,189,190,192,193,194,195,196,197,200,201,202,203,204,205,206,209,210,211,212,213,215,217,218,219,247,248,249,250,251) have mixed types.Specify dtype option on import or set low_memory=False.\n",
            "  sort=sort,\n",
            "/usr/local/lib/python3.7/dist-packages/pandas/core/reshape/concat.py:304: DtypeWarning: Columns (71,73,77,78,79,80,82,84,85,90,91,92,93,94,96,98,99,100,101,102,103,104,105,107,108,109,110,111,115,118,119,120,137,141,142,146,148,149,151,166,167,168,178,180,183,184,185,189,190,192,193,194,195,196,197,200,201,202,203,204,205,206,209,210,211,212,213,215,217,218,219,244,247,248,249,250,251,252) have mixed types.Specify dtype option on import or set low_memory=False.\n",
            "  sort=sort,\n",
            "/usr/local/lib/python3.7/dist-packages/pandas/core/reshape/concat.py:304: DtypeWarning: Columns (71,73,77,78,79,80,82,84,85,90,91,92,93,94,96,98,99,100,101,102,103,104,107,108,109,110,111,115,118,119,139,141,142,166,167,168,178,180,183,184,185,189,190,192,193,194,195,196,200,201,202,203,204,205,206,209,210,211,212,213,215,217,218,219,247,248,249,250,251) have mixed types.Specify dtype option on import or set low_memory=False.\n",
            "  sort=sort,\n",
            "/usr/local/lib/python3.7/dist-packages/pandas/core/reshape/concat.py:304: DtypeWarning: Columns (20,21,43,44,45,62,65,71,73,77,78,79,80,82,84,85,86,90,91,92,93,94,96,98,99,100,101,102,103,104,107,108,109,110,111,112,113,114,116,117,118,120,137,146,148,149,151,166,169,170,171,172,173,175,176,177,181,186,189,190,192,193,194,195,196,197,200,201,202,203,204,205,206,209,210,211,212,213,215,217,218,219,248,249) have mixed types.Specify dtype option on import or set low_memory=False.\n",
            "  sort=sort,\n",
            "/usr/local/lib/python3.7/dist-packages/pandas/core/reshape/concat.py:304: DtypeWarning: Columns (20,21,23,24,43,48,62,65,71,73,77,78,79,80,94,96,112,113,114,116,117,118,166,167,168,169,170,171,172,173,175,176,177,178,180,181,183,184,185,189,192,193,194,196,197,203,204,205,209,210,211,212,213,215,217,218,219,247,248,249,250) have mixed types.Specify dtype option on import or set low_memory=False.\n",
            "  sort=sort,\n",
            "/usr/local/lib/python3.7/dist-packages/pandas/core/reshape/concat.py:304: DtypeWarning: Columns (20,21,43,62,65,71,73,77,78,79,80,82,84,85,90,91,92,93,98,99,100,101,102,103,104,107,108,109,110,111,112,113,114,115,116,117,118,166,167,168,178,180,183,184,185,189,190,192,193,194,195,196,197,200,201,202,203,204,205,206,209,210,211,212,213,215,217,218,219,247,248,249,250) have mixed types.Specify dtype option on import or set low_memory=False.\n",
            "  sort=sort,\n",
            "/usr/local/lib/python3.7/dist-packages/pandas/core/reshape/concat.py:304: DtypeWarning: Columns (71,73,77,78,79,80,82,84,85,90,91,92,93,94,96,98,99,100,101,102,103,104,105,107,108,109,110,111,112,113,114,116,117,118,166,168,169,170,171,172,173,175,176,177,181,183,184,185,186,189,190,192,193,194,195,196,197,200,201,202,203,204,205,206,209,210,211,212,213,215,217,218,219,247,248,249,250) have mixed types.Specify dtype option on import or set low_memory=False.\n",
            "  sort=sort,\n"
          ]
        }
      ]
    },
    {
      "cell_type": "code",
      "source": [
        "drop_cols = []\n",
        "for i in df1.columns:\n",
        "    if len(df1[i].unique())==1:\n",
        "        drop_cols.append(i)\n",
        "print(\"Total columns with only 1 unique value:\", len(drop_cols))\n",
        "df1.drop(drop_cols, 1, inplace=True)\n",
        "\n",
        "print(df1.columns)"
      ],
      "metadata": {
        "colab": {
          "base_uri": "https://localhost:8080/"
        },
        "id": "Tv52lzPC_s_P",
        "outputId": "a2198194-1b3b-4b16-c5ab-92ff44991cac"
      },
      "execution_count": null,
      "outputs": [
        {
          "output_type": "stream",
          "name": "stdout",
          "text": [
            "Total columns with only 1 unique value: 52\n"
          ]
        },
        {
          "output_type": "stream",
          "name": "stderr",
          "text": [
            "/usr/local/lib/python3.7/dist-packages/ipykernel_launcher.py:6: FutureWarning: In a future version of pandas all arguments of DataFrame.drop except for the argument 'labels' will be keyword-only\n",
            "  \n"
          ]
        },
        {
          "output_type": "stream",
          "name": "stdout",
          "text": [
            "Index(['frame.encap_type', 'frame.len', 'frame.number', 'frame.time',\n",
            "       'frame.time_delta', 'frame.time_delta_displayed', 'frame.time_epoch',\n",
            "       'frame.time_relative', 'radiotap.channel.flags.cck',\n",
            "       'radiotap.channel.flags.ofdm',\n",
            "       ...\n",
            "       'tls.alert_message.level', 'tls.app_data_proto',\n",
            "       'tls.compress_certificate.compressed_certificate_message.length',\n",
            "       'tls.handshake.extension.type',\n",
            "       'tls.handshake.extensions_key_share_group',\n",
            "       'tls.handshake.session_ticket_length', 'tls.handshake.version',\n",
            "       'tls.record.content_type', 'tls.record.version', 'Label'],\n",
            "      dtype='object', length=202)\n"
          ]
        }
      ]
    },
    {
      "cell_type": "code",
      "source": [
        "df1.info()"
      ],
      "metadata": {
        "colab": {
          "base_uri": "https://localhost:8080/"
        },
        "id": "UTjOvWeqW_jW",
        "outputId": "31b35dc8-52e3-4aae-8117-aa9c9099fcb5"
      },
      "execution_count": null,
      "outputs": [
        {
          "output_type": "stream",
          "name": "stdout",
          "text": [
            "<class 'pandas.core.frame.DataFrame'>\n",
            "RangeIndex: 743939 entries, 0 to 743938\n",
            "Columns: 202 entries, frame.encap_type to Label\n",
            "dtypes: float64(76), object(126)\n",
            "memory usage: 1.1+ GB\n"
          ]
        }
      ]
    },
    {
      "cell_type": "code",
      "source": [
        "df1['frame.time_epoch']=df1['frame.time_epoch'].astype('float64')"
      ],
      "metadata": {
        "id": "z1BdTpR5_3Z0"
      },
      "execution_count": null,
      "outputs": []
    },
    {
      "cell_type": "code",
      "source": [
        "df1.fillna(0, inplace=True)"
      ],
      "metadata": {
        "id": "UAtiWe3ib0Hz"
      },
      "execution_count": null,
      "outputs": []
    },
    {
      "cell_type": "code",
      "source": [
        "df1.dropna(1, inplace=True)\n"
      ],
      "metadata": {
        "id": "EhR_WGbp_wwz",
        "colab": {
          "base_uri": "https://localhost:8080/"
        },
        "outputId": "804296d9-4c7e-4f89-e56f-63d810455a95"
      },
      "execution_count": null,
      "outputs": [
        {
          "output_type": "stream",
          "name": "stderr",
          "text": [
            "/usr/local/lib/python3.7/dist-packages/ipykernel_launcher.py:1: FutureWarning: In a future version of pandas all arguments of DataFrame.dropna will be keyword-only\n",
            "  \"\"\"Entry point for launching an IPython kernel.\n"
          ]
        }
      ]
    },
    {
      "cell_type": "code",
      "source": [
        "df1.info()"
      ],
      "metadata": {
        "colab": {
          "base_uri": "https://localhost:8080/"
        },
        "id": "TIfi1aSt_1Zc",
        "outputId": "db144159-9ee5-42b2-dfb5-0455671b2996"
      },
      "execution_count": null,
      "outputs": [
        {
          "output_type": "stream",
          "name": "stdout",
          "text": [
            "<class 'pandas.core.frame.DataFrame'>\n",
            "RangeIndex: 743939 entries, 0 to 743938\n",
            "Columns: 202 entries, frame.encap_type to Label\n",
            "dtypes: float64(76), object(126)\n",
            "memory usage: 1.1+ GB\n"
          ]
        }
      ]
    },
    {
      "cell_type": "code",
      "source": [
        "df1.head()"
      ],
      "metadata": {
        "colab": {
          "base_uri": "https://localhost:8080/",
          "height": 473
        },
        "id": "2jeT9fk4dKdI",
        "outputId": "fd058ced-7020-4c1c-8480-bc6164ed7ca9"
      },
      "execution_count": null,
      "outputs": [
        {
          "output_type": "execute_result",
          "data": {
            "text/plain": [
              "   frame.encap_type  frame.len  frame.number  \\\n",
              "0              23.0       88.0     1100001.0   \n",
              "1              23.0       76.0     1100002.0   \n",
              "2              23.0       70.0     1100003.0   \n",
              "3              23.0       88.0     1100004.0   \n",
              "4              23.0       76.0     1100005.0   \n",
              "\n",
              "                                          frame.time  frame.time_delta  \\\n",
              "0  Dec 18- 2020 19:16:01.792032000 GTB Standard Time          0.000195   \n",
              "1  Dec 18- 2020 19:16:01.792117000 GTB Standard Time          0.000085   \n",
              "2  Dec 18- 2020 19:16:01.792167000 GTB Standard Time          0.000050   \n",
              "3  Dec 18- 2020 19:16:01.792313000 GTB Standard Time          0.000146   \n",
              "4  Dec 18- 2020 19:16:01.792644000 GTB Standard Time          0.000331   \n",
              "\n",
              "   frame.time_delta_displayed  frame.time_epoch  frame.time_relative  \\\n",
              "0                    0.000195      1.608312e+09           409.752772   \n",
              "1                    0.000085      1.608312e+09           409.752857   \n",
              "2                    0.000050      1.608312e+09           409.752907   \n",
              "3                    0.000146      1.608312e+09           409.753053   \n",
              "4                    0.000331      1.608312e+09           409.753384   \n",
              "\n",
              "   radiotap.channel.flags.cck  radiotap.channel.flags.ofdm  ...  \\\n",
              "0                         0.0                          1.0  ...   \n",
              "1                         0.0                          1.0  ...   \n",
              "2                         0.0                          1.0  ...   \n",
              "3                         0.0                          1.0  ...   \n",
              "4                         0.0                          1.0  ...   \n",
              "\n",
              "   tls.alert_message.level  tls.app_data_proto  \\\n",
              "0                      NaN                 NaN   \n",
              "1                      NaN                 NaN   \n",
              "2                      NaN                 NaN   \n",
              "3                      NaN                 NaN   \n",
              "4                      NaN                 NaN   \n",
              "\n",
              "   tls.compress_certificate.compressed_certificate_message.length  \\\n",
              "0                                                NaN                \n",
              "1                                                NaN                \n",
              "2                                                NaN                \n",
              "3                                                NaN                \n",
              "4                                                NaN                \n",
              "\n",
              "   tls.handshake.extension.type  tls.handshake.extensions_key_share_group  \\\n",
              "0                           NaN                                       NaN   \n",
              "1                           NaN                                       NaN   \n",
              "2                           NaN                                       NaN   \n",
              "3                           NaN                                       NaN   \n",
              "4                           NaN                                       NaN   \n",
              "\n",
              "  tls.handshake.session_ticket_length tls.handshake.version  \\\n",
              "0                                 NaN                   NaN   \n",
              "1                                 NaN                   NaN   \n",
              "2                                 NaN                   NaN   \n",
              "3                                 NaN                   NaN   \n",
              "4                                 NaN                   NaN   \n",
              "\n",
              "   tls.record.content_type  tls.record.version   Label  \n",
              "0                      NaN                 NaN  Normal  \n",
              "1                      NaN                 NaN  Normal  \n",
              "2                      NaN                 NaN  Normal  \n",
              "3                      NaN                 NaN  Normal  \n",
              "4                      NaN                 NaN  Normal  \n",
              "\n",
              "[5 rows x 202 columns]"
            ],
            "text/html": [
              "\n",
              "  <div id=\"df-1ad46687-3aee-4c01-95af-32dfd6e61bab\">\n",
              "    <div class=\"colab-df-container\">\n",
              "      <div>\n",
              "<style scoped>\n",
              "    .dataframe tbody tr th:only-of-type {\n",
              "        vertical-align: middle;\n",
              "    }\n",
              "\n",
              "    .dataframe tbody tr th {\n",
              "        vertical-align: top;\n",
              "    }\n",
              "\n",
              "    .dataframe thead th {\n",
              "        text-align: right;\n",
              "    }\n",
              "</style>\n",
              "<table border=\"1\" class=\"dataframe\">\n",
              "  <thead>\n",
              "    <tr style=\"text-align: right;\">\n",
              "      <th></th>\n",
              "      <th>frame.encap_type</th>\n",
              "      <th>frame.len</th>\n",
              "      <th>frame.number</th>\n",
              "      <th>frame.time</th>\n",
              "      <th>frame.time_delta</th>\n",
              "      <th>frame.time_delta_displayed</th>\n",
              "      <th>frame.time_epoch</th>\n",
              "      <th>frame.time_relative</th>\n",
              "      <th>radiotap.channel.flags.cck</th>\n",
              "      <th>radiotap.channel.flags.ofdm</th>\n",
              "      <th>...</th>\n",
              "      <th>tls.alert_message.level</th>\n",
              "      <th>tls.app_data_proto</th>\n",
              "      <th>tls.compress_certificate.compressed_certificate_message.length</th>\n",
              "      <th>tls.handshake.extension.type</th>\n",
              "      <th>tls.handshake.extensions_key_share_group</th>\n",
              "      <th>tls.handshake.session_ticket_length</th>\n",
              "      <th>tls.handshake.version</th>\n",
              "      <th>tls.record.content_type</th>\n",
              "      <th>tls.record.version</th>\n",
              "      <th>Label</th>\n",
              "    </tr>\n",
              "  </thead>\n",
              "  <tbody>\n",
              "    <tr>\n",
              "      <th>0</th>\n",
              "      <td>23.0</td>\n",
              "      <td>88.0</td>\n",
              "      <td>1100001.0</td>\n",
              "      <td>Dec 18- 2020 19:16:01.792032000 GTB Standard Time</td>\n",
              "      <td>0.000195</td>\n",
              "      <td>0.000195</td>\n",
              "      <td>1.608312e+09</td>\n",
              "      <td>409.752772</td>\n",
              "      <td>0.0</td>\n",
              "      <td>1.0</td>\n",
              "      <td>...</td>\n",
              "      <td>NaN</td>\n",
              "      <td>NaN</td>\n",
              "      <td>NaN</td>\n",
              "      <td>NaN</td>\n",
              "      <td>NaN</td>\n",
              "      <td>NaN</td>\n",
              "      <td>NaN</td>\n",
              "      <td>NaN</td>\n",
              "      <td>NaN</td>\n",
              "      <td>Normal</td>\n",
              "    </tr>\n",
              "    <tr>\n",
              "      <th>1</th>\n",
              "      <td>23.0</td>\n",
              "      <td>76.0</td>\n",
              "      <td>1100002.0</td>\n",
              "      <td>Dec 18- 2020 19:16:01.792117000 GTB Standard Time</td>\n",
              "      <td>0.000085</td>\n",
              "      <td>0.000085</td>\n",
              "      <td>1.608312e+09</td>\n",
              "      <td>409.752857</td>\n",
              "      <td>0.0</td>\n",
              "      <td>1.0</td>\n",
              "      <td>...</td>\n",
              "      <td>NaN</td>\n",
              "      <td>NaN</td>\n",
              "      <td>NaN</td>\n",
              "      <td>NaN</td>\n",
              "      <td>NaN</td>\n",
              "      <td>NaN</td>\n",
              "      <td>NaN</td>\n",
              "      <td>NaN</td>\n",
              "      <td>NaN</td>\n",
              "      <td>Normal</td>\n",
              "    </tr>\n",
              "    <tr>\n",
              "      <th>2</th>\n",
              "      <td>23.0</td>\n",
              "      <td>70.0</td>\n",
              "      <td>1100003.0</td>\n",
              "      <td>Dec 18- 2020 19:16:01.792167000 GTB Standard Time</td>\n",
              "      <td>0.000050</td>\n",
              "      <td>0.000050</td>\n",
              "      <td>1.608312e+09</td>\n",
              "      <td>409.752907</td>\n",
              "      <td>0.0</td>\n",
              "      <td>1.0</td>\n",
              "      <td>...</td>\n",
              "      <td>NaN</td>\n",
              "      <td>NaN</td>\n",
              "      <td>NaN</td>\n",
              "      <td>NaN</td>\n",
              "      <td>NaN</td>\n",
              "      <td>NaN</td>\n",
              "      <td>NaN</td>\n",
              "      <td>NaN</td>\n",
              "      <td>NaN</td>\n",
              "      <td>Normal</td>\n",
              "    </tr>\n",
              "    <tr>\n",
              "      <th>3</th>\n",
              "      <td>23.0</td>\n",
              "      <td>88.0</td>\n",
              "      <td>1100004.0</td>\n",
              "      <td>Dec 18- 2020 19:16:01.792313000 GTB Standard Time</td>\n",
              "      <td>0.000146</td>\n",
              "      <td>0.000146</td>\n",
              "      <td>1.608312e+09</td>\n",
              "      <td>409.753053</td>\n",
              "      <td>0.0</td>\n",
              "      <td>1.0</td>\n",
              "      <td>...</td>\n",
              "      <td>NaN</td>\n",
              "      <td>NaN</td>\n",
              "      <td>NaN</td>\n",
              "      <td>NaN</td>\n",
              "      <td>NaN</td>\n",
              "      <td>NaN</td>\n",
              "      <td>NaN</td>\n",
              "      <td>NaN</td>\n",
              "      <td>NaN</td>\n",
              "      <td>Normal</td>\n",
              "    </tr>\n",
              "    <tr>\n",
              "      <th>4</th>\n",
              "      <td>23.0</td>\n",
              "      <td>76.0</td>\n",
              "      <td>1100005.0</td>\n",
              "      <td>Dec 18- 2020 19:16:01.792644000 GTB Standard Time</td>\n",
              "      <td>0.000331</td>\n",
              "      <td>0.000331</td>\n",
              "      <td>1.608312e+09</td>\n",
              "      <td>409.753384</td>\n",
              "      <td>0.0</td>\n",
              "      <td>1.0</td>\n",
              "      <td>...</td>\n",
              "      <td>NaN</td>\n",
              "      <td>NaN</td>\n",
              "      <td>NaN</td>\n",
              "      <td>NaN</td>\n",
              "      <td>NaN</td>\n",
              "      <td>NaN</td>\n",
              "      <td>NaN</td>\n",
              "      <td>NaN</td>\n",
              "      <td>NaN</td>\n",
              "      <td>Normal</td>\n",
              "    </tr>\n",
              "  </tbody>\n",
              "</table>\n",
              "<p>5 rows × 202 columns</p>\n",
              "</div>\n",
              "      <button class=\"colab-df-convert\" onclick=\"convertToInteractive('df-1ad46687-3aee-4c01-95af-32dfd6e61bab')\"\n",
              "              title=\"Convert this dataframe to an interactive table.\"\n",
              "              style=\"display:none;\">\n",
              "        \n",
              "  <svg xmlns=\"http://www.w3.org/2000/svg\" height=\"24px\"viewBox=\"0 0 24 24\"\n",
              "       width=\"24px\">\n",
              "    <path d=\"M0 0h24v24H0V0z\" fill=\"none\"/>\n",
              "    <path d=\"M18.56 5.44l.94 2.06.94-2.06 2.06-.94-2.06-.94-.94-2.06-.94 2.06-2.06.94zm-11 1L8.5 8.5l.94-2.06 2.06-.94-2.06-.94L8.5 2.5l-.94 2.06-2.06.94zm10 10l.94 2.06.94-2.06 2.06-.94-2.06-.94-.94-2.06-.94 2.06-2.06.94z\"/><path d=\"M17.41 7.96l-1.37-1.37c-.4-.4-.92-.59-1.43-.59-.52 0-1.04.2-1.43.59L10.3 9.45l-7.72 7.72c-.78.78-.78 2.05 0 2.83L4 21.41c.39.39.9.59 1.41.59.51 0 1.02-.2 1.41-.59l7.78-7.78 2.81-2.81c.8-.78.8-2.07 0-2.86zM5.41 20L4 18.59l7.72-7.72 1.47 1.35L5.41 20z\"/>\n",
              "  </svg>\n",
              "      </button>\n",
              "      \n",
              "  <style>\n",
              "    .colab-df-container {\n",
              "      display:flex;\n",
              "      flex-wrap:wrap;\n",
              "      gap: 12px;\n",
              "    }\n",
              "\n",
              "    .colab-df-convert {\n",
              "      background-color: #E8F0FE;\n",
              "      border: none;\n",
              "      border-radius: 50%;\n",
              "      cursor: pointer;\n",
              "      display: none;\n",
              "      fill: #1967D2;\n",
              "      height: 32px;\n",
              "      padding: 0 0 0 0;\n",
              "      width: 32px;\n",
              "    }\n",
              "\n",
              "    .colab-df-convert:hover {\n",
              "      background-color: #E2EBFA;\n",
              "      box-shadow: 0px 1px 2px rgba(60, 64, 67, 0.3), 0px 1px 3px 1px rgba(60, 64, 67, 0.15);\n",
              "      fill: #174EA6;\n",
              "    }\n",
              "\n",
              "    [theme=dark] .colab-df-convert {\n",
              "      background-color: #3B4455;\n",
              "      fill: #D2E3FC;\n",
              "    }\n",
              "\n",
              "    [theme=dark] .colab-df-convert:hover {\n",
              "      background-color: #434B5C;\n",
              "      box-shadow: 0px 1px 3px 1px rgba(0, 0, 0, 0.15);\n",
              "      filter: drop-shadow(0px 1px 2px rgba(0, 0, 0, 0.3));\n",
              "      fill: #FFFFFF;\n",
              "    }\n",
              "  </style>\n",
              "\n",
              "      <script>\n",
              "        const buttonEl =\n",
              "          document.querySelector('#df-1ad46687-3aee-4c01-95af-32dfd6e61bab button.colab-df-convert');\n",
              "        buttonEl.style.display =\n",
              "          google.colab.kernel.accessAllowed ? 'block' : 'none';\n",
              "\n",
              "        async function convertToInteractive(key) {\n",
              "          const element = document.querySelector('#df-1ad46687-3aee-4c01-95af-32dfd6e61bab');\n",
              "          const dataTable =\n",
              "            await google.colab.kernel.invokeFunction('convertToInteractive',\n",
              "                                                     [key], {});\n",
              "          if (!dataTable) return;\n",
              "\n",
              "          const docLinkHtml = 'Like what you see? Visit the ' +\n",
              "            '<a target=\"_blank\" href=https://colab.research.google.com/notebooks/data_table.ipynb>data table notebook</a>'\n",
              "            + ' to learn more about interactive tables.';\n",
              "          element.innerHTML = '';\n",
              "          dataTable['output_type'] = 'display_data';\n",
              "          await google.colab.output.renderOutput(dataTable, element);\n",
              "          const docLink = document.createElement('div');\n",
              "          docLink.innerHTML = docLinkHtml;\n",
              "          element.appendChild(docLink);\n",
              "        }\n",
              "      </script>\n",
              "    </div>\n",
              "  </div>\n",
              "  "
            ]
          },
          "metadata": {},
          "execution_count": 17
        }
      ]
    },
    {
      "cell_type": "code",
      "source": [
        "drop_cols = []\n",
        "for i in df1.columns:\n",
        "    if len(df1[i].unique())==1:\n",
        "        drop_cols.append(i)\n",
        "print(\"Total columns with only 1 unique value:\", len(drop_cols))\n",
        "df1.drop(drop_cols, 1, inplace=True)"
      ],
      "metadata": {
        "colab": {
          "base_uri": "https://localhost:8080/"
        },
        "id": "bEvib-OgvY7b",
        "outputId": "dbdd2b78-192d-4f1e-fc88-bef690d1a8e5"
      },
      "execution_count": null,
      "outputs": [
        {
          "output_type": "stream",
          "name": "stdout",
          "text": [
            "Total columns with only 1 unique value: 12\n"
          ]
        },
        {
          "output_type": "stream",
          "name": "stderr",
          "text": [
            "/usr/local/lib/python3.7/dist-packages/ipykernel_launcher.py:6: FutureWarning: In a future version of pandas all arguments of DataFrame.drop except for the argument 'labels' will be keyword-only\n",
            "  \n"
          ]
        }
      ]
    },
    {
      "cell_type": "code",
      "source": [
        "df1 = df1[df1.Label != 0]\n",
        "#to remove labels that had NaN value which was replaced by zero above."
      ],
      "metadata": {
        "id": "fWSOLNpxvtuG"
      },
      "execution_count": null,
      "outputs": []
    },
    {
      "cell_type": "code",
      "source": [
        "#Split dataset on train and test\n",
        "from sklearn.model_selection import train_test_split\n",
        "train, test=train_test_split(df1,test_size=0.3, random_state=10)\n",
        "\n",
        "#Exploratory Analysis\n",
        "# Descriptive statistics\n",
        "train.describe()\n",
        "test.describe()\n",
        "train['Label'].value_counts()\n",
        "test['Label'].value_counts()"
      ],
      "metadata": {
        "colab": {
          "base_uri": "https://localhost:8080/"
        },
        "id": "HM_R2cWZd3ES",
        "outputId": "b60d708a-1c8b-4f53-901b-ed786021df45"
      },
      "execution_count": null,
      "outputs": [
        {
          "output_type": "execute_result",
          "data": {
            "text/plain": [
              "Normal       221543\n",
              "(Re)Assoc      1637\n",
              "Name: Label, dtype: int64"
            ]
          },
          "metadata": {},
          "execution_count": 25
        }
      ]
    },
    {
      "cell_type": "code",
      "source": [
        "df1.info()"
      ],
      "metadata": {
        "colab": {
          "base_uri": "https://localhost:8080/"
        },
        "id": "wqH0p0OHz9WY",
        "outputId": "b427e740-38a3-41d0-b7d1-fc63209abdf7"
      },
      "execution_count": null,
      "outputs": [
        {
          "output_type": "stream",
          "name": "stdout",
          "text": [
            "<class 'pandas.core.frame.DataFrame'>\n",
            "Int64Index: 743933 entries, 0 to 743938\n",
            "Columns: 190 entries, frame.encap_type to Label\n",
            "dtypes: float64(64), object(126)\n",
            "memory usage: 1.1+ GB\n"
          ]
        }
      ]
    },
    {
      "cell_type": "code",
      "source": [
        "#Scalling numerical attributes\n",
        "from sklearn.preprocessing import StandardScaler\n",
        "scaler = StandardScaler()\n",
        "\n",
        "# extract numerical attributes and scale it to have zero mean and unit variance  \n",
        "cols = train.select_dtypes(include=['float64','int64']).columns\n",
        "sc_train = scaler.fit_transform(train.select_dtypes(include=['float64','int64']))\n",
        "sc_test = scaler.fit_transform(test.select_dtypes(include=['float64','int64']))\n",
        "\n",
        "# turn the result back to a dataframe\n",
        "sc_traindf = pd.DataFrame(sc_train, columns = cols)\n",
        "sc_testdf = pd.DataFrame(sc_test, columns = cols)"
      ],
      "metadata": {
        "id": "aTfHWG73pXHB"
      },
      "execution_count": null,
      "outputs": []
    },
    {
      "cell_type": "code",
      "source": [
        "from sklearn.preprocessing import OneHotEncoder \n",
        "\n",
        "#creating one hot encoder object \n",
        "onehotencoder = OneHotEncoder() \n",
        "\n",
        "trainDep = train['Label'].values.reshape(-1,1)\n",
        "trainDep = onehotencoder.fit_transform(trainDep).toarray()\n",
        "testDep = test['Label'].values.reshape(-1,1)\n",
        "testDep = onehotencoder.fit_transform(testDep).toarray()"
      ],
      "metadata": {
        "id": "1XC2fZ68pYPI"
      },
      "execution_count": null,
      "outputs": []
    },
    {
      "cell_type": "code",
      "source": [
        "train_X=sc_traindf\n",
        "train_y=trainDep[:,0]\n",
        "\n",
        "test_X=sc_testdf\n",
        "test_y=testDep[:,0]"
      ],
      "metadata": {
        "id": "A4-V16yMqMxh"
      },
      "execution_count": null,
      "outputs": []
    },
    {
      "cell_type": "code",
      "source": [
        "from sklearn.decomposition import PCA\n",
        "\n",
        "pca = PCA()\n",
        "pca.fit(train_X)\n",
        "\n",
        "plt.plot(pca.explained_variance_ratio_.cumsum(), lw=3, color='#800080')\n",
        "plt.title('Cumulative variance', size=20)\n",
        "plt.show()"
      ],
      "metadata": {
        "colab": {
          "base_uri": "https://localhost:8080/",
          "height": 286
        },
        "id": "mP8-GB_bqOIS",
        "outputId": "12b6013c-036a-4313-a179-140ba20d708d"
      },
      "execution_count": null,
      "outputs": [
        {
          "output_type": "display_data",
          "data": {
            "text/plain": [
              "<Figure size 432x288 with 1 Axes>"
            ],
            "image/png": "[encoded data removed]"
          },
          "metadata": {
            "needs_background": "light"
          }
        }
      ]
    },
    {
      "cell_type": "code",
      "source": [
        "Loads = pd.DataFrame(\n",
        "    data=pca.components_.T * np.sqrt(pca.explained_variance_), \n",
        "    columns=[f'PC{i}' for i in range(1, len(train_X.columns) + 1)],\n",
        "    index=train_X.columns\n",
        ")\n",
        "Loads.head()"
      ],
      "metadata": {
        "colab": {
          "base_uri": "https://localhost:8080/",
          "height": 386
        },
        "id": "_GU03hJb1KUx",
        "outputId": "a7b28a29-8b1c-4fb1-f658-8a39b8a3c790"
      },
      "execution_count": null,
      "outputs": [
        {
          "output_type": "execute_result",
          "data": {
            "text/plain": [
              "                                     PC1           PC2           PC3  \\\n",
              "frame.encap_type           -1.852473e-19  7.986401e-21 -1.029823e-19   \n",
              "frame.len                   8.051111e-01  3.180471e-03 -5.372205e-02   \n",
              "frame.number                1.041577e-01  1.233432e-02  8.432348e-01   \n",
              "frame.time_delta           -4.812544e-02  2.110703e-02 -2.866726e-03   \n",
              "frame.time_delta_displayed -4.812544e-02  2.110703e-02 -2.866726e-03   \n",
              "\n",
              "                                     PC4           PC5           PC6  \\\n",
              "frame.encap_type            6.576587e-21  7.022403e-20  1.228058e-18   \n",
              "frame.len                  -6.350933e-04 -2.667425e-02  6.912799e-02   \n",
              "frame.number                9.595015e-02 -5.152038e-01  1.768864e-02   \n",
              "frame.time_delta            1.391593e-02  5.693415e-03  7.166589e-01   \n",
              "frame.time_delta_displayed  1.391593e-02  5.693415e-03  7.166589e-01   \n",
              "\n",
              "                                     PC7           PC8           PC9  \\\n",
              "frame.encap_type            6.940354e-19  1.939488e-19  5.942081e-19   \n",
              "frame.len                  -4.105852e-02 -3.675289e-02 -2.583455e-02   \n",
              "frame.number               -2.470716e-02 -1.447689e-04  5.736430e-03   \n",
              "frame.time_delta            4.491150e-01  1.406066e-01  5.028083e-01   \n",
              "frame.time_delta_displayed  4.491150e-01  1.406066e-01  5.028083e-01   \n",
              "\n",
              "                                    PC10  ...          PC55          PC56  \\\n",
              "frame.encap_type           -6.372875e-22  ... -0.000000e+00 -0.000000e+00   \n",
              "frame.len                  -2.230214e-02  ...  3.651752e-32  2.354497e-31   \n",
              "frame.number                5.814318e-04  ... -4.503582e-31  2.123638e-31   \n",
              "frame.time_delta           -4.722922e-03  ...  1.116832e-17  3.746687e-17   \n",
              "frame.time_delta_displayed -4.722922e-03  ... -1.116832e-17 -3.746687e-17   \n",
              "\n",
              "                                    PC57          PC58          PC59  \\\n",
              "frame.encap_type            0.000000e+00 -0.000000e+00 -0.000000e+00   \n",
              "frame.len                  -5.171525e-34  3.246115e-32  2.975250e-32   \n",
              "frame.number               -5.275067e-32 -2.991867e-31 -4.495038e-32   \n",
              "frame.time_delta            2.145352e-18 -4.822822e-18 -3.233535e-17   \n",
              "frame.time_delta_displayed -2.145352e-18  4.822822e-18  3.233535e-17   \n",
              "\n",
              "                                    PC60          PC61          PC62  \\\n",
              "frame.encap_type            0.000000e+00 -0.000000e+00  0.000000e+00   \n",
              "frame.len                  -2.785427e-32 -2.711533e-32  8.884324e-32   \n",
              "frame.number                9.851191e-32  3.349984e-31  8.185383e-32   \n",
              "frame.time_delta           -3.644600e-17  8.927827e-17  3.675152e-17   \n",
              "frame.time_delta_displayed  3.644600e-17 -8.927827e-17 -3.675152e-17   \n",
              "\n",
              "                                    PC63          PC64  \n",
              "frame.encap_type            2.521882e-16 -0.000000e+00  \n",
              "frame.len                   2.967554e-35 -9.906097e-33  \n",
              "frame.number                4.921535e-34  6.955479e-32  \n",
              "frame.time_delta            6.240895e-20 -1.080903e-17  \n",
              "frame.time_delta_displayed -6.240895e-20  1.080903e-17  \n",
              "\n",
              "[5 rows x 64 columns]"
            ],
            "text/html": [
              "\n",
              "  <div id=\"df-2f17e6ed-8dbc-49ad-9294-40945aac6c26\">\n",
              "    <div class=\"colab-df-container\">\n",
              "      <div>\n",
              "<style scoped>\n",
              "    .dataframe tbody tr th:only-of-type {\n",
              "        vertical-align: middle;\n",
              "    }\n",
              "\n",
              "    .dataframe tbody tr th {\n",
              "        vertical-align: top;\n",
              "    }\n",
              "\n",
              "    .dataframe thead th {\n",
              "        text-align: right;\n",
              "    }\n",
              "</style>\n",
              "<table border=\"1\" class=\"dataframe\">\n",
              "  <thead>\n",
              "    <tr style=\"text-align: right;\">\n",
              "      <th></th>\n",
              "      <th>PC1</th>\n",
              "      <th>PC2</th>\n",
              "      <th>PC3</th>\n",
              "      <th>PC4</th>\n",
              "      <th>PC5</th>\n",
              "      <th>PC6</th>\n",
              "      <th>PC7</th>\n",
              "      <th>PC8</th>\n",
              "      <th>PC9</th>\n",
              "      <th>PC10</th>\n",
              "      <th>...</th>\n",
              "      <th>PC55</th>\n",
              "      <th>PC56</th>\n",
              "      <th>PC57</th>\n",
              "      <th>PC58</th>\n",
              "      <th>PC59</th>\n",
              "      <th>PC60</th>\n",
              "      <th>PC61</th>\n",
              "      <th>PC62</th>\n",
              "      <th>PC63</th>\n",
              "      <th>PC64</th>\n",
              "    </tr>\n",
              "  </thead>\n",
              "  <tbody>\n",
              "    <tr>\n",
              "      <th>frame.encap_type</th>\n",
              "      <td>-1.852473e-19</td>\n",
              "      <td>7.986401e-21</td>\n",
              "      <td>-1.029823e-19</td>\n",
              "      <td>6.576587e-21</td>\n",
              "      <td>7.022403e-20</td>\n",
              "      <td>1.228058e-18</td>\n",
              "      <td>6.940354e-19</td>\n",
              "      <td>1.939488e-19</td>\n",
              "      <td>5.942081e-19</td>\n",
              "      <td>-6.372875e-22</td>\n",
              "      <td>...</td>\n",
              "      <td>-0.000000e+00</td>\n",
              "      <td>-0.000000e+00</td>\n",
              "      <td>0.000000e+00</td>\n",
              "      <td>-0.000000e+00</td>\n",
              "      <td>-0.000000e+00</td>\n",
              "      <td>0.000000e+00</td>\n",
              "      <td>-0.000000e+00</td>\n",
              "      <td>0.000000e+00</td>\n",
              "      <td>2.521882e-16</td>\n",
              "      <td>-0.000000e+00</td>\n",
              "    </tr>\n",
              "    <tr>\n",
              "      <th>frame.len</th>\n",
              "      <td>8.051111e-01</td>\n",
              "      <td>3.180471e-03</td>\n",
              "      <td>-5.372205e-02</td>\n",
              "      <td>-6.350933e-04</td>\n",
              "      <td>-2.667425e-02</td>\n",
              "      <td>6.912799e-02</td>\n",
              "      <td>-4.105852e-02</td>\n",
              "      <td>-3.675289e-02</td>\n",
              "      <td>-2.583455e-02</td>\n",
              "      <td>-2.230214e-02</td>\n",
              "      <td>...</td>\n",
              "      <td>3.651752e-32</td>\n",
              "      <td>2.354497e-31</td>\n",
              "      <td>-5.171525e-34</td>\n",
              "      <td>3.246115e-32</td>\n",
              "      <td>2.975250e-32</td>\n",
              "      <td>-2.785427e-32</td>\n",
              "      <td>-2.711533e-32</td>\n",
              "      <td>8.884324e-32</td>\n",
              "      <td>2.967554e-35</td>\n",
              "      <td>-9.906097e-33</td>\n",
              "    </tr>\n",
              "    <tr>\n",
              "      <th>frame.number</th>\n",
              "      <td>1.041577e-01</td>\n",
              "      <td>1.233432e-02</td>\n",
              "      <td>8.432348e-01</td>\n",
              "      <td>9.595015e-02</td>\n",
              "      <td>-5.152038e-01</td>\n",
              "      <td>1.768864e-02</td>\n",
              "      <td>-2.470716e-02</td>\n",
              "      <td>-1.447689e-04</td>\n",
              "      <td>5.736430e-03</td>\n",
              "      <td>5.814318e-04</td>\n",
              "      <td>...</td>\n",
              "      <td>-4.503582e-31</td>\n",
              "      <td>2.123638e-31</td>\n",
              "      <td>-5.275067e-32</td>\n",
              "      <td>-2.991867e-31</td>\n",
              "      <td>-4.495038e-32</td>\n",
              "      <td>9.851191e-32</td>\n",
              "      <td>3.349984e-31</td>\n",
              "      <td>8.185383e-32</td>\n",
              "      <td>4.921535e-34</td>\n",
              "      <td>6.955479e-32</td>\n",
              "    </tr>\n",
              "    <tr>\n",
              "      <th>frame.time_delta</th>\n",
              "      <td>-4.812544e-02</td>\n",
              "      <td>2.110703e-02</td>\n",
              "      <td>-2.866726e-03</td>\n",
              "      <td>1.391593e-02</td>\n",
              "      <td>5.693415e-03</td>\n",
              "      <td>7.166589e-01</td>\n",
              "      <td>4.491150e-01</td>\n",
              "      <td>1.406066e-01</td>\n",
              "      <td>5.028083e-01</td>\n",
              "      <td>-4.722922e-03</td>\n",
              "      <td>...</td>\n",
              "      <td>1.116832e-17</td>\n",
              "      <td>3.746687e-17</td>\n",
              "      <td>2.145352e-18</td>\n",
              "      <td>-4.822822e-18</td>\n",
              "      <td>-3.233535e-17</td>\n",
              "      <td>-3.644600e-17</td>\n",
              "      <td>8.927827e-17</td>\n",
              "      <td>3.675152e-17</td>\n",
              "      <td>6.240895e-20</td>\n",
              "      <td>-1.080903e-17</td>\n",
              "    </tr>\n",
              "    <tr>\n",
              "      <th>frame.time_delta_displayed</th>\n",
              "      <td>-4.812544e-02</td>\n",
              "      <td>2.110703e-02</td>\n",
              "      <td>-2.866726e-03</td>\n",
              "      <td>1.391593e-02</td>\n",
              "      <td>5.693415e-03</td>\n",
              "      <td>7.166589e-01</td>\n",
              "      <td>4.491150e-01</td>\n",
              "      <td>1.406066e-01</td>\n",
              "      <td>5.028083e-01</td>\n",
              "      <td>-4.722922e-03</td>\n",
              "      <td>...</td>\n",
              "      <td>-1.116832e-17</td>\n",
              "      <td>-3.746687e-17</td>\n",
              "      <td>-2.145352e-18</td>\n",
              "      <td>4.822822e-18</td>\n",
              "      <td>3.233535e-17</td>\n",
              "      <td>3.644600e-17</td>\n",
              "      <td>-8.927827e-17</td>\n",
              "      <td>-3.675152e-17</td>\n",
              "      <td>-6.240895e-20</td>\n",
              "      <td>1.080903e-17</td>\n",
              "    </tr>\n",
              "  </tbody>\n",
              "</table>\n",
              "<p>5 rows × 64 columns</p>\n",
              "</div>\n",
              "      <button class=\"colab-df-convert\" onclick=\"convertToInteractive('df-2f17e6ed-8dbc-49ad-9294-40945aac6c26')\"\n",
              "              title=\"Convert this dataframe to an interactive table.\"\n",
              "              style=\"display:none;\">\n",
              "        \n",
              "  <svg xmlns=\"http://www.w3.org/2000/svg\" height=\"24px\"viewBox=\"0 0 24 24\"\n",
              "       width=\"24px\">\n",
              "    <path d=\"M0 0h24v24H0V0z\" fill=\"none\"/>\n",
              "    <path d=\"M18.56 5.44l.94 2.06.94-2.06 2.06-.94-2.06-.94-.94-2.06-.94 2.06-2.06.94zm-11 1L8.5 8.5l.94-2.06 2.06-.94-2.06-.94L8.5 2.5l-.94 2.06-2.06.94zm10 10l.94 2.06.94-2.06 2.06-.94-2.06-.94-.94-2.06-.94 2.06-2.06.94z\"/><path d=\"M17.41 7.96l-1.37-1.37c-.4-.4-.92-.59-1.43-.59-.52 0-1.04.2-1.43.59L10.3 9.45l-7.72 7.72c-.78.78-.78 2.05 0 2.83L4 21.41c.39.39.9.59 1.41.59.51 0 1.02-.2 1.41-.59l7.78-7.78 2.81-2.81c.8-.78.8-2.07 0-2.86zM5.41 20L4 18.59l7.72-7.72 1.47 1.35L5.41 20z\"/>\n",
              "  </svg>\n",
              "      </button>\n",
              "      \n",
              "  <style>\n",
              "    .colab-df-container {\n",
              "      display:flex;\n",
              "      flex-wrap:wrap;\n",
              "      gap: 12px;\n",
              "    }\n",
              "\n",
              "    .colab-df-convert {\n",
              "      background-color: #E8F0FE;\n",
              "      border: none;\n",
              "      border-radius: 50%;\n",
              "      cursor: pointer;\n",
              "      display: none;\n",
              "      fill: #1967D2;\n",
              "      height: 32px;\n",
              "      padding: 0 0 0 0;\n",
              "      width: 32px;\n",
              "    }\n",
              "\n",
              "    .colab-df-convert:hover {\n",
              "      background-color: #E2EBFA;\n",
              "      box-shadow: 0px 1px 2px rgba(60, 64, 67, 0.3), 0px 1px 3px 1px rgba(60, 64, 67, 0.15);\n",
              "      fill: #174EA6;\n",
              "    }\n",
              "\n",
              "    [theme=dark] .colab-df-convert {\n",
              "      background-color: #3B4455;\n",
              "      fill: #D2E3FC;\n",
              "    }\n",
              "\n",
              "    [theme=dark] .colab-df-convert:hover {\n",
              "      background-color: #434B5C;\n",
              "      box-shadow: 0px 1px 3px 1px rgba(0, 0, 0, 0.15);\n",
              "      filter: drop-shadow(0px 1px 2px rgba(0, 0, 0, 0.3));\n",
              "      fill: #FFFFFF;\n",
              "    }\n",
              "  </style>\n",
              "\n",
              "      <script>\n",
              "        const buttonEl =\n",
              "          document.querySelector('#df-2f17e6ed-8dbc-49ad-9294-40945aac6c26 button.colab-df-convert');\n",
              "        buttonEl.style.display =\n",
              "          google.colab.kernel.accessAllowed ? 'block' : 'none';\n",
              "\n",
              "        async function convertToInteractive(key) {\n",
              "          const element = document.querySelector('#df-2f17e6ed-8dbc-49ad-9294-40945aac6c26');\n",
              "          const dataTable =\n",
              "            await google.colab.kernel.invokeFunction('convertToInteractive',\n",
              "                                                     [key], {});\n",
              "          if (!dataTable) return;\n",
              "\n",
              "          const docLinkHtml = 'Like what you see? Visit the ' +\n",
              "            '<a target=\"_blank\" href=https://colab.research.google.com/notebooks/data_table.ipynb>data table notebook</a>'\n",
              "            + ' to learn more about interactive tables.';\n",
              "          element.innerHTML = '';\n",
              "          dataTable['output_type'] = 'display_data';\n",
              "          await google.colab.output.renderOutput(dataTable, element);\n",
              "          const docLink = document.createElement('div');\n",
              "          docLink.innerHTML = docLinkHtml;\n",
              "          element.appendChild(docLink);\n",
              "        }\n",
              "      </script>\n",
              "    </div>\n",
              "  </div>\n",
              "  "
            ]
          },
          "metadata": {},
          "execution_count": 31
        }
      ]
    },
    {
      "cell_type": "code",
      "source": [
        "pc1_Loads = Loads.sort_values(by='PC1', ascending=False)[['PC1']]\n",
        "pc1_Loads = pc1_Loads.reset_index()\n",
        "pc1_Loads.columns = ['Feature', 'CorrelationtoPC1']\n",
        "plt.rcParams[\"figure.figsize\"] = (15,8)\n",
        "plt.bar(x=pc1_Loads['Feature'], height=pc1_Loads['CorrelationtoPC1'], color='#800080')\n",
        "plt.title('PCA scores', size=20)\n",
        "plt.xticks(rotation='vertical')\n",
        "plt.show()"
      ],
      "metadata": {
        "colab": {
          "base_uri": "https://localhost:8080/",
          "height": 817
        },
        "id": "54XHdJQUqRhj",
        "outputId": "d4a2f748-fd36-4591-f62c-baa4228e477c"
      },
      "execution_count": null,
      "outputs": [
        {
          "output_type": "display_data",
          "data": {
            "text/plain": [
              "<Figure size 1080x576 with 1 Axes>"
            ],
            "image/png": "[encoded data removed]"
          },
          "metadata": {
            "needs_background": "light"
          }
        }
      ]
    }
  ]
}