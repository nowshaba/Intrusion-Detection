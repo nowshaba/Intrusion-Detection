{
  "nbformat": 4,
  "nbformat_minor": 0,
  "metadata": {
    "colab": {
      "name": "SQL_Injection.ipynb",
      "provenance": [],
      "authorship_tag": "ABX9TyMRO6tritYFgPwhk572Yink",
      "include_colab_link": true
    },
    "kernelspec": {
      "name": "python3",
      "display_name": "Python 3"
    },
    "language_info": {
      "name": "python"
    },
    "accelerator": "GPU",
    "gpuClass": "standard"
  },
  "cells": [
    {
      "cell_type": "markdown",
      "metadata": {
        "id": "view-in-github",
        "colab_type": "text"
      },
      "source": [
        "<a href=\"https://colab.research.google.com/github/nowshaba/Intrusion-Detection/blob/main/SQL_Injection.ipynb\" target=\"_parent\"><img src=\"https://colab.research.google.com/assets/colab-badge.svg\" alt=\"Open In Colab\"/></a>"
      ]
    },
    {
      "cell_type": "code",
      "execution_count": null,
      "metadata": {
        "id": "9CL1iwMd_Gk2"
      },
      "outputs": [],
      "source": [
        "\n",
        "import numpy as np\n",
        "import pandas as pd \n",
        "import matplotlib.pyplot as plt\n",
        "import seaborn as sns\n",
        "import imblearn\n",
        "import sklearn.metrics as m\n",
        "import keras\n",
        "import tensorflow as tf\n",
        "import sklearn\n",
        "import tensorboard"
      ]
    },
    {
      "cell_type": "code",
      "source": [
        "from google.colab import drive\n",
        "drive.mount('/content/drive/')"
      ],
      "metadata": {
        "colab": {
          "base_uri": "https://localhost:8080/"
        },
        "id": "GDEbhiFr_igI",
        "outputId": "fdba15ab-61ac-4358-c0f7-85dae6118634"
      },
      "execution_count": null,
      "outputs": [
        {
          "output_type": "stream",
          "name": "stdout",
          "text": [
            "Mounted at /content/drive/\n"
          ]
        }
      ]
    },
    {
      "cell_type": "code",
      "source": [
        "#Avoid warnings\n",
        "import warnings\n",
        "warnings.filterwarnings('ignore')\n",
        "#Settings\n",
        "pd.set_option('display.max_columns', None)\n",
        "pd.set_option('display.max_rows', None)\n",
        "\n",
        "#Import  Data\n",
        "j=0\n",
        "n=0\n",
        "#to check whih files have both attack and normal labels\n",
        "for j in range(0,52):\n",
        "  df3=pd.read_csv(\"/content/drive/MyDrive/AWID3_Dataset_CSV/CSV/10.SQL_Injection/SQL_Injection_\"+str(j)+\".csv\")\n",
        "  j+1\n",
        "  for i in df3['Label']:\n",
        "    if (i=='SQL_Injection'):\n",
        "      n=1\n",
        "  if (n==1):\n",
        "    print(\"n is\",n, \"and j is\",j)"
      ],
      "metadata": {
        "colab": {
          "base_uri": "https://localhost:8080/"
        },
        "id": "PN-HMFQA_lWv",
        "outputId": "366ba930-2972-4368-e966-00bbcc39ab7a"
      },
      "execution_count": null,
      "outputs": [
        {
          "output_type": "stream",
          "name": "stdout",
          "text": [
            "n is 1 and j is 29\n",
            "n is 1 and j is 30\n",
            "n is 1 and j is 31\n",
            "n is 1 and j is 32\n",
            "n is 1 and j is 33\n",
            "n is 1 and j is 34\n",
            "n is 1 and j is 35\n",
            "n is 1 and j is 36\n",
            "n is 1 and j is 37\n",
            "n is 1 and j is 38\n",
            "n is 1 and j is 39\n",
            "n is 1 and j is 40\n",
            "n is 1 and j is 41\n",
            "n is 1 and j is 42\n",
            "n is 1 and j is 43\n",
            "n is 1 and j is 44\n",
            "n is 1 and j is 45\n",
            "n is 1 and j is 46\n",
            "n is 1 and j is 47\n",
            "n is 1 and j is 48\n",
            "n is 1 and j is 49\n",
            "n is 1 and j is 50\n",
            "n is 1 and j is 51\n"
          ]
        }
      ]
    },
    {
      "cell_type": "code",
      "source": [
        "#much better than this is to put all the desired csv files in this case from 21 to 32 in one folder and use GLOB to put them in one df\n",
        "df1 = pd.concat(\n",
        "    map(pd.read_csv,[\"/content/drive/MyDrive/AWID3_Dataset_CSV/CSV/10.SQL_Injection/SQL_Injection_29.csv\",\"/content/drive/MyDrive/AWID3_Dataset_CSV/CSV/10.SQL_Injection/SQL_Injection_30.csv\",\"/content/drive/MyDrive/AWID3_Dataset_CSV/CSV/10.SQL_Injection/SQL_Injection_31.csv\",\"/content/drive/MyDrive/AWID3_Dataset_CSV/CSV/10.SQL_Injection/SQL_Injection_32.csv\",\"/content/drive/MyDrive/AWID3_Dataset_CSV/CSV/10.SQL_Injection/SQL_Injection_33.csv\",\"/content/drive/MyDrive/AWID3_Dataset_CSV/CSV/10.SQL_Injection/SQL_Injection_34.csv\",\"/content/drive/MyDrive/AWID3_Dataset_CSV/CSV/10.SQL_Injection/SQL_Injection_35.csv\",\"/content/drive/MyDrive/AWID3_Dataset_CSV/CSV/10.SQL_Injection/SQL_Injection_36.csv\",\"/content/drive/MyDrive/AWID3_Dataset_CSV/CSV/10.SQL_Injection/SQL_Injection_37.csv\",\"/content/drive/MyDrive/AWID3_Dataset_CSV/CSV/10.SQL_Injection/SQL_Injection_38.csv\",\"/content/drive/MyDrive/AWID3_Dataset_CSV/CSV/10.SQL_Injection/SQL_Injection_39.csv\",\"/content/drive/MyDrive/AWID3_Dataset_CSV/CSV/10.SQL_Injection/SQL_Injection_40.csv\",\"/content/drive/MyDrive/AWID3_Dataset_CSV/CSV/10.SQL_Injection/SQL_Injection_41.csv\",\"/content/drive/MyDrive/AWID3_Dataset_CSV/CSV/10.SQL_Injection/SQL_Injection_42.csv\",\"/content/drive/MyDrive/AWID3_Dataset_CSV/CSV/10.SQL_Injection/SQL_Injection_43.csv\",\"/content/drive/MyDrive/AWID3_Dataset_CSV/CSV/10.SQL_Injection/SQL_Injection_44.csv\",\"/content/drive/MyDrive/AWID3_Dataset_CSV/CSV/10.SQL_Injection/SQL_Injection_45.csv\",\"/content/drive/MyDrive/AWID3_Dataset_CSV/CSV/10.SQL_Injection/SQL_Injection_46.csv\",\"/content/drive/MyDrive/AWID3_Dataset_CSV/CSV/10.SQL_Injection/SQL_Injection_47.csv\",\"/content/drive/MyDrive/AWID3_Dataset_CSV/CSV/10.SQL_Injection/SQL_Injection_48.csv\",\"/content/drive/MyDrive/AWID3_Dataset_CSV/CSV/10.SQL_Injection/SQL_Injection_49.csv\",\"/content/drive/MyDrive/AWID3_Dataset_CSV/CSV/10.SQL_Injection/SQL_Injection_50.csv\",\"/content/drive/MyDrive/AWID3_Dataset_CSV/CSV/10.SQL_Injection/SQL_Injection_51.csv\"]), ignore_index=True)"
      ],
      "metadata": {
        "id": "ZEJQZjSs_pRc"
      },
      "execution_count": null,
      "outputs": []
    },
    {
      "cell_type": "code",
      "source": [
        "drop_cols = []\n",
        "for i in df1.columns:\n",
        "    if len(df1[i].unique())==1:\n",
        "        drop_cols.append(i)\n",
        "print(\"Total columns with only 1 unique value:\", len(drop_cols))\n",
        "df1.drop(drop_cols, 1, inplace=True)\n",
        "\n",
        "print(df1.columns)"
      ],
      "metadata": {
        "colab": {
          "base_uri": "https://localhost:8080/"
        },
        "id": "Tv52lzPC_s_P",
        "outputId": "42e717dd-21a0-4d22-f442-7d41f7e6e2d9"
      },
      "execution_count": null,
      "outputs": [
        {
          "output_type": "stream",
          "name": "stdout",
          "text": [
            "Total columns with only 1 unique value: 81\n",
            "Index(['frame.len', 'frame.number', 'frame.time', 'frame.time_delta',\n",
            "       'frame.time_delta_displayed', 'frame.time_epoch', 'frame.time_relative',\n",
            "       'radiotap.datarate', 'radiotap.dbm_antsignal', 'radiotap.length',\n",
            "       ...\n",
            "       'tls.alert_message.level', 'tls.app_data_proto',\n",
            "       'tls.compress_certificate.compressed_certificate_message.length',\n",
            "       'tls.handshake.extension.type',\n",
            "       'tls.handshake.extensions_key_share_group',\n",
            "       'tls.handshake.session_ticket_length', 'tls.handshake.version',\n",
            "       'tls.record.content_type', 'tls.record.version', 'Label'],\n",
            "      dtype='object', length=173)\n"
          ]
        }
      ]
    },
    {
      "cell_type": "code",
      "source": [
        "df1.dropna(1,inplace=True)"
      ],
      "metadata": {
        "id": "EhR_WGbp_wwz"
      },
      "execution_count": null,
      "outputs": []
    },
    {
      "cell_type": "code",
      "source": [
        "df1.info()"
      ],
      "metadata": {
        "colab": {
          "base_uri": "https://localhost:8080/"
        },
        "id": "TIfi1aSt_1Zc",
        "outputId": "19e98e69-b411-4452-d77f-be61ccff3bc5"
      },
      "execution_count": null,
      "outputs": [
        {
          "output_type": "stream",
          "name": "stdout",
          "text": [
            "<class 'pandas.core.frame.DataFrame'>\n",
            "RangeIndex: 1148359 entries, 0 to 1148358\n",
            "Data columns (total 27 columns):\n",
            " #   Column                      Non-Null Count    Dtype  \n",
            "---  ------                      --------------    -----  \n",
            " 0   frame.len                   1148359 non-null  int64  \n",
            " 1   frame.number                1148359 non-null  int64  \n",
            " 2   frame.time                  1148359 non-null  object \n",
            " 3   frame.time_delta            1148359 non-null  float64\n",
            " 4   frame.time_delta_displayed  1148359 non-null  float64\n",
            " 5   frame.time_epoch            1148359 non-null  int64  \n",
            " 6   frame.time_relative         1148359 non-null  float64\n",
            " 7   radiotap.dbm_antsignal      1148359 non-null  int64  \n",
            " 8   radiotap.length             1148359 non-null  int64  \n",
            " 9   radiotap.present.tsft       1148359 non-null  object \n",
            " 10  radiotap.timestamp.ts       1148359 non-null  int64  \n",
            " 11  wlan.duration               1148359 non-null  int64  \n",
            " 12  wlan.fc.ds                  1148359 non-null  object \n",
            " 13  wlan.fc.frag                1148359 non-null  int64  \n",
            " 14  wlan.fc.order               1148359 non-null  int64  \n",
            " 15  wlan.fc.moredata            1148359 non-null  int64  \n",
            " 16  wlan.fc.protected           1148359 non-null  int64  \n",
            " 17  wlan.fc.pwrmgt              1148359 non-null  int64  \n",
            " 18  wlan.fc.type                1148359 non-null  int64  \n",
            " 19  wlan.fc.retry               1148359 non-null  int64  \n",
            " 20  wlan.fc.subtype             1148359 non-null  int64  \n",
            " 21  wlan.ra                     1148359 non-null  object \n",
            " 22  wlan_radio.duration         1148359 non-null  int64  \n",
            " 23  wlan_radio.data_rate        1148359 non-null  float64\n",
            " 24  wlan_radio.signal_dbm       1148359 non-null  int64  \n",
            " 25  wlan_radio.phy              1148359 non-null  int64  \n",
            " 26  Label                       1148359 non-null  object \n",
            "dtypes: float64(4), int64(18), object(5)\n",
            "memory usage: 236.6+ MB\n"
          ]
        }
      ]
    },
    {
      "cell_type": "code",
      "source": [
        "#Split dataset on train and test\n",
        "from sklearn.model_selection import train_test_split\n",
        "train, test=train_test_split(df1,test_size=0.3, random_state=10)\n",
        "\n",
        "#Exploratory Analysis\n",
        "# Descriptive statistics\n",
        "train.describe()\n",
        "test.describe()\n",
        "train['Label'].value_counts()\n",
        "test['Label'].value_counts()"
      ],
      "metadata": {
        "colab": {
          "base_uri": "https://localhost:8080/"
        },
        "id": "4ih8U2Fu_4hi",
        "outputId": "58be6ebe-dfac-4f0d-fcde-9727ad57a9f6"
      },
      "execution_count": null,
      "outputs": [
        {
          "output_type": "execute_result",
          "data": {
            "text/plain": [
              "Normal           343735\n",
              "SQL_Injection       773\n",
              "Name: Label, dtype: int64"
            ]
          },
          "metadata": {},
          "execution_count": 10
        }
      ]
    },
    {
      "cell_type": "code",
      "source": [
        "#for data imbalance\n",
        "from sklearn.utils import resample\n",
        "from imblearn.over_sampling import SMOTE\n",
        "df_majority = df1[df1.Label=='Normal']\n",
        "df_minority = df1[df1.Label=='SQL_Injection']\n",
        "df_minority_upsampled = resample(df_minority, \n",
        "                                 replace=True,     \n",
        "                                 n_samples=10000,    \n",
        "                                 random_state=10)"
      ],
      "metadata": {
        "id": "iwdz8fvSFaBn"
      },
      "execution_count": null,
      "outputs": []
    },
    {
      "cell_type": "code",
      "source": [
        "df_upsampled = pd.concat([df_majority, df_minority_upsampled])"
      ],
      "metadata": {
        "id": "DvE63jLHFdPa"
      },
      "execution_count": null,
      "outputs": []
    },
    {
      "cell_type": "code",
      "source": [
        "#Split dataset on train and test\n",
        "from sklearn.model_selection import train_test_split\n",
        "train, test=train_test_split(df_upsampled,test_size=0.3, random_state=10)\n",
        "\n",
        "#Exploratory Analysis\n",
        "# Descriptive statistics\n",
        "train.describe()\n",
        "test.describe()\n",
        "train['Label'].value_counts()\n",
        "test['Label'].value_counts()"
      ],
      "metadata": {
        "colab": {
          "base_uri": "https://localhost:8080/"
        },
        "id": "DGFu3XkiGkAK",
        "outputId": "af2605cd-847f-4c16-f87c-6afbd6741a43"
      },
      "execution_count": null,
      "outputs": [
        {
          "output_type": "execute_result",
          "data": {
            "text/plain": [
              "Normal           343714\n",
              "SQL_Injection      3005\n",
              "Name: Label, dtype: int64"
            ]
          },
          "metadata": {},
          "execution_count": 27
        }
      ]
    },
    {
      "cell_type": "code",
      "source": [
        "#Scalling numerical attributes\n",
        "from sklearn.preprocessing import StandardScaler\n",
        "scaler = StandardScaler()\n",
        "\n",
        "# extract numerical attributes and scale it to have zero mean and unit variance  \n",
        "cols = train.select_dtypes(include=['float32','int64']).columns\n",
        "sc_train = scaler.fit_transform(train.select_dtypes(include=['float32','int64']))\n",
        "sc_test = scaler.fit_transform(test.select_dtypes(include=['float32','int64']))\n",
        "\n",
        "# turn the result back to a dataframe\n",
        "sc_traindf = pd.DataFrame(sc_train, columns = cols)\n",
        "sc_testdf = pd.DataFrame(sc_test, columns = cols)"
      ],
      "metadata": {
        "id": "zNOOQIu-_9tT"
      },
      "execution_count": null,
      "outputs": []
    },
    {
      "cell_type": "code",
      "source": [
        "from sklearn.preprocessing import OneHotEncoder \n",
        "\n",
        "#creating one hot encoder object \n",
        "onehotencoder = OneHotEncoder() \n",
        "\n",
        "trainDep = train['Label'].values.reshape(-1,1)\n",
        "trainDep = onehotencoder.fit_transform(trainDep).toarray()\n",
        "testDep = test['Label'].values.reshape(-1,1)\n",
        "testDep = onehotencoder.fit_transform(testDep).toarray()"
      ],
      "metadata": {
        "id": "OUrygBlVAEOR"
      },
      "execution_count": null,
      "outputs": []
    },
    {
      "cell_type": "code",
      "source": [
        "train_X=sc_traindf\n",
        "train_y=trainDep[:,0]\n",
        "\n",
        "test_X=sc_testdf\n",
        "test_y=testDep[:,0]"
      ],
      "metadata": {
        "id": "wBKLI2cHAHej"
      },
      "execution_count": null,
      "outputs": []
    },
    {
      "cell_type": "code",
      "source": [
        "train['Label'].value_counts()\n",
        "test['Label'].value_counts()"
      ],
      "metadata": {
        "id": "CaRBIiFOG3DG",
        "outputId": "246d01dc-58ad-443d-9cd9-65ea98711355",
        "colab": {
          "base_uri": "https://localhost:8080/"
        }
      },
      "execution_count": null,
      "outputs": [
        {
          "output_type": "execute_result",
          "data": {
            "text/plain": [
              "Normal           343714\n",
              "SQL_Injection      3005\n",
              "Name: Label, dtype: int64"
            ]
          },
          "metadata": {},
          "execution_count": 31
        }
      ]
    },
    {
      "cell_type": "code",
      "source": [
        "from sklearn.decomposition import PCA\n",
        "\n",
        "pca = PCA()\n",
        "pca.fit(train_X)\n",
        "\n",
        "plt.plot(pca.explained_variance_ratio_.cumsum(), lw=3, color='#800080')\n",
        "plt.title('Cumulative variance', size=20)\n",
        "plt.show()"
      ],
      "metadata": {
        "colab": {
          "base_uri": "https://localhost:8080/",
          "height": 286
        },
        "id": "3L--FNjoEDEY",
        "outputId": "ca4e2f3e-6f23-4b3c-df46-30df952931b1"
      },
      "execution_count": null,
      "outputs": [
        {
          "output_type": "display_data",
          "data": {
            "text/plain": [
              "<Figure size 432x288 with 1 Axes>"
            ],
            "image/png": "[encoded data removed]"
          },
          "metadata": {
            "needs_background": "light"
          }
        }
      ]
    },
    {
      "cell_type": "code",
      "source": [
        "Loads = pd.DataFrame(\n",
        "    data=pca.components_.T * np.sqrt(pca.explained_variance_), \n",
        "    columns=[f'PC{i}' for i in range(1, len(train_X.columns) + 1)],\n",
        "    index=train_X.columns\n",
        ")\n",
        "Loads.head()"
      ],
      "metadata": {
        "colab": {
          "base_uri": "https://localhost:8080/",
          "height": 357
        },
        "id": "b_-C7cR2EKcb",
        "outputId": "684f2ef6-95ff-4d9e-b534-f9a63de85248"
      },
      "execution_count": null,
      "outputs": [
        {
          "output_type": "execute_result",
          "data": {
            "text/plain": [
              "                             PC1       PC2       PC3       PC4       PC5  \\\n",
              "frame.len               0.879392 -0.013260  0.119403 -0.060880  0.003079   \n",
              "frame.number           -0.020830 -0.997373 -0.012631 -0.002719  0.002452   \n",
              "frame.time_epoch       -0.022870 -0.999065 -0.012207 -0.002007  0.002334   \n",
              "radiotap.dbm_antsignal  0.428600 -0.018992  0.888081  0.014744 -0.030563   \n",
              "radiotap.length         0.951212 -0.004270 -0.149436 -0.085132  0.013451   \n",
              "\n",
              "                             PC6       PC7       PC8       PC9      PC10  \\\n",
              "frame.len               0.009755  0.013561  0.000743 -0.041839  0.349525   \n",
              "frame.number           -0.000732  0.002059 -0.007812  0.000326  0.001303   \n",
              "frame.time_epoch       -0.000989  0.001864 -0.006108 -0.000079 -0.000941   \n",
              "radiotap.dbm_antsignal  0.037902 -0.001889 -0.020225  0.090817 -0.117404   \n",
              "radiotap.length        -0.030532  0.025878  0.041482 -0.084516 -0.106151   \n",
              "\n",
              "                            PC11      PC12      PC13      PC14      PC15  \\\n",
              "frame.len              -0.034173 -0.288331  0.003061 -0.000489  0.003392   \n",
              "frame.number            0.002150 -0.002168 -0.000651  0.067486 -0.001412   \n",
              "frame.time_epoch        0.000953  0.001399 -0.000122 -0.033673  0.000665   \n",
              "radiotap.dbm_antsignal  0.006408  0.020210  0.004689  0.003482  0.001528   \n",
              "radiotap.length        -0.109614  0.028111 -0.175668 -0.000066 -0.004423   \n",
              "\n",
              "                            PC16      PC17          PC18  \n",
              "frame.len               0.000592 -0.000362 -1.031322e-06  \n",
              "frame.number           -0.002692  0.000032 -2.841390e-08  \n",
              "frame.time_epoch        0.001535  0.000002 -2.669936e-03  \n",
              "radiotap.dbm_antsignal  0.041663 -0.000120  3.431593e-06  \n",
              "radiotap.length         0.001220 -0.000276 -1.800772e-07  "
            ],
            "text/html": [
              "\n",
              "  <div id=\"df-749646bf-bea5-46e4-8e7b-a6dd6118b72b\">\n",
              "    <div class=\"colab-df-container\">\n",
              "      <div>\n",
              "<style scoped>\n",
              "    .dataframe tbody tr th:only-of-type {\n",
              "        vertical-align: middle;\n",
              "    }\n",
              "\n",
              "    .dataframe tbody tr th {\n",
              "        vertical-align: top;\n",
              "    }\n",
              "\n",
              "    .dataframe thead th {\n",
              "        text-align: right;\n",
              "    }\n",
              "</style>\n",
              "<table border=\"1\" class=\"dataframe\">\n",
              "  <thead>\n",
              "    <tr style=\"text-align: right;\">\n",
              "      <th></th>\n",
              "      <th>PC1</th>\n",
              "      <th>PC2</th>\n",
              "      <th>PC3</th>\n",
              "      <th>PC4</th>\n",
              "      <th>PC5</th>\n",
              "      <th>PC6</th>\n",
              "      <th>PC7</th>\n",
              "      <th>PC8</th>\n",
              "      <th>PC9</th>\n",
              "      <th>PC10</th>\n",
              "      <th>PC11</th>\n",
              "      <th>PC12</th>\n",
              "      <th>PC13</th>\n",
              "      <th>PC14</th>\n",
              "      <th>PC15</th>\n",
              "      <th>PC16</th>\n",
              "      <th>PC17</th>\n",
              "      <th>PC18</th>\n",
              "    </tr>\n",
              "  </thead>\n",
              "  <tbody>\n",
              "    <tr>\n",
              "      <th>frame.len</th>\n",
              "      <td>0.879392</td>\n",
              "      <td>-0.013260</td>\n",
              "      <td>0.119403</td>\n",
              "      <td>-0.060880</td>\n",
              "      <td>0.003079</td>\n",
              "      <td>0.009755</td>\n",
              "      <td>0.013561</td>\n",
              "      <td>0.000743</td>\n",
              "      <td>-0.041839</td>\n",
              "      <td>0.349525</td>\n",
              "      <td>-0.034173</td>\n",
              "      <td>-0.288331</td>\n",
              "      <td>0.003061</td>\n",
              "      <td>-0.000489</td>\n",
              "      <td>0.003392</td>\n",
              "      <td>0.000592</td>\n",
              "      <td>-0.000362</td>\n",
              "      <td>-1.031322e-06</td>\n",
              "    </tr>\n",
              "    <tr>\n",
              "      <th>frame.number</th>\n",
              "      <td>-0.020830</td>\n",
              "      <td>-0.997373</td>\n",
              "      <td>-0.012631</td>\n",
              "      <td>-0.002719</td>\n",
              "      <td>0.002452</td>\n",
              "      <td>-0.000732</td>\n",
              "      <td>0.002059</td>\n",
              "      <td>-0.007812</td>\n",
              "      <td>0.000326</td>\n",
              "      <td>0.001303</td>\n",
              "      <td>0.002150</td>\n",
              "      <td>-0.002168</td>\n",
              "      <td>-0.000651</td>\n",
              "      <td>0.067486</td>\n",
              "      <td>-0.001412</td>\n",
              "      <td>-0.002692</td>\n",
              "      <td>0.000032</td>\n",
              "      <td>-2.841390e-08</td>\n",
              "    </tr>\n",
              "    <tr>\n",
              "      <th>frame.time_epoch</th>\n",
              "      <td>-0.022870</td>\n",
              "      <td>-0.999065</td>\n",
              "      <td>-0.012207</td>\n",
              "      <td>-0.002007</td>\n",
              "      <td>0.002334</td>\n",
              "      <td>-0.000989</td>\n",
              "      <td>0.001864</td>\n",
              "      <td>-0.006108</td>\n",
              "      <td>-0.000079</td>\n",
              "      <td>-0.000941</td>\n",
              "      <td>0.000953</td>\n",
              "      <td>0.001399</td>\n",
              "      <td>-0.000122</td>\n",
              "      <td>-0.033673</td>\n",
              "      <td>0.000665</td>\n",
              "      <td>0.001535</td>\n",
              "      <td>0.000002</td>\n",
              "      <td>-2.669936e-03</td>\n",
              "    </tr>\n",
              "    <tr>\n",
              "      <th>radiotap.dbm_antsignal</th>\n",
              "      <td>0.428600</td>\n",
              "      <td>-0.018992</td>\n",
              "      <td>0.888081</td>\n",
              "      <td>0.014744</td>\n",
              "      <td>-0.030563</td>\n",
              "      <td>0.037902</td>\n",
              "      <td>-0.001889</td>\n",
              "      <td>-0.020225</td>\n",
              "      <td>0.090817</td>\n",
              "      <td>-0.117404</td>\n",
              "      <td>0.006408</td>\n",
              "      <td>0.020210</td>\n",
              "      <td>0.004689</td>\n",
              "      <td>0.003482</td>\n",
              "      <td>0.001528</td>\n",
              "      <td>0.041663</td>\n",
              "      <td>-0.000120</td>\n",
              "      <td>3.431593e-06</td>\n",
              "    </tr>\n",
              "    <tr>\n",
              "      <th>radiotap.length</th>\n",
              "      <td>0.951212</td>\n",
              "      <td>-0.004270</td>\n",
              "      <td>-0.149436</td>\n",
              "      <td>-0.085132</td>\n",
              "      <td>0.013451</td>\n",
              "      <td>-0.030532</td>\n",
              "      <td>0.025878</td>\n",
              "      <td>0.041482</td>\n",
              "      <td>-0.084516</td>\n",
              "      <td>-0.106151</td>\n",
              "      <td>-0.109614</td>\n",
              "      <td>0.028111</td>\n",
              "      <td>-0.175668</td>\n",
              "      <td>-0.000066</td>\n",
              "      <td>-0.004423</td>\n",
              "      <td>0.001220</td>\n",
              "      <td>-0.000276</td>\n",
              "      <td>-1.800772e-07</td>\n",
              "    </tr>\n",
              "  </tbody>\n",
              "</table>\n",
              "</div>\n",
              "      <button class=\"colab-df-convert\" onclick=\"convertToInteractive('df-749646bf-bea5-46e4-8e7b-a6dd6118b72b')\"\n",
              "              title=\"Convert this dataframe to an interactive table.\"\n",
              "              style=\"display:none;\">\n",
              "        \n",
              "  <svg xmlns=\"http://www.w3.org/2000/svg\" height=\"24px\"viewBox=\"0 0 24 24\"\n",
              "       width=\"24px\">\n",
              "    <path d=\"M0 0h24v24H0V0z\" fill=\"none\"/>\n",
              "    <path d=\"M18.56 5.44l.94 2.06.94-2.06 2.06-.94-2.06-.94-.94-2.06-.94 2.06-2.06.94zm-11 1L8.5 8.5l.94-2.06 2.06-.94-2.06-.94L8.5 2.5l-.94 2.06-2.06.94zm10 10l.94 2.06.94-2.06 2.06-.94-2.06-.94-.94-2.06-.94 2.06-2.06.94z\"/><path d=\"M17.41 7.96l-1.37-1.37c-.4-.4-.92-.59-1.43-.59-.52 0-1.04.2-1.43.59L10.3 9.45l-7.72 7.72c-.78.78-.78 2.05 0 2.83L4 21.41c.39.39.9.59 1.41.59.51 0 1.02-.2 1.41-.59l7.78-7.78 2.81-2.81c.8-.78.8-2.07 0-2.86zM5.41 20L4 18.59l7.72-7.72 1.47 1.35L5.41 20z\"/>\n",
              "  </svg>\n",
              "      </button>\n",
              "      \n",
              "  <style>\n",
              "    .colab-df-container {\n",
              "      display:flex;\n",
              "      flex-wrap:wrap;\n",
              "      gap: 12px;\n",
              "    }\n",
              "\n",
              "    .colab-df-convert {\n",
              "      background-color: #E8F0FE;\n",
              "      border: none;\n",
              "      border-radius: 50%;\n",
              "      cursor: pointer;\n",
              "      display: none;\n",
              "      fill: #1967D2;\n",
              "      height: 32px;\n",
              "      padding: 0 0 0 0;\n",
              "      width: 32px;\n",
              "    }\n",
              "\n",
              "    .colab-df-convert:hover {\n",
              "      background-color: #E2EBFA;\n",
              "      box-shadow: 0px 1px 2px rgba(60, 64, 67, 0.3), 0px 1px 3px 1px rgba(60, 64, 67, 0.15);\n",
              "      fill: #174EA6;\n",
              "    }\n",
              "\n",
              "    [theme=dark] .colab-df-convert {\n",
              "      background-color: #3B4455;\n",
              "      fill: #D2E3FC;\n",
              "    }\n",
              "\n",
              "    [theme=dark] .colab-df-convert:hover {\n",
              "      background-color: #434B5C;\n",
              "      box-shadow: 0px 1px 3px 1px rgba(0, 0, 0, 0.15);\n",
              "      filter: drop-shadow(0px 1px 2px rgba(0, 0, 0, 0.3));\n",
              "      fill: #FFFFFF;\n",
              "    }\n",
              "  </style>\n",
              "\n",
              "      <script>\n",
              "        const buttonEl =\n",
              "          document.querySelector('#df-749646bf-bea5-46e4-8e7b-a6dd6118b72b button.colab-df-convert');\n",
              "        buttonEl.style.display =\n",
              "          google.colab.kernel.accessAllowed ? 'block' : 'none';\n",
              "\n",
              "        async function convertToInteractive(key) {\n",
              "          const element = document.querySelector('#df-749646bf-bea5-46e4-8e7b-a6dd6118b72b');\n",
              "          const dataTable =\n",
              "            await google.colab.kernel.invokeFunction('convertToInteractive',\n",
              "                                                     [key], {});\n",
              "          if (!dataTable) return;\n",
              "\n",
              "          const docLinkHtml = 'Like what you see? Visit the ' +\n",
              "            '<a target=\"_blank\" href=https://colab.research.google.com/notebooks/data_table.ipynb>data table notebook</a>'\n",
              "            + ' to learn more about interactive tables.';\n",
              "          element.innerHTML = '';\n",
              "          dataTable['output_type'] = 'display_data';\n",
              "          await google.colab.output.renderOutput(dataTable, element);\n",
              "          const docLink = document.createElement('div');\n",
              "          docLink.innerHTML = docLinkHtml;\n",
              "          element.appendChild(docLink);\n",
              "        }\n",
              "      </script>\n",
              "    </div>\n",
              "  </div>\n",
              "  "
            ]
          },
          "metadata": {},
          "execution_count": 33
        }
      ]
    },
    {
      "cell_type": "code",
      "source": [
        "pc1_Loads = Loads.sort_values(by='PC1', ascending=False)[['PC1']]\n",
        "pc1_Loads = pc1_Loads.reset_index()\n",
        "pc1_Loads.columns = ['Feature', 'CorrelationtoPC1']\n",
        "\n",
        "plt.bar(x=pc1_Loads['Feature'], height=pc1_Loads['CorrelationtoPC1'], color='#800080')\n",
        "plt.title('PCA scores', size=20)\n",
        "plt.xticks(rotation='vertical')\n",
        "plt.show()"
      ],
      "metadata": {
        "colab": {
          "base_uri": "https://localhost:8080/"
        },
        "id": "zN00MA7rEOoA",
        "outputId": "2f433e8f-77a2-4d6e-aa19-c8f7ef8afb43"
      },
      "execution_count": null,
      "outputs": [
        {
          "output_type": "display_data",
          "data": {
            "text/plain": [
              "<Figure size 432x288 with 1 Axes>"
            ],
            "image/png": "[encoded data removed]"
          },
          "metadata": {
            "needs_background": "light"
          }
        }
      ]
    }
  ]
}