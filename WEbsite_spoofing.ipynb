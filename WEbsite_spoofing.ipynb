{
  "nbformat": 4,
  "nbformat_minor": 0,
  "metadata": {
    "colab": {
      "name": "WEbsite_spoofing.ipynb",
      "provenance": [],
      "authorship_tag": "ABX9TyMUB+bCHm0su7lfWNkt4n+d",
      "include_colab_link": true
    },
    "kernelspec": {
      "name": "python3",
      "display_name": "Python 3"
    },
    "language_info": {
      "name": "python"
    },
    "accelerator": "GPU",
    "gpuClass": "standard"
  },
  "cells": [
    {
      "cell_type": "markdown",
      "metadata": {
        "id": "view-in-github",
        "colab_type": "text"
      },
      "source": [
        "<a href=\"https://colab.research.google.com/github/nowshaba/Intrusion-Detection/blob/main/WEbsite_spoofing.ipynb\" target=\"_parent\"><img src=\"https://colab.research.google.com/assets/colab-badge.svg\" alt=\"Open In Colab\"/></a>"
      ]
    },
    {
      "cell_type": "code",
      "execution_count": null,
      "metadata": {
        "id": "9CL1iwMd_Gk2"
      },
      "outputs": [],
      "source": [
        "\n",
        "import numpy as np\n",
        "import pandas as pd \n",
        "import matplotlib.pyplot as plt\n",
        "import seaborn as sns\n",
        "import imblearn\n",
        "import sklearn.metrics as m\n",
        "import keras\n",
        "import tensorflow as tf\n",
        "import sklearn\n",
        "import tensorboard"
      ]
    },
    {
      "cell_type": "code",
      "source": [
        "from google.colab import drive\n",
        "drive.mount('/content/drive/')"
      ],
      "metadata": {
        "colab": {
          "base_uri": "https://localhost:8080/"
        },
        "id": "GDEbhiFr_igI",
        "outputId": "f517d29d-a679-41ab-89bf-2a071757ec90"
      },
      "execution_count": null,
      "outputs": [
        {
          "output_type": "stream",
          "name": "stdout",
          "text": [
            "Mounted at /content/drive/\n"
          ]
        }
      ]
    },
    {
      "cell_type": "code",
      "source": [
        "#Avoid warnings\n",
        "import warnings\n",
        "warnings.filterwarnings('ignore')\n",
        "#Settings\n",
        "pd.set_option('display.max_columns', None)\n",
        "pd.set_option('display.max_rows', None)\n",
        "\n",
        "#Import  Data\n",
        "j=0\n",
        "n=0\n",
        "#to check whih files have both attack and normal labels\n",
        "for j in range(0,54):\n",
        "  df3=pd.read_csv(\"/content/drive/MyDrive/AWID3_Dataset_CSV/CSV/13.Website_spoofing/Website_spoofing_\"+str(j)+\".csv\")\n",
        "  j+1\n",
        "  for i in df3['Label']:\n",
        "    if (i=='Website_spoofing'):\n",
        "      n=1\n",
        "  if (n==1):\n",
        "    print(\"n is\",n, \"and j is\",j)"
      ],
      "metadata": {
        "colab": {
          "base_uri": "https://localhost:8080/"
        },
        "id": "PN-HMFQA_lWv",
        "outputId": "c21b579a-64cf-4520-b4ab-c112c2e537a6"
      },
      "execution_count": null,
      "outputs": [
        {
          "output_type": "stream",
          "name": "stdout",
          "text": [
            "n is 1 and j is 0\n",
            "n is 1 and j is 1\n",
            "n is 1 and j is 2\n",
            "n is 1 and j is 3\n",
            "n is 1 and j is 4\n",
            "n is 1 and j is 5\n",
            "n is 1 and j is 6\n",
            "n is 1 and j is 7\n",
            "n is 1 and j is 8\n",
            "n is 1 and j is 9\n",
            "n is 1 and j is 10\n",
            "n is 1 and j is 11\n",
            "n is 1 and j is 12\n",
            "n is 1 and j is 13\n",
            "n is 1 and j is 14\n",
            "n is 1 and j is 15\n",
            "n is 1 and j is 16\n",
            "n is 1 and j is 17\n",
            "n is 1 and j is 18\n",
            "n is 1 and j is 19\n",
            "n is 1 and j is 20\n",
            "n is 1 and j is 21\n",
            "n is 1 and j is 22\n",
            "n is 1 and j is 23\n",
            "n is 1 and j is 24\n",
            "n is 1 and j is 25\n",
            "n is 1 and j is 26\n",
            "n is 1 and j is 27\n",
            "n is 1 and j is 28\n",
            "n is 1 and j is 29\n",
            "n is 1 and j is 30\n",
            "n is 1 and j is 31\n",
            "n is 1 and j is 32\n",
            "n is 1 and j is 33\n",
            "n is 1 and j is 34\n",
            "n is 1 and j is 35\n",
            "n is 1 and j is 36\n",
            "n is 1 and j is 37\n",
            "n is 1 and j is 38\n",
            "n is 1 and j is 39\n",
            "n is 1 and j is 40\n",
            "n is 1 and j is 41\n",
            "n is 1 and j is 42\n",
            "n is 1 and j is 43\n",
            "n is 1 and j is 44\n",
            "n is 1 and j is 45\n",
            "n is 1 and j is 46\n",
            "n is 1 and j is 47\n",
            "n is 1 and j is 48\n",
            "n is 1 and j is 49\n",
            "n is 1 and j is 50\n",
            "n is 1 and j is 51\n",
            "n is 1 and j is 52\n",
            "n is 1 and j is 53\n"
          ]
        }
      ]
    },
    {
      "cell_type": "code",
      "source": [
        "#much better than this is to put all the desired csv files in this case from 21 to 32 in one folder and use GLOB to put them in one df\n",
        "df1 = pd.concat(\n",
        "    map(pd.read_csv,[\"/content/drive/MyDrive/AWID3_Dataset_CSV/CSV/13.Website_spoofing/Website_spoofing_28.csv\",\"/content/drive/MyDrive/AWID3_Dataset_CSV/CSV/13.Website_spoofing/Website_spoofing_29.csv\",\"/content/drive/MyDrive/AWID3_Dataset_CSV/CSV/13.Website_spoofing/Website_spoofing_30.csv\",\"/content/drive/MyDrive/AWID3_Dataset_CSV/CSV/13.Website_spoofing/Website_spoofing_31.csv\",\"/content/drive/MyDrive/AWID3_Dataset_CSV/CSV/13.Website_spoofing/Website_spoofing_32.csv\",\"/content/drive/MyDrive/AWID3_Dataset_CSV/CSV/13.Website_spoofing/Website_spoofing_33.csv\",\"/content/drive/MyDrive/AWID3_Dataset_CSV/CSV/13.Website_spoofing/Website_spoofing_34.csv\",\"/content/drive/MyDrive/AWID3_Dataset_CSV/CSV/13.Website_spoofing/Website_spoofing_35.csv\",\"/content/drive/MyDrive/AWID3_Dataset_CSV/CSV/13.Website_spoofing/Website_spoofing_36.csv\"]), ignore_index=True)"
      ],
      "metadata": {
        "id": "ZEJQZjSs_pRc"
      },
      "execution_count": null,
      "outputs": []
    },
    {
      "cell_type": "code",
      "source": [
        "drop_cols = []\n",
        "for i in df1.columns:\n",
        "    if len(df1[i].unique())==1:\n",
        "        drop_cols.append(i)\n",
        "print(\"Total columns with only 1 unique value:\", len(drop_cols))\n",
        "df1.drop(drop_cols, 1, inplace=True)\n",
        "\n",
        "print(df1.columns)\n",
        "df1.replace([np.inf, -np.inf], 0, inplace=True)\n",
        "df1.fillna(0, inplace = True)"
      ],
      "metadata": {
        "colab": {
          "base_uri": "https://localhost:8080/"
        },
        "id": "uwSmMEgHCBfp",
        "outputId": "03bddb4a-6cc4-4090-af7e-c886158f73e4"
      },
      "execution_count": null,
      "outputs": [
        {
          "output_type": "stream",
          "name": "stdout",
          "text": [
            "Total columns with only 1 unique value: 85\n",
            "Index(['frame.len', 'frame.number', 'frame.time', 'frame.time_delta',\n",
            "       'frame.time_delta_displayed', 'frame.time_epoch', 'frame.time_relative',\n",
            "       'radiotap.datarate', 'radiotap.dbm_antsignal', 'radiotap.length',\n",
            "       ...\n",
            "       'tls.alert_message.level', 'tls.app_data_proto',\n",
            "       'tls.compress_certificate.compressed_certificate_message.length',\n",
            "       'tls.handshake.extension.type',\n",
            "       'tls.handshake.extensions_key_share_group',\n",
            "       'tls.handshake.session_ticket_length', 'tls.handshake.version',\n",
            "       'tls.record.content_type', 'tls.record.version', 'Label'],\n",
            "      dtype='object', length=169)\n"
          ]
        }
      ]
    },
    {
      "cell_type": "code",
      "source": [
        "df1.dropna(1,inplace=True)"
      ],
      "metadata": {
        "id": "tCLADLaQCOtD"
      },
      "execution_count": null,
      "outputs": []
    },
    {
      "cell_type": "code",
      "source": [
        "df1.info()"
      ],
      "metadata": {
        "colab": {
          "base_uri": "https://localhost:8080/"
        },
        "id": "9BKwbWCOCUhe",
        "outputId": "cb11491a-2ff9-412e-fa54-1c5880e786e3"
      },
      "execution_count": null,
      "outputs": [
        {
          "output_type": "stream",
          "name": "stdout",
          "text": [
            "<class 'pandas.core.frame.DataFrame'>\n",
            "RangeIndex: 450000 entries, 0 to 449999\n",
            "Columns: 169 entries, frame.len to Label\n",
            "dtypes: float64(37), int64(18), object(114)\n",
            "memory usage: 580.2+ MB\n"
          ]
        }
      ]
    },
    {
      "cell_type": "code",
      "source": [
        "#much better than this is to put all the desired csv files in this case from 21 to 32 in one folder and use GLOB to put them in one df\n",
        "df2 = pd.concat(\n",
        "    map(pd.read_csv,[\"/content/drive/MyDrive/AWID3_Dataset_CSV/CSV/13.Website_spoofing/Website_spoofing_37.csv\",\"/content/drive/MyDrive/AWID3_Dataset_CSV/CSV/13.Website_spoofing/Website_spoofing_38.csv\",\"/content/drive/MyDrive/AWID3_Dataset_CSV/CSV/13.Website_spoofing/Website_spoofing_39.csv\",\"/content/drive/MyDrive/AWID3_Dataset_CSV/CSV/13.Website_spoofing/Website_spoofing_40.csv\",\"/content/drive/MyDrive/AWID3_Dataset_CSV/CSV/13.Website_spoofing/Website_spoofing_41.csv\",\"/content/drive/MyDrive/AWID3_Dataset_CSV/CSV/13.Website_spoofing/Website_spoofing_42.csv\",\"/content/drive/MyDrive/AWID3_Dataset_CSV/CSV/13.Website_spoofing/Website_spoofing_43.csv\",\"/content/drive/MyDrive/AWID3_Dataset_CSV/CSV/13.Website_spoofing/Website_spoofing_44.csv\",\"/content/drive/MyDrive/AWID3_Dataset_CSV/CSV/13.Website_spoofing/Website_spoofing_45.csv\",\"/content/drive/MyDrive/AWID3_Dataset_CSV/CSV/13.Website_spoofing/Website_spoofing_46.csv\",\"/content/drive/MyDrive/AWID3_Dataset_CSV/CSV/13.Website_spoofing/Website_spoofing_47.csv\"]), ignore_index=True)"
      ],
      "metadata": {
        "id": "kfCiTv6ZVNvT"
      },
      "execution_count": null,
      "outputs": []
    },
    {
      "cell_type": "code",
      "source": [
        "drop_cols = []\n",
        "for i in df2.columns:\n",
        "    if len(df2[i].unique())==1:\n",
        "        drop_cols.append(i)\n",
        "print(\"Total columns with only 1 unique value:\", len(drop_cols))\n",
        "df2.drop(drop_cols, 1, inplace=True)\n",
        "\n",
        "print(df2.columns)\n",
        "df2.replace([np.inf, -np.inf], 0, inplace=True)\n",
        "df2.fillna(0, inplace = True)"
      ],
      "metadata": {
        "colab": {
          "base_uri": "https://localhost:8080/"
        },
        "id": "khFSNU01vl8B",
        "outputId": "15494f48-3797-4ed9-99a0-08c9c2cb13a0"
      },
      "execution_count": null,
      "outputs": [
        {
          "output_type": "stream",
          "name": "stdout",
          "text": [
            "Total columns with only 1 unique value: 103\n",
            "Index(['frame.len', 'frame.number', 'frame.time', 'frame.time_delta',\n",
            "       'frame.time_delta_displayed', 'frame.time_epoch', 'frame.time_relative',\n",
            "       'radiotap.datarate', 'radiotap.dbm_antsignal', 'radiotap.length',\n",
            "       ...\n",
            "       'tls.alert_message.level', 'tls.app_data_proto',\n",
            "       'tls.compress_certificate.compressed_certificate_message.length',\n",
            "       'tls.handshake.extension.type',\n",
            "       'tls.handshake.extensions_key_share_group',\n",
            "       'tls.handshake.session_ticket_length', 'tls.handshake.version',\n",
            "       'tls.record.content_type', 'tls.record.version', 'Label'],\n",
            "      dtype='object', length=151)\n"
          ]
        }
      ]
    },
    {
      "cell_type": "code",
      "source": [
        "df2.dropna(1,inplace=True)"
      ],
      "metadata": {
        "id": "bI5Ms-wXvyP9"
      },
      "execution_count": null,
      "outputs": []
    },
    {
      "cell_type": "code",
      "source": [
        "df2.info()"
      ],
      "metadata": {
        "colab": {
          "base_uri": "https://localhost:8080/"
        },
        "id": "RFN41ONcv2WT",
        "outputId": "22cc8966-d722-444c-d081-af6f2cf22edc"
      },
      "execution_count": null,
      "outputs": [
        {
          "output_type": "stream",
          "name": "stdout",
          "text": [
            "<class 'pandas.core.frame.DataFrame'>\n",
            "RangeIndex: 549998 entries, 0 to 549997\n",
            "Columns: 151 entries, frame.len to Label\n",
            "dtypes: float64(26), int64(17), object(108)\n",
            "memory usage: 633.6+ MB\n"
          ]
        }
      ]
    },
    {
      "cell_type": "code",
      "source": [
        "#much better than this is to put all the desired csv files in this case from 21 to 32 in one folder and use GLOB to put them in one df\n",
        "df3 = pd.concat(\n",
        "    map(pd.read_csv,[\"/content/drive/MyDrive/AWID3_Dataset_CSV/CSV/13.Website_spoofing/Website_spoofing_48.csv\",\"/content/drive/MyDrive/AWID3_Dataset_CSV/CSV/13.Website_spoofing/Website_spoofing_49.csv\",\"/content/drive/MyDrive/AWID3_Dataset_CSV/CSV/13.Website_spoofing/Website_spoofing_50.csv\",\"/content/drive/MyDrive/AWID3_Dataset_CSV/CSV/13.Website_spoofing/Website_spoofing_51.csv\",\"/content/drive/MyDrive/AWID3_Dataset_CSV/CSV/13.Website_spoofing/Website_spoofing_52.csv\",\"/content/drive/MyDrive/AWID3_Dataset_CSV/CSV/13.Website_spoofing/Website_spoofing_53.csv\"]), ignore_index=True)"
      ],
      "metadata": {
        "id": "OFevF3nO8twq"
      },
      "execution_count": null,
      "outputs": []
    },
    {
      "cell_type": "code",
      "source": [
        "drop_cols = []\n",
        "for i in df3.columns:\n",
        "    if len(df3[i].unique())==1:\n",
        "        drop_cols.append(i)\n",
        "print(\"Total columns with only 1 unique value:\", len(drop_cols))\n",
        "df3.drop(drop_cols, 1, inplace=True)\n",
        "\n",
        "print(df3.columns)\n",
        "df3.replace([np.inf, -np.inf], 0, inplace=True)\n",
        "df3.fillna(0, inplace = True)"
      ],
      "metadata": {
        "colab": {
          "base_uri": "https://localhost:8080/"
        },
        "id": "gtKPpZqzwAfg",
        "outputId": "a6f1c910-5339-42c6-f450-909cf5548ac7"
      },
      "execution_count": null,
      "outputs": [
        {
          "output_type": "stream",
          "name": "stdout",
          "text": [
            "Total columns with only 1 unique value: 100\n",
            "Index(['frame.len', 'frame.number', 'frame.time', 'frame.time_delta',\n",
            "       'frame.time_delta_displayed', 'frame.time_epoch', 'frame.time_relative',\n",
            "       'radiotap.datarate', 'radiotap.dbm_antsignal', 'radiotap.length',\n",
            "       ...\n",
            "       'tls.alert_message.level', 'tls.app_data_proto',\n",
            "       'tls.compress_certificate.compressed_certificate_message.length',\n",
            "       'tls.handshake.extension.type',\n",
            "       'tls.handshake.extensions_key_share_group',\n",
            "       'tls.handshake.session_ticket_length', 'tls.handshake.version',\n",
            "       'tls.record.content_type', 'tls.record.version', 'Label'],\n",
            "      dtype='object', length=154)\n"
          ]
        }
      ]
    },
    {
      "cell_type": "code",
      "source": [
        "df3.dropna(1,inplace=True)\n",
        "df3.info()"
      ],
      "metadata": {
        "colab": {
          "base_uri": "https://localhost:8080/"
        },
        "id": "mf2qT9h8wIl5",
        "outputId": "1d6ba22a-83ad-47eb-d344-684ed1c0dbfb"
      },
      "execution_count": null,
      "outputs": [
        {
          "output_type": "stream",
          "name": "stdout",
          "text": [
            "<class 'pandas.core.frame.DataFrame'>\n",
            "RangeIndex: 268581 entries, 0 to 268580\n",
            "Columns: 154 entries, frame.len to Label\n",
            "dtypes: float64(30), int64(18), object(106)\n",
            "memory usage: 315.6+ MB\n"
          ]
        }
      ]
    },
    {
      "cell_type": "code",
      "source": [
        "df=pd.concat([df1, df2, df3], axis=0, ignore_index=True)"
      ],
      "metadata": {
        "id": "GkTXVkNE-0_v"
      },
      "execution_count": null,
      "outputs": []
    },
    {
      "cell_type": "code",
      "source": [
        "df.info()"
      ],
      "metadata": {
        "colab": {
          "base_uri": "https://localhost:8080/"
        },
        "id": "TIfi1aSt_1Zc",
        "outputId": "89fdc99c-f61d-4e2d-9c1f-41fab017afdd"
      },
      "execution_count": null,
      "outputs": [
        {
          "output_type": "stream",
          "name": "stdout",
          "text": [
            "<class 'pandas.core.frame.DataFrame'>\n",
            "RangeIndex: 1268579 entries, 0 to 1268578\n",
            "Columns: 170 entries, frame.len to ldap\n",
            "dtypes: float64(34), int64(17), object(119)\n",
            "memory usage: 1.6+ GB\n"
          ]
        }
      ]
    },
    {
      "cell_type": "code",
      "source": [
        "df.dropna(1, how = 'all', inplace=True)"
      ],
      "metadata": {
        "id": "VtiN1ZMlxJHA"
      },
      "execution_count": null,
      "outputs": []
    },
    {
      "cell_type": "code",
      "source": [
        "df.info()"
      ],
      "metadata": {
        "colab": {
          "base_uri": "https://localhost:8080/"
        },
        "id": "Av6JQzbTxh0j",
        "outputId": "84fbc766-22e0-46fc-ae6d-ded661025cd1"
      },
      "execution_count": null,
      "outputs": [
        {
          "output_type": "stream",
          "name": "stdout",
          "text": [
            "<class 'pandas.core.frame.DataFrame'>\n",
            "RangeIndex: 1268579 entries, 0 to 1268578\n",
            "Columns: 170 entries, frame.len to ldap\n",
            "dtypes: float64(34), int64(17), object(119)\n",
            "memory usage: 1.6+ GB\n"
          ]
        }
      ]
    },
    {
      "cell_type": "code",
      "source": [
        " df.replace([np.inf, -np.inf], 0, inplace=True)\n",
        " df.fillna(0, inplace = True)\n",
        " "
      ],
      "metadata": {
        "id": "TJNkWlRvzNgy"
      },
      "execution_count": null,
      "outputs": []
    },
    {
      "cell_type": "code",
      "source": [
        "df = df[df.Label != 0]\n",
        "#to remove labels that had NaN value which was replaced by zero above."
      ],
      "metadata": {
        "id": "lTrkwaVR0xnC"
      },
      "execution_count": null,
      "outputs": []
    },
    {
      "cell_type": "code",
      "source": [
        "#Split dataset on train and test\n",
        "from sklearn.model_selection import train_test_split\n",
        "train, test=train_test_split(df,test_size=0.3, random_state=10)\n",
        "\n",
        "#Exploratory Analysis\n",
        "# Descriptive statistics\n",
        "train.describe()\n",
        "test.describe()\n",
        "train['Label'].value_counts()\n",
        "test['Label'].value_counts()"
      ],
      "metadata": {
        "colab": {
          "base_uri": "https://localhost:8080/"
        },
        "id": "4ih8U2Fu_4hi",
        "outputId": "ef5d3ede-64b5-49e2-a79c-e363409f1a61"
      },
      "execution_count": null,
      "outputs": [
        {
          "output_type": "execute_result",
          "data": {
            "text/plain": [
              "Normal              278013\n",
              "Website_spoofing    102561\n",
              "Name: Label, dtype: int64"
            ]
          },
          "metadata": {},
          "execution_count": 22
        }
      ]
    },
    {
      "cell_type": "code",
      "source": [
        "#Scalling numerical attributes\n",
        "from sklearn.preprocessing import StandardScaler\n",
        "scaler = StandardScaler()\n",
        "\n",
        "# extract numerical attributes and scale it to have zero mean and unit variance  \n",
        "cols = train.select_dtypes(include=['float64','int64']).columns\n",
        "sc_train = scaler.fit_transform(train.select_dtypes(include=['float64','int64']))\n",
        "sc_test = scaler.fit_transform(test.select_dtypes(include=['float64','int64']))\n",
        "\n",
        "# turn the result back to a dataframe\n",
        "sc_traindf = pd.DataFrame(sc_train, columns = cols)\n",
        "sc_testdf = pd.DataFrame(sc_test, columns = cols)"
      ],
      "metadata": {
        "id": "zNOOQIu-_9tT"
      },
      "execution_count": null,
      "outputs": []
    },
    {
      "cell_type": "code",
      "source": [
        "from sklearn.preprocessing import OneHotEncoder \n",
        "\n",
        "#creating one hot encoder object \n",
        "onehotencoder = OneHotEncoder() \n",
        "\n",
        "trainDep = train['Label'].values.reshape(-1,1)\n",
        "trainDep = onehotencoder.fit_transform(trainDep).toarray()\n",
        "testDep = test['Label'].values.reshape(-1,1)\n",
        "testDep = onehotencoder.fit_transform(testDep).toarray()"
      ],
      "metadata": {
        "id": "OUrygBlVAEOR"
      },
      "execution_count": null,
      "outputs": []
    },
    {
      "cell_type": "code",
      "source": [
        "train_X=sc_traindf\n",
        "train_y=trainDep[:,0]\n",
        "\n",
        "test_X=sc_testdf\n",
        "test_y=testDep[:,0]"
      ],
      "metadata": {
        "id": "wBKLI2cHAHej"
      },
      "execution_count": null,
      "outputs": []
    },
    {
      "cell_type": "code",
      "source": [
        "from sklearn.decomposition import PCA\n",
        "\n",
        "pca = PCA()\n",
        "pca.fit(train_X)\n",
        "\n",
        "plt.plot(pca.explained_variance_ratio_.cumsum(), lw=3, color='#800080')\n",
        "plt.title('Cumulative variance', size=20)\n",
        "plt.show()"
      ],
      "metadata": {
        "colab": {
          "base_uri": "https://localhost:8080/",
          "height": 286
        },
        "id": "3L--FNjoEDEY",
        "outputId": "256e367d-6ca5-49fa-ee8e-c7d0ae008832"
      },
      "execution_count": null,
      "outputs": [
        {
          "output_type": "display_data",
          "data": {
            "text/plain": [
              "<Figure size 432x288 with 1 Axes>"
            ],
            "image/png": "[encoded data removed]"
          },
          "metadata": {
            "needs_background": "light"
          }
        }
      ]
    },
    {
      "cell_type": "code",
      "source": [
        "Loads = pd.DataFrame(\n",
        "    data=pca.components_.T * np.sqrt(pca.explained_variance_), \n",
        "    columns=[f'PC{i}' for i in range(1, len(train_X.columns) + 1)],\n",
        "    index=train_X.columns\n",
        ")\n",
        "Loads.head()"
      ],
      "metadata": {
        "colab": {
          "base_uri": "https://localhost:8080/",
          "height": 357
        },
        "id": "b_-C7cR2EKcb",
        "outputId": "578b89bc-f66f-48f5-ad13-7c1af934638d"
      },
      "execution_count": null,
      "outputs": [
        {
          "output_type": "execute_result",
          "data": {
            "text/plain": [
              "                                 PC1       PC2       PC3       PC4       PC5  \\\n",
              "frame.len                   0.447341  0.244458 -0.119258 -0.001924 -0.701323   \n",
              "frame.number                0.003785 -0.305414  0.921633  0.081152 -0.222438   \n",
              "frame.time_delta           -0.042772  0.281407  0.085690  0.006487 -0.063227   \n",
              "frame.time_delta_displayed -0.042772  0.281407  0.085690  0.006487 -0.063227   \n",
              "frame.time_epoch            0.004943 -0.305353  0.922057  0.081436 -0.222537   \n",
              "\n",
              "                                 PC6       PC7       PC8       PC9      PC10  \\\n",
              "frame.len                  -0.071636 -0.082439  0.068427 -0.118951 -0.020618   \n",
              "frame.number               -0.007822 -0.007247  0.005451 -0.006689 -0.001999   \n",
              "frame.time_delta            0.886087  0.288244  0.132621 -0.110745 -0.011509   \n",
              "frame.time_delta_displayed  0.886087  0.288244  0.132621 -0.110745 -0.011509   \n",
              "frame.time_epoch           -0.007677 -0.007433  0.005583 -0.007144 -0.001981   \n",
              "\n",
              "                                PC11      PC12      PC13      PC14      PC15  \\\n",
              "frame.len                  -0.006928 -0.000947 -0.001744 -0.006662 -0.015041   \n",
              "frame.number                0.000869  0.000630  0.000579 -0.000217 -0.000549   \n",
              "frame.time_delta           -0.000584  0.000529 -0.000160  0.001211 -0.095614   \n",
              "frame.time_delta_displayed -0.000584  0.000529 -0.000160  0.001211 -0.095614   \n",
              "frame.time_epoch            0.001354  0.000592  0.000593 -0.000181 -0.000216   \n",
              "\n",
              "                                PC16      PC17      PC18      PC19      PC20  \\\n",
              "frame.len                   0.006533  0.000917  0.066190  0.259236  0.047960   \n",
              "frame.number                0.003439 -0.001714  0.001760 -0.006326  0.000285   \n",
              "frame.time_delta            0.004755 -0.001778  0.004426 -0.009183 -0.005301   \n",
              "frame.time_delta_displayed  0.004755 -0.001778  0.004426 -0.009183 -0.005301   \n",
              "frame.time_epoch            0.004900 -0.002586 -0.000028 -0.002982  0.000159   \n",
              "\n",
              "                                PC21      PC22      PC23      PC24      PC25  \\\n",
              "frame.len                  -0.079178  0.034414  0.305606 -0.000878 -0.147646   \n",
              "frame.number               -0.000379  0.000379 -0.000054 -0.000008  0.001633   \n",
              "frame.time_delta           -0.003359  0.000913  0.007795 -0.000030  0.002311   \n",
              "frame.time_delta_displayed -0.003359  0.000913  0.007795 -0.000030  0.002311   \n",
              "frame.time_epoch            0.000514 -0.000164 -0.002680 -0.000023  0.001277   \n",
              "\n",
              "                                PC26      PC27      PC28      PC29      PC30  \\\n",
              "frame.len                  -0.007239 -0.003286 -0.076375  0.008184 -0.000252   \n",
              "frame.number                0.000340  0.000018  0.000274  0.000459  0.000556   \n",
              "frame.time_delta           -0.000015  0.000015 -0.000178  0.000011  0.000050   \n",
              "frame.time_delta_displayed -0.000015  0.000015 -0.000178  0.000011  0.000050   \n",
              "frame.time_epoch            0.000321 -0.000043 -0.000917  0.000290  0.000057   \n",
              "\n",
              "                                PC31      PC32      PC33          PC34  \\\n",
              "frame.len                   0.000340 -0.000010  0.000076 -2.033751e-06   \n",
              "frame.number               -0.000799  0.031304  0.000140 -3.249270e-05   \n",
              "frame.time_delta           -0.000022 -0.000003  0.000005  3.725094e-07   \n",
              "frame.time_delta_displayed -0.000022 -0.000003  0.000005  3.725094e-07   \n",
              "frame.time_epoch            0.000443 -0.010896 -0.000158  3.282152e-05   \n",
              "\n",
              "                                    PC35          PC36          PC37  \\\n",
              "frame.len                  -1.120235e-06  6.077759e-07  4.702846e-09   \n",
              "frame.number                2.640587e-06 -7.687586e-05  2.334109e-07   \n",
              "frame.time_delta           -2.338598e-08  8.208594e-09  1.035111e-09   \n",
              "frame.time_delta_displayed -2.338598e-08  8.208594e-09  1.035111e-09   \n",
              "frame.time_epoch           -8.400032e-06 -4.532163e-03  1.094680e-05   \n",
              "\n",
              "                                    PC38          PC39          PC40  \\\n",
              "frame.len                  -5.082187e-10  1.123935e-11  1.078243e-18   \n",
              "frame.number                1.274792e-07 -4.979857e-11 -7.687011e-19   \n",
              "frame.time_delta           -3.159992e-08 -3.902113e-13 -1.188271e-18   \n",
              "frame.time_delta_displayed -3.159992e-08 -3.899918e-13  1.263648e-18   \n",
              "frame.time_epoch            1.467809e-06  7.717787e-11 -6.574675e-18   \n",
              "\n",
              "                                    PC41          PC42          PC43  \\\n",
              "frame.len                  -9.408384e-31  0.000000e+00  0.000000e+00   \n",
              "frame.number               -1.555032e-31 -5.008634e-31  2.141742e-32   \n",
              "frame.time_delta            4.774547e-16  4.545761e-17  1.254801e-16   \n",
              "frame.time_delta_displayed -4.774547e-16 -4.545761e-17 -1.254801e-16   \n",
              "frame.time_epoch            1.072566e-29  3.690645e-30  1.436413e-30   \n",
              "\n",
              "                                    PC44          PC45          PC46  \\\n",
              "frame.len                  -0.000000e+00  0.000000e+00  0.000000e+00   \n",
              "frame.number               -1.064634e-31 -3.544549e-31  9.906283e-32   \n",
              "frame.time_delta           -1.479091e-17  2.761683e-17  1.879008e-17   \n",
              "frame.time_delta_displayed  1.479091e-17 -2.761683e-17 -1.879008e-17   \n",
              "frame.time_epoch           -1.044372e-30 -1.562541e-30  2.357871e-31   \n",
              "\n",
              "                                    PC47          PC48          PC49  \\\n",
              "frame.len                  -0.000000e+00 -0.000000e+00 -0.000000e+00   \n",
              "frame.number                1.398264e-31  6.286894e-34  5.039108e-33   \n",
              "frame.time_delta            3.479202e-18 -8.132277e-25  1.342524e-30   \n",
              "frame.time_delta_displayed -3.479202e-18  8.132277e-25 -1.342432e-30   \n",
              "frame.time_epoch            2.685241e-31 -6.155713e-33  9.827913e-33   \n",
              "\n",
              "                                    PC50          PC51  \n",
              "frame.len                  -0.000000e+00  0.000000e+00  \n",
              "frame.number               -4.428009e-33 -2.109848e-32  \n",
              "frame.time_delta            1.657705e-31  4.544060e-17  \n",
              "frame.time_delta_displayed -1.658433e-31 -4.544060e-17  \n",
              "frame.time_epoch           -3.669786e-32  1.020112e-30  "
            ],
            "text/html": [
              "\n",
              "  <div id=\"df-6c8f7482-7cee-4edd-b154-2061dbfcbcaa\">\n",
              "    <div class=\"colab-df-container\">\n",
              "      <div>\n",
              "<style scoped>\n",
              "    .dataframe tbody tr th:only-of-type {\n",
              "        vertical-align: middle;\n",
              "    }\n",
              "\n",
              "    .dataframe tbody tr th {\n",
              "        vertical-align: top;\n",
              "    }\n",
              "\n",
              "    .dataframe thead th {\n",
              "        text-align: right;\n",
              "    }\n",
              "</style>\n",
              "<table border=\"1\" class=\"dataframe\">\n",
              "  <thead>\n",
              "    <tr style=\"text-align: right;\">\n",
              "      <th></th>\n",
              "      <th>PC1</th>\n",
              "      <th>PC2</th>\n",
              "      <th>PC3</th>\n",
              "      <th>PC4</th>\n",
              "      <th>PC5</th>\n",
              "      <th>PC6</th>\n",
              "      <th>PC7</th>\n",
              "      <th>PC8</th>\n",
              "      <th>PC9</th>\n",
              "      <th>PC10</th>\n",
              "      <th>PC11</th>\n",
              "      <th>PC12</th>\n",
              "      <th>PC13</th>\n",
              "      <th>PC14</th>\n",
              "      <th>PC15</th>\n",
              "      <th>PC16</th>\n",
              "      <th>PC17</th>\n",
              "      <th>PC18</th>\n",
              "      <th>PC19</th>\n",
              "      <th>PC20</th>\n",
              "      <th>PC21</th>\n",
              "      <th>PC22</th>\n",
              "      <th>PC23</th>\n",
              "      <th>PC24</th>\n",
              "      <th>PC25</th>\n",
              "      <th>PC26</th>\n",
              "      <th>PC27</th>\n",
              "      <th>PC28</th>\n",
              "      <th>PC29</th>\n",
              "      <th>PC30</th>\n",
              "      <th>PC31</th>\n",
              "      <th>PC32</th>\n",
              "      <th>PC33</th>\n",
              "      <th>PC34</th>\n",
              "      <th>PC35</th>\n",
              "      <th>PC36</th>\n",
              "      <th>PC37</th>\n",
              "      <th>PC38</th>\n",
              "      <th>PC39</th>\n",
              "      <th>PC40</th>\n",
              "      <th>PC41</th>\n",
              "      <th>PC42</th>\n",
              "      <th>PC43</th>\n",
              "      <th>PC44</th>\n",
              "      <th>PC45</th>\n",
              "      <th>PC46</th>\n",
              "      <th>PC47</th>\n",
              "      <th>PC48</th>\n",
              "      <th>PC49</th>\n",
              "      <th>PC50</th>\n",
              "      <th>PC51</th>\n",
              "    </tr>\n",
              "  </thead>\n",
              "  <tbody>\n",
              "    <tr>\n",
              "      <th>frame.len</th>\n",
              "      <td>0.447341</td>\n",
              "      <td>0.244458</td>\n",
              "      <td>-0.119258</td>\n",
              "      <td>-0.001924</td>\n",
              "      <td>-0.701323</td>\n",
              "      <td>-0.071636</td>\n",
              "      <td>-0.082439</td>\n",
              "      <td>0.068427</td>\n",
              "      <td>-0.118951</td>\n",
              "      <td>-0.020618</td>\n",
              "      <td>-0.006928</td>\n",
              "      <td>-0.000947</td>\n",
              "      <td>-0.001744</td>\n",
              "      <td>-0.006662</td>\n",
              "      <td>-0.015041</td>\n",
              "      <td>0.006533</td>\n",
              "      <td>0.000917</td>\n",
              "      <td>0.066190</td>\n",
              "      <td>0.259236</td>\n",
              "      <td>0.047960</td>\n",
              "      <td>-0.079178</td>\n",
              "      <td>0.034414</td>\n",
              "      <td>0.305606</td>\n",
              "      <td>-0.000878</td>\n",
              "      <td>-0.147646</td>\n",
              "      <td>-0.007239</td>\n",
              "      <td>-0.003286</td>\n",
              "      <td>-0.076375</td>\n",
              "      <td>0.008184</td>\n",
              "      <td>-0.000252</td>\n",
              "      <td>0.000340</td>\n",
              "      <td>-0.000010</td>\n",
              "      <td>0.000076</td>\n",
              "      <td>-2.033751e-06</td>\n",
              "      <td>-1.120235e-06</td>\n",
              "      <td>6.077759e-07</td>\n",
              "      <td>4.702846e-09</td>\n",
              "      <td>-5.082187e-10</td>\n",
              "      <td>1.123935e-11</td>\n",
              "      <td>1.078243e-18</td>\n",
              "      <td>-9.408384e-31</td>\n",
              "      <td>0.000000e+00</td>\n",
              "      <td>0.000000e+00</td>\n",
              "      <td>-0.000000e+00</td>\n",
              "      <td>0.000000e+00</td>\n",
              "      <td>0.000000e+00</td>\n",
              "      <td>-0.000000e+00</td>\n",
              "      <td>-0.000000e+00</td>\n",
              "      <td>-0.000000e+00</td>\n",
              "      <td>-0.000000e+00</td>\n",
              "      <td>0.000000e+00</td>\n",
              "    </tr>\n",
              "    <tr>\n",
              "      <th>frame.number</th>\n",
              "      <td>0.003785</td>\n",
              "      <td>-0.305414</td>\n",
              "      <td>0.921633</td>\n",
              "      <td>0.081152</td>\n",
              "      <td>-0.222438</td>\n",
              "      <td>-0.007822</td>\n",
              "      <td>-0.007247</td>\n",
              "      <td>0.005451</td>\n",
              "      <td>-0.006689</td>\n",
              "      <td>-0.001999</td>\n",
              "      <td>0.000869</td>\n",
              "      <td>0.000630</td>\n",
              "      <td>0.000579</td>\n",
              "      <td>-0.000217</td>\n",
              "      <td>-0.000549</td>\n",
              "      <td>0.003439</td>\n",
              "      <td>-0.001714</td>\n",
              "      <td>0.001760</td>\n",
              "      <td>-0.006326</td>\n",
              "      <td>0.000285</td>\n",
              "      <td>-0.000379</td>\n",
              "      <td>0.000379</td>\n",
              "      <td>-0.000054</td>\n",
              "      <td>-0.000008</td>\n",
              "      <td>0.001633</td>\n",
              "      <td>0.000340</td>\n",
              "      <td>0.000018</td>\n",
              "      <td>0.000274</td>\n",
              "      <td>0.000459</td>\n",
              "      <td>0.000556</td>\n",
              "      <td>-0.000799</td>\n",
              "      <td>0.031304</td>\n",
              "      <td>0.000140</td>\n",
              "      <td>-3.249270e-05</td>\n",
              "      <td>2.640587e-06</td>\n",
              "      <td>-7.687586e-05</td>\n",
              "      <td>2.334109e-07</td>\n",
              "      <td>1.274792e-07</td>\n",
              "      <td>-4.979857e-11</td>\n",
              "      <td>-7.687011e-19</td>\n",
              "      <td>-1.555032e-31</td>\n",
              "      <td>-5.008634e-31</td>\n",
              "      <td>2.141742e-32</td>\n",
              "      <td>-1.064634e-31</td>\n",
              "      <td>-3.544549e-31</td>\n",
              "      <td>9.906283e-32</td>\n",
              "      <td>1.398264e-31</td>\n",
              "      <td>6.286894e-34</td>\n",
              "      <td>5.039108e-33</td>\n",
              "      <td>-4.428009e-33</td>\n",
              "      <td>-2.109848e-32</td>\n",
              "    </tr>\n",
              "    <tr>\n",
              "      <th>frame.time_delta</th>\n",
              "      <td>-0.042772</td>\n",
              "      <td>0.281407</td>\n",
              "      <td>0.085690</td>\n",
              "      <td>0.006487</td>\n",
              "      <td>-0.063227</td>\n",
              "      <td>0.886087</td>\n",
              "      <td>0.288244</td>\n",
              "      <td>0.132621</td>\n",
              "      <td>-0.110745</td>\n",
              "      <td>-0.011509</td>\n",
              "      <td>-0.000584</td>\n",
              "      <td>0.000529</td>\n",
              "      <td>-0.000160</td>\n",
              "      <td>0.001211</td>\n",
              "      <td>-0.095614</td>\n",
              "      <td>0.004755</td>\n",
              "      <td>-0.001778</td>\n",
              "      <td>0.004426</td>\n",
              "      <td>-0.009183</td>\n",
              "      <td>-0.005301</td>\n",
              "      <td>-0.003359</td>\n",
              "      <td>0.000913</td>\n",
              "      <td>0.007795</td>\n",
              "      <td>-0.000030</td>\n",
              "      <td>0.002311</td>\n",
              "      <td>-0.000015</td>\n",
              "      <td>0.000015</td>\n",
              "      <td>-0.000178</td>\n",
              "      <td>0.000011</td>\n",
              "      <td>0.000050</td>\n",
              "      <td>-0.000022</td>\n",
              "      <td>-0.000003</td>\n",
              "      <td>0.000005</td>\n",
              "      <td>3.725094e-07</td>\n",
              "      <td>-2.338598e-08</td>\n",
              "      <td>8.208594e-09</td>\n",
              "      <td>1.035111e-09</td>\n",
              "      <td>-3.159992e-08</td>\n",
              "      <td>-3.902113e-13</td>\n",
              "      <td>-1.188271e-18</td>\n",
              "      <td>4.774547e-16</td>\n",
              "      <td>4.545761e-17</td>\n",
              "      <td>1.254801e-16</td>\n",
              "      <td>-1.479091e-17</td>\n",
              "      <td>2.761683e-17</td>\n",
              "      <td>1.879008e-17</td>\n",
              "      <td>3.479202e-18</td>\n",
              "      <td>-8.132277e-25</td>\n",
              "      <td>1.342524e-30</td>\n",
              "      <td>1.657705e-31</td>\n",
              "      <td>4.544060e-17</td>\n",
              "    </tr>\n",
              "    <tr>\n",
              "      <th>frame.time_delta_displayed</th>\n",
              "      <td>-0.042772</td>\n",
              "      <td>0.281407</td>\n",
              "      <td>0.085690</td>\n",
              "      <td>0.006487</td>\n",
              "      <td>-0.063227</td>\n",
              "      <td>0.886087</td>\n",
              "      <td>0.288244</td>\n",
              "      <td>0.132621</td>\n",
              "      <td>-0.110745</td>\n",
              "      <td>-0.011509</td>\n",
              "      <td>-0.000584</td>\n",
              "      <td>0.000529</td>\n",
              "      <td>-0.000160</td>\n",
              "      <td>0.001211</td>\n",
              "      <td>-0.095614</td>\n",
              "      <td>0.004755</td>\n",
              "      <td>-0.001778</td>\n",
              "      <td>0.004426</td>\n",
              "      <td>-0.009183</td>\n",
              "      <td>-0.005301</td>\n",
              "      <td>-0.003359</td>\n",
              "      <td>0.000913</td>\n",
              "      <td>0.007795</td>\n",
              "      <td>-0.000030</td>\n",
              "      <td>0.002311</td>\n",
              "      <td>-0.000015</td>\n",
              "      <td>0.000015</td>\n",
              "      <td>-0.000178</td>\n",
              "      <td>0.000011</td>\n",
              "      <td>0.000050</td>\n",
              "      <td>-0.000022</td>\n",
              "      <td>-0.000003</td>\n",
              "      <td>0.000005</td>\n",
              "      <td>3.725094e-07</td>\n",
              "      <td>-2.338598e-08</td>\n",
              "      <td>8.208594e-09</td>\n",
              "      <td>1.035111e-09</td>\n",
              "      <td>-3.159992e-08</td>\n",
              "      <td>-3.899918e-13</td>\n",
              "      <td>1.263648e-18</td>\n",
              "      <td>-4.774547e-16</td>\n",
              "      <td>-4.545761e-17</td>\n",
              "      <td>-1.254801e-16</td>\n",
              "      <td>1.479091e-17</td>\n",
              "      <td>-2.761683e-17</td>\n",
              "      <td>-1.879008e-17</td>\n",
              "      <td>-3.479202e-18</td>\n",
              "      <td>8.132277e-25</td>\n",
              "      <td>-1.342432e-30</td>\n",
              "      <td>-1.658433e-31</td>\n",
              "      <td>-4.544060e-17</td>\n",
              "    </tr>\n",
              "    <tr>\n",
              "      <th>frame.time_epoch</th>\n",
              "      <td>0.004943</td>\n",
              "      <td>-0.305353</td>\n",
              "      <td>0.922057</td>\n",
              "      <td>0.081436</td>\n",
              "      <td>-0.222537</td>\n",
              "      <td>-0.007677</td>\n",
              "      <td>-0.007433</td>\n",
              "      <td>0.005583</td>\n",
              "      <td>-0.007144</td>\n",
              "      <td>-0.001981</td>\n",
              "      <td>0.001354</td>\n",
              "      <td>0.000592</td>\n",
              "      <td>0.000593</td>\n",
              "      <td>-0.000181</td>\n",
              "      <td>-0.000216</td>\n",
              "      <td>0.004900</td>\n",
              "      <td>-0.002586</td>\n",
              "      <td>-0.000028</td>\n",
              "      <td>-0.002982</td>\n",
              "      <td>0.000159</td>\n",
              "      <td>0.000514</td>\n",
              "      <td>-0.000164</td>\n",
              "      <td>-0.002680</td>\n",
              "      <td>-0.000023</td>\n",
              "      <td>0.001277</td>\n",
              "      <td>0.000321</td>\n",
              "      <td>-0.000043</td>\n",
              "      <td>-0.000917</td>\n",
              "      <td>0.000290</td>\n",
              "      <td>0.000057</td>\n",
              "      <td>0.000443</td>\n",
              "      <td>-0.010896</td>\n",
              "      <td>-0.000158</td>\n",
              "      <td>3.282152e-05</td>\n",
              "      <td>-8.400032e-06</td>\n",
              "      <td>-4.532163e-03</td>\n",
              "      <td>1.094680e-05</td>\n",
              "      <td>1.467809e-06</td>\n",
              "      <td>7.717787e-11</td>\n",
              "      <td>-6.574675e-18</td>\n",
              "      <td>1.072566e-29</td>\n",
              "      <td>3.690645e-30</td>\n",
              "      <td>1.436413e-30</td>\n",
              "      <td>-1.044372e-30</td>\n",
              "      <td>-1.562541e-30</td>\n",
              "      <td>2.357871e-31</td>\n",
              "      <td>2.685241e-31</td>\n",
              "      <td>-6.155713e-33</td>\n",
              "      <td>9.827913e-33</td>\n",
              "      <td>-3.669786e-32</td>\n",
              "      <td>1.020112e-30</td>\n",
              "    </tr>\n",
              "  </tbody>\n",
              "</table>\n",
              "</div>\n",
              "      <button class=\"colab-df-convert\" onclick=\"convertToInteractive('df-6c8f7482-7cee-4edd-b154-2061dbfcbcaa')\"\n",
              "              title=\"Convert this dataframe to an interactive table.\"\n",
              "              style=\"display:none;\">\n",
              "        \n",
              "  <svg xmlns=\"http://www.w3.org/2000/svg\" height=\"24px\"viewBox=\"0 0 24 24\"\n",
              "       width=\"24px\">\n",
              "    <path d=\"M0 0h24v24H0V0z\" fill=\"none\"/>\n",
              "    <path d=\"M18.56 5.44l.94 2.06.94-2.06 2.06-.94-2.06-.94-.94-2.06-.94 2.06-2.06.94zm-11 1L8.5 8.5l.94-2.06 2.06-.94-2.06-.94L8.5 2.5l-.94 2.06-2.06.94zm10 10l.94 2.06.94-2.06 2.06-.94-2.06-.94-.94-2.06-.94 2.06-2.06.94z\"/><path d=\"M17.41 7.96l-1.37-1.37c-.4-.4-.92-.59-1.43-.59-.52 0-1.04.2-1.43.59L10.3 9.45l-7.72 7.72c-.78.78-.78 2.05 0 2.83L4 21.41c.39.39.9.59 1.41.59.51 0 1.02-.2 1.41-.59l7.78-7.78 2.81-2.81c.8-.78.8-2.07 0-2.86zM5.41 20L4 18.59l7.72-7.72 1.47 1.35L5.41 20z\"/>\n",
              "  </svg>\n",
              "      </button>\n",
              "      \n",
              "  <style>\n",
              "    .colab-df-container {\n",
              "      display:flex;\n",
              "      flex-wrap:wrap;\n",
              "      gap: 12px;\n",
              "    }\n",
              "\n",
              "    .colab-df-convert {\n",
              "      background-color: #E8F0FE;\n",
              "      border: none;\n",
              "      border-radius: 50%;\n",
              "      cursor: pointer;\n",
              "      display: none;\n",
              "      fill: #1967D2;\n",
              "      height: 32px;\n",
              "      padding: 0 0 0 0;\n",
              "      width: 32px;\n",
              "    }\n",
              "\n",
              "    .colab-df-convert:hover {\n",
              "      background-color: #E2EBFA;\n",
              "      box-shadow: 0px 1px 2px rgba(60, 64, 67, 0.3), 0px 1px 3px 1px rgba(60, 64, 67, 0.15);\n",
              "      fill: #174EA6;\n",
              "    }\n",
              "\n",
              "    [theme=dark] .colab-df-convert {\n",
              "      background-color: #3B4455;\n",
              "      fill: #D2E3FC;\n",
              "    }\n",
              "\n",
              "    [theme=dark] .colab-df-convert:hover {\n",
              "      background-color: #434B5C;\n",
              "      box-shadow: 0px 1px 3px 1px rgba(0, 0, 0, 0.15);\n",
              "      filter: drop-shadow(0px 1px 2px rgba(0, 0, 0, 0.3));\n",
              "      fill: #FFFFFF;\n",
              "    }\n",
              "  </style>\n",
              "\n",
              "      <script>\n",
              "        const buttonEl =\n",
              "          document.querySelector('#df-6c8f7482-7cee-4edd-b154-2061dbfcbcaa button.colab-df-convert');\n",
              "        buttonEl.style.display =\n",
              "          google.colab.kernel.accessAllowed ? 'block' : 'none';\n",
              "\n",
              "        async function convertToInteractive(key) {\n",
              "          const element = document.querySelector('#df-6c8f7482-7cee-4edd-b154-2061dbfcbcaa');\n",
              "          const dataTable =\n",
              "            await google.colab.kernel.invokeFunction('convertToInteractive',\n",
              "                                                     [key], {});\n",
              "          if (!dataTable) return;\n",
              "\n",
              "          const docLinkHtml = 'Like what you see? Visit the ' +\n",
              "            '<a target=\"_blank\" href=https://colab.research.google.com/notebooks/data_table.ipynb>data table notebook</a>'\n",
              "            + ' to learn more about interactive tables.';\n",
              "          element.innerHTML = '';\n",
              "          dataTable['output_type'] = 'display_data';\n",
              "          await google.colab.output.renderOutput(dataTable, element);\n",
              "          const docLink = document.createElement('div');\n",
              "          docLink.innerHTML = docLinkHtml;\n",
              "          element.appendChild(docLink);\n",
              "        }\n",
              "      </script>\n",
              "    </div>\n",
              "  </div>\n",
              "  "
            ]
          },
          "metadata": {},
          "execution_count": 27
        }
      ]
    },
    {
      "cell_type": "code",
      "source": [
        "pc1_Loads = Loads.sort_values(by='PC1', ascending=False)[['PC1']]\n",
        "pc1_Loads = pc1_Loads.reset_index()\n",
        "pc1_Loads.columns = ['Feature', 'CorrelationtoPC1']\n",
        "plt.rcParams[\"figure.figsize\"] = (15,8)\n",
        "plt.bar(x=pc1_Loads['Feature'], height=pc1_Loads['CorrelationtoPC1'], color='#800080')\n",
        "plt.title('PCA scores', size=20)\n",
        "plt.xticks(rotation='vertical')\n",
        "plt.show()"
      ],
      "metadata": {
        "colab": {
          "base_uri": "https://localhost:8080/",
          "height": 817
        },
        "id": "zN00MA7rEOoA",
        "outputId": "c9e2e7b2-c715-4451-e93b-ebc7fc239bf1"
      },
      "execution_count": null,
      "outputs": [
        {
          "output_type": "display_data",
          "data": {
            "text/plain": [
              "<Figure size 1080x576 with 1 Axes>"
            ],
            "image/png": "[encoded data removed]"
          },
          "metadata": {
            "needs_background": "light"
          }
        }
      ]
    }
  ]
}