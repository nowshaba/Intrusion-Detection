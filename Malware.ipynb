{
  "nbformat": 4,
  "nbformat_minor": 0,
  "metadata": {
    "colab": {
      "name": "Malware.ipynb",
      "provenance": [],
      "authorship_tag": "ABX9TyMi7txuqaDw+7yGieTx0x6h",
      "include_colab_link": true
    },
    "kernelspec": {
      "name": "python3",
      "display_name": "Python 3"
    },
    "language_info": {
      "name": "python"
    },
    "accelerator": "GPU",
    "gpuClass": "standard"
  },
  "cells": [
    {
      "cell_type": "markdown",
      "metadata": {
        "id": "view-in-github",
        "colab_type": "text"
      },
      "source": [
        "<a href=\"https://colab.research.google.com/github/nowshaba/Intrusion-Detection/blob/main/Malware.ipynb\" target=\"_parent\"><img src=\"https://colab.research.google.com/assets/colab-badge.svg\" alt=\"Open In Colab\"/></a>"
      ]
    },
    {
      "cell_type": "code",
      "execution_count": null,
      "metadata": {
        "id": "9CL1iwMd_Gk2"
      },
      "outputs": [],
      "source": [
        "\n",
        "import numpy as np\n",
        "import pandas as pd \n",
        "import matplotlib.pyplot as plt\n",
        "import seaborn as sns\n",
        "import imblearn\n",
        "import sklearn.metrics as m\n",
        "import keras\n",
        "import tensorflow as tf\n",
        "import sklearn\n",
        "import tensorboard"
      ]
    },
    {
      "cell_type": "code",
      "source": [
        "from google.colab import drive\n",
        "drive.mount('/content/drive/')"
      ],
      "metadata": {
        "colab": {
          "base_uri": "https://localhost:8080/"
        },
        "id": "GDEbhiFr_igI",
        "outputId": "06ee4699-40ca-4b2a-c4cd-f59f4705a24d"
      },
      "execution_count": null,
      "outputs": [
        {
          "output_type": "stream",
          "name": "stdout",
          "text": [
            "Mounted at /content/drive/\n"
          ]
        }
      ]
    },
    {
      "cell_type": "code",
      "source": [
        "#Avoid warnings\n",
        "import warnings\n",
        "warnings.filterwarnings('ignore')\n",
        "#Settings\n",
        "pd.set_option('display.max_columns', None)\n",
        "pd.set_option('display.max_rows', None)\n",
        "\n",
        "#Import  Data\n",
        "j=0\n",
        "n=0\n",
        "#to check whih files have both attack and normal labels\n",
        "for j in range(0,47):\n",
        "  df3=pd.read_csv(\"/content/drive/MyDrive/AWID3_Dataset_CSV/CSV/9.Malware/Malware_\"+str(j)+\".csv\")\n",
        "  j+1\n",
        "  for i in df3['Label']:\n",
        "    if (i=='Malware'):\n",
        "      n=1\n",
        "  if (n==1):\n",
        "    print(\"n is\",n, \"and j is\",j)"
      ],
      "metadata": {
        "colab": {
          "base_uri": "https://localhost:8080/"
        },
        "id": "PN-HMFQA_lWv",
        "outputId": "8eb17bb8-4501-45f7-aeda-5706e702a9c0"
      },
      "execution_count": null,
      "outputs": [
        {
          "output_type": "stream",
          "name": "stdout",
          "text": [
            "n is 1 and j is 20\n",
            "n is 1 and j is 21\n",
            "n is 1 and j is 22\n",
            "n is 1 and j is 23\n",
            "n is 1 and j is 24\n",
            "n is 1 and j is 25\n",
            "n is 1 and j is 26\n",
            "n is 1 and j is 27\n",
            "n is 1 and j is 28\n",
            "n is 1 and j is 29\n",
            "n is 1 and j is 30\n",
            "n is 1 and j is 31\n",
            "n is 1 and j is 32\n",
            "n is 1 and j is 33\n",
            "n is 1 and j is 34\n",
            "n is 1 and j is 35\n",
            "n is 1 and j is 36\n",
            "n is 1 and j is 37\n",
            "n is 1 and j is 38\n",
            "n is 1 and j is 39\n",
            "n is 1 and j is 40\n",
            "n is 1 and j is 41\n",
            "n is 1 and j is 42\n",
            "n is 1 and j is 43\n",
            "n is 1 and j is 44\n",
            "n is 1 and j is 45\n",
            "n is 1 and j is 46\n"
          ]
        }
      ]
    },
    {
      "cell_type": "code",
      "source": [
        "#much better than this is to put all the desired csv files in this case from 21 to 32 in one folder and use GLOB to put them in one df\n",
        "df1 = pd.concat(\n",
        "    map(pd.read_csv,[\"/content/drive/MyDrive/AWID3_Dataset_CSV/CSV/9.Malware/Malware_20.csv\",\"/content/drive/MyDrive/AWID3_Dataset_CSV/CSV/9.Malware/Malware_21.csv\",\"/content/drive/MyDrive/AWID3_Dataset_CSV/CSV/9.Malware/Malware_22.csv\",\"/content/drive/MyDrive/AWID3_Dataset_CSV/CSV/9.Malware/Malware_23.csv\",\"/content/drive/MyDrive/AWID3_Dataset_CSV/CSV/9.Malware/Malware_24.csv\",\"/content/drive/MyDrive/AWID3_Dataset_CSV/CSV/9.Malware/Malware_25.csv\",\"/content/drive/MyDrive/AWID3_Dataset_CSV/CSV/9.Malware/Malware_26.csv\",\"/content/drive/MyDrive/AWID3_Dataset_CSV/CSV/9.Malware/Malware_27.csv\",\"/content/drive/MyDrive/AWID3_Dataset_CSV/CSV/9.Malware/Malware_28.csv\",\"/content/drive/MyDrive/AWID3_Dataset_CSV/CSV/9.Malware/Malware_29.csv\",\"/content/drive/MyDrive/AWID3_Dataset_CSV/CSV/9.Malware/Malware_30.csv\",\"/content/drive/MyDrive/AWID3_Dataset_CSV/CSV/9.Malware/Malware_31.csv\",\"/content/drive/MyDrive/AWID3_Dataset_CSV/CSV/9.Malware/Malware_32.csv\",\"/content/drive/MyDrive/AWID3_Dataset_CSV/CSV/9.Malware/Malware_33.csv\",\"/content/drive/MyDrive/AWID3_Dataset_CSV/CSV/9.Malware/Malware_34.csv\",\"/content/drive/MyDrive/AWID3_Dataset_CSV/CSV/9.Malware/Malware_35.csv\",\"/content/drive/MyDrive/AWID3_Dataset_CSV/CSV/9.Malware/Malware_36.csv\",\"/content/drive/MyDrive/AWID3_Dataset_CSV/CSV/9.Malware/Malware_37.csv\",\"/content/drive/MyDrive/AWID3_Dataset_CSV/CSV/9.Malware/Malware_38.csv\",\"/content/drive/MyDrive/AWID3_Dataset_CSV/CSV/9.Malware/Malware_39.csv\",\"/content/drive/MyDrive/AWID3_Dataset_CSV/CSV/9.Malware/Malware_40.csv\",\"/content/drive/MyDrive/AWID3_Dataset_CSV/CSV/9.Malware/Malware_41.csv\",\"/content/drive/MyDrive/AWID3_Dataset_CSV/CSV/9.Malware/Malware_42.csv\",\"/content/drive/MyDrive/AWID3_Dataset_CSV/CSV/9.Malware/Malware_43.csv\",\"/content/drive/MyDrive/AWID3_Dataset_CSV/CSV/9.Malware/Malware_44.csv\",\"/content/drive/MyDrive/AWID3_Dataset_CSV/CSV/9.Malware/Malware_45.csv\",\"/content/drive/MyDrive/AWID3_Dataset_CSV/CSV/9.Malware/Malware_46.csv\"]), ignore_index=True)"
      ],
      "metadata": {
        "id": "ZEJQZjSs_pRc"
      },
      "execution_count": null,
      "outputs": []
    },
    {
      "cell_type": "code",
      "source": [
        "drop_cols = []\n",
        "for i in df1.columns:\n",
        "    if len(df1[i].unique())==1:\n",
        "        drop_cols.append(i)\n",
        "print(\"Total columns with only 1 unique value:\", len(drop_cols))\n",
        "df1.drop(drop_cols, 1, inplace=True)\n",
        "\n",
        "print(df1.columns)"
      ],
      "metadata": {
        "colab": {
          "base_uri": "https://localhost:8080/"
        },
        "id": "Tv52lzPC_s_P",
        "outputId": "7fca1af7-5616-4848-b3e0-ee050814395b"
      },
      "execution_count": null,
      "outputs": [
        {
          "output_type": "stream",
          "name": "stdout",
          "text": [
            "Total columns with only 1 unique value: 68\n",
            "Index(['frame.len', 'frame.number', 'frame.time', 'frame.time_delta',\n",
            "       'frame.time_delta_displayed', 'frame.time_epoch', 'frame.time_relative',\n",
            "       'radiotap.datarate', 'radiotap.dbm_antsignal', 'radiotap.length',\n",
            "       ...\n",
            "       'tls.alert_message.level', 'tls.app_data_proto',\n",
            "       'tls.compress_certificate.compressed_certificate_message.length',\n",
            "       'tls.handshake.extension.type',\n",
            "       'tls.handshake.extensions_key_share_group',\n",
            "       'tls.handshake.session_ticket_length', 'tls.handshake.version',\n",
            "       'tls.record.content_type', 'tls.record.version', 'Label'],\n",
            "      dtype='object', length=186)\n"
          ]
        }
      ]
    },
    {
      "cell_type": "code",
      "source": [
        "df1.dropna(1,inplace=True)"
      ],
      "metadata": {
        "id": "EhR_WGbp_wwz"
      },
      "execution_count": null,
      "outputs": []
    },
    {
      "cell_type": "code",
      "source": [
        "df1.info()"
      ],
      "metadata": {
        "colab": {
          "base_uri": "https://localhost:8080/"
        },
        "id": "TIfi1aSt_1Zc",
        "outputId": "08477542-fc6c-432b-edb0-73b17b762175"
      },
      "execution_count": null,
      "outputs": [
        {
          "output_type": "stream",
          "name": "stdout",
          "text": [
            "<class 'pandas.core.frame.DataFrame'>\n",
            "RangeIndex: 1312771 entries, 0 to 1312770\n",
            "Data columns (total 27 columns):\n",
            " #   Column                      Non-Null Count    Dtype  \n",
            "---  ------                      --------------    -----  \n",
            " 0   frame.len                   1312771 non-null  int64  \n",
            " 1   frame.number                1312771 non-null  int64  \n",
            " 2   frame.time                  1312771 non-null  object \n",
            " 3   frame.time_delta            1312771 non-null  float64\n",
            " 4   frame.time_delta_displayed  1312771 non-null  float64\n",
            " 5   frame.time_epoch            1312771 non-null  int64  \n",
            " 6   frame.time_relative         1312771 non-null  float64\n",
            " 7   radiotap.dbm_antsignal      1312771 non-null  int64  \n",
            " 8   radiotap.length             1312771 non-null  int64  \n",
            " 9   radiotap.present.tsft       1312771 non-null  object \n",
            " 10  radiotap.timestamp.ts       1312771 non-null  int64  \n",
            " 11  wlan.duration               1312771 non-null  int64  \n",
            " 12  wlan.fc.ds                  1312771 non-null  object \n",
            " 13  wlan.fc.frag                1312771 non-null  int64  \n",
            " 14  wlan.fc.order               1312771 non-null  int64  \n",
            " 15  wlan.fc.moredata            1312771 non-null  int64  \n",
            " 16  wlan.fc.protected           1312771 non-null  int64  \n",
            " 17  wlan.fc.pwrmgt              1312771 non-null  int64  \n",
            " 18  wlan.fc.type                1312771 non-null  int64  \n",
            " 19  wlan.fc.retry               1312771 non-null  int64  \n",
            " 20  wlan.fc.subtype             1312771 non-null  int64  \n",
            " 21  wlan.ra                     1312771 non-null  object \n",
            " 22  wlan_radio.duration         1312771 non-null  int64  \n",
            " 23  wlan_radio.data_rate        1312771 non-null  float64\n",
            " 24  wlan_radio.signal_dbm       1312771 non-null  int64  \n",
            " 25  wlan_radio.phy              1312771 non-null  int64  \n",
            " 26  Label                       1312771 non-null  object \n",
            "dtypes: float64(4), int64(18), object(5)\n",
            "memory usage: 270.4+ MB\n"
          ]
        }
      ]
    },
    {
      "cell_type": "code",
      "source": [
        "#Split dataset on train and test\n",
        "from sklearn.model_selection import train_test_split\n",
        "train, test=train_test_split(df1,test_size=0.3, random_state=10)\n",
        "\n",
        "#Exploratory Analysis\n",
        "# Descriptive statistics\n",
        "train.describe()\n",
        "test.describe()\n",
        "train['Label'].value_counts()\n",
        "test['Label'].value_counts()"
      ],
      "metadata": {
        "colab": {
          "base_uri": "https://localhost:8080/"
        },
        "id": "4ih8U2Fu_4hi",
        "outputId": "ff6980c5-63d4-4930-e7f9-2a8ab4817403"
      },
      "execution_count": null,
      "outputs": [
        {
          "output_type": "execute_result",
          "data": {
            "text/plain": [
              "Normal     354015\n",
              "Malware     39817\n",
              "Name: Label, dtype: int64"
            ]
          },
          "metadata": {},
          "execution_count": 8
        }
      ]
    },
    {
      "cell_type": "code",
      "source": [
        "#Scalling numerical attributes\n",
        "from sklearn.preprocessing import StandardScaler\n",
        "scaler = StandardScaler()\n",
        "\n",
        "# extract numerical attributes and scale it to have zero mean and unit variance  \n",
        "cols = train.select_dtypes(include=['float32','int64']).columns\n",
        "sc_train = scaler.fit_transform(train.select_dtypes(include=['float32','int64']))\n",
        "sc_test = scaler.fit_transform(test.select_dtypes(include=['float32','int64']))\n",
        "\n",
        "# turn the result back to a dataframe\n",
        "sc_traindf = pd.DataFrame(sc_train, columns = cols)\n",
        "sc_testdf = pd.DataFrame(sc_test, columns = cols)"
      ],
      "metadata": {
        "id": "zNOOQIu-_9tT"
      },
      "execution_count": null,
      "outputs": []
    },
    {
      "cell_type": "code",
      "source": [
        "from sklearn.preprocessing import OneHotEncoder \n",
        "\n",
        "#creating one hot encoder object \n",
        "onehotencoder = OneHotEncoder() \n",
        "\n",
        "trainDep = train['Label'].values.reshape(-1,1)\n",
        "trainDep = onehotencoder.fit_transform(trainDep).toarray()\n",
        "testDep = test['Label'].values.reshape(-1,1)\n",
        "testDep = onehotencoder.fit_transform(testDep).toarray()"
      ],
      "metadata": {
        "id": "OUrygBlVAEOR"
      },
      "execution_count": null,
      "outputs": []
    },
    {
      "cell_type": "code",
      "source": [
        "train_X=sc_traindf\n",
        "train_y=trainDep[:,0]\n",
        "\n",
        "test_X=sc_testdf\n",
        "test_y=testDep[:,0]"
      ],
      "metadata": {
        "id": "wBKLI2cHAHej"
      },
      "execution_count": null,
      "outputs": []
    },
    {
      "cell_type": "code",
      "source": [
        "from sklearn.decomposition import PCA\n",
        "\n",
        "pca = PCA()\n",
        "pca.fit(train_X)\n",
        "\n",
        "plt.plot(pca.explained_variance_ratio_.cumsum(), lw=3, color='#800080')\n",
        "plt.title('Cumulative variance', size=20)\n",
        "plt.show()"
      ],
      "metadata": {
        "colab": {
          "base_uri": "https://localhost:8080/",
          "height": 286
        },
        "id": "3L--FNjoEDEY",
        "outputId": "ab9a4781-bead-49ac-8460-5419bde1c7ef"
      },
      "execution_count": null,
      "outputs": [
        {
          "output_type": "display_data",
          "data": {
            "text/plain": [
              "<Figure size 432x288 with 1 Axes>"
            ],
            "image/png": "[encoded data removed]"
          },
          "metadata": {
            "needs_background": "light"
          }
        }
      ]
    },
    {
      "cell_type": "code",
      "source": [
        "Loads = pd.DataFrame(\n",
        "    data=pca.components_.T * np.sqrt(pca.explained_variance_), \n",
        "    columns=[f'PC{i}' for i in range(1, len(train_X.columns) + 1)],\n",
        "    index=train_X.columns\n",
        ")\n",
        "Loads.head()"
      ],
      "metadata": {
        "colab": {
          "base_uri": "https://localhost:8080/",
          "height": 270
        },
        "id": "b_-C7cR2EKcb",
        "outputId": "ed9e4986-1069-41b8-b483-b90ec6ad96c3"
      },
      "execution_count": null,
      "outputs": [
        {
          "output_type": "execute_result",
          "data": {
            "text/plain": [
              "                             PC1       PC2       PC3       PC4       PC5  \\\n",
              "frame.len               0.879311 -0.026955 -0.141690 -0.049122  0.031908   \n",
              "frame.number            0.189423  0.964027  0.009936  0.005210 -0.010010   \n",
              "frame.time_epoch        0.189236  0.967254  0.010232  0.005244 -0.009366   \n",
              "radiotap.dbm_antsignal  0.391056 -0.039065 -0.906303  0.021312  0.016456   \n",
              "radiotap.length         0.949821 -0.089129  0.165066 -0.061086  0.014354   \n",
              "\n",
              "                             PC6       PC7       PC8       PC9      PC10  \\\n",
              "frame.len               0.017240  0.006975 -0.033560  0.053888  0.300522   \n",
              "frame.number           -0.011869 -0.005619  0.033720 -0.009614 -0.015408   \n",
              "frame.time_epoch       -0.011235 -0.005259  0.031115 -0.011194 -0.014536   \n",
              "radiotap.dbm_antsignal -0.006214 -0.032122  0.051502 -0.013266 -0.126380   \n",
              "radiotap.length         0.021632  0.028554  0.000632  0.096605 -0.090263   \n",
              "\n",
              "                            PC11      PC12      PC13      PC14      PC15  \\\n",
              "frame.len              -0.039496 -0.020500 -0.325341  0.007706  0.001898   \n",
              "frame.number           -0.006467 -0.179708  0.012149 -0.000062  0.000387   \n",
              "frame.time_epoch       -0.005388 -0.162223  0.011676 -0.000542 -0.000399   \n",
              "radiotap.dbm_antsignal  0.000395 -0.001382  0.024909  0.012017  0.012906   \n",
              "radiotap.length        -0.111515  0.005011  0.027372 -0.163312 -0.004886   \n",
              "\n",
              "                            PC16      PC17      PC18  \n",
              "frame.len              -0.000386 -0.000138 -0.000032  \n",
              "frame.number           -0.000346 -0.001958  0.020472  \n",
              "frame.time_epoch       -0.000124  0.002004 -0.021094  \n",
              "radiotap.dbm_antsignal  0.051332 -0.000155 -0.000021  \n",
              "radiotap.length         0.006686 -0.000313  0.000028  "
            ],
            "text/html": [
              "\n",
              "  <div id=\"df-abb342b9-3d0c-4837-870a-19c16c158e5d\">\n",
              "    <div class=\"colab-df-container\">\n",
              "      <div>\n",
              "<style scoped>\n",
              "    .dataframe tbody tr th:only-of-type {\n",
              "        vertical-align: middle;\n",
              "    }\n",
              "\n",
              "    .dataframe tbody tr th {\n",
              "        vertical-align: top;\n",
              "    }\n",
              "\n",
              "    .dataframe thead th {\n",
              "        text-align: right;\n",
              "    }\n",
              "</style>\n",
              "<table border=\"1\" class=\"dataframe\">\n",
              "  <thead>\n",
              "    <tr style=\"text-align: right;\">\n",
              "      <th></th>\n",
              "      <th>PC1</th>\n",
              "      <th>PC2</th>\n",
              "      <th>PC3</th>\n",
              "      <th>PC4</th>\n",
              "      <th>PC5</th>\n",
              "      <th>PC6</th>\n",
              "      <th>PC7</th>\n",
              "      <th>PC8</th>\n",
              "      <th>PC9</th>\n",
              "      <th>PC10</th>\n",
              "      <th>PC11</th>\n",
              "      <th>PC12</th>\n",
              "      <th>PC13</th>\n",
              "      <th>PC14</th>\n",
              "      <th>PC15</th>\n",
              "      <th>PC16</th>\n",
              "      <th>PC17</th>\n",
              "      <th>PC18</th>\n",
              "    </tr>\n",
              "  </thead>\n",
              "  <tbody>\n",
              "    <tr>\n",
              "      <th>frame.len</th>\n",
              "      <td>0.879311</td>\n",
              "      <td>-0.026955</td>\n",
              "      <td>-0.141690</td>\n",
              "      <td>-0.049122</td>\n",
              "      <td>0.031908</td>\n",
              "      <td>0.017240</td>\n",
              "      <td>0.006975</td>\n",
              "      <td>-0.033560</td>\n",
              "      <td>0.053888</td>\n",
              "      <td>0.300522</td>\n",
              "      <td>-0.039496</td>\n",
              "      <td>-0.020500</td>\n",
              "      <td>-0.325341</td>\n",
              "      <td>0.007706</td>\n",
              "      <td>0.001898</td>\n",
              "      <td>-0.000386</td>\n",
              "      <td>-0.000138</td>\n",
              "      <td>-0.000032</td>\n",
              "    </tr>\n",
              "    <tr>\n",
              "      <th>frame.number</th>\n",
              "      <td>0.189423</td>\n",
              "      <td>0.964027</td>\n",
              "      <td>0.009936</td>\n",
              "      <td>0.005210</td>\n",
              "      <td>-0.010010</td>\n",
              "      <td>-0.011869</td>\n",
              "      <td>-0.005619</td>\n",
              "      <td>0.033720</td>\n",
              "      <td>-0.009614</td>\n",
              "      <td>-0.015408</td>\n",
              "      <td>-0.006467</td>\n",
              "      <td>-0.179708</td>\n",
              "      <td>0.012149</td>\n",
              "      <td>-0.000062</td>\n",
              "      <td>0.000387</td>\n",
              "      <td>-0.000346</td>\n",
              "      <td>-0.001958</td>\n",
              "      <td>0.020472</td>\n",
              "    </tr>\n",
              "    <tr>\n",
              "      <th>frame.time_epoch</th>\n",
              "      <td>0.189236</td>\n",
              "      <td>0.967254</td>\n",
              "      <td>0.010232</td>\n",
              "      <td>0.005244</td>\n",
              "      <td>-0.009366</td>\n",
              "      <td>-0.011235</td>\n",
              "      <td>-0.005259</td>\n",
              "      <td>0.031115</td>\n",
              "      <td>-0.011194</td>\n",
              "      <td>-0.014536</td>\n",
              "      <td>-0.005388</td>\n",
              "      <td>-0.162223</td>\n",
              "      <td>0.011676</td>\n",
              "      <td>-0.000542</td>\n",
              "      <td>-0.000399</td>\n",
              "      <td>-0.000124</td>\n",
              "      <td>0.002004</td>\n",
              "      <td>-0.021094</td>\n",
              "    </tr>\n",
              "    <tr>\n",
              "      <th>radiotap.dbm_antsignal</th>\n",
              "      <td>0.391056</td>\n",
              "      <td>-0.039065</td>\n",
              "      <td>-0.906303</td>\n",
              "      <td>0.021312</td>\n",
              "      <td>0.016456</td>\n",
              "      <td>-0.006214</td>\n",
              "      <td>-0.032122</td>\n",
              "      <td>0.051502</td>\n",
              "      <td>-0.013266</td>\n",
              "      <td>-0.126380</td>\n",
              "      <td>0.000395</td>\n",
              "      <td>-0.001382</td>\n",
              "      <td>0.024909</td>\n",
              "      <td>0.012017</td>\n",
              "      <td>0.012906</td>\n",
              "      <td>0.051332</td>\n",
              "      <td>-0.000155</td>\n",
              "      <td>-0.000021</td>\n",
              "    </tr>\n",
              "    <tr>\n",
              "      <th>radiotap.length</th>\n",
              "      <td>0.949821</td>\n",
              "      <td>-0.089129</td>\n",
              "      <td>0.165066</td>\n",
              "      <td>-0.061086</td>\n",
              "      <td>0.014354</td>\n",
              "      <td>0.021632</td>\n",
              "      <td>0.028554</td>\n",
              "      <td>0.000632</td>\n",
              "      <td>0.096605</td>\n",
              "      <td>-0.090263</td>\n",
              "      <td>-0.111515</td>\n",
              "      <td>0.005011</td>\n",
              "      <td>0.027372</td>\n",
              "      <td>-0.163312</td>\n",
              "      <td>-0.004886</td>\n",
              "      <td>0.006686</td>\n",
              "      <td>-0.000313</td>\n",
              "      <td>0.000028</td>\n",
              "    </tr>\n",
              "  </tbody>\n",
              "</table>\n",
              "</div>\n",
              "      <button class=\"colab-df-convert\" onclick=\"convertToInteractive('df-abb342b9-3d0c-4837-870a-19c16c158e5d')\"\n",
              "              title=\"Convert this dataframe to an interactive table.\"\n",
              "              style=\"display:none;\">\n",
              "        \n",
              "  <svg xmlns=\"http://www.w3.org/2000/svg\" height=\"24px\"viewBox=\"0 0 24 24\"\n",
              "       width=\"24px\">\n",
              "    <path d=\"M0 0h24v24H0V0z\" fill=\"none\"/>\n",
              "    <path d=\"M18.56 5.44l.94 2.06.94-2.06 2.06-.94-2.06-.94-.94-2.06-.94 2.06-2.06.94zm-11 1L8.5 8.5l.94-2.06 2.06-.94-2.06-.94L8.5 2.5l-.94 2.06-2.06.94zm10 10l.94 2.06.94-2.06 2.06-.94-2.06-.94-.94-2.06-.94 2.06-2.06.94z\"/><path d=\"M17.41 7.96l-1.37-1.37c-.4-.4-.92-.59-1.43-.59-.52 0-1.04.2-1.43.59L10.3 9.45l-7.72 7.72c-.78.78-.78 2.05 0 2.83L4 21.41c.39.39.9.59 1.41.59.51 0 1.02-.2 1.41-.59l7.78-7.78 2.81-2.81c.8-.78.8-2.07 0-2.86zM5.41 20L4 18.59l7.72-7.72 1.47 1.35L5.41 20z\"/>\n",
              "  </svg>\n",
              "      </button>\n",
              "      \n",
              "  <style>\n",
              "    .colab-df-container {\n",
              "      display:flex;\n",
              "      flex-wrap:wrap;\n",
              "      gap: 12px;\n",
              "    }\n",
              "\n",
              "    .colab-df-convert {\n",
              "      background-color: #E8F0FE;\n",
              "      border: none;\n",
              "      border-radius: 50%;\n",
              "      cursor: pointer;\n",
              "      display: none;\n",
              "      fill: #1967D2;\n",
              "      height: 32px;\n",
              "      padding: 0 0 0 0;\n",
              "      width: 32px;\n",
              "    }\n",
              "\n",
              "    .colab-df-convert:hover {\n",
              "      background-color: #E2EBFA;\n",
              "      box-shadow: 0px 1px 2px rgba(60, 64, 67, 0.3), 0px 1px 3px 1px rgba(60, 64, 67, 0.15);\n",
              "      fill: #174EA6;\n",
              "    }\n",
              "\n",
              "    [theme=dark] .colab-df-convert {\n",
              "      background-color: #3B4455;\n",
              "      fill: #D2E3FC;\n",
              "    }\n",
              "\n",
              "    [theme=dark] .colab-df-convert:hover {\n",
              "      background-color: #434B5C;\n",
              "      box-shadow: 0px 1px 3px 1px rgba(0, 0, 0, 0.15);\n",
              "      filter: drop-shadow(0px 1px 2px rgba(0, 0, 0, 0.3));\n",
              "      fill: #FFFFFF;\n",
              "    }\n",
              "  </style>\n",
              "\n",
              "      <script>\n",
              "        const buttonEl =\n",
              "          document.querySelector('#df-abb342b9-3d0c-4837-870a-19c16c158e5d button.colab-df-convert');\n",
              "        buttonEl.style.display =\n",
              "          google.colab.kernel.accessAllowed ? 'block' : 'none';\n",
              "\n",
              "        async function convertToInteractive(key) {\n",
              "          const element = document.querySelector('#df-abb342b9-3d0c-4837-870a-19c16c158e5d');\n",
              "          const dataTable =\n",
              "            await google.colab.kernel.invokeFunction('convertToInteractive',\n",
              "                                                     [key], {});\n",
              "          if (!dataTable) return;\n",
              "\n",
              "          const docLinkHtml = 'Like what you see? Visit the ' +\n",
              "            '<a target=\"_blank\" href=https://colab.research.google.com/notebooks/data_table.ipynb>data table notebook</a>'\n",
              "            + ' to learn more about interactive tables.';\n",
              "          element.innerHTML = '';\n",
              "          dataTable['output_type'] = 'display_data';\n",
              "          await google.colab.output.renderOutput(dataTable, element);\n",
              "          const docLink = document.createElement('div');\n",
              "          docLink.innerHTML = docLinkHtml;\n",
              "          element.appendChild(docLink);\n",
              "        }\n",
              "      </script>\n",
              "    </div>\n",
              "  </div>\n",
              "  "
            ]
          },
          "metadata": {},
          "execution_count": 13
        }
      ]
    },
    {
      "cell_type": "code",
      "source": [
        "pc1_Loads = Loads.sort_values(by='PC1', ascending=False)[['PC1']]\n",
        "pc1_Loads = pc1_Loads.reset_index()\n",
        "pc1_Loads.columns = ['Feature', 'CorrelationtoPC1']\n",
        "\n",
        "plt.bar(x=pc1_Loads['Feature'], height=pc1_Loads['CorrelationtoPC1'], color='#800080')\n",
        "plt.title('PCA scores', size=20)\n",
        "plt.xticks(rotation='vertical')\n",
        "plt.show()"
      ],
      "metadata": {
        "colab": {
          "base_uri": "https://localhost:8080/",
          "height": 395
        },
        "id": "zN00MA7rEOoA",
        "outputId": "4c586907-29d9-467d-865f-e5f98d749117"
      },
      "execution_count": null,
      "outputs": [
        {
          "output_type": "display_data",
          "data": {
            "text/plain": [
              "<Figure size 432x288 with 1 Axes>"
            ],
            "image/png": "[encoded data removed]"
          },
          "metadata": {
            "needs_background": "light"
          }
        }
      ]
    }
  ]
}