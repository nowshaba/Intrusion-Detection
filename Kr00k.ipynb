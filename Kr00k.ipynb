{
  "nbformat": 4,
  "nbformat_minor": 0,
  "metadata": {
    "colab": {
      "name": "Kr00k.ipynb",
      "provenance": [],
      "authorship_tag": "ABX9TyOjuf5Q65A2DEd3G6gW2p3I",
      "include_colab_link": true
    },
    "kernelspec": {
      "name": "python3",
      "display_name": "Python 3"
    },
    "language_info": {
      "name": "python"
    }
  },
  "cells": [
    {
      "cell_type": "markdown",
      "metadata": {
        "id": "view-in-github",
        "colab_type": "text"
      },
      "source": [
        "<a href=\"https://colab.research.google.com/github/nowshaba/Intrusion-Detection/blob/main/Kr00k.ipynb\" target=\"_parent\"><img src=\"https://colab.research.google.com/assets/colab-badge.svg\" alt=\"Open In Colab\"/></a>"
      ]
    },
    {
      "cell_type": "code",
      "execution_count": null,
      "metadata": {
        "id": "9CL1iwMd_Gk2"
      },
      "outputs": [],
      "source": [
        "#Kr00k_0\n",
        "import numpy as np\n",
        "import pandas as pd \n",
        "import matplotlib.pyplot as plt\n",
        "import seaborn as sns\n",
        "import imblearn\n",
        "import sklearn.metrics as m\n",
        "import keras\n",
        "import tensorflow as tf\n",
        "import sklearn\n",
        "import tensorboard"
      ]
    },
    {
      "cell_type": "code",
      "source": [
        "from google.colab import drive\n",
        "drive.mount('/content/drive/')"
      ],
      "metadata": {
        "colab": {
          "base_uri": "https://localhost:8080/"
        },
        "id": "GDEbhiFr_igI",
        "outputId": "acb3e189-bb1d-4702-fda6-21e3ef15a94e"
      },
      "execution_count": null,
      "outputs": [
        {
          "output_type": "stream",
          "name": "stdout",
          "text": [
            "Mounted at /content/drive/\n"
          ]
        }
      ]
    },
    {
      "cell_type": "code",
      "source": [
        "#Avoid warnings\n",
        "import warnings\n",
        "warnings.filterwarnings('ignore')\n",
        "#Settings\n",
        "pd.set_option('display.max_columns', None)\n",
        "pd.set_option('display.max_rows', None)\n",
        "\n",
        "#Import  Data\n",
        "j=0\n",
        "n=0\n",
        "#to check whih files have both attack and normal labels\n",
        "for j in range(0,59):\n",
        "  df3=pd.read_csv(\"/content/drive/MyDrive/AWID3_Dataset_CSV/CSV/6.Kr00k/Kr00k_\"+str(j)+\".csv\")\n",
        "  j+1\n",
        "  for i in df3['Label']:\n",
        "    if (i=='Kr00k'):\n",
        "      n=1\n",
        "  if (n==1):\n",
        "    print(\"n is\",n, \"and j is\",j)"
      ],
      "metadata": {
        "colab": {
          "base_uri": "https://localhost:8080/"
        },
        "id": "PN-HMFQA_lWv",
        "outputId": "78fe6c51-6efd-4c92-9f29-bd2a7d7acfa0"
      },
      "execution_count": null,
      "outputs": [
        {
          "output_type": "stream",
          "name": "stdout",
          "text": [
            "n is 1 and j is 31\n",
            "n is 1 and j is 32\n",
            "n is 1 and j is 33\n",
            "n is 1 and j is 34\n",
            "n is 1 and j is 35\n",
            "n is 1 and j is 36\n",
            "n is 1 and j is 37\n",
            "n is 1 and j is 38\n",
            "n is 1 and j is 39\n",
            "n is 1 and j is 40\n",
            "n is 1 and j is 41\n",
            "n is 1 and j is 42\n",
            "n is 1 and j is 43\n",
            "n is 1 and j is 44\n",
            "n is 1 and j is 45\n",
            "n is 1 and j is 46\n",
            "n is 1 and j is 47\n",
            "n is 1 and j is 48\n",
            "n is 1 and j is 49\n",
            "n is 1 and j is 50\n",
            "n is 1 and j is 51\n",
            "n is 1 and j is 52\n",
            "n is 1 and j is 53\n",
            "n is 1 and j is 54\n",
            "n is 1 and j is 55\n",
            "n is 1 and j is 56\n",
            "n is 1 and j is 57\n",
            "n is 1 and j is 58\n"
          ]
        }
      ]
    },
    {
      "cell_type": "code",
      "source": [
        "#much better than this is to put all the desired csv files in this case from 21 to 32 in one folder and use GLOB to put them in one df\n",
        "df = pd.concat(\n",
        "    map(pd.read_csv,[\"/content/drive/MyDrive/AWID3_Dataset_CSV/CSV/6.Kr00k/Kr00k_31.csv\",\"/content/drive/MyDrive/AWID3_Dataset_CSV/CSV/6.Kr00k/Kr00k_32.csv\",\"/content/drive/MyDrive/AWID3_Dataset_CSV/CSV/6.Kr00k/Kr00k_33.csv\",\"/content/drive/MyDrive/AWID3_Dataset_CSV/CSV/6.Kr00k/Kr00k_34.csv\",\"/content/drive/MyDrive/AWID3_Dataset_CSV/CSV/6.Kr00k/Kr00k_35.csv\",\"/content/drive/MyDrive/AWID3_Dataset_CSV/CSV/6.Kr00k/Kr00k_36.csv\",\"/content/drive/MyDrive/AWID3_Dataset_CSV/CSV/6.Kr00k/Kr00k_37.csv\",\"/content/drive/MyDrive/AWID3_Dataset_CSV/CSV/6.Kr00k/Kr00k_38.csv\",\"/content/drive/MyDrive/AWID3_Dataset_CSV/CSV/6.Kr00k/Kr00k_39.csv\",\"/content/drive/MyDrive/AWID3_Dataset_CSV/CSV/6.Kr00k/Kr00k_40.csv\",\"/content/drive/MyDrive/AWID3_Dataset_CSV/CSV/6.Kr00k/Kr00k_41.csv\",\"/content/drive/MyDrive/AWID3_Dataset_CSV/CSV/6.Kr00k/Kr00k_42.csv\",\"/content/drive/MyDrive/AWID3_Dataset_CSV/CSV/6.Kr00k/Kr00k_43.csv\",\"/content/drive/MyDrive/AWID3_Dataset_CSV/CSV/6.Kr00k/Kr00k_44.csv\",\"/content/drive/MyDrive/AWID3_Dataset_CSV/CSV/6.Kr00k/Kr00k_45.csv\",\"/content/drive/MyDrive/AWID3_Dataset_CSV/CSV/6.Kr00k/Kr00k_46.csv\",\"/content/drive/MyDrive/AWID3_Dataset_CSV/CSV/6.Kr00k/Kr00k_47.csv\",\"/content/drive/MyDrive/AWID3_Dataset_CSV/CSV/6.Kr00k/Kr00k_48.csv\",\"/content/drive/MyDrive/AWID3_Dataset_CSV/CSV/6.Kr00k/Kr00k_49.csv\",\"/content/drive/MyDrive/AWID3_Dataset_CSV/CSV/6.Kr00k/Kr00k_50.csv\",\"/content/drive/MyDrive/AWID3_Dataset_CSV/CSV/6.Kr00k/Kr00k_51.csv\",\"/content/drive/MyDrive/AWID3_Dataset_CSV/CSV/6.Kr00k/Kr00k_52.csv\",\"/content/drive/MyDrive/AWID3_Dataset_CSV/CSV/6.Kr00k/Kr00k_53.csv\",\"/content/drive/MyDrive/AWID3_Dataset_CSV/CSV/6.Kr00k/Kr00k_54.csv\",\"/content/drive/MyDrive/AWID3_Dataset_CSV/CSV/6.Kr00k/Kr00k_55.csv\",\"/content/drive/MyDrive/AWID3_Dataset_CSV/CSV/6.Kr00k/Kr00k_56.csv\",\"/content/drive/MyDrive/AWID3_Dataset_CSV/CSV/6.Kr00k/Kr00k_57.csv\",\"/content/drive/MyDrive/AWID3_Dataset_CSV/CSV/6.Kr00k/Kr00k_58.csv\"]), ignore_index=True)"
      ],
      "metadata": {
        "id": "ZEJQZjSs_pRc"
      },
      "execution_count": null,
      "outputs": []
    },
    {
      "cell_type": "code",
      "source": [
        "drop_cols = []\n",
        "for i in df.columns:\n",
        "    if len(df[i].unique())==1:\n",
        "        drop_cols.append(i)\n",
        "print(\"Total columns with only 1 unique value:\", len(drop_cols))\n",
        "df.drop(drop_cols, 1, inplace=True)\n",
        "\n",
        "print(df.columns)"
      ],
      "metadata": {
        "colab": {
          "base_uri": "https://localhost:8080/"
        },
        "id": "Tv52lzPC_s_P",
        "outputId": "88705735-7ab3-47a0-a1be-56de2faff142"
      },
      "execution_count": null,
      "outputs": [
        {
          "output_type": "stream",
          "name": "stdout",
          "text": [
            "Total columns with only 1 unique value: 57\n",
            "Index(['frame.len', 'frame.number', 'frame.time', 'frame.time_delta',\n",
            "       'frame.time_delta_displayed', 'frame.time_epoch', 'frame.time_relative',\n",
            "       'radiotap.datarate', 'radiotap.dbm_antsignal', 'radiotap.length',\n",
            "       ...\n",
            "       'tls.alert_message.level', 'tls.app_data_proto',\n",
            "       'tls.compress_certificate.compressed_certificate_message.length',\n",
            "       'tls.handshake.extension.type',\n",
            "       'tls.handshake.extensions_key_share_group',\n",
            "       'tls.handshake.session_ticket_length', 'tls.handshake.version',\n",
            "       'tls.record.content_type', 'tls.record.version', 'Label'],\n",
            "      dtype='object', length=197)\n"
          ]
        }
      ]
    },
    {
      "cell_type": "code",
      "source": [
        "df.dropna(1,inplace=True)"
      ],
      "metadata": {
        "id": "EhR_WGbp_wwz"
      },
      "execution_count": null,
      "outputs": []
    },
    {
      "cell_type": "code",
      "source": [
        "df.info()"
      ],
      "metadata": {
        "colab": {
          "base_uri": "https://localhost:8080/"
        },
        "id": "TIfi1aSt_1Zc",
        "outputId": "bc72bd20-68e0-4510-86ce-d19c0d501142"
      },
      "execution_count": null,
      "outputs": [
        {
          "output_type": "stream",
          "name": "stdout",
          "text": [
            "<class 'pandas.core.frame.DataFrame'>\n",
            "RangeIndex: 1350450 entries, 0 to 1350449\n",
            "Data columns (total 26 columns):\n",
            " #   Column                      Non-Null Count    Dtype  \n",
            "---  ------                      --------------    -----  \n",
            " 0   frame.len                   1350450 non-null  int64  \n",
            " 1   frame.number                1350450 non-null  int64  \n",
            " 2   frame.time                  1350450 non-null  object \n",
            " 3   frame.time_delta            1350450 non-null  float64\n",
            " 4   frame.time_delta_displayed  1350450 non-null  float64\n",
            " 5   frame.time_epoch            1350450 non-null  int64  \n",
            " 6   frame.time_relative         1350450 non-null  float64\n",
            " 7   radiotap.dbm_antsignal      1350450 non-null  int64  \n",
            " 8   radiotap.length             1350450 non-null  int64  \n",
            " 9   radiotap.present.tsft       1350450 non-null  object \n",
            " 10  radiotap.timestamp.ts       1350450 non-null  int64  \n",
            " 11  wlan.fc.ds                  1350450 non-null  object \n",
            " 12  wlan.fc.frag                1350450 non-null  int64  \n",
            " 13  wlan.fc.order               1350450 non-null  int64  \n",
            " 14  wlan.fc.moredata            1350450 non-null  int64  \n",
            " 15  wlan.fc.protected           1350450 non-null  int64  \n",
            " 16  wlan.fc.pwrmgt              1350450 non-null  int64  \n",
            " 17  wlan.fc.type                1350450 non-null  int64  \n",
            " 18  wlan.fc.retry               1350450 non-null  int64  \n",
            " 19  wlan.fc.subtype             1350450 non-null  int64  \n",
            " 20  wlan.ra                     1350450 non-null  object \n",
            " 21  wlan_radio.duration         1350450 non-null  int64  \n",
            " 22  wlan_radio.data_rate        1350450 non-null  float64\n",
            " 23  wlan_radio.signal_dbm       1350450 non-null  int64  \n",
            " 24  wlan_radio.phy              1350450 non-null  int64  \n",
            " 25  Label                       1350450 non-null  object \n",
            "dtypes: float64(4), int64(17), object(5)\n",
            "memory usage: 267.9+ MB\n"
          ]
        }
      ]
    },
    {
      "cell_type": "code",
      "source": [
        "#Split dataset on train and test\n",
        "from sklearn.model_selection import train_test_split\n",
        "train, test=train_test_split(df,test_size=0.3, random_state=10)\n",
        "\n",
        "#Exploratory Analysis\n",
        "# Descriptive statistics\n",
        "train.describe()\n",
        "test.describe()\n",
        "train['Label'].value_counts()\n",
        "test['Label'].value_counts()"
      ],
      "metadata": {
        "colab": {
          "base_uri": "https://localhost:8080/"
        },
        "id": "4ih8U2Fu_4hi",
        "outputId": "f1028db9-52bc-4d3d-806e-4d483978eee7"
      },
      "execution_count": null,
      "outputs": [
        {
          "output_type": "execute_result",
          "data": {
            "text/plain": [
              "Normal    347515\n",
              "Kr00k      55957\n",
              "Kr00K       1663\n",
              "Name: Label, dtype: int64"
            ]
          },
          "metadata": {},
          "execution_count": 12
        }
      ]
    },
    {
      "cell_type": "code",
      "source": [
        "#Scalling numerical attributes\n",
        "from sklearn.preprocessing import StandardScaler\n",
        "scaler = StandardScaler()\n",
        "\n",
        "# extract numerical attributes and scale it to have zero mean and unit variance  \n",
        "cols = train.select_dtypes(include=['float32','int64']).columns\n",
        "sc_train = scaler.fit_transform(train.select_dtypes(include=['float32','int64']))\n",
        "sc_test = scaler.fit_transform(test.select_dtypes(include=['float32','int64']))\n",
        "\n",
        "# turn the result back to a dataframe\n",
        "sc_traindf = pd.DataFrame(sc_train, columns = cols)\n",
        "sc_testdf = pd.DataFrame(sc_test, columns = cols)"
      ],
      "metadata": {
        "id": "zNOOQIu-_9tT"
      },
      "execution_count": null,
      "outputs": []
    },
    {
      "cell_type": "code",
      "source": [
        "from sklearn.preprocessing import OneHotEncoder \n",
        "\n",
        "#creating one hot encoder object \n",
        "onehotencoder = OneHotEncoder() \n",
        "\n",
        "trainDep = train['Label'].values.reshape(-1,1)\n",
        "trainDep = onehotencoder.fit_transform(trainDep).toarray()\n",
        "testDep = test['Label'].values.reshape(-1,1)\n",
        "testDep = onehotencoder.fit_transform(testDep).toarray()"
      ],
      "metadata": {
        "id": "OUrygBlVAEOR"
      },
      "execution_count": null,
      "outputs": []
    },
    {
      "cell_type": "code",
      "source": [
        "train_X=sc_traindf\n",
        "train_y=trainDep[:,0]\n",
        "\n",
        "test_X=sc_testdf\n",
        "test_y=testDep[:,0]"
      ],
      "metadata": {
        "id": "wBKLI2cHAHej"
      },
      "execution_count": null,
      "outputs": []
    },
    {
      "cell_type": "code",
      "source": [
        "from sklearn.decomposition import PCA\n",
        "\n",
        "pca = PCA()\n",
        "pca.fit(train_X)\n",
        "\n",
        "plt.plot(pca.explained_variance_ratio_.cumsum(), lw=3, color='#800080')\n",
        "plt.title('Cumulative variance', size=20)\n",
        "plt.show()"
      ],
      "metadata": {
        "colab": {
          "base_uri": "https://localhost:8080/",
          "height": 286
        },
        "id": "3L--FNjoEDEY",
        "outputId": "ba31ef23-dc91-4b2a-8f82-17766b663107"
      },
      "execution_count": null,
      "outputs": [
        {
          "output_type": "display_data",
          "data": {
            "text/plain": [
              "<Figure size 432x288 with 1 Axes>"
            ],
            "image/png": "[encoded data removed]"
          },
          "metadata": {
            "needs_background": "light"
          }
        }
      ]
    },
    {
      "cell_type": "code",
      "source": [
        "Loads = pd.DataFrame(\n",
        "    data=pca.components_.T * np.sqrt(pca.explained_variance_), \n",
        "    columns=[f'PC{i}' for i in range(1, len(train_X.columns) + 1)],\n",
        "    index=train_X.columns\n",
        ")\n",
        "Loads.head()"
      ],
      "metadata": {
        "colab": {
          "base_uri": "https://localhost:8080/",
          "height": 270
        },
        "id": "b_-C7cR2EKcb",
        "outputId": "eb8eeece-879e-44b2-d867-28fa594358bd"
      },
      "execution_count": null,
      "outputs": [
        {
          "output_type": "execute_result",
          "data": {
            "text/plain": [
              "                             PC1       PC2       PC3       PC4       PC5  \\\n",
              "frame.len               0.891872  0.011977  0.050075  0.024749 -0.082585   \n",
              "frame.number            0.004679  0.970817  0.055044  0.012137 -0.008823   \n",
              "frame.time_epoch        0.009257  0.980973  0.053528  0.002631 -0.006298   \n",
              "radiotap.dbm_antsignal  0.363080  0.044516 -0.908773  0.107943 -0.069059   \n",
              "radiotap.length         0.948229 -0.021573  0.129825 -0.155119 -0.059010   \n",
              "\n",
              "                             PC6       PC7       PC8       PC9      PC10  \\\n",
              "frame.len               0.007331 -0.004690  0.004385  0.154831  0.094152   \n",
              "frame.number            0.002324  0.000435  0.003401 -0.005987  0.025558   \n",
              "frame.time_epoch       -0.000077  0.000026  0.004262 -0.008033  0.017663   \n",
              "radiotap.dbm_antsignal  0.047349  0.007392 -0.005966  0.040494  0.088657   \n",
              "radiotap.length         0.004207 -0.003335  0.021779 -0.044966  0.034498   \n",
              "\n",
              "                            PC11      PC12      PC13      PC14      PC15  \\\n",
              "frame.len               0.222229 -0.019609 -0.332495 -0.034812  0.003694   \n",
              "frame.number           -0.041131  0.222742 -0.014550  0.004773  0.001790   \n",
              "frame.time_epoch       -0.038321  0.174449 -0.008488 -0.007752 -0.001999   \n",
              "radiotap.dbm_antsignal -0.087648 -0.006423  0.019077 -0.017991  0.000026   \n",
              "radiotap.length        -0.089426 -0.003415  0.019714  0.191413 -0.085108   \n",
              "\n",
              "                            PC16      PC17  \n",
              "frame.len              -0.000497 -0.000252  \n",
              "frame.number           -0.010554  0.043342  \n",
              "frame.time_epoch        0.011494 -0.046164  \n",
              "radiotap.dbm_antsignal  0.059908  0.008364  \n",
              "radiotap.length         0.002204 -0.000292  "
            ],
            "text/html": [
              "\n",
              "  <div id=\"df-2611056c-668a-40ee-97ef-b8dd2f536307\">\n",
              "    <div class=\"colab-df-container\">\n",
              "      <div>\n",
              "<style scoped>\n",
              "    .dataframe tbody tr th:only-of-type {\n",
              "        vertical-align: middle;\n",
              "    }\n",
              "\n",
              "    .dataframe tbody tr th {\n",
              "        vertical-align: top;\n",
              "    }\n",
              "\n",
              "    .dataframe thead th {\n",
              "        text-align: right;\n",
              "    }\n",
              "</style>\n",
              "<table border=\"1\" class=\"dataframe\">\n",
              "  <thead>\n",
              "    <tr style=\"text-align: right;\">\n",
              "      <th></th>\n",
              "      <th>PC1</th>\n",
              "      <th>PC2</th>\n",
              "      <th>PC3</th>\n",
              "      <th>PC4</th>\n",
              "      <th>PC5</th>\n",
              "      <th>PC6</th>\n",
              "      <th>PC7</th>\n",
              "      <th>PC8</th>\n",
              "      <th>PC9</th>\n",
              "      <th>PC10</th>\n",
              "      <th>PC11</th>\n",
              "      <th>PC12</th>\n",
              "      <th>PC13</th>\n",
              "      <th>PC14</th>\n",
              "      <th>PC15</th>\n",
              "      <th>PC16</th>\n",
              "      <th>PC17</th>\n",
              "    </tr>\n",
              "  </thead>\n",
              "  <tbody>\n",
              "    <tr>\n",
              "      <th>frame.len</th>\n",
              "      <td>0.891872</td>\n",
              "      <td>0.011977</td>\n",
              "      <td>0.050075</td>\n",
              "      <td>0.024749</td>\n",
              "      <td>-0.082585</td>\n",
              "      <td>0.007331</td>\n",
              "      <td>-0.004690</td>\n",
              "      <td>0.004385</td>\n",
              "      <td>0.154831</td>\n",
              "      <td>0.094152</td>\n",
              "      <td>0.222229</td>\n",
              "      <td>-0.019609</td>\n",
              "      <td>-0.332495</td>\n",
              "      <td>-0.034812</td>\n",
              "      <td>0.003694</td>\n",
              "      <td>-0.000497</td>\n",
              "      <td>-0.000252</td>\n",
              "    </tr>\n",
              "    <tr>\n",
              "      <th>frame.number</th>\n",
              "      <td>0.004679</td>\n",
              "      <td>0.970817</td>\n",
              "      <td>0.055044</td>\n",
              "      <td>0.012137</td>\n",
              "      <td>-0.008823</td>\n",
              "      <td>0.002324</td>\n",
              "      <td>0.000435</td>\n",
              "      <td>0.003401</td>\n",
              "      <td>-0.005987</td>\n",
              "      <td>0.025558</td>\n",
              "      <td>-0.041131</td>\n",
              "      <td>0.222742</td>\n",
              "      <td>-0.014550</td>\n",
              "      <td>0.004773</td>\n",
              "      <td>0.001790</td>\n",
              "      <td>-0.010554</td>\n",
              "      <td>0.043342</td>\n",
              "    </tr>\n",
              "    <tr>\n",
              "      <th>frame.time_epoch</th>\n",
              "      <td>0.009257</td>\n",
              "      <td>0.980973</td>\n",
              "      <td>0.053528</td>\n",
              "      <td>0.002631</td>\n",
              "      <td>-0.006298</td>\n",
              "      <td>-0.000077</td>\n",
              "      <td>0.000026</td>\n",
              "      <td>0.004262</td>\n",
              "      <td>-0.008033</td>\n",
              "      <td>0.017663</td>\n",
              "      <td>-0.038321</td>\n",
              "      <td>0.174449</td>\n",
              "      <td>-0.008488</td>\n",
              "      <td>-0.007752</td>\n",
              "      <td>-0.001999</td>\n",
              "      <td>0.011494</td>\n",
              "      <td>-0.046164</td>\n",
              "    </tr>\n",
              "    <tr>\n",
              "      <th>radiotap.dbm_antsignal</th>\n",
              "      <td>0.363080</td>\n",
              "      <td>0.044516</td>\n",
              "      <td>-0.908773</td>\n",
              "      <td>0.107943</td>\n",
              "      <td>-0.069059</td>\n",
              "      <td>0.047349</td>\n",
              "      <td>0.007392</td>\n",
              "      <td>-0.005966</td>\n",
              "      <td>0.040494</td>\n",
              "      <td>0.088657</td>\n",
              "      <td>-0.087648</td>\n",
              "      <td>-0.006423</td>\n",
              "      <td>0.019077</td>\n",
              "      <td>-0.017991</td>\n",
              "      <td>0.000026</td>\n",
              "      <td>0.059908</td>\n",
              "      <td>0.008364</td>\n",
              "    </tr>\n",
              "    <tr>\n",
              "      <th>radiotap.length</th>\n",
              "      <td>0.948229</td>\n",
              "      <td>-0.021573</td>\n",
              "      <td>0.129825</td>\n",
              "      <td>-0.155119</td>\n",
              "      <td>-0.059010</td>\n",
              "      <td>0.004207</td>\n",
              "      <td>-0.003335</td>\n",
              "      <td>0.021779</td>\n",
              "      <td>-0.044966</td>\n",
              "      <td>0.034498</td>\n",
              "      <td>-0.089426</td>\n",
              "      <td>-0.003415</td>\n",
              "      <td>0.019714</td>\n",
              "      <td>0.191413</td>\n",
              "      <td>-0.085108</td>\n",
              "      <td>0.002204</td>\n",
              "      <td>-0.000292</td>\n",
              "    </tr>\n",
              "  </tbody>\n",
              "</table>\n",
              "</div>\n",
              "      <button class=\"colab-df-convert\" onclick=\"convertToInteractive('df-2611056c-668a-40ee-97ef-b8dd2f536307')\"\n",
              "              title=\"Convert this dataframe to an interactive table.\"\n",
              "              style=\"display:none;\">\n",
              "        \n",
              "  <svg xmlns=\"http://www.w3.org/2000/svg\" height=\"24px\"viewBox=\"0 0 24 24\"\n",
              "       width=\"24px\">\n",
              "    <path d=\"M0 0h24v24H0V0z\" fill=\"none\"/>\n",
              "    <path d=\"M18.56 5.44l.94 2.06.94-2.06 2.06-.94-2.06-.94-.94-2.06-.94 2.06-2.06.94zm-11 1L8.5 8.5l.94-2.06 2.06-.94-2.06-.94L8.5 2.5l-.94 2.06-2.06.94zm10 10l.94 2.06.94-2.06 2.06-.94-2.06-.94-.94-2.06-.94 2.06-2.06.94z\"/><path d=\"M17.41 7.96l-1.37-1.37c-.4-.4-.92-.59-1.43-.59-.52 0-1.04.2-1.43.59L10.3 9.45l-7.72 7.72c-.78.78-.78 2.05 0 2.83L4 21.41c.39.39.9.59 1.41.59.51 0 1.02-.2 1.41-.59l7.78-7.78 2.81-2.81c.8-.78.8-2.07 0-2.86zM5.41 20L4 18.59l7.72-7.72 1.47 1.35L5.41 20z\"/>\n",
              "  </svg>\n",
              "      </button>\n",
              "      \n",
              "  <style>\n",
              "    .colab-df-container {\n",
              "      display:flex;\n",
              "      flex-wrap:wrap;\n",
              "      gap: 12px;\n",
              "    }\n",
              "\n",
              "    .colab-df-convert {\n",
              "      background-color: #E8F0FE;\n",
              "      border: none;\n",
              "      border-radius: 50%;\n",
              "      cursor: pointer;\n",
              "      display: none;\n",
              "      fill: #1967D2;\n",
              "      height: 32px;\n",
              "      padding: 0 0 0 0;\n",
              "      width: 32px;\n",
              "    }\n",
              "\n",
              "    .colab-df-convert:hover {\n",
              "      background-color: #E2EBFA;\n",
              "      box-shadow: 0px 1px 2px rgba(60, 64, 67, 0.3), 0px 1px 3px 1px rgba(60, 64, 67, 0.15);\n",
              "      fill: #174EA6;\n",
              "    }\n",
              "\n",
              "    [theme=dark] .colab-df-convert {\n",
              "      background-color: #3B4455;\n",
              "      fill: #D2E3FC;\n",
              "    }\n",
              "\n",
              "    [theme=dark] .colab-df-convert:hover {\n",
              "      background-color: #434B5C;\n",
              "      box-shadow: 0px 1px 3px 1px rgba(0, 0, 0, 0.15);\n",
              "      filter: drop-shadow(0px 1px 2px rgba(0, 0, 0, 0.3));\n",
              "      fill: #FFFFFF;\n",
              "    }\n",
              "  </style>\n",
              "\n",
              "      <script>\n",
              "        const buttonEl =\n",
              "          document.querySelector('#df-2611056c-668a-40ee-97ef-b8dd2f536307 button.colab-df-convert');\n",
              "        buttonEl.style.display =\n",
              "          google.colab.kernel.accessAllowed ? 'block' : 'none';\n",
              "\n",
              "        async function convertToInteractive(key) {\n",
              "          const element = document.querySelector('#df-2611056c-668a-40ee-97ef-b8dd2f536307');\n",
              "          const dataTable =\n",
              "            await google.colab.kernel.invokeFunction('convertToInteractive',\n",
              "                                                     [key], {});\n",
              "          if (!dataTable) return;\n",
              "\n",
              "          const docLinkHtml = 'Like what you see? Visit the ' +\n",
              "            '<a target=\"_blank\" href=https://colab.research.google.com/notebooks/data_table.ipynb>data table notebook</a>'\n",
              "            + ' to learn more about interactive tables.';\n",
              "          element.innerHTML = '';\n",
              "          dataTable['output_type'] = 'display_data';\n",
              "          await google.colab.output.renderOutput(dataTable, element);\n",
              "          const docLink = document.createElement('div');\n",
              "          docLink.innerHTML = docLinkHtml;\n",
              "          element.appendChild(docLink);\n",
              "        }\n",
              "      </script>\n",
              "    </div>\n",
              "  </div>\n",
              "  "
            ]
          },
          "metadata": {},
          "execution_count": 17
        }
      ]
    },
    {
      "cell_type": "code",
      "source": [
        "pc1_Loads = Loads.sort_values(by='PC1', ascending=False)[['PC1']]\n",
        "pc1_Loads = pc1_Loads.reset_index()\n",
        "pc1_Loads.columns = ['Feature', 'CorrelationtoPC1']\n",
        "\n",
        "plt.bar(x=pc1_Loads['Feature'], height=pc1_Loads['CorrelationtoPC1'], color='#800080')\n",
        "plt.title('PCA scores', size=20)\n",
        "plt.xticks(rotation='vertical')\n",
        "plt.show()"
      ],
      "metadata": {
        "colab": {
          "base_uri": "https://localhost:8080/",
          "height": 395
        },
        "id": "zN00MA7rEOoA",
        "outputId": "a5eac0fb-b49a-4e4a-9ccd-1d5986cfc21e"
      },
      "execution_count": null,
      "outputs": [
        {
          "output_type": "display_data",
          "data": {
            "text/plain": [
              "<Figure size 432x288 with 1 Axes>"
            ],
            "image/png": "[encoded data removed]"
          },
          "metadata": {
            "needs_background": "light"
          }
        }
      ]
    }
  ]
}