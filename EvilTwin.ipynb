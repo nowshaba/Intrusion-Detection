{
  "nbformat": 4,
  "nbformat_minor": 0,
  "metadata": {
    "colab": {
      "name": "EvilTwin.ipynb",
      "provenance": [],
      "authorship_tag": "ABX9TyNQQ7vvL089a9iuGeM5GZTD",
      "include_colab_link": true
    },
    "kernelspec": {
      "name": "python3",
      "display_name": "Python 3"
    },
    "language_info": {
      "name": "python"
    },
    "accelerator": "GPU",
    "gpuClass": "standard"
  },
  "cells": [
    {
      "cell_type": "markdown",
      "metadata": {
        "id": "view-in-github",
        "colab_type": "text"
      },
      "source": [
        "<a href=\"https://colab.research.google.com/github/nowshaba/Intrusion-Detection/blob/main/EvilTwin.ipynb\" target=\"_parent\"><img src=\"https://colab.research.google.com/assets/colab-badge.svg\" alt=\"Open In Colab\"/></a>"
      ]
    },
    {
      "cell_type": "code",
      "execution_count": null,
      "metadata": {
        "id": "9CL1iwMd_Gk2"
      },
      "outputs": [],
      "source": [
        "\n",
        "import numpy as np\n",
        "import pandas as pd \n",
        "import matplotlib.pyplot as plt\n",
        "import seaborn as sns\n",
        "import imblearn\n",
        "import sklearn.metrics as m\n",
        "import keras\n",
        "import tensorflow as tf\n",
        "import sklearn\n",
        "import tensorboard"
      ]
    },
    {
      "cell_type": "code",
      "source": [
        "from google.colab import drive\n",
        "drive.mount('/content/drive/')"
      ],
      "metadata": {
        "colab": {
          "base_uri": "https://localhost:8080/"
        },
        "id": "GDEbhiFr_igI",
        "outputId": "e4e640e2-55a4-4697-f088-604219395844"
      },
      "execution_count": null,
      "outputs": [
        {
          "output_type": "stream",
          "name": "stdout",
          "text": [
            "Drive already mounted at /content/drive/; to attempt to forcibly remount, call drive.mount(\"/content/drive/\", force_remount=True).\n"
          ]
        }
      ]
    },
    {
      "cell_type": "code",
      "source": [
        "#Avoid warnings\n",
        "import warnings\n",
        "warnings.filterwarnings('ignore')\n",
        "#Settings\n",
        "pd.set_option('display.max_columns', None)\n",
        "pd.set_option('display.max_rows', None)\n",
        "\n",
        "#Import  Data\n",
        "j=0\n",
        "n=0\n",
        "#to check whih files have both attack and normal labels\n",
        "for j in range(0,76):\n",
        "  df3=pd.read_csv(\"/content/drive/MyDrive/AWID3_Dataset_CSV/CSV/12.Evil_Twin/Evil_Twin_\"+str(j)+\".csv\")\n",
        "  j+1\n",
        "  for i in df3['Label']:\n",
        "    if (i=='Evil_Twin'):\n",
        "      n=1\n",
        "  if (n==1):\n",
        "    print(\"n is\",n, \"and j is\",j)"
      ],
      "metadata": {
        "colab": {
          "base_uri": "https://localhost:8080/"
        },
        "id": "PN-HMFQA_lWv",
        "outputId": "86fbc11b-bc4d-4932-98cc-2d6bde5791a7"
      },
      "execution_count": null,
      "outputs": [
        {
          "output_type": "stream",
          "name": "stdout",
          "text": [
            "n is 1 and j is 28\n",
            "n is 1 and j is 29\n",
            "n is 1 and j is 30\n",
            "n is 1 and j is 31\n",
            "n is 1 and j is 32\n",
            "n is 1 and j is 33\n",
            "n is 1 and j is 34\n",
            "n is 1 and j is 35\n",
            "n is 1 and j is 36\n",
            "n is 1 and j is 37\n",
            "n is 1 and j is 38\n",
            "n is 1 and j is 39\n",
            "n is 1 and j is 40\n",
            "n is 1 and j is 41\n",
            "n is 1 and j is 42\n",
            "n is 1 and j is 43\n",
            "n is 1 and j is 44\n",
            "n is 1 and j is 45\n",
            "n is 1 and j is 46\n",
            "n is 1 and j is 47\n",
            "n is 1 and j is 48\n",
            "n is 1 and j is 49\n",
            "n is 1 and j is 50\n",
            "n is 1 and j is 51\n",
            "n is 1 and j is 52\n",
            "n is 1 and j is 53\n",
            "n is 1 and j is 54\n",
            "n is 1 and j is 55\n",
            "n is 1 and j is 56\n",
            "n is 1 and j is 57\n",
            "n is 1 and j is 58\n",
            "n is 1 and j is 59\n",
            "n is 1 and j is 60\n",
            "n is 1 and j is 61\n",
            "n is 1 and j is 62\n",
            "n is 1 and j is 63\n",
            "n is 1 and j is 64\n",
            "n is 1 and j is 65\n",
            "n is 1 and j is 66\n",
            "n is 1 and j is 67\n",
            "n is 1 and j is 68\n",
            "n is 1 and j is 69\n",
            "n is 1 and j is 70\n",
            "n is 1 and j is 71\n",
            "n is 1 and j is 72\n",
            "n is 1 and j is 73\n",
            "n is 1 and j is 74\n",
            "n is 1 and j is 75\n"
          ]
        }
      ]
    },
    {
      "cell_type": "code",
      "source": [
        "#much better than this is to put all the desired csv files in this case from 21 to 32 in one folder and use GLOB to put them in one df\n",
        "df1 = pd.concat(\n",
        "    map(pd.read_csv,[\"/content/drive/MyDrive/AWID3_Dataset_CSV/CSV/12.Evil_Twin/Evil_Twin_28.csv\",\"/content/drive/MyDrive/AWID3_Dataset_CSV/CSV/12.Evil_Twin/Evil_Twin_29.csv\",\"/content/drive/MyDrive/AWID3_Dataset_CSV/CSV/12.Evil_Twin/Evil_Twin_30.csv\",\"/content/drive/MyDrive/AWID3_Dataset_CSV/CSV/12.Evil_Twin/Evil_Twin_31.csv\",\"/content/drive/MyDrive/AWID3_Dataset_CSV/CSV/12.Evil_Twin/Evil_Twin_32.csv\",\"/content/drive/MyDrive/AWID3_Dataset_CSV/CSV/12.Evil_Twin/Evil_Twin_33.csv\",\"/content/drive/MyDrive/AWID3_Dataset_CSV/CSV/12.Evil_Twin/Evil_Twin_34.csv\",\"/content/drive/MyDrive/AWID3_Dataset_CSV/CSV/12.Evil_Twin/Evil_Twin_35.csv\",\"/content/drive/MyDrive/AWID3_Dataset_CSV/CSV/12.Evil_Twin/Evil_Twin_36.csv\"]), ignore_index=True)"
      ],
      "metadata": {
        "id": "ZEJQZjSs_pRc",
        "colab": {
          "base_uri": "https://localhost:8080/"
        },
        "outputId": "a12174a2-1956-4b01-9767-f8c169701d8a"
      },
      "execution_count": null,
      "outputs": [
        {
          "output_type": "stream",
          "name": "stderr",
          "text": [
            "/usr/local/lib/python3.7/dist-packages/pandas/core/reshape/concat.py:304: DtypeWarning: Columns (20,21,43,44,45,62,65,71,73,77,78,79,80,82,84,85,86,90,91,92,93,98,99,100,101,102,103,104,107,108,109,110,111,118,153,155,157,158,159,160,161,162,163,164,166,167,168,172,178,179,180,181,183,184,185,189,190,192,193,194,195,196,197,200,201,202,203,204,205,206,209,210,211,212,213,215,217,218,219,247,248,249,250) have mixed types.Specify dtype option on import or set low_memory=False.\n",
            "  sort=sort,\n",
            "/usr/local/lib/python3.7/dist-packages/pandas/core/reshape/concat.py:304: DtypeWarning: Columns (71,73,77,78,79,80,86,93,112,113,114,116,117,118,122,166,168,169,170,171,172,173,175,176,177,181,183,184,185,186,189,190,192,193,194,195,196,197,200,201,202,203,204,205,206,209,210,211,212,213,215,217,218,219,248) have mixed types.Specify dtype option on import or set low_memory=False.\n",
            "  sort=sort,\n",
            "/usr/local/lib/python3.7/dist-packages/pandas/core/reshape/concat.py:304: DtypeWarning: Columns (71,73,77,78,79,80,82,84,85,87,90,91,92,93,94,96,98,99,100,101,102,103,104,107,108,109,110,111,112,113,114,116,117,118,166,169,170,171,172,173,175,176,177,181,184,185,189,192,193,194,196,197,203,204,205,209,210,211,212,213,217,218,219,248,249) have mixed types.Specify dtype option on import or set low_memory=False.\n",
            "  sort=sort,\n",
            "/usr/local/lib/python3.7/dist-packages/pandas/core/reshape/concat.py:304: DtypeWarning: Columns (71,73,77,78,79,80,82,84,85,90,91,92,93,98,99,100,101,102,103,104,107,108,109,110,111,112,113,114,116,117,118,166,167,168,169,170,171,172,173,175,176,177,178,180,181,183,184,185,189,190,192,193,194,195,196,197,200,201,202,203,204,205,206,209,210,211,212,213,215,217,218,219,248,249,250) have mixed types.Specify dtype option on import or set low_memory=False.\n",
            "  sort=sort,\n",
            "/usr/local/lib/python3.7/dist-packages/pandas/core/reshape/concat.py:304: DtypeWarning: Columns (71,73,77,78,79,80,82,84,85,90,91,92,93,98,99,100,101,102,103,104,107,108,109,110,111,118,166,167,168,180,184,185,189,190,192,193,194,195,196,197,200,201,202,203,204,205,206,209,210,211,212,213,215,217,218,219,248,249) have mixed types.Specify dtype option on import or set low_memory=False.\n",
            "  sort=sort,\n",
            "/usr/local/lib/python3.7/dist-packages/pandas/core/reshape/concat.py:304: DtypeWarning: Columns (20,21,43,44,45,62,65,71,73,77,78,79,80,82,84,85,86,87,90,91,92,93,98,99,100,101,102,103,104,107,108,109,110,111,118,153,155,157,158,159,160,161,163,166,167,168,178,180,183,184,185,189,190,192,193,194,195,197,200,201,202,203,204,205,206,209,210,211,212,213,215,217,218,219,249) have mixed types.Specify dtype option on import or set low_memory=False.\n",
            "  sort=sort,\n",
            "/usr/local/lib/python3.7/dist-packages/pandas/core/reshape/concat.py:304: DtypeWarning: Columns (20,21,43,44,62,65,71,73,77,78,79,80,82,84,85,86,90,91,92,93,98,99,100,101,102,103,104,107,108,109,110,111,118,153,155,157,158,159,160,161,162,163,164,166,167,168,178,180,183,184,185,189,190,192,193,194,195,196,197,200,201,202,203,204,205,206,209,210,211,212,213,215,217,218,219,248,249,251) have mixed types.Specify dtype option on import or set low_memory=False.\n",
            "  sort=sort,\n",
            "/usr/local/lib/python3.7/dist-packages/pandas/core/reshape/concat.py:304: DtypeWarning: Columns (71,73,77,78,79,80,82,84,85,86,90,91,92,93,98,99,100,101,102,103,104,107,108,109,110,111,112,113,114,116,117,118,166,184,185,189,190,192,193,194,195,196,197,200,201,202,203,204,205,206,209,210,211,212,213,215,217,218,219,249) have mixed types.Specify dtype option on import or set low_memory=False.\n",
            "  sort=sort,\n",
            "/usr/local/lib/python3.7/dist-packages/pandas/core/reshape/concat.py:304: DtypeWarning: Columns (71,73,77,78,79,80,82,84,85,87,90,91,92,93,98,99,100,101,102,103,104,105,107,108,109,110,111,112,113,114,115,116,117,118,166,167,168,169,170,171,172,173,174,175,176,177,178,180,181,183,184,185,188,190,192,193,194,195,196,197,200,201,202,203,204,205,206,209,210,211,212,213,215,217,218,219,242,243,244,247,248,249,250,251) have mixed types.Specify dtype option on import or set low_memory=False.\n",
            "  sort=sort,\n"
          ]
        }
      ]
    },
    {
      "cell_type": "code",
      "source": [
        "drop_cols = []\n",
        "for i in df1.columns:\n",
        "    if len(df1[i].unique())==1:\n",
        "        drop_cols.append(i)\n",
        "print(\"Total columns with only 1 unique value:\", len(drop_cols))\n",
        "df1.drop(drop_cols, 1, inplace=True)\n",
        "\n",
        "print(df1.columns)\n",
        "df1.replace([np.inf, -np.inf], 0, inplace=True)\n",
        "df1.fillna(0, inplace = True)"
      ],
      "metadata": {
        "colab": {
          "base_uri": "https://localhost:8080/"
        },
        "id": "uwSmMEgHCBfp",
        "outputId": "233175a5-86d2-40e4-a956-51b3fc15b809"
      },
      "execution_count": null,
      "outputs": [
        {
          "output_type": "stream",
          "name": "stdout",
          "text": [
            "Total columns with only 1 unique value: 72\n"
          ]
        },
        {
          "output_type": "stream",
          "name": "stderr",
          "text": [
            "/usr/local/lib/python3.7/dist-packages/ipykernel_launcher.py:6: FutureWarning: In a future version of pandas all arguments of DataFrame.drop except for the argument 'labels' will be keyword-only\n",
            "  \n"
          ]
        },
        {
          "output_type": "stream",
          "name": "stdout",
          "text": [
            "Index(['frame.len', 'frame.number', 'frame.time', 'frame.time_delta',\n",
            "       'frame.time_delta_displayed', 'frame.time_epoch', 'frame.time_relative',\n",
            "       'radiotap.datarate', 'radiotap.dbm_antsignal', 'radiotap.length',\n",
            "       ...\n",
            "       'tls.alert_message.level', 'tls.app_data_proto',\n",
            "       'tls.compress_certificate.compressed_certificate_message.length',\n",
            "       'tls.handshake.extension.type',\n",
            "       'tls.handshake.extensions_key_share_group',\n",
            "       'tls.handshake.session_ticket_length', 'tls.handshake.version',\n",
            "       'tls.record.content_type', 'tls.record.version', 'Label'],\n",
            "      dtype='object', length=182)\n"
          ]
        }
      ]
    },
    {
      "cell_type": "code",
      "source": [
        "df1.dropna(1,inplace=True)"
      ],
      "metadata": {
        "colab": {
          "base_uri": "https://localhost:8080/"
        },
        "id": "tCLADLaQCOtD",
        "outputId": "003acaa0-ccd0-4de0-9b85-9d4ad59c539e"
      },
      "execution_count": null,
      "outputs": [
        {
          "output_type": "stream",
          "name": "stderr",
          "text": [
            "/usr/local/lib/python3.7/dist-packages/ipykernel_launcher.py:1: FutureWarning: In a future version of pandas all arguments of DataFrame.dropna will be keyword-only\n",
            "  \"\"\"Entry point for launching an IPython kernel.\n"
          ]
        }
      ]
    },
    {
      "cell_type": "code",
      "source": [
        "df1.info()"
      ],
      "metadata": {
        "colab": {
          "base_uri": "https://localhost:8080/"
        },
        "id": "9BKwbWCOCUhe",
        "outputId": "9fd1f7b5-2fbe-46db-c873-b8db137ae504"
      },
      "execution_count": null,
      "outputs": [
        {
          "output_type": "stream",
          "name": "stdout",
          "text": [
            "<class 'pandas.core.frame.DataFrame'>\n",
            "RangeIndex: 449999 entries, 0 to 449998\n",
            "Columns: 182 entries, frame.len to Label\n",
            "dtypes: float64(36), int64(18), object(128)\n",
            "memory usage: 624.8+ MB\n"
          ]
        }
      ]
    },
    {
      "cell_type": "code",
      "source": [
        "#much better than this is to put all the desired csv files in this case from 21 to 32 in one folder and use GLOB to put them in one df\n",
        "df2 = pd.concat(\n",
        "    map(pd.read_csv,[\"/content/drive/MyDrive/AWID3_Dataset_CSV/CSV/12.Evil_Twin/Evil_Twin_37.csv\",\"/content/drive/MyDrive/AWID3_Dataset_CSV/CSV/12.Evil_Twin/Evil_Twin_38.csv\",\"/content/drive/MyDrive/AWID3_Dataset_CSV/CSV/12.Evil_Twin/Evil_Twin_39.csv\",\"/content/drive/MyDrive/AWID3_Dataset_CSV/CSV/12.Evil_Twin/Evil_Twin_40.csv\",\"/content/drive/MyDrive/AWID3_Dataset_CSV/CSV/12.Evil_Twin/Evil_Twin_41.csv\",\"/content/drive/MyDrive/AWID3_Dataset_CSV/CSV/12.Evil_Twin/Evil_Twin_42.csv\",\"/content/drive/MyDrive/AWID3_Dataset_CSV/CSV/12.Evil_Twin/Evil_Twin_43.csv\",\"/content/drive/MyDrive/AWID3_Dataset_CSV/CSV/12.Evil_Twin/Evil_Twin_44.csv\",\"/content/drive/MyDrive/AWID3_Dataset_CSV/CSV/12.Evil_Twin/Evil_Twin_45.csv\",\"/content/drive/MyDrive/AWID3_Dataset_CSV/CSV/12.Evil_Twin/Evil_Twin_46.csv\",\"/content/drive/MyDrive/AWID3_Dataset_CSV/CSV/12.Evil_Twin/Evil_Twin_47.csv\"]), ignore_index=True)"
      ],
      "metadata": {
        "colab": {
          "base_uri": "https://localhost:8080/"
        },
        "id": "kfCiTv6ZVNvT",
        "outputId": "fb862aad-de2d-44ce-e233-682c33264755"
      },
      "execution_count": null,
      "outputs": [
        {
          "output_type": "stream",
          "name": "stderr",
          "text": [
            "/usr/local/lib/python3.7/dist-packages/pandas/core/reshape/concat.py:304: DtypeWarning: Columns (71,73,77,78,79,80,82,84,85,86,87,90,91,92,93,94,96,98,99,100,101,102,103,104,105,107,108,109,110,111,112,113,114,116,117,118,166,167,168,169,170,171,172,173,175,176,177,178,180,181,183,184,185,186,189,190,192,193,194,195,196,197,200,201,202,203,204,205,206,209,210,211,212,213,215,217,218,219,242,243,247,248,249,250,251) have mixed types.Specify dtype option on import or set low_memory=False.\n",
            "  sort=sort,\n",
            "/usr/local/lib/python3.7/dist-packages/pandas/core/reshape/concat.py:304: DtypeWarning: Columns (71,73,77,78,79,80,82,84,85,86,87,90,91,92,93,94,96,98,99,100,101,102,103,104,107,108,109,110,111,112,113,114,116,117,118,166,167,168,169,170,171,172,173,175,176,177,181,183,184,185,189,192,193,194,196,197,203,204,205,209,210,211,212,213,215,217,218,219,247,248,249,250,251) have mixed types.Specify dtype option on import or set low_memory=False.\n",
            "  sort=sort,\n",
            "/usr/local/lib/python3.7/dist-packages/pandas/core/reshape/concat.py:304: DtypeWarning: Columns (71,73,77,78,79,80,82,84,85,86,90,91,92,93,94,96,98,99,100,101,102,103,104,107,108,109,110,111,115,118,166,167,168,178,180,183,184,185,189,192,193,194,196,197,203,204,205,213,217,218,219,248) have mixed types.Specify dtype option on import or set low_memory=False.\n",
            "  sort=sort,\n",
            "/usr/local/lib/python3.7/dist-packages/pandas/core/reshape/concat.py:304: DtypeWarning: Columns (71,73,77,78,79,80,82,84,85,86,90,91,92,93,98,99,100,101,102,103,104,107,108,109,110,111,112,113,114,115,116,117,118,166,167,168,178,180,183,184,185,189,190,192,193,194,195,196,197,200,201,202,203,204,205,206,209,210,211,212,213,215,217,218,219,249) have mixed types.Specify dtype option on import or set low_memory=False.\n",
            "  sort=sort,\n",
            "/usr/local/lib/python3.7/dist-packages/pandas/core/reshape/concat.py:304: DtypeWarning: Columns (23,71,73,77,78,79,80,82,84,85,86,90,91,92,93,98,99,100,101,102,103,104,107,108,109,110,111,118,166,167,168,183,184,185,189,190,192,193,194,195,196,197,200,201,202,203,204,205,206,209,210,211,212,213,215,217,218,219,248,249) have mixed types.Specify dtype option on import or set low_memory=False.\n",
            "  sort=sort,\n",
            "/usr/local/lib/python3.7/dist-packages/pandas/core/reshape/concat.py:304: DtypeWarning: Columns (71,73,77,78,79,80,82,84,85,86,87,90,91,92,93,98,99,100,101,102,103,104,105,107,108,109,110,111,115,118,166,167,168,172,178,180,181,183,184,185,189,190,192,193,194,195,196,197,200,201,202,203,204,205,206,209,210,211,212,213,215,217,218,219,242,243,244,247,248,249,250,251,252) have mixed types.Specify dtype option on import or set low_memory=False.\n",
            "  sort=sort,\n",
            "/usr/local/lib/python3.7/dist-packages/pandas/core/reshape/concat.py:304: DtypeWarning: Columns (71,73,77,78,79,80,82,84,85,90,91,92,93,98,99,100,101,102,103,104,107,108,109,110,111,115,118,166,167,168,178,180,183,184,185,189,190,192,193,194,195,196,197,200,201,202,203,204,205,206,209,210,211,212,213,215,217,218,219,247,248,249,250,251) have mixed types.Specify dtype option on import or set low_memory=False.\n",
            "  sort=sort,\n",
            "/usr/local/lib/python3.7/dist-packages/pandas/core/reshape/concat.py:304: DtypeWarning: Columns (71,73,77,78,79,80,82,84,85,86,90,91,92,93,94,96,98,99,100,101,102,103,104,107,108,109,110,111,112,113,114,115,116,117,118,166,167,168,178,180,183,184,185,189,190,192,193,194,195,196,197,200,201,202,203,204,205,206,209,210,211,212,213,215,217,218,219,248,249) have mixed types.Specify dtype option on import or set low_memory=False.\n",
            "  sort=sort,\n",
            "/usr/local/lib/python3.7/dist-packages/pandas/core/reshape/concat.py:304: DtypeWarning: Columns (71,73,77,78,79,80,86,87,93,94,96,112,113,114,116,117,118,166,167,168,169,170,171,172,173,175,176,177,178,180,181,183,184,185,186,189,192,193,194,196,197,203,204,205,209,210,211,212,213,215,217,218,219,249) have mixed types.Specify dtype option on import or set low_memory=False.\n",
            "  sort=sort,\n",
            "/usr/local/lib/python3.7/dist-packages/pandas/core/reshape/concat.py:304: DtypeWarning: Columns (71,73,77,78,79,80,82,84,85,87,90,91,92,93,94,96,98,99,100,101,102,103,104,107,108,109,110,111,112,113,114,116,117,118,166,167,168,169,170,171,172,173,175,176,177,181,183,184,185,190,192,193,194,195,196,197,200,201,202,203,204,205,206,209,210,211,212,213,215,217,218,219,249,251) have mixed types.Specify dtype option on import or set low_memory=False.\n",
            "  sort=sort,\n",
            "/usr/local/lib/python3.7/dist-packages/pandas/core/reshape/concat.py:304: DtypeWarning: Columns (20,21,43,44,45,62,65,71,73,77,78,79,80,86,87,93,94,112,113,114,115,116,117,118,153,155,157,158,159,160,161,162,163,164,166,167,168,169,170,171,172,173,175,176,177,178,180,181,183,184,185,193,196,197,203,204,205,215,217,218,219,247,248,249,250,251) have mixed types.Specify dtype option on import or set low_memory=False.\n",
            "  sort=sort,\n"
          ]
        }
      ]
    },
    {
      "cell_type": "code",
      "source": [
        "drop_cols = []\n",
        "for i in df2.columns:\n",
        "    if len(df2[i].unique())==1:\n",
        "        drop_cols.append(i)\n",
        "print(\"Total columns with only 1 unique value:\", len(drop_cols))\n",
        "df2.drop(drop_cols, 1, inplace=True)\n",
        "\n",
        "print(df2.columns)\n",
        "df2.replace([np.inf, -np.inf], 0, inplace=True)\n",
        "df2.fillna(0, inplace = True)"
      ],
      "metadata": {
        "colab": {
          "base_uri": "https://localhost:8080/"
        },
        "id": "khFSNU01vl8B",
        "outputId": "fdc1f0d9-7cd9-41e5-b39d-24f3b5ca178f"
      },
      "execution_count": null,
      "outputs": [
        {
          "output_type": "stream",
          "name": "stdout",
          "text": [
            "Total columns with only 1 unique value: 74\n"
          ]
        },
        {
          "output_type": "stream",
          "name": "stderr",
          "text": [
            "/usr/local/lib/python3.7/dist-packages/ipykernel_launcher.py:6: FutureWarning: In a future version of pandas all arguments of DataFrame.drop except for the argument 'labels' will be keyword-only\n",
            "  \n"
          ]
        },
        {
          "output_type": "stream",
          "name": "stdout",
          "text": [
            "Index(['frame.len', 'frame.number', 'frame.time', 'frame.time_delta',\n",
            "       'frame.time_delta_displayed', 'frame.time_epoch', 'frame.time_relative',\n",
            "       'radiotap.datarate', 'radiotap.dbm_antsignal', 'radiotap.length',\n",
            "       ...\n",
            "       'tls.alert_message.level', 'tls.app_data_proto',\n",
            "       'tls.compress_certificate.compressed_certificate_message.length',\n",
            "       'tls.handshake.extension.type',\n",
            "       'tls.handshake.extensions_key_share_group',\n",
            "       'tls.handshake.session_ticket_length', 'tls.handshake.version',\n",
            "       'tls.record.content_type', 'tls.record.version', 'Label'],\n",
            "      dtype='object', length=180)\n"
          ]
        }
      ]
    },
    {
      "cell_type": "code",
      "source": [
        "df2.dropna(1,inplace=True)"
      ],
      "metadata": {
        "colab": {
          "base_uri": "https://localhost:8080/"
        },
        "id": "bI5Ms-wXvyP9",
        "outputId": "cdf44314-c1a4-4973-db35-fb95085e9321"
      },
      "execution_count": null,
      "outputs": [
        {
          "output_type": "stream",
          "name": "stderr",
          "text": [
            "/usr/local/lib/python3.7/dist-packages/ipykernel_launcher.py:1: FutureWarning: In a future version of pandas all arguments of DataFrame.dropna will be keyword-only\n",
            "  \"\"\"Entry point for launching an IPython kernel.\n"
          ]
        }
      ]
    },
    {
      "cell_type": "code",
      "source": [
        "df2.info()"
      ],
      "metadata": {
        "colab": {
          "base_uri": "https://localhost:8080/"
        },
        "id": "RFN41ONcv2WT",
        "outputId": "7894abb6-d773-4198-d93a-0222fb89eaa1"
      },
      "execution_count": null,
      "outputs": [
        {
          "output_type": "stream",
          "name": "stdout",
          "text": [
            "<class 'pandas.core.frame.DataFrame'>\n",
            "RangeIndex: 549996 entries, 0 to 549995\n",
            "Columns: 180 entries, frame.len to Label\n",
            "dtypes: float64(38), int64(18), object(124)\n",
            "memory usage: 755.3+ MB\n"
          ]
        }
      ]
    },
    {
      "cell_type": "code",
      "source": [
        "#much better than this is to put all the desired csv files in this case from 21 to 32 in one folder and use GLOB to put them in one df\n",
        "df3 = pd.concat(\n",
        "    map(pd.read_csv,[\"/content/drive/MyDrive/AWID3_Dataset_CSV/CSV/12.Evil_Twin/Evil_Twin_48.csv\",\"/content/drive/MyDrive/AWID3_Dataset_CSV/CSV/12.Evil_Twin/Evil_Twin_49.csv\",\"/content/drive/MyDrive/AWID3_Dataset_CSV/CSV/12.Evil_Twin/Evil_Twin_50.csv\",\"/content/drive/MyDrive/AWID3_Dataset_CSV/CSV/12.Evil_Twin/Evil_Twin_51.csv\",\"/content/drive/MyDrive/AWID3_Dataset_CSV/CSV/12.Evil_Twin/Evil_Twin_52.csv\"]), ignore_index=True)"
      ],
      "metadata": {
        "colab": {
          "base_uri": "https://localhost:8080/"
        },
        "id": "OFevF3nO8twq",
        "outputId": "6e3c3b87-a790-4aff-e2ad-3a21ce89d34d"
      },
      "execution_count": null,
      "outputs": [
        {
          "output_type": "stream",
          "name": "stderr",
          "text": [
            "/usr/local/lib/python3.7/dist-packages/pandas/core/reshape/concat.py:304: DtypeWarning: Columns (71,73,77,78,79,80,86,87,93,118,166,167,168,172,178,180,181,183,184,185,189,192,193,194,196,197,209,210,211,212,213,215,217,218,219,248,249) have mixed types.Specify dtype option on import or set low_memory=False.\n",
            "  sort=sort,\n",
            "/usr/local/lib/python3.7/dist-packages/pandas/core/reshape/concat.py:304: DtypeWarning: Columns (23,24,48,50,51,71,73,77,78,79,80,82,84,85,86,87,90,91,92,93,98,99,100,101,102,103,104,107,108,109,110,111,115,118,166,167,168,178,180,183,184,185,189,190,192,193,194,195,196,197,200,201,202,203,204,205,206,209,210,211,212,213,215,217,218,219,247,248,249,250,251) have mixed types.Specify dtype option on import or set low_memory=False.\n",
            "  sort=sort,\n",
            "/usr/local/lib/python3.7/dist-packages/pandas/core/reshape/concat.py:304: DtypeWarning: Columns (71,73,77,78,79,80,82,84,85,86,87,90,91,92,93,98,99,100,101,102,103,104,107,108,109,110,111,115,166,167,168,178,180,183,184,185,189,190,192,193,194,196,197,203,204,205,209,210,211,212,213,215,217,218,219,247,248,249,250) have mixed types.Specify dtype option on import or set low_memory=False.\n",
            "  sort=sort,\n",
            "/usr/local/lib/python3.7/dist-packages/pandas/core/reshape/concat.py:304: DtypeWarning: Columns (23,24,48,50,51,71,73,77,78,79,80,82,84,85,90,91,92,93,98,99,100,101,102,103,104,105,107,108,109,110,111,118,166,167,168,178,180,183,184,185,189,190,192,193,194,195,196,197,200,201,202,203,204,205,206,209,210,211,212,213,215,217,218,219,247,248,250,251) have mixed types.Specify dtype option on import or set low_memory=False.\n",
            "  sort=sort,\n",
            "/usr/local/lib/python3.7/dist-packages/pandas/core/reshape/concat.py:304: DtypeWarning: Columns (71,73,77,78,79,80,82,84,85,86,87,90,91,92,93,98,99,100,101,102,103,104,107,108,109,110,111,118,132,166,167,168,183,184,185,189,190,192,193,194,195,196,197,200,201,202,203,204,205,206,209,210,211,212,213,215,217,218,219,248,249) have mixed types.Specify dtype option on import or set low_memory=False.\n",
            "  sort=sort,\n"
          ]
        }
      ]
    },
    {
      "cell_type": "code",
      "source": [
        "drop_cols = []\n",
        "for i in df3.columns:\n",
        "    if len(df3[i].unique())==1:\n",
        "        drop_cols.append(i)\n",
        "print(\"Total columns with only 1 unique value:\", len(drop_cols))\n",
        "df3.drop(drop_cols, 1, inplace=True)\n",
        "\n",
        "print(df3.columns)\n",
        "df3.replace([np.inf, -np.inf], 0, inplace=True)\n",
        "df3.fillna(0, inplace = True)"
      ],
      "metadata": {
        "colab": {
          "base_uri": "https://localhost:8080/"
        },
        "id": "gtKPpZqzwAfg",
        "outputId": "2ad4e340-a8ca-4880-e08c-d357c5f95913"
      },
      "execution_count": null,
      "outputs": [
        {
          "output_type": "stream",
          "name": "stdout",
          "text": [
            "Total columns with only 1 unique value: 93\n"
          ]
        },
        {
          "output_type": "stream",
          "name": "stderr",
          "text": [
            "/usr/local/lib/python3.7/dist-packages/ipykernel_launcher.py:6: FutureWarning: In a future version of pandas all arguments of DataFrame.drop except for the argument 'labels' will be keyword-only\n",
            "  \n"
          ]
        },
        {
          "output_type": "stream",
          "name": "stdout",
          "text": [
            "Index(['frame.len', 'frame.number', 'frame.time', 'frame.time_delta',\n",
            "       'frame.time_delta_displayed', 'frame.time_epoch', 'frame.time_relative',\n",
            "       'radiotap.datarate', 'radiotap.dbm_antsignal', 'radiotap.length',\n",
            "       ...\n",
            "       'tls.alert_message.level', 'tls.app_data_proto',\n",
            "       'tls.compress_certificate.compressed_certificate_message.length',\n",
            "       'tls.handshake.extension.type',\n",
            "       'tls.handshake.extensions_key_share_group',\n",
            "       'tls.handshake.session_ticket_length', 'tls.handshake.version',\n",
            "       'tls.record.content_type', 'tls.record.version', 'Label'],\n",
            "      dtype='object', length=161)\n"
          ]
        }
      ]
    },
    {
      "cell_type": "code",
      "source": [
        "df3.dropna(1,inplace=True)\n",
        "df3.info()"
      ],
      "metadata": {
        "colab": {
          "base_uri": "https://localhost:8080/"
        },
        "id": "mf2qT9h8wIl5",
        "outputId": "9c01607f-2c16-40d0-be11-5ef184260ae4"
      },
      "execution_count": null,
      "outputs": [
        {
          "output_type": "stream",
          "name": "stderr",
          "text": [
            "/usr/local/lib/python3.7/dist-packages/ipykernel_launcher.py:1: FutureWarning: In a future version of pandas all arguments of DataFrame.dropna will be keyword-only\n",
            "  \"\"\"Entry point for launching an IPython kernel.\n"
          ]
        },
        {
          "output_type": "stream",
          "name": "stdout",
          "text": [
            "<class 'pandas.core.frame.DataFrame'>\n",
            "RangeIndex: 249998 entries, 0 to 249997\n",
            "Columns: 161 entries, frame.len to Label\n",
            "dtypes: float64(52), int64(18), object(91)\n",
            "memory usage: 307.1+ MB\n"
          ]
        }
      ]
    },
    {
      "cell_type": "code",
      "source": [
        "#much better than this is to put all the desired csv files in this case from 21 to 32 in one folder and use GLOB to put them in one df\n",
        "df4 = pd.concat(\n",
        "    map(pd.read_csv,[\"/content/drive/MyDrive/AWID3_Dataset_CSV/CSV/12.Evil_Twin/Evil_Twin_53.csv\",\"/content/drive/MyDrive/AWID3_Dataset_CSV/CSV/12.Evil_Twin/Evil_Twin_54.csv\",\"/content/drive/MyDrive/AWID3_Dataset_CSV/CSV/12.Evil_Twin/Evil_Twin_55.csv\",\"/content/drive/MyDrive/AWID3_Dataset_CSV/CSV/12.Evil_Twin/Evil_Twin_56.csv\",\"/content/drive/MyDrive/AWID3_Dataset_CSV/CSV/12.Evil_Twin/Evil_Twin_57.csv\",\"/content/drive/MyDrive/AWID3_Dataset_CSV/CSV/12.Evil_Twin/Evil_Twin_58.csv\",\"/content/drive/MyDrive/AWID3_Dataset_CSV/CSV/12.Evil_Twin/Evil_Twin_59.csv\",\"/content/drive/MyDrive/AWID3_Dataset_CSV/CSV/12.Evil_Twin/Evil_Twin_60.csv\",\"/content/drive/MyDrive/AWID3_Dataset_CSV/CSV/12.Evil_Twin/Evil_Twin_61.csv\",\"/content/drive/MyDrive/AWID3_Dataset_CSV/CSV/12.Evil_Twin/Evil_Twin_62.csv\",\"/content/drive/MyDrive/AWID3_Dataset_CSV/CSV/12.Evil_Twin/Evil_Twin_63.csv\",\"/content/drive/MyDrive/AWID3_Dataset_CSV/CSV/12.Evil_Twin/Evil_Twin_64.csv\"]), ignore_index=True)"
      ],
      "metadata": {
        "id": "mB-dBvxw97J6"
      },
      "execution_count": null,
      "outputs": []
    },
    {
      "cell_type": "code",
      "source": [
        "drop_cols = []\n",
        "for i in df4.columns:\n",
        "    if len(df4[i].unique())==1:\n",
        "        drop_cols.append(i)\n",
        "print(\"Total columns with only 1 unique value:\", len(drop_cols))\n",
        "df4.drop(drop_cols, 1, inplace=True)\n",
        "\n",
        "print(df4.columns)\n",
        "df4.replace([np.inf, -np.inf], 0, inplace=True)\n",
        "df4.fillna(0, inplace = True)\n",
        "df4.dropna(1,inplace=True)\n",
        "df4.info()"
      ],
      "metadata": {
        "colab": {
          "base_uri": "https://localhost:8080/"
        },
        "id": "iYtUcI5YwXS3",
        "outputId": "3e60edbc-3bd7-469a-8293-da445ab6a553"
      },
      "execution_count": null,
      "outputs": [
        {
          "output_type": "stream",
          "name": "stdout",
          "text": [
            "Total columns with only 1 unique value: 51\n",
            "Index(['frame.encap_type', 'frame.len', 'frame.number', 'frame.time',\n",
            "       'frame.time_delta', 'frame.time_delta_displayed', 'frame.time_epoch',\n",
            "       'frame.time_relative', 'radiotap.channel.flags.cck',\n",
            "       'radiotap.channel.flags.ofdm',\n",
            "       ...\n",
            "       'tls.alert_message.level', 'tls.app_data_proto',\n",
            "       'tls.compress_certificate.compressed_certificate_message.length',\n",
            "       'tls.handshake.extension.type',\n",
            "       'tls.handshake.extensions_key_share_group',\n",
            "       'tls.handshake.session_ticket_length', 'tls.handshake.version',\n",
            "       'tls.record.content_type', 'tls.record.version', 'Label'],\n",
            "      dtype='object', length=203)\n",
            "<class 'pandas.core.frame.DataFrame'>\n",
            "RangeIndex: 600011 entries, 0 to 600010\n",
            "Columns: 203 entries, frame.encap_type to Label\n",
            "dtypes: float64(69), object(134)\n",
            "memory usage: 929.3+ MB\n"
          ]
        }
      ]
    },
    {
      "cell_type": "code",
      "source": [
        "#much better than this is to put all the desired csv files in this case from 21 to 32 in one folder and use GLOB to put them in one df\n",
        "df5 = pd.concat(\n",
        "    map(pd.read_csv,[\"/content/drive/MyDrive/AWID3_Dataset_CSV/CSV/12.Evil_Twin/Evil_Twin_65.csv\",\"/content/drive/MyDrive/AWID3_Dataset_CSV/CSV/12.Evil_Twin/Evil_Twin_66.csv\",\"/content/drive/MyDrive/AWID3_Dataset_CSV/CSV/12.Evil_Twin/Evil_Twin_67.csv\",\"/content/drive/MyDrive/AWID3_Dataset_CSV/CSV/12.Evil_Twin/Evil_Twin_68.csv\",\"/content/drive/MyDrive/AWID3_Dataset_CSV/CSV/12.Evil_Twin/Evil_Twin_69.csv\",\"/content/drive/MyDrive/AWID3_Dataset_CSV/CSV/12.Evil_Twin/Evil_Twin_70.csv\",\"/content/drive/MyDrive/AWID3_Dataset_CSV/CSV/12.Evil_Twin/Evil_Twin_71.csv\",\"/content/drive/MyDrive/AWID3_Dataset_CSV/CSV/12.Evil_Twin/Evil_Twin_72.csv\",\"/content/drive/MyDrive/AWID3_Dataset_CSV/CSV/12.Evil_Twin/Evil_Twin_73.csv\",\"/content/drive/MyDrive/AWID3_Dataset_CSV/CSV/12.Evil_Twin/Evil_Twin_74.csv\",\"/content/drive/MyDrive/AWID3_Dataset_CSV/CSV/12.Evil_Twin/Evil_Twin_75.csv\"]), ignore_index=True)"
      ],
      "metadata": {
        "id": "KGqFL6Y5J1iB"
      },
      "execution_count": null,
      "outputs": []
    },
    {
      "cell_type": "code",
      "source": [
        "drop_cols = []\n",
        "for i in df5.columns:\n",
        "    if len(df5[i].unique())==1:\n",
        "        drop_cols.append(i)\n",
        "print(\"Total columns with only 1 unique value:\", len(drop_cols))\n",
        "df5.drop(drop_cols, 1, inplace=True)\n",
        "\n",
        "print(df5.columns)\n",
        "df5.replace([np.inf, -np.inf], 0, inplace=True)\n",
        "df5.fillna(0, inplace = True)\n",
        "df5.dropna(1,inplace=True)\n",
        "df5.info()"
      ],
      "metadata": {
        "colab": {
          "base_uri": "https://localhost:8080/"
        },
        "id": "R2c1LtEgKJPZ",
        "outputId": "81d00a40-2c7b-45ac-8baf-b121bfde6d1f"
      },
      "execution_count": null,
      "outputs": [
        {
          "output_type": "stream",
          "name": "stdout",
          "text": [
            "Total columns with only 1 unique value: 83\n",
            "Index(['frame.len', 'frame.number', 'frame.time', 'frame.time_delta',\n",
            "       'frame.time_delta_displayed', 'frame.time_epoch', 'frame.time_relative',\n",
            "       'radiotap.datarate', 'radiotap.dbm_antsignal', 'radiotap.length',\n",
            "       ...\n",
            "       'tls.alert_message.level', 'tls.app_data_proto',\n",
            "       'tls.compress_certificate.compressed_certificate_message.length',\n",
            "       'tls.handshake.extension.type',\n",
            "       'tls.handshake.extensions_key_share_group',\n",
            "       'tls.handshake.session_ticket_length', 'tls.handshake.version',\n",
            "       'tls.record.content_type', 'tls.record.version', 'Label'],\n",
            "      dtype='object', length=171)\n",
            "<class 'pandas.core.frame.DataFrame'>\n",
            "RangeIndex: 528721 entries, 0 to 528720\n",
            "Columns: 171 entries, frame.len to Label\n",
            "dtypes: float64(39), int64(18), object(114)\n",
            "memory usage: 689.8+ MB\n"
          ]
        }
      ]
    },
    {
      "cell_type": "code",
      "source": [
        "df=pd.concat([df1, df2, df3], axis=0, ignore_index=True)"
      ],
      "metadata": {
        "id": "GkTXVkNE-0_v"
      },
      "execution_count": null,
      "outputs": []
    },
    {
      "cell_type": "code",
      "source": [
        "df.info()"
      ],
      "metadata": {
        "colab": {
          "base_uri": "https://localhost:8080/"
        },
        "id": "TIfi1aSt_1Zc",
        "outputId": "402e8fed-1d68-4667-89c7-1ba9900e9b19"
      },
      "execution_count": null,
      "outputs": [
        {
          "output_type": "stream",
          "name": "stdout",
          "text": [
            "<class 'pandas.core.frame.DataFrame'>\n",
            "RangeIndex: 1249993 entries, 0 to 1249992\n",
            "Columns: 190 entries, frame.len to smb.tid\n",
            "dtypes: float64(43), int64(18), object(129)\n",
            "memory usage: 1.8+ GB\n"
          ]
        }
      ]
    },
    {
      "cell_type": "code",
      "source": [
        "df.dropna(1, how = 'all', inplace=True)"
      ],
      "metadata": {
        "colab": {
          "base_uri": "https://localhost:8080/"
        },
        "id": "VtiN1ZMlxJHA",
        "outputId": "68d942c0-86ab-4617-f6bf-0a7a0bcc6f1a"
      },
      "execution_count": null,
      "outputs": [
        {
          "output_type": "stream",
          "name": "stderr",
          "text": [
            "/usr/local/lib/python3.7/dist-packages/ipykernel_launcher.py:1: FutureWarning: In a future version of pandas all arguments of DataFrame.dropna will be keyword-only\n",
            "  \"\"\"Entry point for launching an IPython kernel.\n"
          ]
        }
      ]
    },
    {
      "cell_type": "code",
      "source": [
        "df.info()"
      ],
      "metadata": {
        "colab": {
          "base_uri": "https://localhost:8080/"
        },
        "id": "Av6JQzbTxh0j",
        "outputId": "beae6653-b1ba-4830-aff2-c39ba9c322e5"
      },
      "execution_count": null,
      "outputs": [
        {
          "output_type": "stream",
          "name": "stdout",
          "text": [
            "<class 'pandas.core.frame.DataFrame'>\n",
            "RangeIndex: 1249993 entries, 0 to 1249992\n",
            "Columns: 190 entries, frame.len to smb.tid\n",
            "dtypes: float64(43), int64(18), object(129)\n",
            "memory usage: 1.8+ GB\n"
          ]
        }
      ]
    },
    {
      "cell_type": "code",
      "source": [
        " df.replace([np.inf, -np.inf], 0, inplace=True)\n",
        " df.fillna(0, inplace = True)\n",
        " "
      ],
      "metadata": {
        "id": "TJNkWlRvzNgy"
      },
      "execution_count": null,
      "outputs": []
    },
    {
      "cell_type": "code",
      "source": [
        "df = df[df.Label != 0]\n",
        "#to remove labels that had NaN value which was replaced by zero above."
      ],
      "metadata": {
        "id": "lTrkwaVR0xnC"
      },
      "execution_count": null,
      "outputs": []
    },
    {
      "cell_type": "code",
      "source": [
        "#Split dataset on train and test\n",
        "from sklearn.model_selection import train_test_split\n",
        "train, test=train_test_split(df,test_size=0.3, random_state=10)\n",
        "\n",
        "#Exploratory Analysis\n",
        "# Descriptive statistics\n",
        "train.describe()\n",
        "test.describe()\n",
        "train['Label'].value_counts()\n",
        "test['Label'].value_counts()"
      ],
      "metadata": {
        "colab": {
          "base_uri": "https://localhost:8080/"
        },
        "id": "4ih8U2Fu_4hi",
        "outputId": "331e6c04-01fc-439e-d00f-a14e8b96fcfa"
      },
      "execution_count": null,
      "outputs": [
        {
          "output_type": "execute_result",
          "data": {
            "text/plain": [
              "Normal       347158\n",
              "Evil_Twin     27840\n",
              "Name: Label, dtype: int64"
            ]
          },
          "metadata": {},
          "execution_count": 20
        }
      ]
    },
    {
      "cell_type": "code",
      "source": [
        "#Scalling numerical attributes\n",
        "from sklearn.preprocessing import StandardScaler\n",
        "scaler = StandardScaler()\n",
        "\n",
        "# extract numerical attributes and scale it to have zero mean and unit variance  \n",
        "cols = train.select_dtypes(include=['float64','int64']).columns\n",
        "sc_train = scaler.fit_transform(train.select_dtypes(include=['float64','int64']))\n",
        "sc_test = scaler.fit_transform(test.select_dtypes(include=['float64','int64']))\n",
        "\n",
        "# turn the result back to a dataframe\n",
        "sc_traindf = pd.DataFrame(sc_train, columns = cols)\n",
        "sc_testdf = pd.DataFrame(sc_test, columns = cols)"
      ],
      "metadata": {
        "id": "zNOOQIu-_9tT"
      },
      "execution_count": null,
      "outputs": []
    },
    {
      "cell_type": "code",
      "source": [
        "from sklearn.preprocessing import OneHotEncoder \n",
        "\n",
        "#creating one hot encoder object \n",
        "onehotencoder = OneHotEncoder() \n",
        "\n",
        "trainDep = train['Label'].values.reshape(-1,1)\n",
        "trainDep = onehotencoder.fit_transform(trainDep).toarray()\n",
        "testDep = test['Label'].values.reshape(-1,1)\n",
        "testDep = onehotencoder.fit_transform(testDep).toarray()"
      ],
      "metadata": {
        "id": "OUrygBlVAEOR"
      },
      "execution_count": null,
      "outputs": []
    },
    {
      "cell_type": "code",
      "source": [
        "train_X=sc_traindf\n",
        "train_y=trainDep[:,0]\n",
        "\n",
        "test_X=sc_testdf\n",
        "test_y=testDep[:,0]"
      ],
      "metadata": {
        "id": "wBKLI2cHAHej"
      },
      "execution_count": null,
      "outputs": []
    },
    {
      "cell_type": "code",
      "source": [
        "from sklearn.decomposition import PCA\n",
        "\n",
        "pca = PCA()\n",
        "pca.fit(train_X)\n",
        "\n",
        "plt.plot(pca.explained_variance_ratio_.cumsum(), lw=3, color='#800080')\n",
        "plt.title('Cumulative variance', size=20)\n",
        "plt.show()"
      ],
      "metadata": {
        "colab": {
          "base_uri": "https://localhost:8080/",
          "height": 286
        },
        "id": "3L--FNjoEDEY",
        "outputId": "8a2bb850-44ce-4e96-c991-4b7894c6e84d"
      },
      "execution_count": null,
      "outputs": [
        {
          "output_type": "display_data",
          "data": {
            "text/plain": [
              "<Figure size 432x288 with 1 Axes>"
            ],
            "image/png": "[encoded data removed]"
          },
          "metadata": {
            "needs_background": "light"
          }
        }
      ]
    },
    {
      "cell_type": "code",
      "source": [
        "Loads = pd.DataFrame(\n",
        "    data=pca.components_.T * np.sqrt(pca.explained_variance_), \n",
        "    columns=[f'PC{i}' for i in range(1, len(train_X.columns) + 1)],\n",
        "    index=train_X.columns\n",
        ")\n",
        "Loads.head()"
      ],
      "metadata": {
        "colab": {
          "base_uri": "https://localhost:8080/",
          "height": 334
        },
        "id": "b_-C7cR2EKcb",
        "outputId": "1a930e6e-46d2-4efd-a799-b9d1aa4638d1"
      },
      "execution_count": null,
      "outputs": [
        {
          "output_type": "execute_result",
          "data": {
            "text/plain": [
              "                                 PC1       PC2       PC3       PC4       PC5  \\\n",
              "frame.len                   0.840302  0.003486  0.009399 -0.018750  0.040954   \n",
              "frame.number                0.066906 -0.019897 -0.967823  0.234373  0.027685   \n",
              "frame.time_delta           -0.026408  0.024498  0.025053  0.014229  0.301752   \n",
              "frame.time_delta_displayed -0.026408  0.024498  0.025053  0.014229  0.301752   \n",
              "frame.time_epoch            0.066404 -0.020272 -0.968862  0.234393  0.027527   \n",
              "\n",
              "                                 PC6       PC7       PC8       PC9      PC10  \\\n",
              "frame.len                   0.120767  0.102673 -0.162016 -0.004168  0.000550   \n",
              "frame.number                0.015846  0.007354 -0.010739 -0.001262  0.003237   \n",
              "frame.time_delta            0.797531 -0.424469  0.286177 -0.028821 -0.014603   \n",
              "frame.time_delta_displayed  0.797531 -0.424469  0.286177 -0.028821 -0.014603   \n",
              "frame.time_epoch            0.015546  0.006908 -0.010862 -0.001395  0.003103   \n",
              "\n",
              "                            ...          PC52          PC53          PC54  \\\n",
              "frame.len                   ...  0.000000e+00 -0.000000e+00 -0.000000e+00   \n",
              "frame.number                ... -1.592045e-31  6.452759e-32  1.238935e-32   \n",
              "frame.time_delta            ...  1.163786e-18 -3.492582e-17  8.383323e-32   \n",
              "frame.time_delta_displayed  ... -1.163786e-18  3.492582e-17 -8.281494e-32   \n",
              "frame.time_epoch            ...  8.404457e-31  7.130202e-31  1.981300e-32   \n",
              "\n",
              "                            PC55  PC56  PC57  PC58  PC59  PC60  PC61  \n",
              "frame.len                    0.0   0.0   0.0   0.0   0.0   0.0   0.0  \n",
              "frame.number                 0.0   0.0   0.0   0.0   0.0   0.0   0.0  \n",
              "frame.time_delta             0.0   0.0   0.0   0.0   0.0   0.0   0.0  \n",
              "frame.time_delta_displayed   0.0   0.0   0.0   0.0   0.0   0.0   0.0  \n",
              "frame.time_epoch             0.0   0.0   0.0   0.0   0.0   0.0   0.0  \n",
              "\n",
              "[5 rows x 61 columns]"
            ],
            "text/html": [
              "\n",
              "  <div id=\"df-1cba8620-ee15-40a6-9d2f-7d34ab0d5a73\">\n",
              "    <div class=\"colab-df-container\">\n",
              "      <div>\n",
              "<style scoped>\n",
              "    .dataframe tbody tr th:only-of-type {\n",
              "        vertical-align: middle;\n",
              "    }\n",
              "\n",
              "    .dataframe tbody tr th {\n",
              "        vertical-align: top;\n",
              "    }\n",
              "\n",
              "    .dataframe thead th {\n",
              "        text-align: right;\n",
              "    }\n",
              "</style>\n",
              "<table border=\"1\" class=\"dataframe\">\n",
              "  <thead>\n",
              "    <tr style=\"text-align: right;\">\n",
              "      <th></th>\n",
              "      <th>PC1</th>\n",
              "      <th>PC2</th>\n",
              "      <th>PC3</th>\n",
              "      <th>PC4</th>\n",
              "      <th>PC5</th>\n",
              "      <th>PC6</th>\n",
              "      <th>PC7</th>\n",
              "      <th>PC8</th>\n",
              "      <th>PC9</th>\n",
              "      <th>PC10</th>\n",
              "      <th>...</th>\n",
              "      <th>PC52</th>\n",
              "      <th>PC53</th>\n",
              "      <th>PC54</th>\n",
              "      <th>PC55</th>\n",
              "      <th>PC56</th>\n",
              "      <th>PC57</th>\n",
              "      <th>PC58</th>\n",
              "      <th>PC59</th>\n",
              "      <th>PC60</th>\n",
              "      <th>PC61</th>\n",
              "    </tr>\n",
              "  </thead>\n",
              "  <tbody>\n",
              "    <tr>\n",
              "      <th>frame.len</th>\n",
              "      <td>0.840302</td>\n",
              "      <td>0.003486</td>\n",
              "      <td>0.009399</td>\n",
              "      <td>-0.018750</td>\n",
              "      <td>0.040954</td>\n",
              "      <td>0.120767</td>\n",
              "      <td>0.102673</td>\n",
              "      <td>-0.162016</td>\n",
              "      <td>-0.004168</td>\n",
              "      <td>0.000550</td>\n",
              "      <td>...</td>\n",
              "      <td>0.000000e+00</td>\n",
              "      <td>-0.000000e+00</td>\n",
              "      <td>-0.000000e+00</td>\n",
              "      <td>0.0</td>\n",
              "      <td>0.0</td>\n",
              "      <td>0.0</td>\n",
              "      <td>0.0</td>\n",
              "      <td>0.0</td>\n",
              "      <td>0.0</td>\n",
              "      <td>0.0</td>\n",
              "    </tr>\n",
              "    <tr>\n",
              "      <th>frame.number</th>\n",
              "      <td>0.066906</td>\n",
              "      <td>-0.019897</td>\n",
              "      <td>-0.967823</td>\n",
              "      <td>0.234373</td>\n",
              "      <td>0.027685</td>\n",
              "      <td>0.015846</td>\n",
              "      <td>0.007354</td>\n",
              "      <td>-0.010739</td>\n",
              "      <td>-0.001262</td>\n",
              "      <td>0.003237</td>\n",
              "      <td>...</td>\n",
              "      <td>-1.592045e-31</td>\n",
              "      <td>6.452759e-32</td>\n",
              "      <td>1.238935e-32</td>\n",
              "      <td>0.0</td>\n",
              "      <td>0.0</td>\n",
              "      <td>0.0</td>\n",
              "      <td>0.0</td>\n",
              "      <td>0.0</td>\n",
              "      <td>0.0</td>\n",
              "      <td>0.0</td>\n",
              "    </tr>\n",
              "    <tr>\n",
              "      <th>frame.time_delta</th>\n",
              "      <td>-0.026408</td>\n",
              "      <td>0.024498</td>\n",
              "      <td>0.025053</td>\n",
              "      <td>0.014229</td>\n",
              "      <td>0.301752</td>\n",
              "      <td>0.797531</td>\n",
              "      <td>-0.424469</td>\n",
              "      <td>0.286177</td>\n",
              "      <td>-0.028821</td>\n",
              "      <td>-0.014603</td>\n",
              "      <td>...</td>\n",
              "      <td>1.163786e-18</td>\n",
              "      <td>-3.492582e-17</td>\n",
              "      <td>8.383323e-32</td>\n",
              "      <td>0.0</td>\n",
              "      <td>0.0</td>\n",
              "      <td>0.0</td>\n",
              "      <td>0.0</td>\n",
              "      <td>0.0</td>\n",
              "      <td>0.0</td>\n",
              "      <td>0.0</td>\n",
              "    </tr>\n",
              "    <tr>\n",
              "      <th>frame.time_delta_displayed</th>\n",
              "      <td>-0.026408</td>\n",
              "      <td>0.024498</td>\n",
              "      <td>0.025053</td>\n",
              "      <td>0.014229</td>\n",
              "      <td>0.301752</td>\n",
              "      <td>0.797531</td>\n",
              "      <td>-0.424469</td>\n",
              "      <td>0.286177</td>\n",
              "      <td>-0.028821</td>\n",
              "      <td>-0.014603</td>\n",
              "      <td>...</td>\n",
              "      <td>-1.163786e-18</td>\n",
              "      <td>3.492582e-17</td>\n",
              "      <td>-8.281494e-32</td>\n",
              "      <td>0.0</td>\n",
              "      <td>0.0</td>\n",
              "      <td>0.0</td>\n",
              "      <td>0.0</td>\n",
              "      <td>0.0</td>\n",
              "      <td>0.0</td>\n",
              "      <td>0.0</td>\n",
              "    </tr>\n",
              "    <tr>\n",
              "      <th>frame.time_epoch</th>\n",
              "      <td>0.066404</td>\n",
              "      <td>-0.020272</td>\n",
              "      <td>-0.968862</td>\n",
              "      <td>0.234393</td>\n",
              "      <td>0.027527</td>\n",
              "      <td>0.015546</td>\n",
              "      <td>0.006908</td>\n",
              "      <td>-0.010862</td>\n",
              "      <td>-0.001395</td>\n",
              "      <td>0.003103</td>\n",
              "      <td>...</td>\n",
              "      <td>8.404457e-31</td>\n",
              "      <td>7.130202e-31</td>\n",
              "      <td>1.981300e-32</td>\n",
              "      <td>0.0</td>\n",
              "      <td>0.0</td>\n",
              "      <td>0.0</td>\n",
              "      <td>0.0</td>\n",
              "      <td>0.0</td>\n",
              "      <td>0.0</td>\n",
              "      <td>0.0</td>\n",
              "    </tr>\n",
              "  </tbody>\n",
              "</table>\n",
              "<p>5 rows × 61 columns</p>\n",
              "</div>\n",
              "      <button class=\"colab-df-convert\" onclick=\"convertToInteractive('df-1cba8620-ee15-40a6-9d2f-7d34ab0d5a73')\"\n",
              "              title=\"Convert this dataframe to an interactive table.\"\n",
              "              style=\"display:none;\">\n",
              "        \n",
              "  <svg xmlns=\"http://www.w3.org/2000/svg\" height=\"24px\"viewBox=\"0 0 24 24\"\n",
              "       width=\"24px\">\n",
              "    <path d=\"M0 0h24v24H0V0z\" fill=\"none\"/>\n",
              "    <path d=\"M18.56 5.44l.94 2.06.94-2.06 2.06-.94-2.06-.94-.94-2.06-.94 2.06-2.06.94zm-11 1L8.5 8.5l.94-2.06 2.06-.94-2.06-.94L8.5 2.5l-.94 2.06-2.06.94zm10 10l.94 2.06.94-2.06 2.06-.94-2.06-.94-.94-2.06-.94 2.06-2.06.94z\"/><path d=\"M17.41 7.96l-1.37-1.37c-.4-.4-.92-.59-1.43-.59-.52 0-1.04.2-1.43.59L10.3 9.45l-7.72 7.72c-.78.78-.78 2.05 0 2.83L4 21.41c.39.39.9.59 1.41.59.51 0 1.02-.2 1.41-.59l7.78-7.78 2.81-2.81c.8-.78.8-2.07 0-2.86zM5.41 20L4 18.59l7.72-7.72 1.47 1.35L5.41 20z\"/>\n",
              "  </svg>\n",
              "      </button>\n",
              "      \n",
              "  <style>\n",
              "    .colab-df-container {\n",
              "      display:flex;\n",
              "      flex-wrap:wrap;\n",
              "      gap: 12px;\n",
              "    }\n",
              "\n",
              "    .colab-df-convert {\n",
              "      background-color: #E8F0FE;\n",
              "      border: none;\n",
              "      border-radius: 50%;\n",
              "      cursor: pointer;\n",
              "      display: none;\n",
              "      fill: #1967D2;\n",
              "      height: 32px;\n",
              "      padding: 0 0 0 0;\n",
              "      width: 32px;\n",
              "    }\n",
              "\n",
              "    .colab-df-convert:hover {\n",
              "      background-color: #E2EBFA;\n",
              "      box-shadow: 0px 1px 2px rgba(60, 64, 67, 0.3), 0px 1px 3px 1px rgba(60, 64, 67, 0.15);\n",
              "      fill: #174EA6;\n",
              "    }\n",
              "\n",
              "    [theme=dark] .colab-df-convert {\n",
              "      background-color: #3B4455;\n",
              "      fill: #D2E3FC;\n",
              "    }\n",
              "\n",
              "    [theme=dark] .colab-df-convert:hover {\n",
              "      background-color: #434B5C;\n",
              "      box-shadow: 0px 1px 3px 1px rgba(0, 0, 0, 0.15);\n",
              "      filter: drop-shadow(0px 1px 2px rgba(0, 0, 0, 0.3));\n",
              "      fill: #FFFFFF;\n",
              "    }\n",
              "  </style>\n",
              "\n",
              "      <script>\n",
              "        const buttonEl =\n",
              "          document.querySelector('#df-1cba8620-ee15-40a6-9d2f-7d34ab0d5a73 button.colab-df-convert');\n",
              "        buttonEl.style.display =\n",
              "          google.colab.kernel.accessAllowed ? 'block' : 'none';\n",
              "\n",
              "        async function convertToInteractive(key) {\n",
              "          const element = document.querySelector('#df-1cba8620-ee15-40a6-9d2f-7d34ab0d5a73');\n",
              "          const dataTable =\n",
              "            await google.colab.kernel.invokeFunction('convertToInteractive',\n",
              "                                                     [key], {});\n",
              "          if (!dataTable) return;\n",
              "\n",
              "          const docLinkHtml = 'Like what you see? Visit the ' +\n",
              "            '<a target=\"_blank\" href=https://colab.research.google.com/notebooks/data_table.ipynb>data table notebook</a>'\n",
              "            + ' to learn more about interactive tables.';\n",
              "          element.innerHTML = '';\n",
              "          dataTable['output_type'] = 'display_data';\n",
              "          await google.colab.output.renderOutput(dataTable, element);\n",
              "          const docLink = document.createElement('div');\n",
              "          docLink.innerHTML = docLinkHtml;\n",
              "          element.appendChild(docLink);\n",
              "        }\n",
              "      </script>\n",
              "    </div>\n",
              "  </div>\n",
              "  "
            ]
          },
          "metadata": {},
          "execution_count": 25
        }
      ]
    },
    {
      "cell_type": "code",
      "source": [
        "pc1_Loads = Loads.sort_values(by='PC1', ascending=False)[['PC1']]\n",
        "pc1_Loads = pc1_Loads.reset_index()\n",
        "pc1_Loads.columns = ['Feature', 'CorrelationtoPC1']\n",
        "plt.rcParams[\"figure.figsize\"] = (15,8)\n",
        "plt.bar(x=pc1_Loads['Feature'], height=pc1_Loads['CorrelationtoPC1'], color='#800080')\n",
        "plt.title('PCA scores', size=20)\n",
        "plt.xticks(rotation='vertical')\n",
        "plt.show()"
      ],
      "metadata": {
        "colab": {
          "base_uri": "https://localhost:8080/",
          "height": 817
        },
        "id": "zN00MA7rEOoA",
        "outputId": "05597ff1-54c3-44e3-f2b1-fb076baf1136"
      },
      "execution_count": null,
      "outputs": [
        {
          "output_type": "display_data",
          "data": {
            "text/plain": [
              "<Figure size 1080x576 with 1 Axes>"
            ],
            "image/png": "[encoded data removed]"
          },
          "metadata": {
            "needs_background": "light"
          }
        }
      ]
    }
  ]
}